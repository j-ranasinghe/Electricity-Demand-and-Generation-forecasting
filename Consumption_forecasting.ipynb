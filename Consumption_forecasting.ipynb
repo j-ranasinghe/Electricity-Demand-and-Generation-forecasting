{
  "cells": [
    {
      "cell_type": "markdown",
      "metadata": {
        "id": "PHdmKC03ST4i"
      },
      "source": [
        "# Energy Consumption prediction "
      ]
    },
    {
      "cell_type": "markdown",
      "source": [
        "**Dataset used -Demand for United States Lower 48 (region) hourly - UTC time.csv **"
      ],
      "metadata": {
        "id": "zD4LgxX9KStJ"
      }
    },
    {
      "cell_type": "code",
      "execution_count": 1,
      "metadata": {
        "id": "v8nnKO7rST4m"
      },
      "outputs": [],
      "source": [
        "import os\n",
        "import time\n",
        "\n",
        "import numpy as np\n",
        "import pandas as pd\n",
        "import matplotlib.pyplot as plt\n",
        "\n",
        "import torch\n",
        "import torch.nn as nn\n",
        "from torch.utils.data import TensorDataset, DataLoader\n",
        "\n",
        "from tqdm.notebook import tqdm as tqdm_notebook\n",
        "from sklearn.preprocessing import MinMaxScaler"
      ]
    },
    {
      "cell_type": "code",
      "execution_count": null,
      "metadata": {
        "id": "BIjQnUrYST4m",
        "colab": {
          "base_uri": "https://localhost:8080/"
        },
        "outputId": "3d782bf9-18cc-4de5-db3a-e2cfcf383dea"
      },
      "outputs": [
        {
          "output_type": "stream",
          "name": "stdout",
          "text": [
            "1.13.1+cu116\n"
          ]
        }
      ],
      "source": [
        "print(torch.__version__)"
      ]
    },
    {
      "cell_type": "markdown",
      "metadata": {
        "id": "Rfr-PVqQST4n"
      },
      "source": [
        "## Exploratory Data Analysis (EDA)"
      ]
    },
    {
      "cell_type": "code",
      "execution_count": 2,
      "metadata": {
        "id": "QmfF8r2BST4n",
        "colab": {
          "base_uri": "https://localhost:8080/"
        },
        "outputId": "08b7769e-0420-4be2-d122-2e044dbc297b"
      },
      "outputs": [
        {
          "output_type": "stream",
          "name": "stdout",
          "text": [
            "['Demand for United States Lower 48 (region) hourly - UTC time.csv']\n"
          ]
        }
      ],
      "source": [
        "# Define data root directory\n",
        "data_dir = \"./data\"\n",
        "print(os.listdir(data_dir))"
      ]
    },
    {
      "cell_type": "code",
      "execution_count": 3,
      "metadata": {
        "id": "X5etHj-VST4n"
      },
      "outputs": [],
      "source": [
        "df = pd.read_csv(os.path.join(data_dir, \"/content/data/Demand for United States Lower 48 (region) hourly - UTC time.csv\"))"
      ]
    },
    {
      "cell_type": "code",
      "source": [
        "df.head()"
      ],
      "metadata": {
        "colab": {
          "base_uri": "https://localhost:8080/",
          "height": 206
        },
        "id": "ghq30YRHGKsE",
        "outputId": "0cfff01d-d6f1-4ff5-a0c0-6d3a44e8a1b7"
      },
      "execution_count": 4,
      "outputs": [
        {
          "output_type": "execute_result",
          "data": {
            "text/plain": [
              "                  date  megawatthours\n",
              "0  2015-07-01 05:00:00         162827\n",
              "1  2015-07-01 06:00:00         335153\n",
              "2  2015-07-01 07:00:00         333837\n",
              "3  2015-07-01 08:00:00         398386\n",
              "4  2015-07-01 09:00:00         388954"
            ],
            "text/html": [
              "\n",
              "  <div id=\"df-5c746cd8-5bd0-460d-845c-b61ac6695a2b\">\n",
              "    <div class=\"colab-df-container\">\n",
              "      <div>\n",
              "<style scoped>\n",
              "    .dataframe tbody tr th:only-of-type {\n",
              "        vertical-align: middle;\n",
              "    }\n",
              "\n",
              "    .dataframe tbody tr th {\n",
              "        vertical-align: top;\n",
              "    }\n",
              "\n",
              "    .dataframe thead th {\n",
              "        text-align: right;\n",
              "    }\n",
              "</style>\n",
              "<table border=\"1\" class=\"dataframe\">\n",
              "  <thead>\n",
              "    <tr style=\"text-align: right;\">\n",
              "      <th></th>\n",
              "      <th>date</th>\n",
              "      <th>megawatthours</th>\n",
              "    </tr>\n",
              "  </thead>\n",
              "  <tbody>\n",
              "    <tr>\n",
              "      <th>0</th>\n",
              "      <td>2015-07-01 05:00:00</td>\n",
              "      <td>162827</td>\n",
              "    </tr>\n",
              "    <tr>\n",
              "      <th>1</th>\n",
              "      <td>2015-07-01 06:00:00</td>\n",
              "      <td>335153</td>\n",
              "    </tr>\n",
              "    <tr>\n",
              "      <th>2</th>\n",
              "      <td>2015-07-01 07:00:00</td>\n",
              "      <td>333837</td>\n",
              "    </tr>\n",
              "    <tr>\n",
              "      <th>3</th>\n",
              "      <td>2015-07-01 08:00:00</td>\n",
              "      <td>398386</td>\n",
              "    </tr>\n",
              "    <tr>\n",
              "      <th>4</th>\n",
              "      <td>2015-07-01 09:00:00</td>\n",
              "      <td>388954</td>\n",
              "    </tr>\n",
              "  </tbody>\n",
              "</table>\n",
              "</div>\n",
              "      <button class=\"colab-df-convert\" onclick=\"convertToInteractive('df-5c746cd8-5bd0-460d-845c-b61ac6695a2b')\"\n",
              "              title=\"Convert this dataframe to an interactive table.\"\n",
              "              style=\"display:none;\">\n",
              "        \n",
              "  <svg xmlns=\"http://www.w3.org/2000/svg\" height=\"24px\"viewBox=\"0 0 24 24\"\n",
              "       width=\"24px\">\n",
              "    <path d=\"M0 0h24v24H0V0z\" fill=\"none\"/>\n",
              "    <path d=\"M18.56 5.44l.94 2.06.94-2.06 2.06-.94-2.06-.94-.94-2.06-.94 2.06-2.06.94zm-11 1L8.5 8.5l.94-2.06 2.06-.94-2.06-.94L8.5 2.5l-.94 2.06-2.06.94zm10 10l.94 2.06.94-2.06 2.06-.94-2.06-.94-.94-2.06-.94 2.06-2.06.94z\"/><path d=\"M17.41 7.96l-1.37-1.37c-.4-.4-.92-.59-1.43-.59-.52 0-1.04.2-1.43.59L10.3 9.45l-7.72 7.72c-.78.78-.78 2.05 0 2.83L4 21.41c.39.39.9.59 1.41.59.51 0 1.02-.2 1.41-.59l7.78-7.78 2.81-2.81c.8-.78.8-2.07 0-2.86zM5.41 20L4 18.59l7.72-7.72 1.47 1.35L5.41 20z\"/>\n",
              "  </svg>\n",
              "      </button>\n",
              "      \n",
              "  <style>\n",
              "    .colab-df-container {\n",
              "      display:flex;\n",
              "      flex-wrap:wrap;\n",
              "      gap: 12px;\n",
              "    }\n",
              "\n",
              "    .colab-df-convert {\n",
              "      background-color: #E8F0FE;\n",
              "      border: none;\n",
              "      border-radius: 50%;\n",
              "      cursor: pointer;\n",
              "      display: none;\n",
              "      fill: #1967D2;\n",
              "      height: 32px;\n",
              "      padding: 0 0 0 0;\n",
              "      width: 32px;\n",
              "    }\n",
              "\n",
              "    .colab-df-convert:hover {\n",
              "      background-color: #E2EBFA;\n",
              "      box-shadow: 0px 1px 2px rgba(60, 64, 67, 0.3), 0px 1px 3px 1px rgba(60, 64, 67, 0.15);\n",
              "      fill: #174EA6;\n",
              "    }\n",
              "\n",
              "    [theme=dark] .colab-df-convert {\n",
              "      background-color: #3B4455;\n",
              "      fill: #D2E3FC;\n",
              "    }\n",
              "\n",
              "    [theme=dark] .colab-df-convert:hover {\n",
              "      background-color: #434B5C;\n",
              "      box-shadow: 0px 1px 3px 1px rgba(0, 0, 0, 0.15);\n",
              "      filter: drop-shadow(0px 1px 2px rgba(0, 0, 0, 0.3));\n",
              "      fill: #FFFFFF;\n",
              "    }\n",
              "  </style>\n",
              "\n",
              "      <script>\n",
              "        const buttonEl =\n",
              "          document.querySelector('#df-5c746cd8-5bd0-460d-845c-b61ac6695a2b button.colab-df-convert');\n",
              "        buttonEl.style.display =\n",
              "          google.colab.kernel.accessAllowed ? 'block' : 'none';\n",
              "\n",
              "        async function convertToInteractive(key) {\n",
              "          const element = document.querySelector('#df-5c746cd8-5bd0-460d-845c-b61ac6695a2b');\n",
              "          const dataTable =\n",
              "            await google.colab.kernel.invokeFunction('convertToInteractive',\n",
              "                                                     [key], {});\n",
              "          if (!dataTable) return;\n",
              "\n",
              "          const docLinkHtml = 'Like what you see? Visit the ' +\n",
              "            '<a target=\"_blank\" href=https://colab.research.google.com/notebooks/data_table.ipynb>data table notebook</a>'\n",
              "            + ' to learn more about interactive tables.';\n",
              "          element.innerHTML = '';\n",
              "          dataTable['output_type'] = 'display_data';\n",
              "          await google.colab.output.renderOutput(dataTable, element);\n",
              "          const docLink = document.createElement('div');\n",
              "          docLink.innerHTML = docLinkHtml;\n",
              "          element.appendChild(docLink);\n",
              "        }\n",
              "      </script>\n",
              "    </div>\n",
              "  </div>\n",
              "  "
            ]
          },
          "metadata": {},
          "execution_count": 4
        }
      ]
    },
    {
      "cell_type": "code",
      "source": [
        "df.shape"
      ],
      "metadata": {
        "colab": {
          "base_uri": "https://localhost:8080/"
        },
        "id": "fvLEKFyYF-9l",
        "outputId": "e5e18510-83ed-43ac-914c-85ef44956306"
      },
      "execution_count": 5,
      "outputs": [
        {
          "output_type": "execute_result",
          "data": {
            "text/plain": [
              "(58936, 2)"
            ]
          },
          "metadata": {},
          "execution_count": 5
        }
      ]
    },
    {
      "cell_type": "code",
      "source": [
        "# Select the \"units\" column\n",
        "units = df['megawatthours']\n",
        "\n",
        "# Create a new figure with desired size\n",
        "fig = plt.figure(figsize=(15, 8))\n",
        "\n",
        "# Create a box plot\n",
        "plt.boxplot(units, vert=False)\n",
        "\n",
        "# Add plot title and axis labels\n",
        "plt.title('Box plot of units')\n",
        "plt.xlabel('Units')\n",
        "plt.show()\n"
      ],
      "metadata": {
        "colab": {
          "base_uri": "https://localhost:8080/",
          "height": 513
        },
        "id": "5XdGEcycE-sv",
        "outputId": "70d6ffc2-625e-4c93-8ac3-ba754e8e7042"
      },
      "execution_count": 6,
      "outputs": [
        {
          "output_type": "display_data",
          "data": {
            "text/plain": [
              "<Figure size 1080x576 with 1 Axes>"
            ],
            "image/png": "[encoded data removed]"
          },
          "metadata": {
            "needs_background": "light"
          }
        }
      ]
    },
    {
      "cell_type": "code",
      "source": [
        "# Create a new figure with desired size\n",
        "fig = plt.figure(figsize=(15, 8))\n",
        "\n",
        "# Plot a histogram of the \"units\" column\n",
        "plt.hist(df[\"megawatthours\"], color='yellow')\n",
        "\n",
        "# Add axis labels and title\n",
        "plt.xlabel(\"Units\")\n",
        "plt.ylabel(\"Frequency\")\n",
        "plt.title(\"Distribution of Units\")\n",
        "\n",
        "# Show the plot\n",
        "plt.show()\n"
      ],
      "metadata": {
        "colab": {
          "base_uri": "https://localhost:8080/",
          "height": 513
        },
        "id": "fHxX05j_FI6-",
        "outputId": "bf249333-ecef-4db5-daaf-c6a7deca53cc"
      },
      "execution_count": 8,
      "outputs": [
        {
          "output_type": "display_data",
          "data": {
            "text/plain": [
              "<Figure size 1080x576 with 1 Axes>"
            ],
            "image/png": "[encoded data removed]"
          },
          "metadata": {
            "needs_background": "light"
          }
        }
      ]
    },
    {
      "cell_type": "code",
      "source": [
        "# Select only the \"units\" column\n",
        "units = df['megawatthours']\n",
        "# Create a new figure with desired size\n",
        "fig = plt.figure(figsize=(15, 8))\n",
        "# Create a lag plot with a lag of 1\n",
        "pd.plotting.lag_plot(units, lag=3, c = 'red')\n",
        "\n",
        "# Add plot title and axis labels\n",
        "plt.title('Lag plot for units')\n",
        "plt.xlabel('Units at time t-1')\n",
        "plt.ylabel('Units at time t')\n",
        "\n",
        "plt.show()\n"
      ],
      "metadata": {
        "colab": {
          "base_uri": "https://localhost:8080/",
          "height": 513
        },
        "id": "8nLwjCbhFTu3",
        "outputId": "07076689-58d2-43da-febd-32b8e8dd8b42"
      },
      "execution_count": 9,
      "outputs": [
        {
          "output_type": "display_data",
          "data": {
            "text/plain": [
              "<Figure size 1080x576 with 1 Axes>"
            ],
            "image/png": "[encoded data removed]"
          },
          "metadata": {
            "needs_background": "light"
          }
        }
      ]
    },
    {
      "cell_type": "code",
      "source": [
        "df.isnull()"
      ],
      "metadata": {
        "colab": {
          "base_uri": "https://localhost:8080/",
          "height": 423
        },
        "id": "vzaAiEoyFO6u",
        "outputId": "3f69647b-d79e-40bc-ef7e-d364437b0aab"
      },
      "execution_count": 10,
      "outputs": [
        {
          "output_type": "execute_result",
          "data": {
            "text/plain": [
              "        date  megawatthours\n",
              "0      False          False\n",
              "1      False          False\n",
              "2      False          False\n",
              "3      False          False\n",
              "4      False          False\n",
              "...      ...            ...\n",
              "58931  False          False\n",
              "58932  False          False\n",
              "58933  False          False\n",
              "58934  False          False\n",
              "58935  False          False\n",
              "\n",
              "[58936 rows x 2 columns]"
            ],
            "text/html": [
              "\n",
              "  <div id=\"df-f125f87e-c0e1-4c76-851f-eefe5c33ee08\">\n",
              "    <div class=\"colab-df-container\">\n",
              "      <div>\n",
              "<style scoped>\n",
              "    .dataframe tbody tr th:only-of-type {\n",
              "        vertical-align: middle;\n",
              "    }\n",
              "\n",
              "    .dataframe tbody tr th {\n",
              "        vertical-align: top;\n",
              "    }\n",
              "\n",
              "    .dataframe thead th {\n",
              "        text-align: right;\n",
              "    }\n",
              "</style>\n",
              "<table border=\"1\" class=\"dataframe\">\n",
              "  <thead>\n",
              "    <tr style=\"text-align: right;\">\n",
              "      <th></th>\n",
              "      <th>date</th>\n",
              "      <th>megawatthours</th>\n",
              "    </tr>\n",
              "  </thead>\n",
              "  <tbody>\n",
              "    <tr>\n",
              "      <th>0</th>\n",
              "      <td>False</td>\n",
              "      <td>False</td>\n",
              "    </tr>\n",
              "    <tr>\n",
              "      <th>1</th>\n",
              "      <td>False</td>\n",
              "      <td>False</td>\n",
              "    </tr>\n",
              "    <tr>\n",
              "      <th>2</th>\n",
              "      <td>False</td>\n",
              "      <td>False</td>\n",
              "    </tr>\n",
              "    <tr>\n",
              "      <th>3</th>\n",
              "      <td>False</td>\n",
              "      <td>False</td>\n",
              "    </tr>\n",
              "    <tr>\n",
              "      <th>4</th>\n",
              "      <td>False</td>\n",
              "      <td>False</td>\n",
              "    </tr>\n",
              "    <tr>\n",
              "      <th>...</th>\n",
              "      <td>...</td>\n",
              "      <td>...</td>\n",
              "    </tr>\n",
              "    <tr>\n",
              "      <th>58931</th>\n",
              "      <td>False</td>\n",
              "      <td>False</td>\n",
              "    </tr>\n",
              "    <tr>\n",
              "      <th>58932</th>\n",
              "      <td>False</td>\n",
              "      <td>False</td>\n",
              "    </tr>\n",
              "    <tr>\n",
              "      <th>58933</th>\n",
              "      <td>False</td>\n",
              "      <td>False</td>\n",
              "    </tr>\n",
              "    <tr>\n",
              "      <th>58934</th>\n",
              "      <td>False</td>\n",
              "      <td>False</td>\n",
              "    </tr>\n",
              "    <tr>\n",
              "      <th>58935</th>\n",
              "      <td>False</td>\n",
              "      <td>False</td>\n",
              "    </tr>\n",
              "  </tbody>\n",
              "</table>\n",
              "<p>58936 rows × 2 columns</p>\n",
              "</div>\n",
              "      <button class=\"colab-df-convert\" onclick=\"convertToInteractive('df-f125f87e-c0e1-4c76-851f-eefe5c33ee08')\"\n",
              "              title=\"Convert this dataframe to an interactive table.\"\n",
              "              style=\"display:none;\">\n",
              "        \n",
              "  <svg xmlns=\"http://www.w3.org/2000/svg\" height=\"24px\"viewBox=\"0 0 24 24\"\n",
              "       width=\"24px\">\n",
              "    <path d=\"M0 0h24v24H0V0z\" fill=\"none\"/>\n",
              "    <path d=\"M18.56 5.44l.94 2.06.94-2.06 2.06-.94-2.06-.94-.94-2.06-.94 2.06-2.06.94zm-11 1L8.5 8.5l.94-2.06 2.06-.94-2.06-.94L8.5 2.5l-.94 2.06-2.06.94zm10 10l.94 2.06.94-2.06 2.06-.94-2.06-.94-.94-2.06-.94 2.06-2.06.94z\"/><path d=\"M17.41 7.96l-1.37-1.37c-.4-.4-.92-.59-1.43-.59-.52 0-1.04.2-1.43.59L10.3 9.45l-7.72 7.72c-.78.78-.78 2.05 0 2.83L4 21.41c.39.39.9.59 1.41.59.51 0 1.02-.2 1.41-.59l7.78-7.78 2.81-2.81c.8-.78.8-2.07 0-2.86zM5.41 20L4 18.59l7.72-7.72 1.47 1.35L5.41 20z\"/>\n",
              "  </svg>\n",
              "      </button>\n",
              "      \n",
              "  <style>\n",
              "    .colab-df-container {\n",
              "      display:flex;\n",
              "      flex-wrap:wrap;\n",
              "      gap: 12px;\n",
              "    }\n",
              "\n",
              "    .colab-df-convert {\n",
              "      background-color: #E8F0FE;\n",
              "      border: none;\n",
              "      border-radius: 50%;\n",
              "      cursor: pointer;\n",
              "      display: none;\n",
              "      fill: #1967D2;\n",
              "      height: 32px;\n",
              "      padding: 0 0 0 0;\n",
              "      width: 32px;\n",
              "    }\n",
              "\n",
              "    .colab-df-convert:hover {\n",
              "      background-color: #E2EBFA;\n",
              "      box-shadow: 0px 1px 2px rgba(60, 64, 67, 0.3), 0px 1px 3px 1px rgba(60, 64, 67, 0.15);\n",
              "      fill: #174EA6;\n",
              "    }\n",
              "\n",
              "    [theme=dark] .colab-df-convert {\n",
              "      background-color: #3B4455;\n",
              "      fill: #D2E3FC;\n",
              "    }\n",
              "\n",
              "    [theme=dark] .colab-df-convert:hover {\n",
              "      background-color: #434B5C;\n",
              "      box-shadow: 0px 1px 3px 1px rgba(0, 0, 0, 0.15);\n",
              "      filter: drop-shadow(0px 1px 2px rgba(0, 0, 0, 0.3));\n",
              "      fill: #FFFFFF;\n",
              "    }\n",
              "  </style>\n",
              "\n",
              "      <script>\n",
              "        const buttonEl =\n",
              "          document.querySelector('#df-f125f87e-c0e1-4c76-851f-eefe5c33ee08 button.colab-df-convert');\n",
              "        buttonEl.style.display =\n",
              "          google.colab.kernel.accessAllowed ? 'block' : 'none';\n",
              "\n",
              "        async function convertToInteractive(key) {\n",
              "          const element = document.querySelector('#df-f125f87e-c0e1-4c76-851f-eefe5c33ee08');\n",
              "          const dataTable =\n",
              "            await google.colab.kernel.invokeFunction('convertToInteractive',\n",
              "                                                     [key], {});\n",
              "          if (!dataTable) return;\n",
              "\n",
              "          const docLinkHtml = 'Like what you see? Visit the ' +\n",
              "            '<a target=\"_blank\" href=https://colab.research.google.com/notebooks/data_table.ipynb>data table notebook</a>'\n",
              "            + ' to learn more about interactive tables.';\n",
              "          element.innerHTML = '';\n",
              "          dataTable['output_type'] = 'display_data';\n",
              "          await google.colab.output.renderOutput(dataTable, element);\n",
              "          const docLink = document.createElement('div');\n",
              "          docLink.innerHTML = docLinkHtml;\n",
              "          element.appendChild(docLink);\n",
              "        }\n",
              "      </script>\n",
              "    </div>\n",
              "  </div>\n",
              "  "
            ]
          },
          "metadata": {},
          "execution_count": 10
        }
      ]
    },
    {
      "cell_type": "markdown",
      "metadata": {
        "id": "QA-iPs0qST4o"
      },
      "source": [
        "## Create training instances by moving sliding window"
      ]
    },
    {
      "cell_type": "code",
      "execution_count": 11,
      "metadata": {
        "id": "iXPc11N1ST4o"
      },
      "outputs": [],
      "source": [
        "def move_sliding_window(data, window_size, inputs_cols_indices, label_col_index):\n",
        "    \"\"\"\n",
        "    data: numpy array including data\n",
        "    window_size: size of window\n",
        "    inputs_cols_indices: col indices to include\n",
        "    \"\"\"\n",
        "\n",
        "    # (# instances created by movement, seq_len (timestamps), # features (input_len))\n",
        "    inputs = np.zeros((len(data) - window_size, window_size, len(inputs_cols_indices)))\n",
        "    labels = np.zeros(len(data) - window_size)\n",
        "\n",
        "    for i in range(window_size, len(data)):\n",
        "        inputs[i - window_size] = data[i - window_size : i, inputs_cols_indices]\n",
        "        labels[i - window_size] = data[i, label_col_index]\n",
        "    inputs = inputs.reshape(-1, window_size, len(inputs_cols_indices))\n",
        "    labels = labels.reshape(-1, 1)\n",
        "    print(inputs.shape, labels.shape)\n",
        "\n",
        "    return inputs, labels"
      ]
    },
    {
      "cell_type": "markdown",
      "metadata": {
        "id": "ep8SbmdUST4o"
      },
      "source": [
        "## Integrate files to build the training set\n"
      ]
    },
    {
      "cell_type": "code",
      "execution_count": 12,
      "metadata": {
        "id": "kxe6xhj0ST4p",
        "colab": {
          "base_uri": "https://localhost:8080/",
          "height": 84,
          "referenced_widgets": [
            "3a2fb967cdde49e1ab7ce1b2a1661fed",
            "3e0edb2eb1a44f03b99ff1ac600b628c",
            "b072833083f54ea0859eb59f41ddf508",
            "5c4818e470ba44a9946f0fdd81ded1ce",
            "14e6d25497ea4ee28a5677c14bee896f",
            "e3440b1314f542f6984b55eb1b42453f",
            "be30a7519bd541ed8676988b97dd1619",
            "f42af9c5126f4212857e96e45be82b9c",
            "3885b8a8770146f7becb3e268124837d",
            "a8d6db0df4e4478394d13a508827f273",
            "644858066f5e4aba80e6dcd0ad664fbd"
          ]
        },
        "outputId": "ed120e52-2d47-4bf5-9dd0-69a3fac9a8f6"
      },
      "outputs": [
        {
          "output_type": "display_data",
          "data": {
            "text/plain": [
              "  0%|          | 0/1 [00:00<?, ?it/s]"
            ],
            "application/vnd.jupyter.widget-view+json": {
              "version_major": 2,
              "version_minor": 0,
              "model_id": "3a2fb967cdde49e1ab7ce1b2a1661fed"
            }
          },
          "metadata": {}
        },
        {
          "output_type": "stream",
          "name": "stdout",
          "text": [
            "Processing Demand for United States Lower 48 (region) hourly - UTC time.csv ...\n",
            "(58846, 90, 5) (58846, 1)\n"
          ]
        }
      ],
      "source": [
        "label_col_index = 0  # consumption as label to predict\n",
        "inputs_cols_indices = range(\n",
        "    5\n",
        ")  # use (consumption, hour, dayofweek, month, dayofyear) columns as features\n",
        "\n",
        "# Define window_size period and split inputs/labels\n",
        "window_size = 90\n",
        "\n",
        "# The scaler objects will be stored in this dictionary so that our output test data from the model can be re-scaled during evaluation\n",
        "label_scalers = {}\n",
        "\n",
        "train_x = []\n",
        "test_x = {}\n",
        "test_y = {}\n",
        "\n",
        "# Skipping the files we're not using\n",
        "processing_files = [\n",
        "    file for file in os.listdir(data_dir) if os.path.splitext(file)[1] == \".csv\"\n",
        "]\n",
        "\n",
        "num_files_for_dataset = 4\n",
        "\n",
        "for file in tqdm_notebook(processing_files[:num_files_for_dataset]):\n",
        "    print(f\"Processing {file} ...\")\n",
        "    # Store csv file in a Pandas DataFrame\n",
        "    df = pd.read_csv(os.path.join(data_dir, file), parse_dates=[\"date\"])\n",
        "\n",
        "    # Processing the time data into suitable input formats\n",
        "    df[\"hour\"] = df.apply(lambda x: x[\"date\"].hour, axis=1)\n",
        "    df[\"dayofweek\"] = df.apply(lambda x: x[\"date\"].dayofweek, axis=1)\n",
        "    df[\"month\"] = df.apply(lambda x: x[\"date\"].month, axis=1)\n",
        "    df[\"dayofyear\"] = df.apply(lambda x: x[\"date\"].dayofyear, axis=1)\n",
        "    df = df.sort_values(\"date\").drop(\"date\", axis=1)\n",
        "\n",
        "    # Scaling the input data\n",
        "    sc = MinMaxScaler()\n",
        "    label_sc = MinMaxScaler()\n",
        "    data = sc.fit_transform(df.values)\n",
        "\n",
        "    # Obtaining the scaler for the labels(usage data) so that output can be\n",
        "    # re-scaled to actual value during evaluation\n",
        "    label_sc.fit(df.iloc[:, label_col_index].values.reshape(-1, 1))\n",
        "    label_scalers[file] = label_sc\n",
        "\n",
        "    # Move the window\n",
        "    inputs, labels = move_sliding_window(\n",
        "        data,\n",
        "        window_size,\n",
        "        inputs_cols_indices=inputs_cols_indices,\n",
        "        label_col_index=label_col_index,\n",
        "    )\n",
        "\n",
        "    # CONCAT created instances from all .csv files.\n",
        "    # Split data into train/test portions and combining all data from different files into a single array\n",
        "    test_portion = int(0.1 * len(inputs))\n",
        "    if len(train_x) == 0:  # first iteration\n",
        "        train_x = inputs[:-test_portion]\n",
        "        train_y = labels[:-test_portion]\n",
        "    else:\n",
        "        train_x = np.concatenate((train_x, inputs[:-test_portion]))\n",
        "        train_y = np.concatenate((train_y, labels[:-test_portion]))\n",
        "    test_x[file] = inputs[-test_portion:]\n",
        "    test_y[file] = labels[-test_portion:]"
      ]
    },
    {
      "cell_type": "code",
      "source": [
        "# Create a new DataFrame with \"month\" as the index and keep the original intact\n",
        "df_indexed = df.set_index('month', drop=False)\n",
        "\n",
        "# Select only the \"units\" column from the new indexed DataFrame\n",
        "units = df_indexed['megawatthours']\n",
        "\n",
        "# Create a new figure with desired size\n",
        "fig = plt.figure(figsize=(15, 8))\n",
        "\n",
        "# Create a time series plot\n",
        "plt.plot(units, c='purple')\n",
        "\n",
        "# Add plot title and axis labels\n",
        "plt.title('Time series plot for units')\n",
        "plt.xlabel('Month')\n",
        "plt.ylabel('Units')\n",
        "plt.show()"
      ],
      "metadata": {
        "colab": {
          "base_uri": "https://localhost:8080/",
          "height": 513
        },
        "id": "ohpiPhxnGb1N",
        "outputId": "3146a433-1113-43ce-91c9-96f25d740255"
      },
      "execution_count": 13,
      "outputs": [
        {
          "output_type": "display_data",
          "data": {
            "text/plain": [
              "<Figure size 1080x576 with 1 Axes>"
            ],
            "image/png": "[encoded data removed]"
          },
          "metadata": {
            "needs_background": "light"
          }
        }
      ]
    },
    {
      "cell_type": "code",
      "source": [
        "df.head()"
      ],
      "metadata": {
        "colab": {
          "base_uri": "https://localhost:8080/",
          "height": 206
        },
        "id": "57AwxIxHOpg0",
        "outputId": "d8f4c1b2-8e54-4030-f574-80fded0dedbd"
      },
      "execution_count": 14,
      "outputs": [
        {
          "output_type": "execute_result",
          "data": {
            "text/plain": [
              "   megawatthours  hour  dayofweek  month  dayofyear\n",
              "0         162827     5          2      7        182\n",
              "1         335153     6          2      7        182\n",
              "2         333837     7          2      7        182\n",
              "3         398386     8          2      7        182\n",
              "4         388954     9          2      7        182"
            ],
            "text/html": [
              "\n",
              "  <div id=\"df-170ae35f-77a9-4d91-b494-63e3fe445ac5\">\n",
              "    <div class=\"colab-df-container\">\n",
              "      <div>\n",
              "<style scoped>\n",
              "    .dataframe tbody tr th:only-of-type {\n",
              "        vertical-align: middle;\n",
              "    }\n",
              "\n",
              "    .dataframe tbody tr th {\n",
              "        vertical-align: top;\n",
              "    }\n",
              "\n",
              "    .dataframe thead th {\n",
              "        text-align: right;\n",
              "    }\n",
              "</style>\n",
              "<table border=\"1\" class=\"dataframe\">\n",
              "  <thead>\n",
              "    <tr style=\"text-align: right;\">\n",
              "      <th></th>\n",
              "      <th>megawatthours</th>\n",
              "      <th>hour</th>\n",
              "      <th>dayofweek</th>\n",
              "      <th>month</th>\n",
              "      <th>dayofyear</th>\n",
              "    </tr>\n",
              "  </thead>\n",
              "  <tbody>\n",
              "    <tr>\n",
              "      <th>0</th>\n",
              "      <td>162827</td>\n",
              "      <td>5</td>\n",
              "      <td>2</td>\n",
              "      <td>7</td>\n",
              "      <td>182</td>\n",
              "    </tr>\n",
              "    <tr>\n",
              "      <th>1</th>\n",
              "      <td>335153</td>\n",
              "      <td>6</td>\n",
              "      <td>2</td>\n",
              "      <td>7</td>\n",
              "      <td>182</td>\n",
              "    </tr>\n",
              "    <tr>\n",
              "      <th>2</th>\n",
              "      <td>333837</td>\n",
              "      <td>7</td>\n",
              "      <td>2</td>\n",
              "      <td>7</td>\n",
              "      <td>182</td>\n",
              "    </tr>\n",
              "    <tr>\n",
              "      <th>3</th>\n",
              "      <td>398386</td>\n",
              "      <td>8</td>\n",
              "      <td>2</td>\n",
              "      <td>7</td>\n",
              "      <td>182</td>\n",
              "    </tr>\n",
              "    <tr>\n",
              "      <th>4</th>\n",
              "      <td>388954</td>\n",
              "      <td>9</td>\n",
              "      <td>2</td>\n",
              "      <td>7</td>\n",
              "      <td>182</td>\n",
              "    </tr>\n",
              "  </tbody>\n",
              "</table>\n",
              "</div>\n",
              "      <button class=\"colab-df-convert\" onclick=\"convertToInteractive('df-170ae35f-77a9-4d91-b494-63e3fe445ac5')\"\n",
              "              title=\"Convert this dataframe to an interactive table.\"\n",
              "              style=\"display:none;\">\n",
              "        \n",
              "  <svg xmlns=\"http://www.w3.org/2000/svg\" height=\"24px\"viewBox=\"0 0 24 24\"\n",
              "       width=\"24px\">\n",
              "    <path d=\"M0 0h24v24H0V0z\" fill=\"none\"/>\n",
              "    <path d=\"M18.56 5.44l.94 2.06.94-2.06 2.06-.94-2.06-.94-.94-2.06-.94 2.06-2.06.94zm-11 1L8.5 8.5l.94-2.06 2.06-.94-2.06-.94L8.5 2.5l-.94 2.06-2.06.94zm10 10l.94 2.06.94-2.06 2.06-.94-2.06-.94-.94-2.06-.94 2.06-2.06.94z\"/><path d=\"M17.41 7.96l-1.37-1.37c-.4-.4-.92-.59-1.43-.59-.52 0-1.04.2-1.43.59L10.3 9.45l-7.72 7.72c-.78.78-.78 2.05 0 2.83L4 21.41c.39.39.9.59 1.41.59.51 0 1.02-.2 1.41-.59l7.78-7.78 2.81-2.81c.8-.78.8-2.07 0-2.86zM5.41 20L4 18.59l7.72-7.72 1.47 1.35L5.41 20z\"/>\n",
              "  </svg>\n",
              "      </button>\n",
              "      \n",
              "  <style>\n",
              "    .colab-df-container {\n",
              "      display:flex;\n",
              "      flex-wrap:wrap;\n",
              "      gap: 12px;\n",
              "    }\n",
              "\n",
              "    .colab-df-convert {\n",
              "      background-color: #E8F0FE;\n",
              "      border: none;\n",
              "      border-radius: 50%;\n",
              "      cursor: pointer;\n",
              "      display: none;\n",
              "      fill: #1967D2;\n",
              "      height: 32px;\n",
              "      padding: 0 0 0 0;\n",
              "      width: 32px;\n",
              "    }\n",
              "\n",
              "    .colab-df-convert:hover {\n",
              "      background-color: #E2EBFA;\n",
              "      box-shadow: 0px 1px 2px rgba(60, 64, 67, 0.3), 0px 1px 3px 1px rgba(60, 64, 67, 0.15);\n",
              "      fill: #174EA6;\n",
              "    }\n",
              "\n",
              "    [theme=dark] .colab-df-convert {\n",
              "      background-color: #3B4455;\n",
              "      fill: #D2E3FC;\n",
              "    }\n",
              "\n",
              "    [theme=dark] .colab-df-convert:hover {\n",
              "      background-color: #434B5C;\n",
              "      box-shadow: 0px 1px 3px 1px rgba(0, 0, 0, 0.15);\n",
              "      filter: drop-shadow(0px 1px 2px rgba(0, 0, 0, 0.3));\n",
              "      fill: #FFFFFF;\n",
              "    }\n",
              "  </style>\n",
              "\n",
              "      <script>\n",
              "        const buttonEl =\n",
              "          document.querySelector('#df-170ae35f-77a9-4d91-b494-63e3fe445ac5 button.colab-df-convert');\n",
              "        buttonEl.style.display =\n",
              "          google.colab.kernel.accessAllowed ? 'block' : 'none';\n",
              "\n",
              "        async function convertToInteractive(key) {\n",
              "          const element = document.querySelector('#df-170ae35f-77a9-4d91-b494-63e3fe445ac5');\n",
              "          const dataTable =\n",
              "            await google.colab.kernel.invokeFunction('convertToInteractive',\n",
              "                                                     [key], {});\n",
              "          if (!dataTable) return;\n",
              "\n",
              "          const docLinkHtml = 'Like what you see? Visit the ' +\n",
              "            '<a target=\"_blank\" href=https://colab.research.google.com/notebooks/data_table.ipynb>data table notebook</a>'\n",
              "            + ' to learn more about interactive tables.';\n",
              "          element.innerHTML = '';\n",
              "          dataTable['output_type'] = 'display_data';\n",
              "          await google.colab.output.renderOutput(dataTable, element);\n",
              "          const docLink = document.createElement('div');\n",
              "          docLink.innerHTML = docLinkHtml;\n",
              "          element.appendChild(docLink);\n",
              "        }\n",
              "      </script>\n",
              "    </div>\n",
              "  </div>\n",
              "  "
            ]
          },
          "metadata": {},
          "execution_count": 14
        }
      ]
    },
    {
      "cell_type": "markdown",
      "metadata": {
        "id": "qtv0Sq4OST4q"
      },
      "source": [
        "## Pytorch data loaders/generators"
      ]
    },
    {
      "cell_type": "code",
      "source": [
        "from sklearn.model_selection import train_test_split\n",
        "batch_size =500\n",
        "# Split data into training and validation sets\n",
        "train_x, val_x, train_y, val_y = train_test_split(\n",
        "    train_x, train_y, test_size=0.2, random_state=42\n",
        ")\n",
        "\n",
        "# Create TensorDatasets and DataLoaders for training and validation sets\n",
        "train_data = TensorDataset(torch.from_numpy(train_x), torch.from_numpy(train_y))\n",
        "train_loader = DataLoader(train_data, shuffle=True, batch_size=batch_size, drop_last=True)\n",
        "\n",
        "val_data = TensorDataset(torch.from_numpy(val_x), torch.from_numpy(val_y))\n",
        "val_loader = DataLoader(val_data, shuffle=True, batch_size=batch_size, drop_last=True)"
      ],
      "metadata": {
        "id": "u3c7R4VbHpxt"
      },
      "execution_count": 15,
      "outputs": []
    },
    {
      "cell_type": "code",
      "source": [
        "print(\n",
        "    f\"Train Size: {train_x.shape}, Batch Size: {batch_size}, # of iterations per epoch: {int(train_x.shape[0]/batch_size)}\"\n",
        ")\n",
        "\n",
        "print(\n",
        "    f\"Validation Size: {val_x.shape}, Batch Size: {batch_size}, # of iterations per epoch: {int(val_x.shape[0]/batch_size)}\"\n",
        ")\n"
      ],
      "metadata": {
        "colab": {
          "base_uri": "https://localhost:8080/"
        },
        "id": "3tGs0c4BHr-j",
        "outputId": "9fc0f898-b83b-49c6-83d1-bb5e8e467877"
      },
      "execution_count": 16,
      "outputs": [
        {
          "output_type": "stream",
          "name": "stdout",
          "text": [
            "Train Size: (42369, 90, 5), Batch Size: 500, # of iterations per epoch: 84\n",
            "Validation Size: (10593, 90, 5), Batch Size: 500, # of iterations per epoch: 21\n"
          ]
        }
      ]
    },
    {
      "cell_type": "code",
      "execution_count": 17,
      "metadata": {
        "id": "MW1rCcyiST4q"
      },
      "outputs": [],
      "source": [
        "# release some memory\n",
        "del train_x, train_y"
      ]
    },
    {
      "cell_type": "code",
      "execution_count": 18,
      "metadata": {
        "id": "NDfAJnceST4r",
        "colab": {
          "base_uri": "https://localhost:8080/"
        },
        "outputId": "d341e11c-9229-42e2-a997-a0d0f17aa4f3"
      },
      "outputs": [
        {
          "output_type": "stream",
          "name": "stdout",
          "text": [
            "GPU is available\n"
          ]
        }
      ],
      "source": [
        "# torch.cuda.is_available() checks and returns a Boolean True if a GPU is available, else it'll return False\n",
        "is_cuda = torch.cuda.is_available()\n",
        "\n",
        "# If we have a GPU available, we'll set our device to GPU. We'll use this device variable later in our code.\n",
        "if is_cuda:\n",
        "    device = torch.device(\"cuda\")\n",
        "    print(\"GPU is available\")\n",
        "else:\n",
        "    device = torch.device(\"cpu\")"
      ]
    },
    {
      "cell_type": "markdown",
      "source": [
        "# The LSTM model"
      ],
      "metadata": {
        "id": "OySFHfH3J_Vy"
      }
    },
    {
      "cell_type": "code",
      "execution_count": 19,
      "metadata": {
        "id": "R6QfdanpST4r"
      },
      "outputs": [],
      "source": [
        "class LSTMNet(nn.Module):\n",
        "    def __init__(self, input_dim, hidden_dim, output_dim, n_layers, drop_prob=0.2):\n",
        "        super(LSTMNet, self).__init__()\n",
        "        self.hidden_dim = hidden_dim\n",
        "        self.n_layers = n_layers\n",
        "\n",
        "        self.lstm = nn.LSTM(\n",
        "            input_dim, hidden_dim, n_layers, batch_first=True, dropout=drop_prob\n",
        "        )\n",
        "        self.fc = nn.Linear(hidden_dim, output_dim)\n",
        "        self.relu = nn.ReLU()\n",
        "\n",
        "    def forward(self, x, h):\n",
        "        out, h = self.lstm(x, h)\n",
        "        out = self.fc(self.relu(out[:, -1]))\n",
        "        return out, h\n",
        "\n",
        "    def init_hidden(self, batch_size):\n",
        "        weight = next(self.parameters()).data\n",
        "        # Initialze h_0, c_0 with zeros\n",
        "        hidden = (\n",
        "            weight.new(self.n_layers, batch_size, self.hidden_dim)\n",
        "            .zero_()\n",
        "            .to(device),  # h_0\n",
        "            weight.new(self.n_layers, batch_size, self.hidden_dim).zero_().to(device),\n",
        "        )\n",
        "        return hidden"
      ]
    },
    {
      "cell_type": "markdown",
      "metadata": {
        "id": "MwLDiQmDST4s"
      },
      "source": [
        "## Train and Save the LSTM model"
      ]
    },
    {
      "cell_type": "code",
      "source": [
        "def train(train_loader, val_loader, learn_rate, hidden_dim=256, n_layers=2, n_epochs=3, model_type=\"GRU\", print_every=100, threshold=0.02):\n",
        "    input_dim = next(iter(train_loader))[0].shape[2]\n",
        "    output_dim = 1\n",
        "\n",
        "    # Instantiate the model\n",
        "    if model_type == \"GRU\":\n",
        "        model = GRUNet(input_dim, hidden_dim, output_dim, n_layers)\n",
        "    else:\n",
        "        model = LSTMNet(input_dim, hidden_dim, output_dim, n_layers)\n",
        "    model.to(device)\n",
        "\n",
        "    # Define loss function and optimizer\n",
        "    criterion = nn.MSELoss()\n",
        "    optimizer = torch.optim.Adam(model.parameters(), lr=learn_rate)\n",
        "\n",
        "    model.train()\n",
        "    print(\"Starting Training of {} model\".format(model_type))\n",
        "    epoch_times = []\n",
        "\n",
        "    train_losses = []\n",
        "    val_losses = []\n",
        "    train_accs = []\n",
        "    val_accs = []\n",
        "\n",
        "    # Start training loop\n",
        "    for epoch in range(1, n_epochs + 1):\n",
        "        start_time = time.process_time()\n",
        "\n",
        "        # Training loop\n",
        "        h = model.init_hidden(batch_size)\n",
        "        avg_loss = 0.0\n",
        "        correct_count = 0\n",
        "        total_count = 0\n",
        "        counter = 0\n",
        "        for x, label in train_loader:\n",
        "            counter += 1\n",
        "            if model_type == \"GRU\":\n",
        "                h = h.data\n",
        "            elif model_type == \"LSTM\":\n",
        "                h = tuple([e.data for e in h])\n",
        "\n",
        "            model.zero_grad()\n",
        "            out, h = model(x.to(device).float(), h)\n",
        "            loss = criterion(out, label.to(device).float())\n",
        "            loss.backward()\n",
        "            optimizer.step()\n",
        "\n",
        "            avg_loss += loss.item()\n",
        "            diff = torch.abs(out - label.to(device).float())\n",
        "            correct_count += (diff <= threshold).sum().item()\n",
        "            total_count += diff.numel()\n",
        "            if counter % print_every == 0:\n",
        "                print(\n",
        "                    f\"Epoch {epoch} - Step: {counter}/{len(train_loader)} - Average Loss for Epoch: {avg_loss/counter}\"\n",
        "                )\n",
        "\n",
        "        current_time = time.process_time()\n",
        "        train_losses.append(avg_loss / len(train_loader))\n",
        "        train_acc = correct_count / total_count\n",
        "        train_accs.append(train_acc)\n",
        "        print(f\"Epoch {epoch}/{n_epochs} Done, Train Loss: {train_losses[-1]}, Train Accuracy: {train_acc}\")\n",
        "        print(f\"Time Elapsed for Epoch: {current_time-start_time} seconds\")\n",
        "\n",
        "        # Validation loop\n",
        "        model.eval()\n",
        "        with torch.no_grad():\n",
        "            val_loss = 0.0\n",
        "            correct_count = 0\n",
        "            total_count = 0\n",
        "            for x, label in val_loader:\n",
        "                h = model.init_hidden(batch_size)\n",
        "                if model_type == \"GRU\":\n",
        "                    h = h.data\n",
        "                elif model_type == \"LSTM\":\n",
        "                    h = tuple([e.data for e in h])\n",
        "\n",
        "                out, h = model(x.to(device).float(), h)\n",
        "                loss = criterion(out, label.to(device).float())\n",
        "                val_loss += loss.item()\n",
        "\n",
        "                diff = torch.abs(out - label.to(device).float())\n",
        "                correct_count += (diff <= threshold).sum().item()\n",
        "                total_count += diff.numel()\n",
        "\n",
        "            val_losses.append(val_loss / len(val_loader))\n",
        "            val_acc = correct_count / total_count\n",
        "            val_accs.append(val_acc)\n",
        "            print(f\"Validation Loss: {val_losses[-1]} - Validation Accuracy: {val_acc}\")\n",
        "        model.train()\n",
        "    \n",
        "     # Plot the training and validation accuracy\n",
        "    plt.figure(figsize=(15, 12))\n",
        "    plt.subplot(2, 2, 1)\n",
        "    plt.plot(train_accs, label=\"Train accuracy\")\n",
        "    plt.plot(val_accs, label=\"Validation accuracy\")\n",
        "    plt.legend()\n",
        "    plt.xlabel(\"Epoch\")\n",
        "    plt.ylabel(\"Loss\")\n",
        "    plt.show()\n",
        "    # Plot the training and validation losses\n",
        "    plt.figure(figsize=(15, 12))\n",
        "    plt.subplot(2, 2, 2)\n",
        "    plt.plot(train_losses, label=\"Train Loss\")\n",
        "    plt.plot(val_losses, label=\"Validation Loss\")\n",
        "    plt.legend()\n",
        "    plt.xlabel(\"Epoch\")\n",
        "    plt.ylabel(\"Loss\")\n",
        "    plt.show()\n",
        "    print(f\"Total Training Time: {sum(epoch_times)} seconds\")\n",
        "    return model\n",
        "\n"
      ],
      "metadata": {
        "id": "39iJXTQ79vyc"
      },
      "execution_count": 32,
      "outputs": []
    },
    {
      "cell_type": "code",
      "source": [
        "n_hidden = 256\n",
        "n_layers = 2\n",
        "n_epochs = 25\n",
        "print_every = 50\n",
        "lr = 0.001\n",
        "lstm_model = train(\n",
        "    train_loader,\n",
        "    val_loader=val_loader,\n",
        "    learn_rate=lr,\n",
        "    hidden_dim=n_hidden,\n",
        "    n_layers=n_layers,\n",
        "    n_epochs=n_epochs,\n",
        "    model_type=\"LSTM\",\n",
        "    print_every=print_every,\n",
        ")\n"
      ],
      "metadata": {
        "colab": {
          "base_uri": "https://localhost:8080/",
          "height": 1000
        },
        "id": "Orv09muGH4JM",
        "outputId": "e0e645b2-6557-4de1-b041-f336bf159a8b"
      },
      "execution_count": 33,
      "outputs": [
        {
          "output_type": "stream",
          "name": "stdout",
          "text": [
            "Starting Training of LSTM model\n",
            "Epoch 1 - Step: 50/84 - Average Loss for Epoch: 0.0433352542668581\n",
            "Epoch 1/25 Done, Train Loss: 0.030613960288021536, Train Accuracy: 0.11669047619047619\n",
            "Time Elapsed for Epoch: 6.63557335400003 seconds\n",
            "Validation Loss: 0.00907742427218528 - Validation Accuracy: 0.14152380952380952\n",
            "Epoch 2 - Step: 50/84 - Average Loss for Epoch: 0.00554507861379534\n",
            "Epoch 2/25 Done, Train Loss: 0.004541964389361618, Train Accuracy: 0.24602380952380953\n",
            "Time Elapsed for Epoch: 6.615562447000002 seconds\n",
            "Validation Loss: 0.002717707949202685 - Validation Accuracy: 0.2774285714285714\n",
            "Epoch 3 - Step: 50/84 - Average Loss for Epoch: 0.0016941644344478845\n",
            "Epoch 3/25 Done, Train Loss: 0.0015228118461978045, Train Accuracy: 0.4106904761904762\n",
            "Time Elapsed for Epoch: 6.7621500169999536 seconds\n",
            "Validation Loss: 0.0010827412534992966 - Validation Accuracy: 0.49342857142857144\n",
            "Epoch 4 - Step: 50/84 - Average Loss for Epoch: 0.0011741619161330164\n",
            "Epoch 4/25 Done, Train Loss: 0.001122818408129249, Train Accuracy: 0.47585714285714287\n",
            "Time Elapsed for Epoch: 6.911622552999916 seconds\n",
            "Validation Loss: 0.0008949485768209256 - Validation Accuracy: 0.530952380952381\n",
            "Epoch 5 - Step: 50/84 - Average Loss for Epoch: 0.0009411230019759387\n",
            "Epoch 5/25 Done, Train Loss: 0.0009042941341509245, Train Accuracy: 0.5225\n",
            "Time Elapsed for Epoch: 6.80006050999998 seconds\n",
            "Validation Loss: 0.0006943949099097933 - Validation Accuracy: 0.5712380952380952\n",
            "Epoch 6 - Step: 50/84 - Average Loss for Epoch: 0.0007545299269258976\n",
            "Epoch 6/25 Done, Train Loss: 0.0007065299294135045, Train Accuracy: 0.5701428571428572\n",
            "Time Elapsed for Epoch: 6.8908478329999525 seconds\n",
            "Validation Loss: 0.0004835129685012535 - Validation Accuracy: 0.6637142857142857\n",
            "Epoch 7 - Step: 50/84 - Average Loss for Epoch: 0.00057367934146896\n",
            "Epoch 7/25 Done, Train Loss: 0.0005427942631372606, Train Accuracy: 0.6242619047619048\n",
            "Time Elapsed for Epoch: 6.730216878999954 seconds\n",
            "Validation Loss: 0.00035398450563661754 - Validation Accuracy: 0.7334285714285714\n",
            "Epoch 8 - Step: 50/84 - Average Loss for Epoch: 0.0004680403386009857\n",
            "Epoch 8/25 Done, Train Loss: 0.0004612071899741533, Train Accuracy: 0.6568809523809523\n",
            "Time Elapsed for Epoch: 6.4764913849999175 seconds\n",
            "Validation Loss: 0.0003638351959775069 - Validation Accuracy: 0.7085714285714285\n",
            "Epoch 9 - Step: 50/84 - Average Loss for Epoch: 0.00043521764921024443\n",
            "Epoch 9/25 Done, Train Loss: 0.000404770444479904, Train Accuracy: 0.6974523809523809\n",
            "Time Elapsed for Epoch: 6.645350689999987 seconds\n",
            "Validation Loss: 0.00036691729716646176 - Validation Accuracy: 0.7098095238095238\n",
            "Epoch 10 - Step: 50/84 - Average Loss for Epoch: 0.00038493649393785747\n",
            "Epoch 10/25 Done, Train Loss: 0.0003764746482678068, Train Accuracy: 0.7101904761904761\n",
            "Time Elapsed for Epoch: 6.609351622999952 seconds\n",
            "Validation Loss: 0.0002497130903759084 - Validation Accuracy: 0.812\n",
            "Epoch 11 - Step: 50/84 - Average Loss for Epoch: 0.00032195847190450875\n",
            "Epoch 11/25 Done, Train Loss: 0.0003252204488879735, Train Accuracy: 0.7481190476190476\n",
            "Time Elapsed for Epoch: 6.442258527000035 seconds\n",
            "Validation Loss: 0.00022365580731448497 - Validation Accuracy: 0.8359047619047619\n",
            "Epoch 12 - Step: 50/84 - Average Loss for Epoch: 0.00031456602970138193\n",
            "Epoch 12/25 Done, Train Loss: 0.0003091482843349998, Train Accuracy: 0.7612142857142857\n",
            "Time Elapsed for Epoch: 6.627072926000096 seconds\n",
            "Validation Loss: 0.00020706055580549653 - Validation Accuracy: 0.8505714285714285\n",
            "Epoch 13 - Step: 50/84 - Average Loss for Epoch: 0.0003031020518392324\n",
            "Epoch 13/25 Done, Train Loss: 0.0002977112526423298, Train Accuracy: 0.7678809523809523\n",
            "Time Elapsed for Epoch: 6.662119232999885 seconds\n",
            "Validation Loss: 0.00027228458479623354 - Validation Accuracy: 0.785047619047619\n",
            "Epoch 14 - Step: 50/84 - Average Loss for Epoch: 0.0002860543128917925\n",
            "Epoch 14/25 Done, Train Loss: 0.00028245145187524726, Train Accuracy: 0.7838333333333334\n",
            "Time Elapsed for Epoch: 6.746892800000069 seconds\n",
            "Validation Loss: 0.00021220457399197455 - Validation Accuracy: 0.8403809523809523\n",
            "Epoch 15 - Step: 50/84 - Average Loss for Epoch: 0.0002906514779897407\n",
            "Epoch 15/25 Done, Train Loss: 0.00029061031662942175, Train Accuracy: 0.774952380952381\n",
            "Time Elapsed for Epoch: 6.686838336000164 seconds\n",
            "Validation Loss: 0.00022823146511135356 - Validation Accuracy: 0.8334285714285714\n",
            "Epoch 16 - Step: 50/84 - Average Loss for Epoch: 0.00025529862032271924\n",
            "Epoch 16/25 Done, Train Loss: 0.00025564785166699, Train Accuracy: 0.8030952380952381\n",
            "Time Elapsed for Epoch: 6.757072890000018 seconds\n",
            "Validation Loss: 0.0002098966284566337 - Validation Accuracy: 0.8411428571428572\n",
            "Epoch 17 - Step: 50/84 - Average Loss for Epoch: 0.00025911400211043657\n",
            "Epoch 17/25 Done, Train Loss: 0.00024852717268957, Train Accuracy: 0.8113809523809524\n",
            "Time Elapsed for Epoch: 6.744479060999993 seconds\n",
            "Validation Loss: 0.00015855380929895633 - Validation Accuracy: 0.8916190476190476\n",
            "Epoch 18 - Step: 50/84 - Average Loss for Epoch: 0.00023442632547812536\n",
            "Epoch 18/25 Done, Train Loss: 0.0002472068883348367, Train Accuracy: 0.8112619047619047\n",
            "Time Elapsed for Epoch: 6.733168663000015 seconds\n",
            "Validation Loss: 0.00019040986565717807 - Validation Accuracy: 0.8650476190476191\n",
            "Epoch 19 - Step: 50/84 - Average Loss for Epoch: 0.00023223045747727155\n",
            "Epoch 19/25 Done, Train Loss: 0.00022687922613667545, Train Accuracy: 0.8291190476190476\n",
            "Time Elapsed for Epoch: 6.780437562000088 seconds\n",
            "Validation Loss: 0.00015407927622575136 - Validation Accuracy: 0.8932380952380953\n",
            "Epoch 20 - Step: 50/84 - Average Loss for Epoch: 0.00019721608376130462\n",
            "Epoch 20/25 Done, Train Loss: 0.0001940133669926408, Train Accuracy: 0.8620238095238095\n",
            "Time Elapsed for Epoch: 6.7522008299999925 seconds\n",
            "Validation Loss: 0.00012285623199117946 - Validation Accuracy: 0.9283809523809524\n",
            "Epoch 21 - Step: 50/84 - Average Loss for Epoch: 0.00018746566958725453\n",
            "Epoch 21/25 Done, Train Loss: 0.00018666516483617236, Train Accuracy: 0.8688571428571429\n",
            "Time Elapsed for Epoch: 6.718838319000042 seconds\n",
            "Validation Loss: 0.00011572367587913981 - Validation Accuracy: 0.9315238095238095\n",
            "Epoch 22 - Step: 50/84 - Average Loss for Epoch: 0.00017858794773928822\n",
            "Epoch 22/25 Done, Train Loss: 0.00018268451683633473, Train Accuracy: 0.8709761904761905\n",
            "Time Elapsed for Epoch: 6.740508253999906 seconds\n",
            "Validation Loss: 0.00012743988883725943 - Validation Accuracy: 0.9295238095238095\n",
            "Epoch 23 - Step: 50/84 - Average Loss for Epoch: 0.00017485579126514495\n",
            "Epoch 23/25 Done, Train Loss: 0.00017453863914679025, Train Accuracy: 0.8785238095238095\n",
            "Time Elapsed for Epoch: 6.672599119999859 seconds\n",
            "Validation Loss: 9.89313228360732e-05 - Validation Accuracy: 0.9499047619047619\n",
            "Epoch 24 - Step: 50/84 - Average Loss for Epoch: 0.00015742263960419223\n",
            "Epoch 24/25 Done, Train Loss: 0.00015511646952723996, Train Accuracy: 0.9002380952380953\n",
            "Time Elapsed for Epoch: 6.704776462000154 seconds\n",
            "Validation Loss: 0.00011083491249120838 - Validation Accuracy: 0.9401904761904762\n",
            "Epoch 25 - Step: 50/84 - Average Loss for Epoch: 0.00017222031703568064\n",
            "Epoch 25/25 Done, Train Loss: 0.0001767845288192066, Train Accuracy: 0.8759761904761905\n",
            "Time Elapsed for Epoch: 6.712199187000124 seconds\n",
            "Validation Loss: 0.0001704622887440824 - Validation Accuracy: 0.8839047619047619\n"
          ]
        },
        {
          "output_type": "display_data",
          "data": {
            "text/plain": [
              "<Figure size 1080x864 with 1 Axes>"
            ],
            "image/png": "[encoded data removed]"
          },
          "metadata": {
            "needs_background": "light"
          }
        },
        {
          "output_type": "display_data",
          "data": {
            "text/plain": [
              "<Figure size 1080x864 with 1 Axes>"
            ],
            "image/png": "[encoded data removed]"
          },
          "metadata": {
            "needs_background": "light"
          }
        },
        {
          "output_type": "stream",
          "name": "stdout",
          "text": [
            "Total Training Time: 0 seconds\n"
          ]
        }
      ]
    },
    {
      "cell_type": "code",
      "execution_count": 34,
      "metadata": {
        "id": "Xrul5AgkST4t"
      },
      "outputs": [],
      "source": [
        "torch.save(lstm_model.state_dict(), \"./models/lstm_model.pt\")"
      ]
    },
    {
      "cell_type": "markdown",
      "metadata": {
        "id": "aUE7S7nSST4t"
      },
      "source": [
        "# Evaluating models\n"
      ]
    },
    {
      "cell_type": "code",
      "execution_count": 35,
      "metadata": {
        "id": "RcayTPqHST4t"
      },
      "outputs": [],
      "source": [
        "# move device to cpu for evaluation to avoid GPU memory run\n",
        "device = \"cpu\""
      ]
    },
    {
      "cell_type": "markdown",
      "metadata": {
        "id": "mpM7ljaDST4t"
      },
      "source": [
        "## Load the LSTM model"
      ]
    },
    {
      "cell_type": "code",
      "execution_count": 36,
      "metadata": {
        "id": "XxbXDu7GST4t",
        "colab": {
          "base_uri": "https://localhost:8080/"
        },
        "outputId": "74ed1a14-1dad-4cc8-a5c6-d6852c032e78"
      },
      "outputs": [
        {
          "output_type": "execute_result",
          "data": {
            "text/plain": [
              "<All keys matched successfully>"
            ]
          },
          "metadata": {},
          "execution_count": 36
        }
      ],
      "source": [
        "hidden_dim = 256\n",
        "input_dim = 5\n",
        "output_dim = 1\n",
        "n_layers = 2\n",
        "lstm_model = LSTMNet(input_dim, hidden_dim, output_dim, n_layers)\n",
        "lstm_model.load_state_dict(torch.load(\"./models/lstm_model.pt\"))"
      ]
    },
    {
      "cell_type": "code",
      "execution_count": 37,
      "metadata": {
        "id": "4ceQHX1pST4u",
        "colab": {
          "base_uri": "https://localhost:8080/"
        },
        "outputId": "56f95534-d76b-4989-8bc6-710a5d0bd0bb"
      },
      "outputs": [
        {
          "output_type": "execute_result",
          "data": {
            "text/plain": [
              "LSTMNet(\n",
              "  (lstm): LSTM(5, 256, num_layers=2, batch_first=True, dropout=0.2)\n",
              "  (fc): Linear(in_features=256, out_features=1, bias=True)\n",
              "  (relu): ReLU()\n",
              ")"
            ]
          },
          "metadata": {},
          "execution_count": 37
        }
      ],
      "source": [
        "# Move the model to the appropriate device\n",
        "lstm_model.to(device)"
      ]
    },
    {
      "cell_type": "markdown",
      "metadata": {
        "id": "sBY5PwcNST4u"
      },
      "source": [
        "## Model Evaluation\n",
        "\n"
      ]
    },
    {
      "cell_type": "code",
      "execution_count": 38,
      "metadata": {
        "id": "6r9-644rST4u"
      },
      "outputs": [],
      "source": [
        "def sMAPE(outputs, targets):\n",
        "    sMAPE = (100/ len(targets)* np.sum(np.abs(outputs - targets) / (np.abs(outputs + targets)) / 2))\n",
        "    return sMAPE"
      ]
    },
    {
      "cell_type": "code",
      "source": [
        "def mean_absolute_percentage_error(targets, outputs): \n",
        "    targets, outputs = np.array(targets), np.array(outputs)\n",
        "    MAPE = np.mean(np.abs((targets - outputs) / targets)) * 100\n",
        "    return MAPE"
      ],
      "metadata": {
        "id": "41mxuYRIJ9Yz"
      },
      "execution_count": 39,
      "outputs": []
    },
    {
      "cell_type": "code",
      "source": [
        "def mean_absolute_error(targets, outputs):\n",
        "    targets, outputs = np.array(targets), np.array(outputs)\n",
        "    MAE = np.mean(np.abs(outputs - targets))\n",
        "    return MAE"
      ],
      "metadata": {
        "id": "8if0Z9hPMpVH"
      },
      "execution_count": 40,
      "outputs": []
    },
    {
      "cell_type": "code",
      "execution_count": 41,
      "metadata": {
        "id": "jaxGqjkZST4u"
      },
      "outputs": [],
      "source": [
        "def evaluate(model, test_x, test_y, label_scalers):\n",
        "    model.eval()\n",
        "    outputs = []\n",
        "    targets = []\n",
        "    start_time = time.process_time()\n",
        "    # get data of test data\n",
        "    for file in test_x.keys():\n",
        "        inputs = torch.from_numpy(np.array(test_x[file]))\n",
        "        labels = torch.from_numpy(np.array(test_y[file]))\n",
        "\n",
        "        h = model.init_hidden(inputs.shape[0])\n",
        "\n",
        "        # predict outputs\n",
        "        with torch.no_grad():\n",
        "            out, h = model(inputs.to(device).float(), h)\n",
        "\n",
        "        outputs.append(\n",
        "            label_scalers[file]\n",
        "            .inverse_transform(out.cpu().detach().numpy())\n",
        "            .reshape(-1)\n",
        "        )\n",
        "\n",
        "        targets.append(\n",
        "            label_scalers[file].inverse_transform(labels.numpy()).reshape(-1)\n",
        "        )\n",
        "\n",
        "    # Merge all files\n",
        "    concatenated_outputs = np.concatenate(outputs)\n",
        "    concatenated_targets = np.concatenate(targets)\n",
        "\n",
        "    print(f\"Evaluation Time: {time.process_time()-start_time}\")\n",
        "    print(f\"sMAPE: {round(sMAPE(concatenated_outputs, concatenated_targets), 3)}%\")\n",
        "    print(f\"MAPE: {round(mean_absolute_percentage_error(concatenated_outputs, concatenated_targets), 3)}%\")\n",
        "    print(f\"MAE: {round(mean_absolute_error(concatenated_outputs, concatenated_targets), 2)}\")\n",
        "\n",
        "    # list of of targets/outputs for each state\n",
        "    return outputs, targets, sMAPE"
      ]
    },
    {
      "cell_type": "markdown",
      "metadata": {
        "id": "dMuJOdZbST4u"
      },
      "source": [
        "## Evaluate performance of LSTM"
      ]
    },
    {
      "cell_type": "code",
      "execution_count": 42,
      "metadata": {
        "id": "AwD0yF9yST4v",
        "colab": {
          "base_uri": "https://localhost:8080/"
        },
        "outputId": "4a767b5e-73fb-49a1-f09d-5148bdaea4ae"
      },
      "outputs": [
        {
          "output_type": "stream",
          "name": "stdout",
          "text": [
            "Evaluation Time: 15.33056644300018\n",
            "sMAPE: 0.36%\n",
            "MAPE: 1.452%\n",
            "MAE: 6629.69\n"
          ]
        }
      ],
      "source": [
        "lstm_outputs, targets, lstm_sMAPE = evaluate(lstm_model, test_x, test_y, label_scalers)"
      ]
    },
    {
      "cell_type": "code",
      "execution_count": 43,
      "metadata": {
        "id": "jp8XBpaUST4v",
        "colab": {
          "base_uri": "https://localhost:8080/"
        },
        "outputId": "6e6e2eae-e854-4505-9577-2d59d7ec5d84"
      },
      "outputs": [
        {
          "output_type": "execute_result",
          "data": {
            "text/plain": [
              "1"
            ]
          },
          "metadata": {},
          "execution_count": 43
        }
      ],
      "source": [
        "len(\n",
        "    lstm_outputs\n",
        ")  # list of predicted output file "
      ]
    },
    {
      "cell_type": "code",
      "execution_count": 44,
      "metadata": {
        "id": "-mkAXercST4v"
      },
      "outputs": [],
      "source": [
        "states_list = list(test_x.keys())"
      ]
    },
    {
      "cell_type": "code",
      "execution_count": 45,
      "metadata": {
        "id": "rnVALvFPST4v",
        "colab": {
          "base_uri": "https://localhost:8080/"
        },
        "outputId": "1e2e2380-796d-4b79-cab4-21344c72468c"
      },
      "outputs": [
        {
          "output_type": "execute_result",
          "data": {
            "text/plain": [
              "['Demand for United States Lower 48 (region) hourly - UTC time.csv']"
            ]
          },
          "metadata": {},
          "execution_count": 45
        }
      ],
      "source": [
        "states_list"
      ]
    },
    {
      "cell_type": "code",
      "execution_count": 46,
      "metadata": {
        "id": "fzakCulbST4v",
        "colab": {
          "base_uri": "https://localhost:8080/",
          "height": 377
        },
        "outputId": "efe54c62-a74c-4416-dc86-de976535f697"
      },
      "outputs": [
        {
          "output_type": "execute_result",
          "data": {
            "text/plain": [
              "<matplotlib.legend.Legend at 0x7f04d1eeaf70>"
            ]
          },
          "metadata": {},
          "execution_count": 46
        },
        {
          "output_type": "display_data",
          "data": {
            "text/plain": [
              "<Figure size 1080x864 with 1 Axes>"
            ],
            "image/png": "[encoded data removed]"
          },
          "metadata": {
            "needs_background": "light"
          }
        }
      ],
      "source": [
        "plt.figure(figsize=(15, 12))\n",
        "plt.subplot(2, 2, 1)\n",
        "plt.plot(\n",
        "    lstm_outputs[0][-100:], \"-o\", color=\"r\", label=\"LSTM Predictions\", markersize=2\n",
        ")\n",
        "plt.plot(targets[0][-100:], color=\"b\", label=\"Actual\")\n",
        "plt.ylabel(\"Energy Consumption (MW)\")\n",
        "plt.title(f\"Energy Consumption for {states_list[0]} state\")\n",
        "plt.legend()\n",
        "\n",
        "\n"
      ]
    }
  ],
  "metadata": {
    "kernelspec": {
      "display_name": "Python 3 (ipykernel)",
      "language": "python",
      "name": "python3"
    },
    "language_info": {
      "codemirror_mode": {
        "name": "ipython",
        "version": 3
      },
      "file_extension": ".py",
      "mimetype": "text/x-python",
      "name": "python",
      "nbconvert_exporter": "python",
      "pygments_lexer": "ipython3",
      "version": "3.7.10"
    },
    "varInspector": {
      "cols": {
        "lenName": 16,
        "lenType": 16,
        "lenVar": 40
      },
      "kernels_config": {
        "python": {
          "delete_cmd_postfix": "",
          "delete_cmd_prefix": "del ",
          "library": "var_list.py",
          "varRefreshCmd": "print(var_dic_list())"
        },
        "r": {
          "delete_cmd_postfix": ") ",
          "delete_cmd_prefix": "rm(",
          "library": "var_list.r",
          "varRefreshCmd": "cat(var_dic_list()) "
        }
      },
      "types_to_exclude": [
        "module",
        "function",
        "builtin_function_or_method",
        "instance",
        "_Feature"
      ],
      "window_display": false
    },
    "colab": {
      "provenance": []
    },
    "accelerator": "GPU",
    "gpuClass": "standard",
    "widgets": {
      "application/vnd.jupyter.widget-state+json": {
        "3a2fb967cdde49e1ab7ce1b2a1661fed": {
          "model_module": "@jupyter-widgets/controls",
          "model_name": "HBoxModel",
          "model_module_version": "1.5.0",
          "state": {
            "_dom_classes": [],
            "_model_module": "@jupyter-widgets/controls",
            "_model_module_version": "1.5.0",
            "_model_name": "HBoxModel",
            "_view_count": null,
            "_view_module": "@jupyter-widgets/controls",
            "_view_module_version": "1.5.0",
            "_view_name": "HBoxView",
            "box_style": "",
            "children": [
              "IPY_MODEL_3e0edb2eb1a44f03b99ff1ac600b628c",
              "IPY_MODEL_b072833083f54ea0859eb59f41ddf508",
              "IPY_MODEL_5c4818e470ba44a9946f0fdd81ded1ce"
            ],
            "layout": "IPY_MODEL_14e6d25497ea4ee28a5677c14bee896f"
          }
        },
        "3e0edb2eb1a44f03b99ff1ac600b628c": {
          "model_module": "@jupyter-widgets/controls",
          "model_name": "HTMLModel",
          "model_module_version": "1.5.0",
          "state": {
            "_dom_classes": [],
            "_model_module": "@jupyter-widgets/controls",
            "_model_module_version": "1.5.0",
            "_model_name": "HTMLModel",
            "_view_count": null,
            "_view_module": "@jupyter-widgets/controls",
            "_view_module_version": "1.5.0",
            "_view_name": "HTMLView",
            "description": "",
            "description_tooltip": null,
            "layout": "IPY_MODEL_e3440b1314f542f6984b55eb1b42453f",
            "placeholder": "​",
            "style": "IPY_MODEL_be30a7519bd541ed8676988b97dd1619",
            "value": "100%"
          }
        },
        "b072833083f54ea0859eb59f41ddf508": {
          "model_module": "@jupyter-widgets/controls",
          "model_name": "FloatProgressModel",
          "model_module_version": "1.5.0",
          "state": {
            "_dom_classes": [],
            "_model_module": "@jupyter-widgets/controls",
            "_model_module_version": "1.5.0",
            "_model_name": "FloatProgressModel",
            "_view_count": null,
            "_view_module": "@jupyter-widgets/controls",
            "_view_module_version": "1.5.0",
            "_view_name": "ProgressView",
            "bar_style": "success",
            "description": "",
            "description_tooltip": null,
            "layout": "IPY_MODEL_f42af9c5126f4212857e96e45be82b9c",
            "max": 1,
            "min": 0,
            "orientation": "horizontal",
            "style": "IPY_MODEL_3885b8a8770146f7becb3e268124837d",
            "value": 1
          }
        },
        "5c4818e470ba44a9946f0fdd81ded1ce": {
          "model_module": "@jupyter-widgets/controls",
          "model_name": "HTMLModel",
          "model_module_version": "1.5.0",
          "state": {
            "_dom_classes": [],
            "_model_module": "@jupyter-widgets/controls",
            "_model_module_version": "1.5.0",
            "_model_name": "HTMLModel",
            "_view_count": null,
            "_view_module": "@jupyter-widgets/controls",
            "_view_module_version": "1.5.0",
            "_view_name": "HTMLView",
            "description": "",
            "description_tooltip": null,
            "layout": "IPY_MODEL_a8d6db0df4e4478394d13a508827f273",
            "placeholder": "​",
            "style": "IPY_MODEL_644858066f5e4aba80e6dcd0ad664fbd",
            "value": " 1/1 [00:04&lt;00:00,  4.39s/it]"
          }
        },
        "14e6d25497ea4ee28a5677c14bee896f": {
          "model_module": "@jupyter-widgets/base",
          "model_name": "LayoutModel",
          "model_module_version": "1.2.0",
          "state": {
            "_model_module": "@jupyter-widgets/base",
            "_model_module_version": "1.2.0",
            "_model_name": "LayoutModel",
            "_view_count": null,
            "_view_module": "@jupyter-widgets/base",
            "_view_module_version": "1.2.0",
            "_view_name": "LayoutView",
            "align_content": null,
            "align_items": null,
            "align_self": null,
            "border": null,
            "bottom": null,
            "display": null,
            "flex": null,
            "flex_flow": null,
            "grid_area": null,
            "grid_auto_columns": null,
            "grid_auto_flow": null,
            "grid_auto_rows": null,
            "grid_column": null,
            "grid_gap": null,
            "grid_row": null,
            "grid_template_areas": null,
            "grid_template_columns": null,
            "grid_template_rows": null,
            "height": null,
            "justify_content": null,
            "justify_items": null,
            "left": null,
            "margin": null,
            "max_height": null,
            "max_width": null,
            "min_height": null,
            "min_width": null,
            "object_fit": null,
            "object_position": null,
            "order": null,
            "overflow": null,
            "overflow_x": null,
            "overflow_y": null,
            "padding": null,
            "right": null,
            "top": null,
            "visibility": null,
            "width": null
          }
        },
        "e3440b1314f542f6984b55eb1b42453f": {
          "model_module": "@jupyter-widgets/base",
          "model_name": "LayoutModel",
          "model_module_version": "1.2.0",
          "state": {
            "_model_module": "@jupyter-widgets/base",
            "_model_module_version": "1.2.0",
            "_model_name": "LayoutModel",
            "_view_count": null,
            "_view_module": "@jupyter-widgets/base",
            "_view_module_version": "1.2.0",
            "_view_name": "LayoutView",
            "align_content": null,
            "align_items": null,
            "align_self": null,
            "border": null,
            "bottom": null,
            "display": null,
            "flex": null,
            "flex_flow": null,
            "grid_area": null,
            "grid_auto_columns": null,
            "grid_auto_flow": null,
            "grid_auto_rows": null,
            "grid_column": null,
            "grid_gap": null,
            "grid_row": null,
            "grid_template_areas": null,
            "grid_template_columns": null,
            "grid_template_rows": null,
            "height": null,
            "justify_content": null,
            "justify_items": null,
            "left": null,
            "margin": null,
            "max_height": null,
            "max_width": null,
            "min_height": null,
            "min_width": null,
            "object_fit": null,
            "object_position": null,
            "order": null,
            "overflow": null,
            "overflow_x": null,
            "overflow_y": null,
            "padding": null,
            "right": null,
            "top": null,
            "visibility": null,
            "width": null
          }
        },
        "be30a7519bd541ed8676988b97dd1619": {
          "model_module": "@jupyter-widgets/controls",
          "model_name": "DescriptionStyleModel",
          "model_module_version": "1.5.0",
          "state": {
            "_model_module": "@jupyter-widgets/controls",
            "_model_module_version": "1.5.0",
            "_model_name": "DescriptionStyleModel",
            "_view_count": null,
            "_view_module": "@jupyter-widgets/base",
            "_view_module_version": "1.2.0",
            "_view_name": "StyleView",
            "description_width": ""
          }
        },
        "f42af9c5126f4212857e96e45be82b9c": {
          "model_module": "@jupyter-widgets/base",
          "model_name": "LayoutModel",
          "model_module_version": "1.2.0",
          "state": {
            "_model_module": "@jupyter-widgets/base",
            "_model_module_version": "1.2.0",
            "_model_name": "LayoutModel",
            "_view_count": null,
            "_view_module": "@jupyter-widgets/base",
            "_view_module_version": "1.2.0",
            "_view_name": "LayoutView",
            "align_content": null,
            "align_items": null,
            "align_self": null,
            "border": null,
            "bottom": null,
            "display": null,
            "flex": null,
            "flex_flow": null,
            "grid_area": null,
            "grid_auto_columns": null,
            "grid_auto_flow": null,
            "grid_auto_rows": null,
            "grid_column": null,
            "grid_gap": null,
            "grid_row": null,
            "grid_template_areas": null,
            "grid_template_columns": null,
            "grid_template_rows": null,
            "height": null,
            "justify_content": null,
            "justify_items": null,
            "left": null,
            "margin": null,
            "max_height": null,
            "max_width": null,
            "min_height": null,
            "min_width": null,
            "object_fit": null,
            "object_position": null,
            "order": null,
            "overflow": null,
            "overflow_x": null,
            "overflow_y": null,
            "padding": null,
            "right": null,
            "top": null,
            "visibility": null,
            "width": null
          }
        },
        "3885b8a8770146f7becb3e268124837d": {
          "model_module": "@jupyter-widgets/controls",
          "model_name": "ProgressStyleModel",
          "model_module_version": "1.5.0",
          "state": {
            "_model_module": "@jupyter-widgets/controls",
            "_model_module_version": "1.5.0",
            "_model_name": "ProgressStyleModel",
            "_view_count": null,
            "_view_module": "@jupyter-widgets/base",
            "_view_module_version": "1.2.0",
            "_view_name": "StyleView",
            "bar_color": null,
            "description_width": ""
          }
        },
        "a8d6db0df4e4478394d13a508827f273": {
          "model_module": "@jupyter-widgets/base",
          "model_name": "LayoutModel",
          "model_module_version": "1.2.0",
          "state": {
            "_model_module": "@jupyter-widgets/base",
            "_model_module_version": "1.2.0",
            "_model_name": "LayoutModel",
            "_view_count": null,
            "_view_module": "@jupyter-widgets/base",
            "_view_module_version": "1.2.0",
            "_view_name": "LayoutView",
            "align_content": null,
            "align_items": null,
            "align_self": null,
            "border": null,
            "bottom": null,
            "display": null,
            "flex": null,
            "flex_flow": null,
            "grid_area": null,
            "grid_auto_columns": null,
            "grid_auto_flow": null,
            "grid_auto_rows": null,
            "grid_column": null,
            "grid_gap": null,
            "grid_row": null,
            "grid_template_areas": null,
            "grid_template_columns": null,
            "grid_template_rows": null,
            "height": null,
            "justify_content": null,
            "justify_items": null,
            "left": null,
            "margin": null,
            "max_height": null,
            "max_width": null,
            "min_height": null,
            "min_width": null,
            "object_fit": null,
            "object_position": null,
            "order": null,
            "overflow": null,
            "overflow_x": null,
            "overflow_y": null,
            "padding": null,
            "right": null,
            "top": null,
            "visibility": null,
            "width": null
          }
        },
        "644858066f5e4aba80e6dcd0ad664fbd": {
          "model_module": "@jupyter-widgets/controls",
          "model_name": "DescriptionStyleModel",
          "model_module_version": "1.5.0",
          "state": {
            "_model_module": "@jupyter-widgets/controls",
            "_model_module_version": "1.5.0",
            "_model_name": "DescriptionStyleModel",
            "_view_count": null,
            "_view_module": "@jupyter-widgets/base",
            "_view_module_version": "1.2.0",
            "_view_name": "StyleView",
            "description_width": ""
          }
        }
      }
    }
  },
  "nbformat": 4,
  "nbformat_minor": 0
}
