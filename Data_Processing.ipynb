{
  "nbformat": 4,
  "nbformat_minor": 0,
  "metadata": {
    "colab": {
      "provenance": [],
      "authorship_tag": "ABX9TyOFzHwmIeOxTonryfWNhfvO",
      "include_colab_link": true
    },
    "kernelspec": {
      "name": "python3",
      "display_name": "Python 3"
    },
    "language_info": {
      "name": "python"
    },
    "accelerator": "GPU",
    "gpuClass": "standard"
  },
  "cells": [
    {
      "cell_type": "markdown",
      "metadata": {
        "id": "view-in-github",
        "colab_type": "text"
      },
      "source": [
        "<a href=\"https://colab.research.google.com/github/j-ranasinghe/Electricity-consumption-forecasting/blob/main/Data_Processing.ipynb\" target=\"_parent\"><img src=\"https://colab.research.google.com/assets/colab-badge.svg\" alt=\"Open In Colab\"/></a>"
      ]
    },
    {
      "cell_type": "code",
      "execution_count": 63,
      "metadata": {
        "id": "Tx8YtsI9j46G"
      },
      "outputs": [],
      "source": [
        "import os\n",
        "import time\n",
        "import matplotlib.pyplot as plt\n",
        "import pandas as pd\n",
        "import numpy as np\n",
        "from sklearn.preprocessing import OneHotEncoder\n",
        "from sklearn.preprocessing import MinMaxScaler\n",
        "from sklearn.preprocessing import LabelEncoder\n",
        "import torch\n",
        "import torch.nn as nn\n",
        "from torch.utils.data import TensorDataset, DataLoader\n",
        "from tqdm.notebook import tqdm as tqdm_notebook"
      ]
    },
    {
      "cell_type": "code",
      "source": [
        "cols = [\"ACCOUNT_NO\",\"DATE\",\"SALES_TYPE\",\"BILL\",\"UNIT\"]\n",
        "df = pd.read_csv(\"/content/data/data kelaniya-DESKTOP-CPVCTNE.csv\", header=0, names=cols)\n",
        "file = \"/content/data/data kelaniya-DESKTOP-CPVCTNE.csv\""
      ],
      "metadata": {
        "id": "Oc-U7jCFknLv"
      },
      "execution_count": 89,
      "outputs": []
    },
    {
      "cell_type": "code",
      "source": [
        "df.head()"
      ],
      "metadata": {
        "colab": {
          "base_uri": "https://localhost:8080/",
          "height": 206
        },
        "id": "5t0TIbbtl652",
        "outputId": "5294e634-1e3a-45df-992f-549bb89e2f0d"
      },
      "execution_count": 90,
      "outputs": [
        {
          "output_type": "execute_result",
          "data": {
            "text/plain": [
              "   ACCOUNT_NO       DATE SALES_TYPE      BILL  UNIT\n",
              "0   207180402  12/1/2022          C   1704.00    84\n",
              "1   204083110  12/1/2022          C   9840.00   212\n",
              "2   204083011  12/1/2022          C  12123.43   242\n",
              "3   204083209  12/1/2022          C   4133.71   119\n",
              "4   208707807  12/1/2022          C   6120.32   163"
            ],
            "text/html": [
              "\n",
              "  <div id=\"df-ac5ab321-1c0e-4aa4-8832-68580627afd7\">\n",
              "    <div class=\"colab-df-container\">\n",
              "      <div>\n",
              "<style scoped>\n",
              "    .dataframe tbody tr th:only-of-type {\n",
              "        vertical-align: middle;\n",
              "    }\n",
              "\n",
              "    .dataframe tbody tr th {\n",
              "        vertical-align: top;\n",
              "    }\n",
              "\n",
              "    .dataframe thead th {\n",
              "        text-align: right;\n",
              "    }\n",
              "</style>\n",
              "<table border=\"1\" class=\"dataframe\">\n",
              "  <thead>\n",
              "    <tr style=\"text-align: right;\">\n",
              "      <th></th>\n",
              "      <th>ACCOUNT_NO</th>\n",
              "      <th>DATE</th>\n",
              "      <th>SALES_TYPE</th>\n",
              "      <th>BILL</th>\n",
              "      <th>UNIT</th>\n",
              "    </tr>\n",
              "  </thead>\n",
              "  <tbody>\n",
              "    <tr>\n",
              "      <th>0</th>\n",
              "      <td>207180402</td>\n",
              "      <td>12/1/2022</td>\n",
              "      <td>C</td>\n",
              "      <td>1704.00</td>\n",
              "      <td>84</td>\n",
              "    </tr>\n",
              "    <tr>\n",
              "      <th>1</th>\n",
              "      <td>204083110</td>\n",
              "      <td>12/1/2022</td>\n",
              "      <td>C</td>\n",
              "      <td>9840.00</td>\n",
              "      <td>212</td>\n",
              "    </tr>\n",
              "    <tr>\n",
              "      <th>2</th>\n",
              "      <td>204083011</td>\n",
              "      <td>12/1/2022</td>\n",
              "      <td>C</td>\n",
              "      <td>12123.43</td>\n",
              "      <td>242</td>\n",
              "    </tr>\n",
              "    <tr>\n",
              "      <th>3</th>\n",
              "      <td>204083209</td>\n",
              "      <td>12/1/2022</td>\n",
              "      <td>C</td>\n",
              "      <td>4133.71</td>\n",
              "      <td>119</td>\n",
              "    </tr>\n",
              "    <tr>\n",
              "      <th>4</th>\n",
              "      <td>208707807</td>\n",
              "      <td>12/1/2022</td>\n",
              "      <td>C</td>\n",
              "      <td>6120.32</td>\n",
              "      <td>163</td>\n",
              "    </tr>\n",
              "  </tbody>\n",
              "</table>\n",
              "</div>\n",
              "      <button class=\"colab-df-convert\" onclick=\"convertToInteractive('df-ac5ab321-1c0e-4aa4-8832-68580627afd7')\"\n",
              "              title=\"Convert this dataframe to an interactive table.\"\n",
              "              style=\"display:none;\">\n",
              "        \n",
              "  <svg xmlns=\"http://www.w3.org/2000/svg\" height=\"24px\"viewBox=\"0 0 24 24\"\n",
              "       width=\"24px\">\n",
              "    <path d=\"M0 0h24v24H0V0z\" fill=\"none\"/>\n",
              "    <path d=\"M18.56 5.44l.94 2.06.94-2.06 2.06-.94-2.06-.94-.94-2.06-.94 2.06-2.06.94zm-11 1L8.5 8.5l.94-2.06 2.06-.94-2.06-.94L8.5 2.5l-.94 2.06-2.06.94zm10 10l.94 2.06.94-2.06 2.06-.94-2.06-.94-.94-2.06-.94 2.06-2.06.94z\"/><path d=\"M17.41 7.96l-1.37-1.37c-.4-.4-.92-.59-1.43-.59-.52 0-1.04.2-1.43.59L10.3 9.45l-7.72 7.72c-.78.78-.78 2.05 0 2.83L4 21.41c.39.39.9.59 1.41.59.51 0 1.02-.2 1.41-.59l7.78-7.78 2.81-2.81c.8-.78.8-2.07 0-2.86zM5.41 20L4 18.59l7.72-7.72 1.47 1.35L5.41 20z\"/>\n",
              "  </svg>\n",
              "      </button>\n",
              "      \n",
              "  <style>\n",
              "    .colab-df-container {\n",
              "      display:flex;\n",
              "      flex-wrap:wrap;\n",
              "      gap: 12px;\n",
              "    }\n",
              "\n",
              "    .colab-df-convert {\n",
              "      background-color: #E8F0FE;\n",
              "      border: none;\n",
              "      border-radius: 50%;\n",
              "      cursor: pointer;\n",
              "      display: none;\n",
              "      fill: #1967D2;\n",
              "      height: 32px;\n",
              "      padding: 0 0 0 0;\n",
              "      width: 32px;\n",
              "    }\n",
              "\n",
              "    .colab-df-convert:hover {\n",
              "      background-color: #E2EBFA;\n",
              "      box-shadow: 0px 1px 2px rgba(60, 64, 67, 0.3), 0px 1px 3px 1px rgba(60, 64, 67, 0.15);\n",
              "      fill: #174EA6;\n",
              "    }\n",
              "\n",
              "    [theme=dark] .colab-df-convert {\n",
              "      background-color: #3B4455;\n",
              "      fill: #D2E3FC;\n",
              "    }\n",
              "\n",
              "    [theme=dark] .colab-df-convert:hover {\n",
              "      background-color: #434B5C;\n",
              "      box-shadow: 0px 1px 3px 1px rgba(0, 0, 0, 0.15);\n",
              "      filter: drop-shadow(0px 1px 2px rgba(0, 0, 0, 0.3));\n",
              "      fill: #FFFFFF;\n",
              "    }\n",
              "  </style>\n",
              "\n",
              "      <script>\n",
              "        const buttonEl =\n",
              "          document.querySelector('#df-ac5ab321-1c0e-4aa4-8832-68580627afd7 button.colab-df-convert');\n",
              "        buttonEl.style.display =\n",
              "          google.colab.kernel.accessAllowed ? 'block' : 'none';\n",
              "\n",
              "        async function convertToInteractive(key) {\n",
              "          const element = document.querySelector('#df-ac5ab321-1c0e-4aa4-8832-68580627afd7');\n",
              "          const dataTable =\n",
              "            await google.colab.kernel.invokeFunction('convertToInteractive',\n",
              "                                                     [key], {});\n",
              "          if (!dataTable) return;\n",
              "\n",
              "          const docLinkHtml = 'Like what you see? Visit the ' +\n",
              "            '<a target=\"_blank\" href=https://colab.research.google.com/notebooks/data_table.ipynb>data table notebook</a>'\n",
              "            + ' to learn more about interactive tables.';\n",
              "          element.innerHTML = '';\n",
              "          dataTable['output_type'] = 'display_data';\n",
              "          await google.colab.output.renderOutput(dataTable, element);\n",
              "          const docLink = document.createElement('div');\n",
              "          docLink.innerHTML = docLinkHtml;\n",
              "          element.appendChild(docLink);\n",
              "        }\n",
              "      </script>\n",
              "    </div>\n",
              "  </div>\n",
              "  "
            ]
          },
          "metadata": {},
          "execution_count": 90
        }
      ]
    },
    {
      "cell_type": "code",
      "source": [
        "df.shape #Check the shape of the dataset"
      ],
      "metadata": {
        "colab": {
          "base_uri": "https://localhost:8080/"
        },
        "id": "ANp7lKy4k1__",
        "outputId": "8720338e-b958-4bfc-f760-4cce0ae38576"
      },
      "execution_count": 91,
      "outputs": [
        {
          "output_type": "execute_result",
          "data": {
            "text/plain": [
              "(344051, 5)"
            ]
          },
          "metadata": {},
          "execution_count": 91
        }
      ]
    },
    {
      "cell_type": "code",
      "source": [
        "df[\"UNIT\"] = df[\"UNIT\"].astype(float)\n",
        "df[\"BILL\"] = df[\"BILL\"].astype(float)\n",
        "df[\"ACCOUNT_NO\"] = df[\"ACCOUNT_NO\"].astype(float)"
      ],
      "metadata": {
        "id": "uRh_nooBANAq"
      },
      "execution_count": 92,
      "outputs": []
    },
    {
      "cell_type": "code",
      "source": [
        "df.dtypes"
      ],
      "metadata": {
        "colab": {
          "base_uri": "https://localhost:8080/"
        },
        "id": "8PpRMP7GBBkZ",
        "outputId": "4f70cb32-afde-4246-ad5a-11efcf2fabc9"
      },
      "execution_count": 93,
      "outputs": [
        {
          "output_type": "execute_result",
          "data": {
            "text/plain": [
              "ACCOUNT_NO    float64\n",
              "DATE           object\n",
              "SALES_TYPE     object\n",
              "BILL          float64\n",
              "UNIT          float64\n",
              "dtype: object"
            ]
          },
          "metadata": {},
          "execution_count": 93
        }
      ]
    },
    {
      "cell_type": "code",
      "source": [
        "df.describe()"
      ],
      "metadata": {
        "colab": {
          "base_uri": "https://localhost:8080/",
          "height": 300
        },
        "id": "fhtO27OsCmw4",
        "outputId": "bdc9cb32-83bf-4df6-b440-aac70d9ab9bd"
      },
      "execution_count": 94,
      "outputs": [
        {
          "output_type": "execute_result",
          "data": {
            "text/plain": [
              "         ACCOUNT_NO          BILL           UNIT\n",
              "count  3.440510e+05  3.440510e+05  344051.000000\n",
              "mean   2.056564e+08  8.367139e+03     252.687552\n",
              "std    3.249326e+06  1.026749e+05    3265.513837\n",
              "min    2.000001e+08  0.000000e+00   -7550.000000\n",
              "25%    2.028522e+08  7.754000e+02      54.000000\n",
              "50%    2.056149e+08  2.604000e+03      97.000000\n",
              "75%    2.085322e+08  5.149860e+03     151.000000\n",
              "max    2.112482e+08  1.181568e+07  385572.000000"
            ],
            "text/html": [
              "\n",
              "  <div id=\"df-eedec62e-dc48-4545-9175-5675263ea08e\">\n",
              "    <div class=\"colab-df-container\">\n",
              "      <div>\n",
              "<style scoped>\n",
              "    .dataframe tbody tr th:only-of-type {\n",
              "        vertical-align: middle;\n",
              "    }\n",
              "\n",
              "    .dataframe tbody tr th {\n",
              "        vertical-align: top;\n",
              "    }\n",
              "\n",
              "    .dataframe thead th {\n",
              "        text-align: right;\n",
              "    }\n",
              "</style>\n",
              "<table border=\"1\" class=\"dataframe\">\n",
              "  <thead>\n",
              "    <tr style=\"text-align: right;\">\n",
              "      <th></th>\n",
              "      <th>ACCOUNT_NO</th>\n",
              "      <th>BILL</th>\n",
              "      <th>UNIT</th>\n",
              "    </tr>\n",
              "  </thead>\n",
              "  <tbody>\n",
              "    <tr>\n",
              "      <th>count</th>\n",
              "      <td>3.440510e+05</td>\n",
              "      <td>3.440510e+05</td>\n",
              "      <td>344051.000000</td>\n",
              "    </tr>\n",
              "    <tr>\n",
              "      <th>mean</th>\n",
              "      <td>2.056564e+08</td>\n",
              "      <td>8.367139e+03</td>\n",
              "      <td>252.687552</td>\n",
              "    </tr>\n",
              "    <tr>\n",
              "      <th>std</th>\n",
              "      <td>3.249326e+06</td>\n",
              "      <td>1.026749e+05</td>\n",
              "      <td>3265.513837</td>\n",
              "    </tr>\n",
              "    <tr>\n",
              "      <th>min</th>\n",
              "      <td>2.000001e+08</td>\n",
              "      <td>0.000000e+00</td>\n",
              "      <td>-7550.000000</td>\n",
              "    </tr>\n",
              "    <tr>\n",
              "      <th>25%</th>\n",
              "      <td>2.028522e+08</td>\n",
              "      <td>7.754000e+02</td>\n",
              "      <td>54.000000</td>\n",
              "    </tr>\n",
              "    <tr>\n",
              "      <th>50%</th>\n",
              "      <td>2.056149e+08</td>\n",
              "      <td>2.604000e+03</td>\n",
              "      <td>97.000000</td>\n",
              "    </tr>\n",
              "    <tr>\n",
              "      <th>75%</th>\n",
              "      <td>2.085322e+08</td>\n",
              "      <td>5.149860e+03</td>\n",
              "      <td>151.000000</td>\n",
              "    </tr>\n",
              "    <tr>\n",
              "      <th>max</th>\n",
              "      <td>2.112482e+08</td>\n",
              "      <td>1.181568e+07</td>\n",
              "      <td>385572.000000</td>\n",
              "    </tr>\n",
              "  </tbody>\n",
              "</table>\n",
              "</div>\n",
              "      <button class=\"colab-df-convert\" onclick=\"convertToInteractive('df-eedec62e-dc48-4545-9175-5675263ea08e')\"\n",
              "              title=\"Convert this dataframe to an interactive table.\"\n",
              "              style=\"display:none;\">\n",
              "        \n",
              "  <svg xmlns=\"http://www.w3.org/2000/svg\" height=\"24px\"viewBox=\"0 0 24 24\"\n",
              "       width=\"24px\">\n",
              "    <path d=\"M0 0h24v24H0V0z\" fill=\"none\"/>\n",
              "    <path d=\"M18.56 5.44l.94 2.06.94-2.06 2.06-.94-2.06-.94-.94-2.06-.94 2.06-2.06.94zm-11 1L8.5 8.5l.94-2.06 2.06-.94-2.06-.94L8.5 2.5l-.94 2.06-2.06.94zm10 10l.94 2.06.94-2.06 2.06-.94-2.06-.94-.94-2.06-.94 2.06-2.06.94z\"/><path d=\"M17.41 7.96l-1.37-1.37c-.4-.4-.92-.59-1.43-.59-.52 0-1.04.2-1.43.59L10.3 9.45l-7.72 7.72c-.78.78-.78 2.05 0 2.83L4 21.41c.39.39.9.59 1.41.59.51 0 1.02-.2 1.41-.59l7.78-7.78 2.81-2.81c.8-.78.8-2.07 0-2.86zM5.41 20L4 18.59l7.72-7.72 1.47 1.35L5.41 20z\"/>\n",
              "  </svg>\n",
              "      </button>\n",
              "      \n",
              "  <style>\n",
              "    .colab-df-container {\n",
              "      display:flex;\n",
              "      flex-wrap:wrap;\n",
              "      gap: 12px;\n",
              "    }\n",
              "\n",
              "    .colab-df-convert {\n",
              "      background-color: #E8F0FE;\n",
              "      border: none;\n",
              "      border-radius: 50%;\n",
              "      cursor: pointer;\n",
              "      display: none;\n",
              "      fill: #1967D2;\n",
              "      height: 32px;\n",
              "      padding: 0 0 0 0;\n",
              "      width: 32px;\n",
              "    }\n",
              "\n",
              "    .colab-df-convert:hover {\n",
              "      background-color: #E2EBFA;\n",
              "      box-shadow: 0px 1px 2px rgba(60, 64, 67, 0.3), 0px 1px 3px 1px rgba(60, 64, 67, 0.15);\n",
              "      fill: #174EA6;\n",
              "    }\n",
              "\n",
              "    [theme=dark] .colab-df-convert {\n",
              "      background-color: #3B4455;\n",
              "      fill: #D2E3FC;\n",
              "    }\n",
              "\n",
              "    [theme=dark] .colab-df-convert:hover {\n",
              "      background-color: #434B5C;\n",
              "      box-shadow: 0px 1px 3px 1px rgba(0, 0, 0, 0.15);\n",
              "      filter: drop-shadow(0px 1px 2px rgba(0, 0, 0, 0.3));\n",
              "      fill: #FFFFFF;\n",
              "    }\n",
              "  </style>\n",
              "\n",
              "      <script>\n",
              "        const buttonEl =\n",
              "          document.querySelector('#df-eedec62e-dc48-4545-9175-5675263ea08e button.colab-df-convert');\n",
              "        buttonEl.style.display =\n",
              "          google.colab.kernel.accessAllowed ? 'block' : 'none';\n",
              "\n",
              "        async function convertToInteractive(key) {\n",
              "          const element = document.querySelector('#df-eedec62e-dc48-4545-9175-5675263ea08e');\n",
              "          const dataTable =\n",
              "            await google.colab.kernel.invokeFunction('convertToInteractive',\n",
              "                                                     [key], {});\n",
              "          if (!dataTable) return;\n",
              "\n",
              "          const docLinkHtml = 'Like what you see? Visit the ' +\n",
              "            '<a target=\"_blank\" href=https://colab.research.google.com/notebooks/data_table.ipynb>data table notebook</a>'\n",
              "            + ' to learn more about interactive tables.';\n",
              "          element.innerHTML = '';\n",
              "          dataTable['output_type'] = 'display_data';\n",
              "          await google.colab.output.renderOutput(dataTable, element);\n",
              "          const docLink = document.createElement('div');\n",
              "          docLink.innerHTML = docLinkHtml;\n",
              "          element.appendChild(docLink);\n",
              "        }\n",
              "      </script>\n",
              "    </div>\n",
              "  </div>\n",
              "  "
            ]
          },
          "metadata": {},
          "execution_count": 94
        }
      ]
    },
    {
      "cell_type": "code",
      "source": [
        "df[\"DATE\"] = pd.to_datetime(df[\"DATE\"])\n",
        "df[\"MONTH\"] = df[\"DATE\"].dt.month\n",
        "df[\"YEAR\"] = df[\"DATE\"].dt.year\n",
        "df = df.sort_values(\"DATE\").drop(\"DATE\", axis=1)\n"
      ],
      "metadata": {
        "id": "U4RAZE0gBWOJ"
      },
      "execution_count": 95,
      "outputs": []
    },
    {
      "cell_type": "code",
      "source": [
        "# Extract the values for the \"SALES_TYPE\" column\n",
        "Sales_type_data= df['SALES_TYPE'].values\n",
        "# Create a LabelEncoder object\n",
        "encoder = LabelEncoder()\n",
        "\n",
        "# Fit the encoder to the sales type data\n",
        "encoder.fit(Sales_type_data)\n",
        "\n",
        "# Encode the location data\n",
        "encoded_sales_type = encoder.transform(Sales_type_data)\n",
        "df['SALES_TYPE'] =encoded_sales_type"
      ],
      "metadata": {
        "id": "rwlXrP31ISHc"
      },
      "execution_count": 96,
      "outputs": []
    },
    {
      "cell_type": "code",
      "source": [
        "    # Scaling the input data\n",
        "    sc = MinMaxScaler()\n",
        "    label_sc = MinMaxScaler()\n",
        "    data = sc.fit_transform(df.values)"
      ],
      "metadata": {
        "id": "9_Cf2DTQJIvk"
      },
      "execution_count": 97,
      "outputs": []
    },
    {
      "cell_type": "code",
      "source": [
        "df.head()"
      ],
      "metadata": {
        "colab": {
          "base_uri": "https://localhost:8080/",
          "height": 206
        },
        "id": "RrWJSn71G5EN",
        "outputId": "334e36f2-b4a6-44e3-82bd-5976114ed6aa"
      },
      "execution_count": 98,
      "outputs": [
        {
          "output_type": "execute_result",
          "data": {
            "text/plain": [
              "         ACCOUNT_NO  SALES_TYPE      BILL   UNIT  MONTH  YEAR\n",
              "172025  210733809.0           0    256.00   17.0      9  2022\n",
              "174332  203435210.0           0  32636.00  973.0      9  2022\n",
              "174333  203434407.0           0  11966.42  240.0      9  2022\n",
              "174334  203053103.0           0   1448.00   68.0      9  2022\n",
              "174335  209169202.0           0   1720.00   85.0      9  2022"
            ],
            "text/html": [
              "\n",
              "  <div id=\"df-cffd5f38-198b-4678-84a6-2a6608236427\">\n",
              "    <div class=\"colab-df-container\">\n",
              "      <div>\n",
              "<style scoped>\n",
              "    .dataframe tbody tr th:only-of-type {\n",
              "        vertical-align: middle;\n",
              "    }\n",
              "\n",
              "    .dataframe tbody tr th {\n",
              "        vertical-align: top;\n",
              "    }\n",
              "\n",
              "    .dataframe thead th {\n",
              "        text-align: right;\n",
              "    }\n",
              "</style>\n",
              "<table border=\"1\" class=\"dataframe\">\n",
              "  <thead>\n",
              "    <tr style=\"text-align: right;\">\n",
              "      <th></th>\n",
              "      <th>ACCOUNT_NO</th>\n",
              "      <th>SALES_TYPE</th>\n",
              "      <th>BILL</th>\n",
              "      <th>UNIT</th>\n",
              "      <th>MONTH</th>\n",
              "      <th>YEAR</th>\n",
              "    </tr>\n",
              "  </thead>\n",
              "  <tbody>\n",
              "    <tr>\n",
              "      <th>172025</th>\n",
              "      <td>210733809.0</td>\n",
              "      <td>0</td>\n",
              "      <td>256.00</td>\n",
              "      <td>17.0</td>\n",
              "      <td>9</td>\n",
              "      <td>2022</td>\n",
              "    </tr>\n",
              "    <tr>\n",
              "      <th>174332</th>\n",
              "      <td>203435210.0</td>\n",
              "      <td>0</td>\n",
              "      <td>32636.00</td>\n",
              "      <td>973.0</td>\n",
              "      <td>9</td>\n",
              "      <td>2022</td>\n",
              "    </tr>\n",
              "    <tr>\n",
              "      <th>174333</th>\n",
              "      <td>203434407.0</td>\n",
              "      <td>0</td>\n",
              "      <td>11966.42</td>\n",
              "      <td>240.0</td>\n",
              "      <td>9</td>\n",
              "      <td>2022</td>\n",
              "    </tr>\n",
              "    <tr>\n",
              "      <th>174334</th>\n",
              "      <td>203053103.0</td>\n",
              "      <td>0</td>\n",
              "      <td>1448.00</td>\n",
              "      <td>68.0</td>\n",
              "      <td>9</td>\n",
              "      <td>2022</td>\n",
              "    </tr>\n",
              "    <tr>\n",
              "      <th>174335</th>\n",
              "      <td>209169202.0</td>\n",
              "      <td>0</td>\n",
              "      <td>1720.00</td>\n",
              "      <td>85.0</td>\n",
              "      <td>9</td>\n",
              "      <td>2022</td>\n",
              "    </tr>\n",
              "  </tbody>\n",
              "</table>\n",
              "</div>\n",
              "      <button class=\"colab-df-convert\" onclick=\"convertToInteractive('df-cffd5f38-198b-4678-84a6-2a6608236427')\"\n",
              "              title=\"Convert this dataframe to an interactive table.\"\n",
              "              style=\"display:none;\">\n",
              "        \n",
              "  <svg xmlns=\"http://www.w3.org/2000/svg\" height=\"24px\"viewBox=\"0 0 24 24\"\n",
              "       width=\"24px\">\n",
              "    <path d=\"M0 0h24v24H0V0z\" fill=\"none\"/>\n",
              "    <path d=\"M18.56 5.44l.94 2.06.94-2.06 2.06-.94-2.06-.94-.94-2.06-.94 2.06-2.06.94zm-11 1L8.5 8.5l.94-2.06 2.06-.94-2.06-.94L8.5 2.5l-.94 2.06-2.06.94zm10 10l.94 2.06.94-2.06 2.06-.94-2.06-.94-.94-2.06-.94 2.06-2.06.94z\"/><path d=\"M17.41 7.96l-1.37-1.37c-.4-.4-.92-.59-1.43-.59-.52 0-1.04.2-1.43.59L10.3 9.45l-7.72 7.72c-.78.78-.78 2.05 0 2.83L4 21.41c.39.39.9.59 1.41.59.51 0 1.02-.2 1.41-.59l7.78-7.78 2.81-2.81c.8-.78.8-2.07 0-2.86zM5.41 20L4 18.59l7.72-7.72 1.47 1.35L5.41 20z\"/>\n",
              "  </svg>\n",
              "      </button>\n",
              "      \n",
              "  <style>\n",
              "    .colab-df-container {\n",
              "      display:flex;\n",
              "      flex-wrap:wrap;\n",
              "      gap: 12px;\n",
              "    }\n",
              "\n",
              "    .colab-df-convert {\n",
              "      background-color: #E8F0FE;\n",
              "      border: none;\n",
              "      border-radius: 50%;\n",
              "      cursor: pointer;\n",
              "      display: none;\n",
              "      fill: #1967D2;\n",
              "      height: 32px;\n",
              "      padding: 0 0 0 0;\n",
              "      width: 32px;\n",
              "    }\n",
              "\n",
              "    .colab-df-convert:hover {\n",
              "      background-color: #E2EBFA;\n",
              "      box-shadow: 0px 1px 2px rgba(60, 64, 67, 0.3), 0px 1px 3px 1px rgba(60, 64, 67, 0.15);\n",
              "      fill: #174EA6;\n",
              "    }\n",
              "\n",
              "    [theme=dark] .colab-df-convert {\n",
              "      background-color: #3B4455;\n",
              "      fill: #D2E3FC;\n",
              "    }\n",
              "\n",
              "    [theme=dark] .colab-df-convert:hover {\n",
              "      background-color: #434B5C;\n",
              "      box-shadow: 0px 1px 3px 1px rgba(0, 0, 0, 0.15);\n",
              "      filter: drop-shadow(0px 1px 2px rgba(0, 0, 0, 0.3));\n",
              "      fill: #FFFFFF;\n",
              "    }\n",
              "  </style>\n",
              "\n",
              "      <script>\n",
              "        const buttonEl =\n",
              "          document.querySelector('#df-cffd5f38-198b-4678-84a6-2a6608236427 button.colab-df-convert');\n",
              "        buttonEl.style.display =\n",
              "          google.colab.kernel.accessAllowed ? 'block' : 'none';\n",
              "\n",
              "        async function convertToInteractive(key) {\n",
              "          const element = document.querySelector('#df-cffd5f38-198b-4678-84a6-2a6608236427');\n",
              "          const dataTable =\n",
              "            await google.colab.kernel.invokeFunction('convertToInteractive',\n",
              "                                                     [key], {});\n",
              "          if (!dataTable) return;\n",
              "\n",
              "          const docLinkHtml = 'Like what you see? Visit the ' +\n",
              "            '<a target=\"_blank\" href=https://colab.research.google.com/notebooks/data_table.ipynb>data table notebook</a>'\n",
              "            + ' to learn more about interactive tables.';\n",
              "          element.innerHTML = '';\n",
              "          dataTable['output_type'] = 'display_data';\n",
              "          await google.colab.output.renderOutput(dataTable, element);\n",
              "          const docLink = document.createElement('div');\n",
              "          docLink.innerHTML = docLinkHtml;\n",
              "          element.appendChild(docLink);\n",
              "        }\n",
              "      </script>\n",
              "    </div>\n",
              "  </div>\n",
              "  "
            ]
          },
          "metadata": {},
          "execution_count": 98
        }
      ]
    },
    {
      "cell_type": "code",
      "source": [
        "def move_sliding_window(data, window_size, inputs_cols_indices, label_col_index):\n",
        "    \"\"\"\n",
        "    data: numpy array including data\n",
        "    window_size: size of window\n",
        "    inputs_cols_indices: col indices to include\n",
        "    \"\"\"\n",
        "\n",
        "    # (# instances created by movement, seq_len (timestamps), # features (input_len))\n",
        "    inputs = np.zeros((len(data) - window_size, window_size, len(inputs_cols_indices)))\n",
        "    labels = np.zeros(len(data) - window_size)\n",
        "\n",
        "    for i in range(window_size, len(data)):\n",
        "        inputs[i - window_size] = data[i - window_size : i, inputs_cols_indices]\n",
        "        labels[i - window_size] = data[i, label_col_index]\n",
        "    inputs = inputs.reshape(-1, window_size, len(inputs_cols_indices))\n",
        "    labels = labels.reshape(-1, 1)\n",
        "    print(inputs.shape, labels.shape)\n",
        "\n",
        "    return inputs, labels"
      ],
      "metadata": {
        "id": "rhp7IHK2WlTl"
      },
      "execution_count": 99,
      "outputs": []
    },
    {
      "cell_type": "code",
      "source": [
        "label_col_index = 3  # UNITS as label to predict\n",
        "inputs_cols_indices = range(6)  # use (\"ACCOUNT_NO\",\"DATE\",\"SALES_TYPE\",\"BILL\",\"UNIT\") columns as features\n",
        "\n",
        "# Define window_size period and split inputs/labels\n",
        "window_size = 30\n",
        "\n",
        "# The scaler objects will be stored in this dictionary so that our output test data from the model can be re-scaled during evaluation\n",
        "label_scalers = {}\n",
        "\n",
        "train_x = []\n",
        "test_x = {}\n",
        "test_y = {}"
      ],
      "metadata": {
        "id": "7XZAeR1LXtv8"
      },
      "execution_count": 100,
      "outputs": []
    },
    {
      "cell_type": "code",
      "source": [
        "    # Obtaining the scaler for the labels(usage data) so that output can be\n",
        "    # re-scaled to actual value during evaluation\n",
        "    label_sc.fit(df.iloc[:, label_col_index].values.reshape(-1, 1))\n",
        "    label_scalers[file] = label_sc\n"
      ],
      "metadata": {
        "id": "pnLfGbCTXgSk"
      },
      "execution_count": 101,
      "outputs": []
    },
    {
      "cell_type": "code",
      "source": [
        "   # Move the window\n",
        "inputs, labels = move_sliding_window(data,window_size,inputs_cols_indices=inputs_cols_indices,label_col_index=label_col_index, )\n",
        "\n",
        "    # CONCAT created instances from all .csv files.\n",
        "    # Split data into train/test portions and combining all data from different files into a single array\n",
        "test_portion = int(0.1 * len(inputs))\n",
        "if len(train_x) == 0:  # first iteration\n",
        "    train_x = inputs[:-test_portion]\n",
        "    train_y = labels[:-test_portion]\n",
        "else:\n",
        "    train_x = np.concatenate((train_x, inputs[:-test_portion]))\n",
        "    train_y = np.concatenate((train_y, labels[:-test_portion]))\n",
        "test_x[file] = inputs[-test_portion:]\n",
        "test_y[file] = labels[-test_portion:]"
      ],
      "metadata": {
        "id": "A97ockuUaRuK",
        "outputId": "ca0c698a-82c7-4280-f8ec-badfa6c7a5e5",
        "colab": {
          "base_uri": "https://localhost:8080/"
        }
      },
      "execution_count": 102,
      "outputs": [
        {
          "output_type": "stream",
          "name": "stdout",
          "text": [
            "(344021, 30, 6) (344021, 1)\n"
          ]
        }
      ]
    },
    {
      "cell_type": "code",
      "source": [
        "batch_size =32\n",
        "\n",
        "train_data = TensorDataset(torch.from_numpy(train_x), torch.from_numpy(train_y))\n",
        "\n",
        "# Drop the last incomplete batch\n",
        "train_loader = DataLoader(\n",
        "    train_data, shuffle=True, batch_size=batch_size, drop_last=True\n",
        ")"
      ],
      "metadata": {
        "id": "mtVvIBLtg1I9"
      },
      "execution_count": 103,
      "outputs": []
    },
    {
      "cell_type": "code",
      "source": [
        "print(\n",
        "    f\"Train Size: {train_x.shape}, Batch Size: {batch_size}, # of iterations per epoch: {int(train_x.shape[0]/batch_size)}\"\n",
        ")"
      ],
      "metadata": {
        "id": "2hkCAm2XhBos",
        "outputId": "bd2e33b2-8fb5-4624-91c7-64510a2d10eb",
        "colab": {
          "base_uri": "https://localhost:8080/"
        }
      },
      "execution_count": 104,
      "outputs": [
        {
          "output_type": "stream",
          "name": "stdout",
          "text": [
            "Train Size: (309619, 30, 6), Batch Size: 32, # of iterations per epoch: 9675\n"
          ]
        }
      ]
    },
    {
      "cell_type": "code",
      "source": [
        "# release some memory\n",
        "del train_x, train_y"
      ],
      "metadata": {
        "id": "NUs6UrYPhsjM"
      },
      "execution_count": 105,
      "outputs": []
    },
    {
      "cell_type": "code",
      "source": [
        "# torch.cuda.is_available() checks and returns a Boolean True if a GPU is available, else it'll return False\n",
        "is_cuda = torch.cuda.is_available()\n",
        "\n",
        "# If we have a GPU available, we'll set our device to GPU. We'll use this device variable later in our code.\n",
        "if is_cuda:\n",
        "    device = torch.device(\"cuda\")\n",
        "    print(\"GPU is available\")\n",
        "else:\n",
        "    device = torch.device(\"cpu\")"
      ],
      "metadata": {
        "id": "FquiO0q6hvSM",
        "outputId": "1dd116e3-752a-421b-9896-d1b74f3c4ddf",
        "colab": {
          "base_uri": "https://localhost:8080/"
        }
      },
      "execution_count": 106,
      "outputs": [
        {
          "output_type": "stream",
          "name": "stdout",
          "text": [
            "GPU is available\n"
          ]
        }
      ]
    },
    {
      "cell_type": "code",
      "source": [
        "class LSTMNet(nn.Module):\n",
        "    def __init__(self, input_dim, hidden_dim, output_dim, n_layers, drop_prob=0.2):\n",
        "        super(LSTMNet, self).__init__()\n",
        "        self.hidden_dim = hidden_dim\n",
        "        self.n_layers = n_layers\n",
        "\n",
        "        self.lstm = nn.LSTM(\n",
        "            input_dim, hidden_dim, n_layers, batch_first=True, dropout=drop_prob\n",
        "        )\n",
        "        self.fc = nn.Linear(hidden_dim, output_dim)\n",
        "        self.relu = nn.ReLU()\n",
        "\n",
        "    def forward(self, x, h):\n",
        "        out, h = self.lstm(x, h)\n",
        "        out = self.fc(self.relu(out[:, -1]))\n",
        "        return out, h\n",
        "\n",
        "    def init_hidden(self, batch_size):\n",
        "        weight = next(self.parameters()).data\n",
        "        # Initialze h_0, c_0 with zeros\n",
        "        hidden = (\n",
        "            weight.new(self.n_layers, batch_size, self.hidden_dim)\n",
        "            .zero_()\n",
        "            .to(device),  # h_0\n",
        "            weight.new(self.n_layers, batch_size, self.hidden_dim).zero_().to(device),\n",
        "        )\n",
        "        return hidden"
      ],
      "metadata": {
        "id": "OVg2P66jh3Hj"
      },
      "execution_count": 107,
      "outputs": []
    },
    {
      "cell_type": "code",
      "source": [
        "def train(\n",
        "    train_loader,\n",
        "    learn_rate,\n",
        "    hidden_dim=256,\n",
        "    n_layers=2,\n",
        "    n_epochs=3,\n",
        "    model_type=\"GRU\",\n",
        "    print_every=100,\n",
        "):\n",
        "\n",
        "    input_dim = next(iter(train_loader))[0].shape[2]  # 5\n",
        "\n",
        "    # Batch generator (train_data, train_label)\n",
        "    # print(next(iter(train_loader))[0].shape, next(iter(train_loader))[1].shape) # torch.Size([1024, 90, 5]) torch.Size([1024, 1])\n",
        "\n",
        "    output_dim = 1\n",
        "\n",
        "    # Instantiating the models\n",
        "    if model_type == \"GRU\":\n",
        "        model = GRUNet(input_dim, hidden_dim, output_dim, n_layers)\n",
        "    else:\n",
        "        model = LSTMNet(input_dim, hidden_dim, output_dim, n_layers)\n",
        "    model.to(device)\n",
        "\n",
        "    # Defining loss function and optimizer\n",
        "    criterion = nn.MSELoss()  # Mean Squared Error\n",
        "    optimizer = torch.optim.Adam(model.parameters(), lr=learn_rate)\n",
        "\n",
        "    model.train()\n",
        "    print(\"Starting Training of {} model\".format(model_type))\n",
        "    epoch_times = []\n",
        "\n",
        "    # Start training loop\n",
        "    for epoch in range(1, n_epochs + 1):\n",
        "        start_time = time.process_time()\n",
        "        h = model.init_hidden(batch_size)\n",
        "        avg_loss = 0.0\n",
        "        counter = 0\n",
        "        for x, label in train_loader:\n",
        "            counter += 1\n",
        "            if model_type == \"GRU\":\n",
        "                h = h.data\n",
        "            # Unpcak both h_0 and c_0\n",
        "            elif model_type == \"LSTM\":\n",
        "                h = tuple([e.data for e in h])\n",
        "\n",
        "            # Set the gradients to zero before starting to do backpropragation because\n",
        "            # PyTorch accumulates the gradients on subsequent backward passes\n",
        "            model.zero_grad()\n",
        "\n",
        "            out, h = model(x.to(device).float(), h)\n",
        "            loss = criterion(out, label.to(device).float())\n",
        "\n",
        "            # Perform backpropragation\n",
        "            loss.backward()\n",
        "            optimizer.step()\n",
        "\n",
        "            avg_loss += loss.item()\n",
        "            if counter % print_every == 0:\n",
        "                print(\n",
        "                    f\"Epoch {epoch} - Step: {counter}/{len(train_loader)} - Average Loss for Epoch: {avg_loss/counter}\"\n",
        "                )\n",
        "        current_time = time.process_time()\n",
        "\n",
        "        print(\n",
        "            f\"Epoch {epoch}/{n_epochs} Done, Total Loss: {avg_loss/len(train_loader)}\"\n",
        "        )\n",
        "\n",
        "        print(f\"Time Elapsed for Epoch: {current_time-start_time} seconds\")\n",
        "\n",
        "        epoch_times.append(current_time - start_time)\n",
        "\n",
        "    print(f\"Total Training Time: {sum(epoch_times)} seconds\")\n",
        "    return model"
      ],
      "metadata": {
        "id": "h73E9QHcjM4r"
      },
      "execution_count": 108,
      "outputs": []
    },
    {
      "cell_type": "code",
      "source": [
        "n_hidden = 256\n",
        "n_layers = 3\n",
        "n_epochs = 25\n",
        "print_every = 1000\n",
        "lr = 0.001\n",
        "lstm_model = train(\n",
        "    train_loader,\n",
        "    learn_rate=lr,\n",
        "    hidden_dim=n_hidden,\n",
        "    n_layers=n_layers,\n",
        "    n_epochs=n_epochs,\n",
        "    model_type=\"LSTM\",\n",
        "    print_every=print_every,\n",
        ")"
      ],
      "metadata": {
        "id": "hK6qkFUVjT0b",
        "outputId": "144a0ea3-a4cc-41ea-d529-4ab9161ba834",
        "colab": {
          "base_uri": "https://localhost:8080/"
        }
      },
      "execution_count": 110,
      "outputs": [
        {
          "output_type": "stream",
          "name": "stdout",
          "text": [
            "Starting Training of LSTM model\n",
            "Epoch 1 - Step: 1000/9675 - Average Loss for Epoch: 8.131344669343577e-05\n",
            "Epoch 1 - Step: 2000/9675 - Average Loss for Epoch: 9.364460176098266e-05\n",
            "Epoch 1 - Step: 3000/9675 - Average Loss for Epoch: 8.085628419694876e-05\n",
            "Epoch 1 - Step: 4000/9675 - Average Loss for Epoch: 7.381446586900254e-05\n",
            "Epoch 1 - Step: 5000/9675 - Average Loss for Epoch: 7.066620824249128e-05\n",
            "Epoch 1 - Step: 6000/9675 - Average Loss for Epoch: 6.3001442555264e-05\n",
            "Epoch 1 - Step: 7000/9675 - Average Loss for Epoch: 7.110361896644158e-05\n",
            "Epoch 1 - Step: 8000/9675 - Average Loss for Epoch: 6.957289050398429e-05\n",
            "Epoch 1 - Step: 9000/9675 - Average Loss for Epoch: 7.269977913671867e-05\n",
            "Epoch 1/25 Done, Total Loss: 7.047128890545853e-05\n",
            "Time Elapsed for Epoch: 62.681396568 seconds\n",
            "Epoch 2 - Step: 1000/9675 - Average Loss for Epoch: 8.080890213019032e-05\n",
            "Epoch 2 - Step: 2000/9675 - Average Loss for Epoch: 7.478386453661301e-05\n",
            "Epoch 2 - Step: 3000/9675 - Average Loss for Epoch: 6.309942231495923e-05\n",
            "Epoch 2 - Step: 4000/9675 - Average Loss for Epoch: 5.83418123668884e-05\n",
            "Epoch 2 - Step: 5000/9675 - Average Loss for Epoch: 6.433738247230387e-05\n",
            "Epoch 2 - Step: 6000/9675 - Average Loss for Epoch: 6.948290665497551e-05\n",
            "Epoch 2 - Step: 7000/9675 - Average Loss for Epoch: 7.408864003145282e-05\n",
            "Epoch 2 - Step: 8000/9675 - Average Loss for Epoch: 7.014026585106126e-05\n",
            "Epoch 2 - Step: 9000/9675 - Average Loss for Epoch: 6.866208084714545e-05\n",
            "Epoch 2/25 Done, Total Loss: 6.993615305606487e-05\n",
            "Time Elapsed for Epoch: 63.23212901399998 seconds\n",
            "Epoch 3 - Step: 1000/9675 - Average Loss for Epoch: 4.9934410803238906e-05\n",
            "Epoch 3 - Step: 2000/9675 - Average Loss for Epoch: 6.31531397335836e-05\n",
            "Epoch 3 - Step: 3000/9675 - Average Loss for Epoch: 8.07310855099163e-05\n",
            "Epoch 3 - Step: 4000/9675 - Average Loss for Epoch: 8.294419033479583e-05\n",
            "Epoch 3 - Step: 5000/9675 - Average Loss for Epoch: 7.302346655313415e-05\n",
            "Epoch 3 - Step: 6000/9675 - Average Loss for Epoch: 7.24390625362877e-05\n",
            "Epoch 3 - Step: 7000/9675 - Average Loss for Epoch: 7.451868987278435e-05\n",
            "Epoch 3 - Step: 8000/9675 - Average Loss for Epoch: 6.889211488614433e-05\n",
            "Epoch 3 - Step: 9000/9675 - Average Loss for Epoch: 7.068019186034332e-05\n",
            "Epoch 3/25 Done, Total Loss: 6.987005442335953e-05\n",
            "Time Elapsed for Epoch: 62.348783707999985 seconds\n",
            "Epoch 4 - Step: 1000/9675 - Average Loss for Epoch: 0.00012381239233634034\n",
            "Epoch 4 - Step: 2000/9675 - Average Loss for Epoch: 7.423120999284638e-05\n",
            "Epoch 4 - Step: 3000/9675 - Average Loss for Epoch: 6.01908550379342e-05\n",
            "Epoch 4 - Step: 4000/9675 - Average Loss for Epoch: 6.339830814866887e-05\n",
            "Epoch 4 - Step: 5000/9675 - Average Loss for Epoch: 6.378801750834402e-05\n",
            "Epoch 4 - Step: 6000/9675 - Average Loss for Epoch: 6.252227526539207e-05\n",
            "Epoch 4 - Step: 7000/9675 - Average Loss for Epoch: 6.814426441828392e-05\n",
            "Epoch 4 - Step: 8000/9675 - Average Loss for Epoch: 7.455270130572444e-05\n",
            "Epoch 4 - Step: 9000/9675 - Average Loss for Epoch: 7.212865265358509e-05\n",
            "Epoch 4/25 Done, Total Loss: 6.990917375767937e-05\n",
            "Time Elapsed for Epoch: 62.41000641599999 seconds\n",
            "Epoch 5 - Step: 1000/9675 - Average Loss for Epoch: 8.041091760238395e-05\n",
            "Epoch 5 - Step: 2000/9675 - Average Loss for Epoch: 5.8969823050222917e-05\n",
            "Epoch 5 - Step: 3000/9675 - Average Loss for Epoch: 7.603264644843399e-05\n",
            "Epoch 5 - Step: 4000/9675 - Average Loss for Epoch: 7.73083572077502e-05\n",
            "Epoch 5 - Step: 5000/9675 - Average Loss for Epoch: 7.16717822620792e-05\n",
            "Epoch 5 - Step: 6000/9675 - Average Loss for Epoch: 6.663922874031014e-05\n",
            "Epoch 5 - Step: 7000/9675 - Average Loss for Epoch: 6.703341732273379e-05\n",
            "Epoch 5 - Step: 8000/9675 - Average Loss for Epoch: 6.993395095934019e-05\n",
            "Epoch 5 - Step: 9000/9675 - Average Loss for Epoch: 7.05723112216301e-05\n",
            "Epoch 5/25 Done, Total Loss: 6.994242527129165e-05\n",
            "Time Elapsed for Epoch: 62.174173335000035 seconds\n",
            "Epoch 6 - Step: 1000/9675 - Average Loss for Epoch: 7.436600287049089e-05\n",
            "Epoch 6 - Step: 2000/9675 - Average Loss for Epoch: 6.175908757344928e-05\n",
            "Epoch 6 - Step: 3000/9675 - Average Loss for Epoch: 7.19442560152809e-05\n",
            "Epoch 6 - Step: 4000/9675 - Average Loss for Epoch: 7.565326560989983e-05\n",
            "Epoch 6 - Step: 5000/9675 - Average Loss for Epoch: 7.431866324888077e-05\n",
            "Epoch 6 - Step: 6000/9675 - Average Loss for Epoch: 7.101044300587874e-05\n",
            "Epoch 6 - Step: 7000/9675 - Average Loss for Epoch: 6.686236287626026e-05\n",
            "Epoch 6 - Step: 8000/9675 - Average Loss for Epoch: 7.204346510717596e-05\n",
            "Epoch 6 - Step: 9000/9675 - Average Loss for Epoch: 6.992845298460103e-05\n",
            "Epoch 6/25 Done, Total Loss: 6.993088596444263e-05\n",
            "Time Elapsed for Epoch: 62.39179026499994 seconds\n",
            "Epoch 7 - Step: 1000/9675 - Average Loss for Epoch: 6.185263808869301e-05\n",
            "Epoch 7 - Step: 2000/9675 - Average Loss for Epoch: 5.610213901558314e-05\n",
            "Epoch 7 - Step: 3000/9675 - Average Loss for Epoch: 4.796276657465567e-05\n",
            "Epoch 7 - Step: 4000/9675 - Average Loss for Epoch: 4.727946992700316e-05\n",
            "Epoch 7 - Step: 5000/9675 - Average Loss for Epoch: 5.400658444549009e-05\n",
            "Epoch 7 - Step: 6000/9675 - Average Loss for Epoch: 6.0664498874154776e-05\n",
            "Epoch 7 - Step: 7000/9675 - Average Loss for Epoch: 6.428624768846524e-05\n",
            "Epoch 7 - Step: 8000/9675 - Average Loss for Epoch: 6.296396569316709e-05\n",
            "Epoch 7 - Step: 9000/9675 - Average Loss for Epoch: 6.689887047574869e-05\n",
            "Epoch 7/25 Done, Total Loss: 6.996081512141211e-05\n",
            "Time Elapsed for Epoch: 62.92030558100009 seconds\n",
            "Epoch 8 - Step: 1000/9675 - Average Loss for Epoch: 2.9992952002926286e-05\n",
            "Epoch 8 - Step: 2000/9675 - Average Loss for Epoch: 6.931330559585725e-05\n",
            "Epoch 8 - Step: 3000/9675 - Average Loss for Epoch: 7.425378035139355e-05\n",
            "Epoch 8 - Step: 4000/9675 - Average Loss for Epoch: 8.28212612943413e-05\n",
            "Epoch 8 - Step: 5000/9675 - Average Loss for Epoch: 7.787857392163637e-05\n",
            "Epoch 8 - Step: 6000/9675 - Average Loss for Epoch: 7.504207382062796e-05\n",
            "Epoch 8 - Step: 7000/9675 - Average Loss for Epoch: 7.13922556661696e-05\n",
            "Epoch 8 - Step: 8000/9675 - Average Loss for Epoch: 6.869374638959824e-05\n",
            "Epoch 8 - Step: 9000/9675 - Average Loss for Epoch: 7.060724481167885e-05\n",
            "Epoch 8/25 Done, Total Loss: 6.992437917520335e-05\n",
            "Time Elapsed for Epoch: 63.05923415199993 seconds\n",
            "Epoch 9 - Step: 1000/9675 - Average Loss for Epoch: 6.61513338755828e-05\n",
            "Epoch 9 - Step: 2000/9675 - Average Loss for Epoch: 6.260389081801864e-05\n",
            "Epoch 9 - Step: 3000/9675 - Average Loss for Epoch: 5.8111437850798234e-05\n",
            "Epoch 9 - Step: 4000/9675 - Average Loss for Epoch: 6.354980897140905e-05\n",
            "Epoch 9 - Step: 5000/9675 - Average Loss for Epoch: 7.977157264659454e-05\n",
            "Epoch 9 - Step: 6000/9675 - Average Loss for Epoch: 8.022876941961953e-05\n",
            "Epoch 9 - Step: 7000/9675 - Average Loss for Epoch: 7.495266984132432e-05\n",
            "Epoch 9 - Step: 8000/9675 - Average Loss for Epoch: 7.419642823095695e-05\n",
            "Epoch 9 - Step: 9000/9675 - Average Loss for Epoch: 7.192401994550846e-05\n",
            "Epoch 9/25 Done, Total Loss: 6.995510339780376e-05\n",
            "Time Elapsed for Epoch: 61.928747860000044 seconds\n",
            "Epoch 10 - Step: 1000/9675 - Average Loss for Epoch: 0.00010475494718380674\n",
            "Epoch 10 - Step: 2000/9675 - Average Loss for Epoch: 0.00010991830336943309\n",
            "Epoch 10 - Step: 3000/9675 - Average Loss for Epoch: 0.00010102935518723596\n",
            "Epoch 10 - Step: 4000/9675 - Average Loss for Epoch: 9.628710867993373e-05\n",
            "Epoch 10 - Step: 5000/9675 - Average Loss for Epoch: 8.763992384054759e-05\n",
            "Epoch 10 - Step: 6000/9675 - Average Loss for Epoch: 8.062427309545405e-05\n",
            "Epoch 10 - Step: 7000/9675 - Average Loss for Epoch: 7.784842631236444e-05\n",
            "Epoch 10 - Step: 8000/9675 - Average Loss for Epoch: 7.223256118248412e-05\n",
            "Epoch 10 - Step: 9000/9675 - Average Loss for Epoch: 7.302287775560738e-05\n",
            "Epoch 10/25 Done, Total Loss: 6.993172374527079e-05\n",
            "Time Elapsed for Epoch: 62.16594240999996 seconds\n",
            "Epoch 11 - Step: 1000/9675 - Average Loss for Epoch: 8.016835221620155e-05\n",
            "Epoch 11 - Step: 2000/9675 - Average Loss for Epoch: 5.1195768649614945e-05\n",
            "Epoch 11 - Step: 3000/9675 - Average Loss for Epoch: 7.725214228239648e-05\n",
            "Epoch 11 - Step: 4000/9675 - Average Loss for Epoch: 6.833726592152667e-05\n",
            "Epoch 11 - Step: 5000/9675 - Average Loss for Epoch: 6.948967358969717e-05\n",
            "Epoch 11 - Step: 6000/9675 - Average Loss for Epoch: 6.977089610704675e-05\n",
            "Epoch 11 - Step: 7000/9675 - Average Loss for Epoch: 6.87473348911798e-05\n",
            "Epoch 11 - Step: 8000/9675 - Average Loss for Epoch: 6.894682763334403e-05\n",
            "Epoch 11 - Step: 9000/9675 - Average Loss for Epoch: 6.953367619301945e-05\n",
            "Epoch 11/25 Done, Total Loss: 6.992978020779701e-05\n",
            "Time Elapsed for Epoch: 62.12852794499997 seconds\n",
            "Epoch 12 - Step: 1000/9675 - Average Loss for Epoch: 6.0911157438656716e-05\n",
            "Epoch 12 - Step: 2000/9675 - Average Loss for Epoch: 5.865268165086856e-05\n",
            "Epoch 12 - Step: 3000/9675 - Average Loss for Epoch: 6.322433614174076e-05\n",
            "Epoch 12 - Step: 4000/9675 - Average Loss for Epoch: 6.903739191177615e-05\n",
            "Epoch 12 - Step: 5000/9675 - Average Loss for Epoch: 6.844595046494035e-05\n",
            "Epoch 12 - Step: 6000/9675 - Average Loss for Epoch: 7.183244854508016e-05\n",
            "Epoch 12 - Step: 7000/9675 - Average Loss for Epoch: 6.724524986326687e-05\n",
            "Epoch 12 - Step: 8000/9675 - Average Loss for Epoch: 6.405458745090198e-05\n",
            "Epoch 12 - Step: 9000/9675 - Average Loss for Epoch: 7.033997534314097e-05\n",
            "Epoch 12/25 Done, Total Loss: 6.992438082614315e-05\n",
            "Time Elapsed for Epoch: 61.96671501300011 seconds\n",
            "Epoch 13 - Step: 1000/9675 - Average Loss for Epoch: 4.119316935783246e-05\n",
            "Epoch 13 - Step: 2000/9675 - Average Loss for Epoch: 6.426428672428042e-05\n",
            "Epoch 13 - Step: 3000/9675 - Average Loss for Epoch: 6.057472729374306e-05\n",
            "Epoch 13 - Step: 4000/9675 - Average Loss for Epoch: 6.674968753800803e-05\n",
            "Epoch 13 - Step: 5000/9675 - Average Loss for Epoch: 6.490439574957847e-05\n",
            "Epoch 13 - Step: 6000/9675 - Average Loss for Epoch: 6.623959605658906e-05\n",
            "Epoch 13 - Step: 7000/9675 - Average Loss for Epoch: 6.928029728019451e-05\n",
            "Epoch 13 - Step: 8000/9675 - Average Loss for Epoch: 7.108841576662316e-05\n",
            "Epoch 13 - Step: 9000/9675 - Average Loss for Epoch: 7.01831950271947e-05\n",
            "Epoch 13/25 Done, Total Loss: 6.992715069070064e-05\n",
            "Time Elapsed for Epoch: 61.96801050199997 seconds\n",
            "Epoch 14 - Step: 1000/9675 - Average Loss for Epoch: 5.9364977294588784e-05\n",
            "Epoch 14 - Step: 2000/9675 - Average Loss for Epoch: 8.269644652930008e-05\n",
            "Epoch 14 - Step: 3000/9675 - Average Loss for Epoch: 8.085076396900644e-05\n",
            "Epoch 14 - Step: 4000/9675 - Average Loss for Epoch: 7.044858458831626e-05\n",
            "Epoch 14 - Step: 5000/9675 - Average Loss for Epoch: 6.178658460683124e-05\n",
            "Epoch 14 - Step: 6000/9675 - Average Loss for Epoch: 5.821704432539547e-05\n",
            "Epoch 14 - Step: 7000/9675 - Average Loss for Epoch: 5.9693512212156464e-05\n",
            "Epoch 14 - Step: 8000/9675 - Average Loss for Epoch: 5.912551438903435e-05\n",
            "Epoch 14 - Step: 9000/9675 - Average Loss for Epoch: 6.569890752144363e-05\n",
            "Epoch 14/25 Done, Total Loss: 6.993236961658261e-05\n",
            "Time Elapsed for Epoch: 62.53309902399997 seconds\n",
            "Epoch 15 - Step: 1000/9675 - Average Loss for Epoch: 5.6909391022353264e-05\n",
            "Epoch 15 - Step: 2000/9675 - Average Loss for Epoch: 6.160758469197968e-05\n",
            "Epoch 15 - Step: 3000/9675 - Average Loss for Epoch: 6.220325898152623e-05\n",
            "Epoch 15 - Step: 4000/9675 - Average Loss for Epoch: 6.927312361203653e-05\n",
            "Epoch 15 - Step: 5000/9675 - Average Loss for Epoch: 6.963525688702852e-05\n",
            "Epoch 15 - Step: 6000/9675 - Average Loss for Epoch: 6.25279687140233e-05\n",
            "Epoch 15 - Step: 7000/9675 - Average Loss for Epoch: 6.130770839398484e-05\n",
            "Epoch 15 - Step: 8000/9675 - Average Loss for Epoch: 7.201490724297833e-05\n",
            "Epoch 15 - Step: 9000/9675 - Average Loss for Epoch: 7.201439949442564e-05\n",
            "Epoch 15/25 Done, Total Loss: 6.989556574605696e-05\n",
            "Time Elapsed for Epoch: 62.50775443400016 seconds\n",
            "Epoch 16 - Step: 1000/9675 - Average Loss for Epoch: 6.563234398309704e-05\n",
            "Epoch 16 - Step: 2000/9675 - Average Loss for Epoch: 5.55909147685556e-05\n",
            "Epoch 16 - Step: 3000/9675 - Average Loss for Epoch: 5.738094775777469e-05\n",
            "Epoch 16 - Step: 4000/9675 - Average Loss for Epoch: 5.660519109773032e-05\n",
            "Epoch 16 - Step: 5000/9675 - Average Loss for Epoch: 5.402416158756545e-05\n",
            "Epoch 16 - Step: 6000/9675 - Average Loss for Epoch: 5.750855479841555e-05\n",
            "Epoch 16 - Step: 7000/9675 - Average Loss for Epoch: 6.726154128257862e-05\n",
            "Epoch 16 - Step: 8000/9675 - Average Loss for Epoch: 6.611549263781357e-05\n",
            "Epoch 16 - Step: 9000/9675 - Average Loss for Epoch: 6.602818104940451e-05\n",
            "Epoch 16/25 Done, Total Loss: 7.002171830892326e-05\n",
            "Time Elapsed for Epoch: 62.07587918000013 seconds\n",
            "Epoch 17 - Step: 1000/9675 - Average Loss for Epoch: 6.0781170619479855e-05\n",
            "Epoch 17 - Step: 2000/9675 - Average Loss for Epoch: 5.4704112591909215e-05\n",
            "Epoch 17 - Step: 3000/9675 - Average Loss for Epoch: 4.9069478075753756e-05\n",
            "Epoch 17 - Step: 4000/9675 - Average Loss for Epoch: 5.3912197308571216e-05\n",
            "Epoch 17 - Step: 5000/9675 - Average Loss for Epoch: 5.6914133893002016e-05\n",
            "Epoch 17 - Step: 6000/9675 - Average Loss for Epoch: 5.9373103814696886e-05\n",
            "Epoch 17 - Step: 7000/9675 - Average Loss for Epoch: 6.50824528349503e-05\n",
            "Epoch 17 - Step: 8000/9675 - Average Loss for Epoch: 7.097534302632225e-05\n",
            "Epoch 17 - Step: 9000/9675 - Average Loss for Epoch: 6.803330352987244e-05\n",
            "Epoch 17/25 Done, Total Loss: 6.99038393964999e-05\n",
            "Time Elapsed for Epoch: 62.319356366999955 seconds\n",
            "Epoch 18 - Step: 1000/9675 - Average Loss for Epoch: 3.8711418547121565e-05\n",
            "Epoch 18 - Step: 2000/9675 - Average Loss for Epoch: 6.120228931871897e-05\n",
            "Epoch 18 - Step: 3000/9675 - Average Loss for Epoch: 6.0569063342367595e-05\n",
            "Epoch 18 - Step: 4000/9675 - Average Loss for Epoch: 6.95261073618978e-05\n",
            "Epoch 18 - Step: 5000/9675 - Average Loss for Epoch: 6.440897242566982e-05\n",
            "Epoch 18 - Step: 6000/9675 - Average Loss for Epoch: 6.614876006463592e-05\n",
            "Epoch 18 - Step: 7000/9675 - Average Loss for Epoch: 7.985570412710581e-05\n",
            "Epoch 18 - Step: 8000/9675 - Average Loss for Epoch: 7.400345358640448e-05\n",
            "Epoch 18 - Step: 9000/9675 - Average Loss for Epoch: 7.143616127240607e-05\n",
            "Epoch 18/25 Done, Total Loss: 6.987994164334022e-05\n",
            "Time Elapsed for Epoch: 62.10708127199996 seconds\n",
            "Epoch 19 - Step: 1000/9675 - Average Loss for Epoch: 6.044432742957362e-05\n",
            "Epoch 19 - Step: 2000/9675 - Average Loss for Epoch: 6.680997181099713e-05\n",
            "Epoch 19 - Step: 3000/9675 - Average Loss for Epoch: 6.552548429837834e-05\n",
            "Epoch 19 - Step: 4000/9675 - Average Loss for Epoch: 8.22961430828153e-05\n",
            "Epoch 19 - Step: 5000/9675 - Average Loss for Epoch: 7.293751769711605e-05\n",
            "Epoch 19 - Step: 6000/9675 - Average Loss for Epoch: 6.825427920967556e-05\n",
            "Epoch 19 - Step: 7000/9675 - Average Loss for Epoch: 6.958138495573543e-05\n",
            "Epoch 19 - Step: 8000/9675 - Average Loss for Epoch: 7.194207293786804e-05\n",
            "Epoch 19 - Step: 9000/9675 - Average Loss for Epoch: 7.374048660798642e-05\n",
            "Epoch 19/25 Done, Total Loss: 6.992165508248596e-05\n",
            "Time Elapsed for Epoch: 62.0552077870002 seconds\n",
            "Epoch 20 - Step: 1000/9675 - Average Loss for Epoch: 6.555377062828071e-05\n",
            "Epoch 20 - Step: 2000/9675 - Average Loss for Epoch: 7.734317630211063e-05\n",
            "Epoch 20 - Step: 3000/9675 - Average Loss for Epoch: 6.901801777239728e-05\n",
            "Epoch 20 - Step: 4000/9675 - Average Loss for Epoch: 7.07056321516304e-05\n",
            "Epoch 20 - Step: 5000/9675 - Average Loss for Epoch: 7.101859140230715e-05\n",
            "Epoch 20 - Step: 6000/9675 - Average Loss for Epoch: 6.546745888190279e-05\n",
            "Epoch 20 - Step: 7000/9675 - Average Loss for Epoch: 7.009024655555812e-05\n",
            "Epoch 20 - Step: 8000/9675 - Average Loss for Epoch: 6.691466427588288e-05\n",
            "Epoch 20 - Step: 9000/9675 - Average Loss for Epoch: 6.596782641501993e-05\n",
            "Epoch 20/25 Done, Total Loss: 6.996698540807773e-05\n",
            "Time Elapsed for Epoch: 62.63703574099986 seconds\n",
            "Epoch 21 - Step: 1000/9675 - Average Loss for Epoch: 8.51735419850197e-05\n",
            "Epoch 21 - Step: 2000/9675 - Average Loss for Epoch: 0.0001031494178856347\n",
            "Epoch 21 - Step: 3000/9675 - Average Loss for Epoch: 9.851940740898198e-05\n",
            "Epoch 21 - Step: 4000/9675 - Average Loss for Epoch: 8.242123921256095e-05\n",
            "Epoch 21 - Step: 5000/9675 - Average Loss for Epoch: 8.051038103576502e-05\n",
            "Epoch 21 - Step: 6000/9675 - Average Loss for Epoch: 7.486029409088157e-05\n",
            "Epoch 21 - Step: 7000/9675 - Average Loss for Epoch: 7.273223421474892e-05\n",
            "Epoch 21 - Step: 8000/9675 - Average Loss for Epoch: 7.451526558817622e-05\n",
            "Epoch 21 - Step: 9000/9675 - Average Loss for Epoch: 7.059458410356988e-05\n",
            "Epoch 21/25 Done, Total Loss: 6.989047547509777e-05\n",
            "Time Elapsed for Epoch: 62.43073760900006 seconds\n",
            "Epoch 22 - Step: 1000/9675 - Average Loss for Epoch: 8.471185431264772e-05\n",
            "Epoch 22 - Step: 2000/9675 - Average Loss for Epoch: 7.724195522265643e-05\n",
            "Epoch 22 - Step: 3000/9675 - Average Loss for Epoch: 7.55166425361858e-05\n",
            "Epoch 22 - Step: 4000/9675 - Average Loss for Epoch: 7.615314691552211e-05\n",
            "Epoch 22 - Step: 5000/9675 - Average Loss for Epoch: 8.374023033375764e-05\n",
            "Epoch 22 - Step: 6000/9675 - Average Loss for Epoch: 7.718411032079034e-05\n",
            "Epoch 22 - Step: 7000/9675 - Average Loss for Epoch: 7.14180964394571e-05\n",
            "Epoch 22 - Step: 8000/9675 - Average Loss for Epoch: 7.058374382628107e-05\n",
            "Epoch 22 - Step: 9000/9675 - Average Loss for Epoch: 7.011042552905799e-05\n",
            "Epoch 22/25 Done, Total Loss: 6.994512073482472e-05\n",
            "Time Elapsed for Epoch: 62.202522214000055 seconds\n",
            "Epoch 23 - Step: 1000/9675 - Average Loss for Epoch: 7.445096214162117e-05\n",
            "Epoch 23 - Step: 2000/9675 - Average Loss for Epoch: 6.672461702941712e-05\n",
            "Epoch 23 - Step: 3000/9675 - Average Loss for Epoch: 5.83157840868127e-05\n",
            "Epoch 23 - Step: 4000/9675 - Average Loss for Epoch: 7.247110857383387e-05\n",
            "Epoch 23 - Step: 5000/9675 - Average Loss for Epoch: 7.309459010702018e-05\n",
            "Epoch 23 - Step: 6000/9675 - Average Loss for Epoch: 7.211151207317442e-05\n",
            "Epoch 23 - Step: 7000/9675 - Average Loss for Epoch: 7.380269906442764e-05\n",
            "Epoch 23 - Step: 8000/9675 - Average Loss for Epoch: 6.652215829575924e-05\n",
            "Epoch 23 - Step: 9000/9675 - Average Loss for Epoch: 7.148768827707416e-05\n",
            "Epoch 23/25 Done, Total Loss: 6.994342570827933e-05\n",
            "Time Elapsed for Epoch: 62.18198708 seconds\n",
            "Epoch 24 - Step: 1000/9675 - Average Loss for Epoch: 3.5792958065588464e-05\n",
            "Epoch 24 - Step: 2000/9675 - Average Loss for Epoch: 6.429478628849505e-05\n",
            "Epoch 24 - Step: 3000/9675 - Average Loss for Epoch: 6.421171968383276e-05\n",
            "Epoch 24 - Step: 4000/9675 - Average Loss for Epoch: 7.073915037720635e-05\n",
            "Epoch 24 - Step: 5000/9675 - Average Loss for Epoch: 6.647121944811385e-05\n",
            "Epoch 24 - Step: 6000/9675 - Average Loss for Epoch: 6.569052091888746e-05\n",
            "Epoch 24 - Step: 7000/9675 - Average Loss for Epoch: 6.334841883688862e-05\n",
            "Epoch 24 - Step: 8000/9675 - Average Loss for Epoch: 6.929265080849312e-05\n",
            "Epoch 24 - Step: 9000/9675 - Average Loss for Epoch: 7.226921323196311e-05\n",
            "Epoch 24/25 Done, Total Loss: 6.990174002327738e-05\n",
            "Time Elapsed for Epoch: 62.50901356899999 seconds\n",
            "Epoch 25 - Step: 1000/9675 - Average Loss for Epoch: 5.099411598258641e-05\n",
            "Epoch 25 - Step: 2000/9675 - Average Loss for Epoch: 3.744144743018651e-05\n",
            "Epoch 25 - Step: 3000/9675 - Average Loss for Epoch: 5.388882191008785e-05\n",
            "Epoch 25 - Step: 4000/9675 - Average Loss for Epoch: 5.842671330674598e-05\n",
            "Epoch 25 - Step: 5000/9675 - Average Loss for Epoch: 6.317315459406174e-05\n",
            "Epoch 25 - Step: 6000/9675 - Average Loss for Epoch: 5.657073017146885e-05\n",
            "Epoch 25 - Step: 7000/9675 - Average Loss for Epoch: 5.951583030659968e-05\n",
            "Epoch 25 - Step: 8000/9675 - Average Loss for Epoch: 6.333667723575865e-05\n",
            "Epoch 25 - Step: 9000/9675 - Average Loss for Epoch: 6.845241933429898e-05\n",
            "Epoch 25/25 Done, Total Loss: 6.992814772659746e-05\n",
            "Time Elapsed for Epoch: 62.55582811499994 seconds\n",
            "Total Training Time: 1559.4912651610002 seconds\n"
          ]
        }
      ]
    },
    {
      "cell_type": "code",
      "source": [
        "torch.save(lstm_model.state_dict(), \"/content/model/lstm_model.pt\")"
      ],
      "metadata": {
        "id": "XhknKCA8j8Aa"
      },
      "execution_count": 113,
      "outputs": []
    },
    {
      "cell_type": "code",
      "source": [
        "hidden_dim = 256\n",
        "input_dim = 6\n",
        "output_dim = 1\n",
        "n_layers = 4\n",
        "lstm_model = LSTMNet(input_dim, hidden_dim, output_dim, n_layers)\n",
        "lstm_model.load_state_dict(torch.load(\"/content/model/lstm_model.pt\"))"
      ],
      "metadata": {
        "id": "TmRa6lckkFkC",
        "outputId": "7a694a12-a8db-4897-8f7c-67f39030a57f",
        "colab": {
          "base_uri": "https://localhost:8080/"
        }
      },
      "execution_count": 114,
      "outputs": [
        {
          "output_type": "execute_result",
          "data": {
            "text/plain": [
              "<All keys matched successfully>"
            ]
          },
          "metadata": {},
          "execution_count": 114
        }
      ]
    },
    {
      "cell_type": "code",
      "source": [
        "# Move the model to the appropriate device\n",
        "lstm_model.to(device)"
      ],
      "metadata": {
        "id": "2HMtghnfkUkp",
        "outputId": "28ef2c09-32ba-4d01-ff9f-e55e216d229e",
        "colab": {
          "base_uri": "https://localhost:8080/"
        }
      },
      "execution_count": 115,
      "outputs": [
        {
          "output_type": "execute_result",
          "data": {
            "text/plain": [
              "LSTMNet(\n",
              "  (lstm): LSTM(6, 256, num_layers=4, batch_first=True, dropout=0.2)\n",
              "  (fc): Linear(in_features=256, out_features=1, bias=True)\n",
              "  (relu): ReLU()\n",
              ")"
            ]
          },
          "metadata": {},
          "execution_count": 115
        }
      ]
    },
    {
      "cell_type": "code",
      "source": [
        "def sMAPE(outputs, targets):\n",
        "    sMAPE = (\n",
        "        100\n",
        "        / len(targets)\n",
        "        * np.sum(np.abs(outputs - targets) / (np.abs(outputs + targets)) / 2)\n",
        "    )\n",
        "    return sMAPE"
      ],
      "metadata": {
        "id": "rA00xUtHkW2p"
      },
      "execution_count": 116,
      "outputs": []
    },
    {
      "cell_type": "code",
      "source": [
        "def evaluate(model, test_x, test_y, label_scalers):\n",
        "    model.eval()\n",
        "    outputs = []\n",
        "    targets = []\n",
        "    start_time = time.process_time()\n",
        "    # get data of test data for each state\n",
        "    for file in test_x.keys():\n",
        "        inputs = torch.from_numpy(np.array(test_x[file]))\n",
        "        labels = torch.from_numpy(np.array(test_y[file]))\n",
        "\n",
        "        h = model.init_hidden(inputs.shape[0])\n",
        "\n",
        "        # predict outputs\n",
        "        with torch.no_grad():\n",
        "            out, h = model(inputs.to(device).float(), h)\n",
        "\n",
        "        outputs.append(\n",
        "            label_scalers[file]\n",
        "            .inverse_transform(out.cpu().detach().numpy())\n",
        "            .reshape(-1)\n",
        "        )\n",
        "\n",
        "        targets.append(\n",
        "            label_scalers[file].inverse_transform(labels.numpy()).reshape(-1)\n",
        "        )\n",
        "\n",
        "    # Merge all files\n",
        "    concatenated_outputs = np.concatenate(outputs)\n",
        "    concatenated_targets = np.concatenate(targets)\n",
        "\n",
        "    print(f\"Evaluation Time: {time.process_time()-start_time}\")\n",
        "    print(f\"sMAPE: {round(sMAPE(concatenated_outputs, concatenated_targets), 3)}%\")\n",
        "\n",
        "    # list of of targets/outputs for each state\n",
        "    return outputs, targets, sMAPE"
      ],
      "metadata": {
        "id": "Naah87cMka9i"
      },
      "execution_count": 117,
      "outputs": []
    },
    {
      "cell_type": "code",
      "source": [
        "lstm_outputs, targets, lstm_sMAPE = evaluate(lstm_model, test_x, test_y, label_scalers)"
      ],
      "metadata": {
        "id": "-_mIS80EkfWy",
        "outputId": "080bad67-203e-4934-975f-64392b0edae3",
        "colab": {
          "base_uri": "https://localhost:8080/"
        }
      },
      "execution_count": 118,
      "outputs": [
        {
          "output_type": "stream",
          "name": "stdout",
          "text": [
            "Evaluation Time: 1.166772902000048\n",
            "sMAPE: 139.278%\n"
          ]
        }
      ]
    },
    {
      "cell_type": "code",
      "source": [
        "len(\n",
        "    lstm_outputs\n",
        ")  # list of predicted output file for each state (each element has a 1d array for that state)"
      ],
      "metadata": {
        "id": "XJjWE26pkjaa",
        "outputId": "5225e8ca-e8a8-47ad-c14d-76a908abf8a2",
        "colab": {
          "base_uri": "https://localhost:8080/"
        }
      },
      "execution_count": 119,
      "outputs": [
        {
          "output_type": "execute_result",
          "data": {
            "text/plain": [
              "1"
            ]
          },
          "metadata": {},
          "execution_count": 119
        }
      ]
    },
    {
      "cell_type": "code",
      "source": [
        "states_list = list(test_x.keys())"
      ],
      "metadata": {
        "id": "dBNrSgjnkmES"
      },
      "execution_count": 120,
      "outputs": []
    },
    {
      "cell_type": "code",
      "source": [
        "states_list"
      ],
      "metadata": {
        "id": "yNXkl85mkotK",
        "outputId": "0486c33f-5da5-4535-979f-8f16835b5b5a",
        "colab": {
          "base_uri": "https://localhost:8080/"
        }
      },
      "execution_count": 121,
      "outputs": [
        {
          "output_type": "execute_result",
          "data": {
            "text/plain": [
              "['/content/data/data kelaniya-DESKTOP-CPVCTNE.csv']"
            ]
          },
          "metadata": {},
          "execution_count": 121
        }
      ]
    },
    {
      "cell_type": "code",
      "source": [
        "plt.figure(figsize=(14, 10))\n",
        "plt.subplot(2, 2, 1)\n",
        "plt.plot(\n",
        "    lstm_outputs[0][-100:], \"-o\", color=\"r\", label=\"LSTM Predictions\", markersize=2\n",
        ")\n",
        "plt.plot(targets[0][-100:], color=\"b\", label=\"Actual\")\n",
        "plt.ylabel(\"Energy Consumption (MW)\")\n",
        "plt.title(f\"Energy Consumption for {states_list[0]} state\")\n",
        "plt.legend()\n",
        "\n"
      ],
      "metadata": {
        "id": "Yf1e6IKHkrLh",
        "outputId": "919d9121-6340-4e96-9952-49a0788f2a32",
        "colab": {
          "base_uri": "https://localhost:8080/",
          "height": 328
        }
      },
      "execution_count": 122,
      "outputs": [
        {
          "output_type": "execute_result",
          "data": {
            "text/plain": [
              "<matplotlib.legend.Legend at 0x7f3a79ccb8e0>"
            ]
          },
          "metadata": {},
          "execution_count": 122
        },
        {
          "output_type": "display_data",
          "data": {
            "text/plain": [
              "<Figure size 1008x720 with 1 Axes>"
            ],
            "image/png": "[encoded data removed]"
          },
          "metadata": {
            "needs_background": "light"
          }
        }
      ]
    }
  ]
}