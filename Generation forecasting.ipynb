{
  "nbformat": 4,
  "nbformat_minor": 0,
  "metadata": {
    "colab": {
      "provenance": []
    },
    "kernelspec": {
      "name": "python3",
      "display_name": "Python 3"
    },
    "language_info": {
      "name": "python"
    },
    "accelerator": "GPU",
    "gpuClass": "standard"
  },
  "cells": [
    {
      "cell_type": "markdown",
      "source": [
        "# Import Libraries"
      ],
      "metadata": {
        "id": "NTNi5CN_pEa9"
      }
    },
    {
      "cell_type": "code",
      "execution_count": 389,
      "metadata": {
        "id": "oOvjA9MFmXAi"
      },
      "outputs": [],
      "source": [
        "import os\n",
        "import time\n",
        "import matplotlib.pyplot as plt\n",
        "import pandas as pd\n",
        "import numpy as np\n",
        "from sklearn.preprocessing import OneHotEncoder\n",
        "from sklearn.preprocessing import MinMaxScaler\n",
        "from sklearn.preprocessing import LabelEncoder\n",
        "from sklearn.model_selection import train_test_split\n",
        "import seaborn as sns\n",
        "import torch\n",
        "import torch.nn as nn\n",
        "from torch.utils.data import TensorDataset, DataLoader\n",
        "from tqdm.notebook import tqdm as tqdm_notebook"
      ]
    },
    {
      "cell_type": "markdown",
      "source": [
        "# Upload Dataset"
      ],
      "metadata": {
        "id": "iZnyR1kLpHsN"
      }
    },
    {
      "cell_type": "code",
      "source": [
        "cols = [\"Holiday\",\"Date\",\"Generation\",\"Consumption\"]\n",
        "df = pd.read_csv(\"/content/Generation_dataset_combined.csv\", header=0, names=cols)\n",
        "file = \"/content/Generation_dataset_combined.csv\""
      ],
      "metadata": {
        "id": "5tVyysZOn5_H"
      },
      "execution_count": 390,
      "outputs": []
    },
    {
      "cell_type": "code",
      "source": [
        "print(df.head())"
      ],
      "metadata": {
        "colab": {
          "base_uri": "https://localhost:8080/"
        },
        "id": "d19PqBkvpBGt",
        "outputId": "d5205cd8-759c-4973-c31e-46a7ee906c9c"
      },
      "execution_count": 391,
      "outputs": [
        {
          "output_type": "stream",
          "name": "stdout",
          "text": [
            "   Holiday                       Date  Generation  Consumption\n",
            "0        0  2018-07-01 05:00:00+00:00      182340       509702\n",
            "1        0  2018-07-01 06:00:00+00:00      285585       412574\n",
            "2        0  2018-07-01 07:00:00+00:00      281322       390539\n",
            "3        0  2018-07-01 08:00:00+00:00      324231       366425\n",
            "4        0  2018-07-01 09:00:00+00:00      314379       354843\n"
          ]
        }
      ]
    },
    {
      "cell_type": "code",
      "source": [
        "print(df.shape) #Check the shape of the dataset"
      ],
      "metadata": {
        "colab": {
          "base_uri": "https://localhost:8080/"
        },
        "id": "f1r2XTwLpbzV",
        "outputId": "7d7a1384-33d0-4085-c235-e1a3ebe3732d"
      },
      "execution_count": 392,
      "outputs": [
        {
          "output_type": "stream",
          "name": "stdout",
          "text": [
            "(27019, 4)\n"
          ]
        }
      ]
    },
    {
      "cell_type": "code",
      "source": [
        "# Check for outliers in 'pressure' column\n",
        "\n",
        "sns.boxplot(x=df['Generation'])\n",
        "plt.show()"
      ],
      "metadata": {
        "id": "Ly3kmXI1BMEp",
        "outputId": "400845b6-aee6-4ae4-9405-7b628b683a72",
        "colab": {
          "base_uri": "https://localhost:8080/",
          "height": 279
        }
      },
      "execution_count": 393,
      "outputs": [
        {
          "output_type": "display_data",
          "data": {
            "text/plain": [
              "<Figure size 432x288 with 1 Axes>"
            ],
            "image/png": "[encoded data removed]"
          },
          "metadata": {
            "needs_background": "light"
          }
        }
      ]
    },
    {
      "cell_type": "code",
      "source": [
        "# Plot a histogram of the Generation column\n",
        "\n",
        "fig = plt.figure(figsize=(12, 8))\n",
        "plt.hist(df[\"Generation\"], color='green')\n",
        "plt.xlabel(\"Units\")\n",
        "plt.ylabel(\"Frequency\")\n",
        "plt.title(\"Distribution of Generation Units\")\n",
        "plt.show()"
      ],
      "metadata": {
        "colab": {
          "base_uri": "https://localhost:8080/",
          "height": 513
        },
        "id": "sjfQamP4qevs",
        "outputId": "aad22d4a-2bc7-47a9-9e84-423bb9c59619"
      },
      "execution_count": 394,
      "outputs": [
        {
          "output_type": "display_data",
          "data": {
            "text/plain": [
              "<Figure size 864x576 with 1 Axes>"
            ],
            "image/png": "[encoded data removed]"
          },
          "metadata": {
            "needs_background": "light"
          }
        }
      ]
    },
    {
      "cell_type": "code",
      "source": [
        "# create a new column 'date' and fill it with the dates from 'datetime' column\n",
        "df['time'] = pd.to_datetime(df['Date']).dt.time\n",
        "df['hour'] = [t.hour for t in df['time']]\n",
        "df['business hour'] = 0  # Initialize new column with 0s\n",
        "for i in range(len(df)):\n",
        "    hour = df.loc[i, 'hour']\n",
        "    if ((hour >= 8 and hour < 14) or (hour >= 16 and hour < 21)):\n",
        "        df.loc[i, 'business hour'] = 1  # Set value to 1 for business hours\n",
        "df = df.drop(['hour','time'], axis=1)        "
      ],
      "metadata": {
        "id": "5ERD8z_3Xwdj"
      },
      "execution_count": 395,
      "outputs": []
    },
    {
      "cell_type": "code",
      "source": [
        "# create new columns for year, month, day, and hour\n",
        "\n",
        "df['Date'] = pd.to_datetime(df['Date'], utc=True, infer_datetime_format=True)\n",
        "df['year'] = df['Date'].dt.year\n",
        "df['month'] = df['Date'].dt.month\n",
        "df['day'] = df['Date'].dt.day\n",
        "df['hour'] = df['Date'].dt.hour\n",
        "df = df.drop('Date', axis=1)"
      ],
      "metadata": {
        "id": "jkTR4RMvqz_b"
      },
      "execution_count": 396,
      "outputs": []
    },
    {
      "cell_type": "code",
      "source": [
        "df.dtypes"
      ],
      "metadata": {
        "id": "W954dAimZan7",
        "outputId": "a50e3dae-37c1-4f14-af9e-fbe59506ddce",
        "colab": {
          "base_uri": "https://localhost:8080/"
        }
      },
      "execution_count": 397,
      "outputs": [
        {
          "output_type": "execute_result",
          "data": {
            "text/plain": [
              "Holiday          int64\n",
              "Generation       int64\n",
              "Consumption      int64\n",
              "business hour    int64\n",
              "year             int64\n",
              "month            int64\n",
              "day              int64\n",
              "hour             int64\n",
              "dtype: object"
            ]
          },
          "metadata": {},
          "execution_count": 397
        }
      ]
    },
    {
      "cell_type": "code",
      "source": [
        "df.head()"
      ],
      "metadata": {
        "id": "Bot1mxGAOPhG",
        "outputId": "b71181a2-bf89-45ad-cbfd-a66fa22f4db2",
        "colab": {
          "base_uri": "https://localhost:8080/",
          "height": 206
        }
      },
      "execution_count": 398,
      "outputs": [
        {
          "output_type": "execute_result",
          "data": {
            "text/plain": [
              "   Holiday  Generation  Consumption  business hour  year  month  day  hour\n",
              "0        0      182340       509702              0  2018      7    1     5\n",
              "1        0      285585       412574              0  2018      7    1     6\n",
              "2        0      281322       390539              0  2018      7    1     7\n",
              "3        0      324231       366425              1  2018      7    1     8\n",
              "4        0      314379       354843              1  2018      7    1     9"
            ],
            "text/html": [
              "\n",
              "  <div id=\"df-1d3eb87f-34f7-4bb2-93a1-41caa0d80ea1\">\n",
              "    <div class=\"colab-df-container\">\n",
              "      <div>\n",
              "<style scoped>\n",
              "    .dataframe tbody tr th:only-of-type {\n",
              "        vertical-align: middle;\n",
              "    }\n",
              "\n",
              "    .dataframe tbody tr th {\n",
              "        vertical-align: top;\n",
              "    }\n",
              "\n",
              "    .dataframe thead th {\n",
              "        text-align: right;\n",
              "    }\n",
              "</style>\n",
              "<table border=\"1\" class=\"dataframe\">\n",
              "  <thead>\n",
              "    <tr style=\"text-align: right;\">\n",
              "      <th></th>\n",
              "      <th>Holiday</th>\n",
              "      <th>Generation</th>\n",
              "      <th>Consumption</th>\n",
              "      <th>business hour</th>\n",
              "      <th>year</th>\n",
              "      <th>month</th>\n",
              "      <th>day</th>\n",
              "      <th>hour</th>\n",
              "    </tr>\n",
              "  </thead>\n",
              "  <tbody>\n",
              "    <tr>\n",
              "      <th>0</th>\n",
              "      <td>0</td>\n",
              "      <td>182340</td>\n",
              "      <td>509702</td>\n",
              "      <td>0</td>\n",
              "      <td>2018</td>\n",
              "      <td>7</td>\n",
              "      <td>1</td>\n",
              "      <td>5</td>\n",
              "    </tr>\n",
              "    <tr>\n",
              "      <th>1</th>\n",
              "      <td>0</td>\n",
              "      <td>285585</td>\n",
              "      <td>412574</td>\n",
              "      <td>0</td>\n",
              "      <td>2018</td>\n",
              "      <td>7</td>\n",
              "      <td>1</td>\n",
              "      <td>6</td>\n",
              "    </tr>\n",
              "    <tr>\n",
              "      <th>2</th>\n",
              "      <td>0</td>\n",
              "      <td>281322</td>\n",
              "      <td>390539</td>\n",
              "      <td>0</td>\n",
              "      <td>2018</td>\n",
              "      <td>7</td>\n",
              "      <td>1</td>\n",
              "      <td>7</td>\n",
              "    </tr>\n",
              "    <tr>\n",
              "      <th>3</th>\n",
              "      <td>0</td>\n",
              "      <td>324231</td>\n",
              "      <td>366425</td>\n",
              "      <td>1</td>\n",
              "      <td>2018</td>\n",
              "      <td>7</td>\n",
              "      <td>1</td>\n",
              "      <td>8</td>\n",
              "    </tr>\n",
              "    <tr>\n",
              "      <th>4</th>\n",
              "      <td>0</td>\n",
              "      <td>314379</td>\n",
              "      <td>354843</td>\n",
              "      <td>1</td>\n",
              "      <td>2018</td>\n",
              "      <td>7</td>\n",
              "      <td>1</td>\n",
              "      <td>9</td>\n",
              "    </tr>\n",
              "  </tbody>\n",
              "</table>\n",
              "</div>\n",
              "      <button class=\"colab-df-convert\" onclick=\"convertToInteractive('df-1d3eb87f-34f7-4bb2-93a1-41caa0d80ea1')\"\n",
              "              title=\"Convert this dataframe to an interactive table.\"\n",
              "              style=\"display:none;\">\n",
              "        \n",
              "  <svg xmlns=\"http://www.w3.org/2000/svg\" height=\"24px\"viewBox=\"0 0 24 24\"\n",
              "       width=\"24px\">\n",
              "    <path d=\"M0 0h24v24H0V0z\" fill=\"none\"/>\n",
              "    <path d=\"M18.56 5.44l.94 2.06.94-2.06 2.06-.94-2.06-.94-.94-2.06-.94 2.06-2.06.94zm-11 1L8.5 8.5l.94-2.06 2.06-.94-2.06-.94L8.5 2.5l-.94 2.06-2.06.94zm10 10l.94 2.06.94-2.06 2.06-.94-2.06-.94-.94-2.06-.94 2.06-2.06.94z\"/><path d=\"M17.41 7.96l-1.37-1.37c-.4-.4-.92-.59-1.43-.59-.52 0-1.04.2-1.43.59L10.3 9.45l-7.72 7.72c-.78.78-.78 2.05 0 2.83L4 21.41c.39.39.9.59 1.41.59.51 0 1.02-.2 1.41-.59l7.78-7.78 2.81-2.81c.8-.78.8-2.07 0-2.86zM5.41 20L4 18.59l7.72-7.72 1.47 1.35L5.41 20z\"/>\n",
              "  </svg>\n",
              "      </button>\n",
              "      \n",
              "  <style>\n",
              "    .colab-df-container {\n",
              "      display:flex;\n",
              "      flex-wrap:wrap;\n",
              "      gap: 12px;\n",
              "    }\n",
              "\n",
              "    .colab-df-convert {\n",
              "      background-color: #E8F0FE;\n",
              "      border: none;\n",
              "      border-radius: 50%;\n",
              "      cursor: pointer;\n",
              "      display: none;\n",
              "      fill: #1967D2;\n",
              "      height: 32px;\n",
              "      padding: 0 0 0 0;\n",
              "      width: 32px;\n",
              "    }\n",
              "\n",
              "    .colab-df-convert:hover {\n",
              "      background-color: #E2EBFA;\n",
              "      box-shadow: 0px 1px 2px rgba(60, 64, 67, 0.3), 0px 1px 3px 1px rgba(60, 64, 67, 0.15);\n",
              "      fill: #174EA6;\n",
              "    }\n",
              "\n",
              "    [theme=dark] .colab-df-convert {\n",
              "      background-color: #3B4455;\n",
              "      fill: #D2E3FC;\n",
              "    }\n",
              "\n",
              "    [theme=dark] .colab-df-convert:hover {\n",
              "      background-color: #434B5C;\n",
              "      box-shadow: 0px 1px 3px 1px rgba(0, 0, 0, 0.15);\n",
              "      filter: drop-shadow(0px 1px 2px rgba(0, 0, 0, 0.3));\n",
              "      fill: #FFFFFF;\n",
              "    }\n",
              "  </style>\n",
              "\n",
              "      <script>\n",
              "        const buttonEl =\n",
              "          document.querySelector('#df-1d3eb87f-34f7-4bb2-93a1-41caa0d80ea1 button.colab-df-convert');\n",
              "        buttonEl.style.display =\n",
              "          google.colab.kernel.accessAllowed ? 'block' : 'none';\n",
              "\n",
              "        async function convertToInteractive(key) {\n",
              "          const element = document.querySelector('#df-1d3eb87f-34f7-4bb2-93a1-41caa0d80ea1');\n",
              "          const dataTable =\n",
              "            await google.colab.kernel.invokeFunction('convertToInteractive',\n",
              "                                                     [key], {});\n",
              "          if (!dataTable) return;\n",
              "\n",
              "          const docLinkHtml = 'Like what you see? Visit the ' +\n",
              "            '<a target=\"_blank\" href=https://colab.research.google.com/notebooks/data_table.ipynb>data table notebook</a>'\n",
              "            + ' to learn more about interactive tables.';\n",
              "          element.innerHTML = '';\n",
              "          dataTable['output_type'] = 'display_data';\n",
              "          await google.colab.output.renderOutput(dataTable, element);\n",
              "          const docLink = document.createElement('div');\n",
              "          docLink.innerHTML = docLinkHtml;\n",
              "          element.appendChild(docLink);\n",
              "        }\n",
              "      </script>\n",
              "    </div>\n",
              "  </div>\n",
              "  "
            ]
          },
          "metadata": {},
          "execution_count": 398
        }
      ]
    },
    {
      "cell_type": "code",
      "source": [
        "# Find the correlations between the electricity price and the rest of the features\n",
        "\n",
        "correlations = df.corr(method='pearson')\n",
        "print(correlations['Generation'].sort_values(ascending=False).to_string())"
      ],
      "metadata": {
        "id": "po4XtNCQEWmX",
        "outputId": "11a1aff8-ecdf-4bbb-a093-1caf9f2c9698",
        "colab": {
          "base_uri": "https://localhost:8080/"
        }
      },
      "execution_count": 399,
      "outputs": [
        {
          "output_type": "stream",
          "name": "stdout",
          "text": [
            "Generation       1.000000\n",
            "Consumption      0.906539\n",
            "hour             0.193926\n",
            "year             0.085825\n",
            "month            0.040776\n",
            "day              0.001501\n",
            "Holiday         -0.034477\n",
            "business hour   -0.185346\n"
          ]
        }
      ]
    },
    {
      "cell_type": "code",
      "source": [
        "print(df.describe())"
      ],
      "metadata": {
        "colab": {
          "base_uri": "https://localhost:8080/"
        },
        "id": "WTqTq_jCrNRL",
        "outputId": "c904a7ad-416a-4b5c-ffff-c1dca624dee6"
      },
      "execution_count": 400,
      "outputs": [
        {
          "output_type": "stream",
          "name": "stdout",
          "text": [
            "            Holiday     Generation    Consumption  business hour  \\\n",
            "count  27019.000000   27019.000000   27019.000000   27019.000000   \n",
            "mean       0.051519  439651.924683  455204.401051       0.458418   \n",
            "std        0.221059   72889.239516   75979.258484       0.498277   \n",
            "min        0.000000  182340.000000  304812.000000       0.000000   \n",
            "25%        0.000000  391401.500000  403703.000000       0.000000   \n",
            "50%        0.000000  429362.000000  441196.000000       0.000000   \n",
            "75%        0.000000  473154.500000  490910.000000       1.000000   \n",
            "max        1.000000  704183.000000  710116.000000       1.000000   \n",
            "\n",
            "               year         month           day          hour  \n",
            "count  27019.000000  27019.000000  27019.000000  27019.000000  \n",
            "mean    2019.536696      6.534550     15.729191     11.501758  \n",
            "std        0.974703      3.403973      8.796289      6.921722  \n",
            "min     2018.000000      1.000000      1.000000      0.000000  \n",
            "25%     2019.000000      4.000000      8.000000      6.000000  \n",
            "50%     2020.000000      7.000000     16.000000     12.000000  \n",
            "75%     2020.000000      9.000000     23.000000     18.000000  \n",
            "max     2021.000000     12.000000     31.000000     23.000000  \n"
          ]
        }
      ]
    },
    {
      "cell_type": "code",
      "source": [
        "# Find NaNs and duplicates in df_energy\n",
        "\n",
        "print('There are {} missing values or NaNs in combined_data.'\n",
        "      .format(df.isnull().values.sum()))\n",
        "\n",
        "temp_energy = df.duplicated(keep='first').sum()\n",
        "\n",
        "print('There are {} duplicate rows in combined_data based on all columns.'\n",
        "      .format(temp_energy))"
      ],
      "metadata": {
        "id": "Cteh6Lc4IB9J",
        "outputId": "01b9f503-2a16-4edb-edda-5daef071102e",
        "colab": {
          "base_uri": "https://localhost:8080/"
        }
      },
      "execution_count": 401,
      "outputs": [
        {
          "output_type": "stream",
          "name": "stdout",
          "text": [
            "There are 0 missing values or NaNs in combined_data.\n",
            "There are 0 duplicate rows in combined_data based on all columns.\n"
          ]
        }
      ]
    },
    {
      "cell_type": "code",
      "source": [
        "# Find the number of NaNs in each column\n",
        "\n",
        "df.isnull().sum(axis=0)"
      ],
      "metadata": {
        "id": "hSBuunnHINyh",
        "outputId": "9cebb677-18d7-4d72-f58e-ed4ff0ea399b",
        "colab": {
          "base_uri": "https://localhost:8080/"
        }
      },
      "execution_count": 402,
      "outputs": [
        {
          "output_type": "execute_result",
          "data": {
            "text/plain": [
              "Holiday          0\n",
              "Generation       0\n",
              "Consumption      0\n",
              "business hour    0\n",
              "year             0\n",
              "month            0\n",
              "day              0\n",
              "hour             0\n",
              "dtype: int64"
            ]
          },
          "metadata": {},
          "execution_count": 402
        }
      ]
    },
    {
      "cell_type": "code",
      "source": [
        "# Lag plot for Generation units\n",
        "Total = df['Generation']\n",
        "fig = plt.figure(figsize=(12, 8))\n",
        "pd.plotting.lag_plot(Total, lag=1, c = 'red')\n",
        "plt.title('Lag plot for  Generation units')\n",
        "plt.xlabel('Units at time t-1')\n",
        "plt.ylabel('Units at time t')\n",
        "plt.show()"
      ],
      "metadata": {
        "colab": {
          "base_uri": "https://localhost:8080/",
          "height": 513
        },
        "id": "0kkJrLH-rYDz",
        "outputId": "b4db2712-ce5f-4196-868a-06776b4adc0c"
      },
      "execution_count": 403,
      "outputs": [
        {
          "output_type": "display_data",
          "data": {
            "text/plain": [
              "<Figure size 864x576 with 1 Axes>"
            ],
            "image/png": "[encoded data removed]"
          },
          "metadata": {
            "needs_background": "light"
          }
        }
      ]
    },
    {
      "cell_type": "code",
      "source": [
        "# Time series plot\n",
        "Total = df['Generation']\n",
        "fig = plt.figure(figsize=(12, 8))\n",
        "plt.plot(Total)\n",
        "plt.title('Time series plot for Generation')\n",
        "plt.xlabel('Time')\n",
        "plt.ylabel('Total')\n",
        "plt.show()"
      ],
      "metadata": {
        "colab": {
          "base_uri": "https://localhost:8080/",
          "height": 513
        },
        "id": "OPS1KN6frqds",
        "outputId": "9d47494c-d514-4793-df6e-6129156595a3"
      },
      "execution_count": 404,
      "outputs": [
        {
          "output_type": "display_data",
          "data": {
            "text/plain": [
              "<Figure size 864x576 with 1 Axes>"
            ],
            "image/png": "[encoded data removed]"
          },
          "metadata": {
            "needs_background": "light"
          }
        }
      ]
    },
    {
      "cell_type": "code",
      "source": [
        "# Scaling the input data\n",
        "sc = MinMaxScaler()\n",
        "label_sc = MinMaxScaler()\n",
        "data = sc.fit_transform(df.values)"
      ],
      "metadata": {
        "id": "aWpUdJ24r_HS"
      },
      "execution_count": 405,
      "outputs": []
    },
    {
      "cell_type": "code",
      "source": [
        "df.head()"
      ],
      "metadata": {
        "id": "OptiylAZnG4F",
        "outputId": "fdb720d7-7c7f-4e02-bf16-2686a259e577",
        "colab": {
          "base_uri": "https://localhost:8080/",
          "height": 206
        }
      },
      "execution_count": 435,
      "outputs": [
        {
          "output_type": "execute_result",
          "data": {
            "text/plain": [
              "   Holiday  Generation  Consumption  business hour  year  month  day  hour\n",
              "0        0      182340       509702              0  2018      7    1     5\n",
              "1        0      285585       412574              0  2018      7    1     6\n",
              "2        0      281322       390539              0  2018      7    1     7\n",
              "3        0      324231       366425              1  2018      7    1     8\n",
              "4        0      314379       354843              1  2018      7    1     9"
            ],
            "text/html": [
              "\n",
              "  <div id=\"df-22127db4-5eed-4259-b3ea-17667c24b948\">\n",
              "    <div class=\"colab-df-container\">\n",
              "      <div>\n",
              "<style scoped>\n",
              "    .dataframe tbody tr th:only-of-type {\n",
              "        vertical-align: middle;\n",
              "    }\n",
              "\n",
              "    .dataframe tbody tr th {\n",
              "        vertical-align: top;\n",
              "    }\n",
              "\n",
              "    .dataframe thead th {\n",
              "        text-align: right;\n",
              "    }\n",
              "</style>\n",
              "<table border=\"1\" class=\"dataframe\">\n",
              "  <thead>\n",
              "    <tr style=\"text-align: right;\">\n",
              "      <th></th>\n",
              "      <th>Holiday</th>\n",
              "      <th>Generation</th>\n",
              "      <th>Consumption</th>\n",
              "      <th>business hour</th>\n",
              "      <th>year</th>\n",
              "      <th>month</th>\n",
              "      <th>day</th>\n",
              "      <th>hour</th>\n",
              "    </tr>\n",
              "  </thead>\n",
              "  <tbody>\n",
              "    <tr>\n",
              "      <th>0</th>\n",
              "      <td>0</td>\n",
              "      <td>182340</td>\n",
              "      <td>509702</td>\n",
              "      <td>0</td>\n",
              "      <td>2018</td>\n",
              "      <td>7</td>\n",
              "      <td>1</td>\n",
              "      <td>5</td>\n",
              "    </tr>\n",
              "    <tr>\n",
              "      <th>1</th>\n",
              "      <td>0</td>\n",
              "      <td>285585</td>\n",
              "      <td>412574</td>\n",
              "      <td>0</td>\n",
              "      <td>2018</td>\n",
              "      <td>7</td>\n",
              "      <td>1</td>\n",
              "      <td>6</td>\n",
              "    </tr>\n",
              "    <tr>\n",
              "      <th>2</th>\n",
              "      <td>0</td>\n",
              "      <td>281322</td>\n",
              "      <td>390539</td>\n",
              "      <td>0</td>\n",
              "      <td>2018</td>\n",
              "      <td>7</td>\n",
              "      <td>1</td>\n",
              "      <td>7</td>\n",
              "    </tr>\n",
              "    <tr>\n",
              "      <th>3</th>\n",
              "      <td>0</td>\n",
              "      <td>324231</td>\n",
              "      <td>366425</td>\n",
              "      <td>1</td>\n",
              "      <td>2018</td>\n",
              "      <td>7</td>\n",
              "      <td>1</td>\n",
              "      <td>8</td>\n",
              "    </tr>\n",
              "    <tr>\n",
              "      <th>4</th>\n",
              "      <td>0</td>\n",
              "      <td>314379</td>\n",
              "      <td>354843</td>\n",
              "      <td>1</td>\n",
              "      <td>2018</td>\n",
              "      <td>7</td>\n",
              "      <td>1</td>\n",
              "      <td>9</td>\n",
              "    </tr>\n",
              "  </tbody>\n",
              "</table>\n",
              "</div>\n",
              "      <button class=\"colab-df-convert\" onclick=\"convertToInteractive('df-22127db4-5eed-4259-b3ea-17667c24b948')\"\n",
              "              title=\"Convert this dataframe to an interactive table.\"\n",
              "              style=\"display:none;\">\n",
              "        \n",
              "  <svg xmlns=\"http://www.w3.org/2000/svg\" height=\"24px\"viewBox=\"0 0 24 24\"\n",
              "       width=\"24px\">\n",
              "    <path d=\"M0 0h24v24H0V0z\" fill=\"none\"/>\n",
              "    <path d=\"M18.56 5.44l.94 2.06.94-2.06 2.06-.94-2.06-.94-.94-2.06-.94 2.06-2.06.94zm-11 1L8.5 8.5l.94-2.06 2.06-.94-2.06-.94L8.5 2.5l-.94 2.06-2.06.94zm10 10l.94 2.06.94-2.06 2.06-.94-2.06-.94-.94-2.06-.94 2.06-2.06.94z\"/><path d=\"M17.41 7.96l-1.37-1.37c-.4-.4-.92-.59-1.43-.59-.52 0-1.04.2-1.43.59L10.3 9.45l-7.72 7.72c-.78.78-.78 2.05 0 2.83L4 21.41c.39.39.9.59 1.41.59.51 0 1.02-.2 1.41-.59l7.78-7.78 2.81-2.81c.8-.78.8-2.07 0-2.86zM5.41 20L4 18.59l7.72-7.72 1.47 1.35L5.41 20z\"/>\n",
              "  </svg>\n",
              "      </button>\n",
              "      \n",
              "  <style>\n",
              "    .colab-df-container {\n",
              "      display:flex;\n",
              "      flex-wrap:wrap;\n",
              "      gap: 12px;\n",
              "    }\n",
              "\n",
              "    .colab-df-convert {\n",
              "      background-color: #E8F0FE;\n",
              "      border: none;\n",
              "      border-radius: 50%;\n",
              "      cursor: pointer;\n",
              "      display: none;\n",
              "      fill: #1967D2;\n",
              "      height: 32px;\n",
              "      padding: 0 0 0 0;\n",
              "      width: 32px;\n",
              "    }\n",
              "\n",
              "    .colab-df-convert:hover {\n",
              "      background-color: #E2EBFA;\n",
              "      box-shadow: 0px 1px 2px rgba(60, 64, 67, 0.3), 0px 1px 3px 1px rgba(60, 64, 67, 0.15);\n",
              "      fill: #174EA6;\n",
              "    }\n",
              "\n",
              "    [theme=dark] .colab-df-convert {\n",
              "      background-color: #3B4455;\n",
              "      fill: #D2E3FC;\n",
              "    }\n",
              "\n",
              "    [theme=dark] .colab-df-convert:hover {\n",
              "      background-color: #434B5C;\n",
              "      box-shadow: 0px 1px 3px 1px rgba(0, 0, 0, 0.15);\n",
              "      filter: drop-shadow(0px 1px 2px rgba(0, 0, 0, 0.3));\n",
              "      fill: #FFFFFF;\n",
              "    }\n",
              "  </style>\n",
              "\n",
              "      <script>\n",
              "        const buttonEl =\n",
              "          document.querySelector('#df-22127db4-5eed-4259-b3ea-17667c24b948 button.colab-df-convert');\n",
              "        buttonEl.style.display =\n",
              "          google.colab.kernel.accessAllowed ? 'block' : 'none';\n",
              "\n",
              "        async function convertToInteractive(key) {\n",
              "          const element = document.querySelector('#df-22127db4-5eed-4259-b3ea-17667c24b948');\n",
              "          const dataTable =\n",
              "            await google.colab.kernel.invokeFunction('convertToInteractive',\n",
              "                                                     [key], {});\n",
              "          if (!dataTable) return;\n",
              "\n",
              "          const docLinkHtml = 'Like what you see? Visit the ' +\n",
              "            '<a target=\"_blank\" href=https://colab.research.google.com/notebooks/data_table.ipynb>data table notebook</a>'\n",
              "            + ' to learn more about interactive tables.';\n",
              "          element.innerHTML = '';\n",
              "          dataTable['output_type'] = 'display_data';\n",
              "          await google.colab.output.renderOutput(dataTable, element);\n",
              "          const docLink = document.createElement('div');\n",
              "          docLink.innerHTML = docLinkHtml;\n",
              "          element.appendChild(docLink);\n",
              "        }\n",
              "      </script>\n",
              "    </div>\n",
              "  </div>\n",
              "  "
            ]
          },
          "metadata": {},
          "execution_count": 435
        }
      ]
    },
    {
      "cell_type": "code",
      "source": [
        "def move_sliding_window(data, window_size, inputs_cols_indices, label_col_index):\n",
        " \n",
        "    inputs = np.zeros((len(data) - window_size, window_size, len(inputs_cols_indices)))\n",
        "    labels = np.zeros(len(data) - window_size)\n",
        "\n",
        "    for i in range(window_size, len(data)):\n",
        "        inputs[i - window_size] = data[i - window_size : i, inputs_cols_indices]\n",
        "        labels[i - window_size] = data[i, label_col_index]\n",
        "    inputs = inputs.reshape(-1, window_size, len(inputs_cols_indices))\n",
        "    labels = labels.reshape(-1, 1)\n",
        "    print(inputs.shape, labels.shape)\n",
        "\n",
        "    return inputs, labels"
      ],
      "metadata": {
        "id": "aVtstGxnsDqs"
      },
      "execution_count": 406,
      "outputs": []
    },
    {
      "cell_type": "code",
      "source": [
        "label_col_index = 1 # Generation as label to predict\n",
        "inputs_cols_indices =2,3,6,7  # use [\"Holiday\",\"Date\",\"Consumption\"] columns as features\n",
        "\n",
        "window_size = 24\n",
        "\n",
        "label_scalers = {}\n",
        "\n",
        "train_x = []\n",
        "test_x = {}\n",
        "test_y = {}"
      ],
      "metadata": {
        "id": "paQ05BpmsIsy"
      },
      "execution_count": 407,
      "outputs": []
    },
    {
      "cell_type": "code",
      "source": [
        "label_sc.fit(df.iloc[:, label_col_index].values.reshape(-1, 1))\n",
        "label_scalers[file] = label_sc"
      ],
      "metadata": {
        "id": "ivpOlBLBsiBC"
      },
      "execution_count": 408,
      "outputs": []
    },
    {
      "cell_type": "code",
      "source": [
        "inputs, labels = move_sliding_window(data,window_size,inputs_cols_indices=inputs_cols_indices,label_col_index=label_col_index, )\n",
        "\n",
        "test_portion = int(0.1 * len(inputs))\n",
        "if len(train_x) == 0:  # first iteration\n",
        "    train_x = inputs[:-test_portion]\n",
        "    train_y = labels[:-test_portion]\n",
        "else:\n",
        "    train_x = np.concatenate((train_x, inputs[:-test_portion]))\n",
        "    train_y = np.concatenate((train_y, labels[:-test_portion]))\n",
        "test_x[file] = inputs[-test_portion:]\n",
        "test_y[file] = labels[-test_portion:]"
      ],
      "metadata": {
        "colab": {
          "base_uri": "https://localhost:8080/"
        },
        "id": "EbXsy6qyskVS",
        "outputId": "45896407-bc22-4a16-dc4a-6265f9cdb608"
      },
      "execution_count": 409,
      "outputs": [
        {
          "output_type": "stream",
          "name": "stdout",
          "text": [
            "(26995, 24, 4) (26995, 1)\n"
          ]
        }
      ]
    },
    {
      "cell_type": "code",
      "source": [
        "batch_size =16\n",
        "# Split data into training and validation sets\n",
        "train_x, val_x, train_y, val_y = train_test_split(\n",
        "    train_x, train_y, test_size=0.2, random_state=42)\n",
        "\n",
        "# Create TensorDatasets and DataLoaders for training and validation sets\n",
        "train_data = TensorDataset(torch.from_numpy(train_x), torch.from_numpy(train_y))\n",
        "train_loader = DataLoader(train_data, shuffle=True, batch_size=batch_size, drop_last=True)\n",
        "\n",
        "val_data = TensorDataset(torch.from_numpy(val_x), torch.from_numpy(val_y))\n",
        "val_loader = DataLoader(val_data, shuffle=True, batch_size=batch_size, drop_last=True)"
      ],
      "metadata": {
        "id": "VuWHvLKGsuZB"
      },
      "execution_count": 410,
      "outputs": []
    },
    {
      "cell_type": "code",
      "source": [
        "print(f\"Train Size: {train_x.shape}, Batch Size: {batch_size}, # of iterations per epoch: {int(train_x.shape[0]/batch_size)}\")\n",
        "print(f\"Validation Size: {val_x.shape}, Batch Size: {batch_size}, # of iterations per epoch: {int(val_x.shape[0]/batch_size)}\")"
      ],
      "metadata": {
        "colab": {
          "base_uri": "https://localhost:8080/"
        },
        "id": "u1GEye5ws6T6",
        "outputId": "10e52fa6-776b-4b1d-ee69-09aa8cd2b4b4"
      },
      "execution_count": 411,
      "outputs": [
        {
          "output_type": "stream",
          "name": "stdout",
          "text": [
            "Train Size: (19436, 24, 4), Batch Size: 16, # of iterations per epoch: 1214\n",
            "Validation Size: (4860, 24, 4), Batch Size: 16, # of iterations per epoch: 303\n"
          ]
        }
      ]
    },
    {
      "cell_type": "code",
      "source": [
        "# release some memory\n",
        "del train_x, train_y"
      ],
      "metadata": {
        "id": "T0VaLQEStANR"
      },
      "execution_count": 412,
      "outputs": []
    },
    {
      "cell_type": "code",
      "source": [
        "# torch.cuda.is_available() checks and returns a Boolean True if a GPU is available, else it'll return False\n",
        "is_cuda = torch.cuda.is_available()\n",
        "\n",
        "# If we have a GPU available, we'll set our device to GPU. We'll use this device variable later in our code.\n",
        "if is_cuda:\n",
        "    device = torch.device(\"cuda\")\n",
        "    print(\"GPU is available\")\n",
        "else:\n",
        "    device = torch.device(\"cpu\")"
      ],
      "metadata": {
        "colab": {
          "base_uri": "https://localhost:8080/"
        },
        "id": "JHnBqHZWtCKB",
        "outputId": "a0ce77e6-621d-4f25-84bb-e1dce4ffe1d4"
      },
      "execution_count": 413,
      "outputs": [
        {
          "output_type": "stream",
          "name": "stdout",
          "text": [
            "GPU is available\n"
          ]
        }
      ]
    },
    {
      "cell_type": "markdown",
      "source": [
        "# LSTM Model"
      ],
      "metadata": {
        "id": "pjhHJKh7ttfx"
      }
    },
    {
      "cell_type": "code",
      "source": [
        "class LSTMNet(nn.Module):\n",
        "    def __init__(self, input_dim, hidden_dim, output_dim, n_layers, drop_prob=0.2):\n",
        "        super(LSTMNet, self).__init__()\n",
        "        self.hidden_dim = hidden_dim\n",
        "        self.n_layers = n_layers\n",
        "\n",
        "        self.lstm = nn.LSTM(\n",
        "            input_dim, hidden_dim, n_layers, batch_first=True, dropout=drop_prob\n",
        "        )\n",
        "        self.fc = nn.Linear(hidden_dim, output_dim)\n",
        "        self.relu = nn.ReLU()\n",
        "\n",
        "    def forward(self, x, h):\n",
        "        out, h = self.lstm(x, h)\n",
        "        out = self.fc(self.relu(out[:, -1]))\n",
        "        return out, h\n",
        "\n",
        "    def init_hidden(self, batch_size):\n",
        "        weight = next(self.parameters()).data\n",
        "        # Initialze h_0, c_0 with zeros\n",
        "        hidden = (\n",
        "            weight.new(self.n_layers, batch_size, self.hidden_dim)\n",
        "            .zero_()\n",
        "            .to(device),  # h_0\n",
        "            weight.new(self.n_layers, batch_size, self.hidden_dim).zero_().to(device),\n",
        "        )\n",
        "        return hidden"
      ],
      "metadata": {
        "id": "N2ZyPFdxtEMK"
      },
      "execution_count": 414,
      "outputs": []
    },
    {
      "cell_type": "code",
      "source": [
        "def train(train_loader, val_loader, learn_rate, hidden_dim=256, n_layers=2, n_epochs=3, model_type=\"GRU\", print_every=100, threshold=0.01):\n",
        "    input_dim = next(iter(train_loader))[0].shape[2]\n",
        "    output_dim = 1\n",
        "\n",
        "    # Instantiate the model\n",
        "    if model_type == \"GRU\":\n",
        "        model = GRUNet(input_dim, hidden_dim, output_dim, n_layers)\n",
        "    else:\n",
        "        model = LSTMNet(input_dim, hidden_dim, output_dim, n_layers)\n",
        "    model.to(device)\n",
        "\n",
        "    # Define loss function and optimizer\n",
        "    criterion = nn.MSELoss()\n",
        "    optimizer = torch.optim.Adam(model.parameters(), lr=learn_rate)\n",
        "\n",
        "    model.train()\n",
        "    print(\"Starting Training of {} model\".format(model_type))\n",
        "    epoch_times = []\n",
        "\n",
        "    train_losses = []\n",
        "    val_losses = []\n",
        "    train_accs = []\n",
        "    val_accs = []\n",
        "\n",
        "    # Start training loop\n",
        "    for epoch in range(1, n_epochs + 1):\n",
        "        start_time = time.process_time()\n",
        "\n",
        "        # Training loop\n",
        "        h = model.init_hidden(batch_size)\n",
        "        avg_loss = 0.0\n",
        "        correct_count = 0\n",
        "        total_count = 0\n",
        "        counter = 0\n",
        "        for x, label in train_loader:\n",
        "            counter += 1\n",
        "            if model_type == \"GRU\":\n",
        "                h = h.data\n",
        "            elif model_type == \"LSTM\":\n",
        "                h = tuple([e.data for e in h])\n",
        "\n",
        "            model.zero_grad()\n",
        "            out, h = model(x.to(device).float(), h)\n",
        "            loss = criterion(out, label.to(device).float())\n",
        "            loss.backward()\n",
        "            optimizer.step()\n",
        "\n",
        "            avg_loss += loss.item()\n",
        "            diff = torch.abs(out - label.to(device).float())\n",
        "            correct_count += (diff <= threshold).sum().item()\n",
        "            total_count += diff.numel()\n",
        "            if counter % print_every == 0:\n",
        "                print(\n",
        "                    f\"Epoch {epoch} - Step: {counter}/{len(train_loader)} - Average Loss for Epoch: {avg_loss/counter}\"\n",
        "                )\n",
        "\n",
        "        current_time = time.process_time()\n",
        "        train_losses.append(avg_loss / len(train_loader))\n",
        "        train_acc = correct_count / total_count\n",
        "        train_accs.append(train_acc)\n",
        "        print(f\"Epoch {epoch}/{n_epochs} Done, Train Loss: {train_losses[-1]}, Train Accuracy: {train_acc}\")\n",
        "        print(f\"Time Elapsed for Epoch: {current_time-start_time} seconds\")\n",
        "\n",
        "        # Validation loop\n",
        "        model.eval()\n",
        "        with torch.no_grad():\n",
        "            val_loss = 0.0\n",
        "            correct_count = 0\n",
        "            total_count = 0\n",
        "            for x, label in val_loader:\n",
        "                h = model.init_hidden(batch_size)\n",
        "                if model_type == \"GRU\":\n",
        "                    h = h.data\n",
        "                elif model_type == \"LSTM\":\n",
        "                    h = tuple([e.data for e in h])\n",
        "\n",
        "                out, h = model(x.to(device).float(), h)\n",
        "                loss = criterion(out, label.to(device).float())\n",
        "                val_loss += loss.item()\n",
        "\n",
        "                diff = torch.abs(out - label.to(device).float())\n",
        "                correct_count += (diff <= threshold).sum().item()\n",
        "                total_count += diff.numel()\n",
        "\n",
        "            val_losses.append(val_loss / len(val_loader))\n",
        "            val_acc = correct_count / total_count\n",
        "            val_accs.append(val_acc)\n",
        "            print(f\"Validation Loss: {val_losses[-1]} - Validation Accuracy: {val_acc}\")\n",
        "        model.train()\n",
        "    \n",
        "    # Plot the training and validation accuracy\n",
        "    plt.figure(figsize=(15, 12))\n",
        "    plt.subplot(2, 2, 1)\n",
        "    plt.plot(train_accs, label=\"Train accuracy\")\n",
        "    plt.plot(val_accs, label=\"Validation accuracy\")\n",
        "    plt.legend()\n",
        "    plt.xlabel(\"Epoch\")\n",
        "    plt.ylabel(\"Loss\")\n",
        "    plt.show()\n",
        "\n",
        "    # Plot the training and validation losses\n",
        "    plt.figure(figsize=(15, 12))\n",
        "    plt.subplot(2, 2, 2)\n",
        "    plt.plot(train_losses, label=\"Train Loss\")\n",
        "    plt.plot(val_losses, label=\"Validation Loss\")\n",
        "    plt.legend()\n",
        "    plt.xlabel(\"Epoch\")\n",
        "    plt.ylabel(\"Loss\")\n",
        "    plt.show()\n",
        "\n",
        "    print(f\"Total Training Time: {sum(epoch_times)} seconds\")\n",
        "\n",
        "    return model"
      ],
      "metadata": {
        "id": "8pJtTiNotGmR"
      },
      "execution_count": 417,
      "outputs": []
    },
    {
      "cell_type": "markdown",
      "source": [
        "# Training LSTM Model"
      ],
      "metadata": {
        "id": "bSACIKH5txoA"
      }
    },
    {
      "cell_type": "code",
      "source": [
        "n_hidden = 256\n",
        "n_layers = 2\n",
        "n_epochs = 250\n",
        "print_every = 1200\n",
        "lr = 0.001\n",
        "lstm_model = train(\n",
        "    train_loader,\n",
        "    val_loader=val_loader,\n",
        "    learn_rate=lr,\n",
        "    hidden_dim=n_hidden,\n",
        "    n_layers=n_layers,\n",
        "    n_epochs=n_epochs,\n",
        "    model_type=\"LSTM\",\n",
        "    print_every=print_every,\n",
        ")"
      ],
      "metadata": {
        "colab": {
          "base_uri": "https://localhost:8080/",
          "height": 1000
        },
        "id": "RLHIew2it1Yo",
        "outputId": "0dc0e3ae-d9f2-457b-abcc-19d36a008090"
      },
      "execution_count": 450,
      "outputs": [
        {
          "output_type": "stream",
          "name": "stdout",
          "text": [
            "Starting Training of LSTM model\n",
            "Epoch 1 - Step: 1200/1214 - Average Loss for Epoch: 0.007003872615872145\n",
            "Epoch 1/250 Done, Train Loss: 0.006987100335543237, Train Accuracy: 0.15928747940691929\n",
            "Time Elapsed for Epoch: 5.836995270999978 seconds\n",
            "Validation Loss: 0.004037368096232187 - Validation Accuracy: 0.20895214521452146\n",
            "Epoch 2 - Step: 1200/1214 - Average Loss for Epoch: 0.004188533207319173\n",
            "Epoch 2/250 Done, Train Loss: 0.004180496003009077, Train Accuracy: 0.2107186985172982\n",
            "Time Elapsed for Epoch: 5.7833130049998545 seconds\n",
            "Validation Loss: 0.003884204851838809 - Validation Accuracy: 0.21658415841584158\n",
            "Epoch 3 - Step: 1200/1214 - Average Loss for Epoch: 0.003986285062698395\n",
            "Epoch 3/250 Done, Train Loss: 0.003984766816134934, Train Accuracy: 0.22600906095551895\n",
            "Time Elapsed for Epoch: 5.750864103999902 seconds\n",
            "Validation Loss: 0.003633088026959956 - Validation Accuracy: 0.26567656765676567\n",
            "Epoch 4 - Step: 1200/1214 - Average Loss for Epoch: 0.003968599581906649\n",
            "Epoch 4/250 Done, Train Loss: 0.003967385775911356, Train Accuracy: 0.23924011532125206\n",
            "Time Elapsed for Epoch: 5.95754346800004 seconds\n",
            "Validation Loss: 0.003583318515251953 - Validation Accuracy: 0.28671617161716173\n",
            "Epoch 5 - Step: 1200/1214 - Average Loss for Epoch: 0.003844219360192559\n",
            "Epoch 5/250 Done, Train Loss: 0.0038483993090863517, Train Accuracy: 0.23882825370675453\n",
            "Time Elapsed for Epoch: 5.6071647509998 seconds\n",
            "Validation Loss: 0.003531250626122711 - Validation Accuracy: 0.2926980198019802\n",
            "Epoch 6 - Step: 1200/1214 - Average Loss for Epoch: 0.003835163439701622\n",
            "Epoch 6/250 Done, Train Loss: 0.003839115044228653, Train Accuracy: 0.25252265238879734\n",
            "Time Elapsed for Epoch: 5.749735322000106 seconds\n",
            "Validation Loss: 0.0036763575185657397 - Validation Accuracy: 0.27660891089108913\n",
            "Epoch 7 - Step: 1200/1214 - Average Loss for Epoch: 0.0037840799430462844\n",
            "Epoch 7/250 Done, Train Loss: 0.003778873867755357, Train Accuracy: 0.2546849258649094\n",
            "Time Elapsed for Epoch: 5.565115380999941 seconds\n",
            "Validation Loss: 0.0035731210754669455 - Validation Accuracy: 0.25268151815181517\n",
            "Epoch 8 - Step: 1200/1214 - Average Loss for Epoch: 0.0037403271901591023\n",
            "Epoch 8/250 Done, Train Loss: 0.0037273653258771493, Train Accuracy: 0.2751235584843493\n",
            "Time Elapsed for Epoch: 5.88949344699995 seconds\n",
            "Validation Loss: 0.0038859904380653533 - Validation Accuracy: 0.3459158415841584\n",
            "Epoch 9 - Step: 1200/1214 - Average Loss for Epoch: 0.0037303249565835963\n",
            "Epoch 9/250 Done, Train Loss: 0.0037251599745537637, Train Accuracy: 0.2760502471169687\n",
            "Time Elapsed for Epoch: 5.572851931000059 seconds\n",
            "Validation Loss: 0.0036716104070917263 - Validation Accuracy: 0.24546204620462045\n",
            "Epoch 10 - Step: 1200/1214 - Average Loss for Epoch: 0.0037049820366155473\n",
            "Epoch 10/250 Done, Train Loss: 0.0036870160682761313, Train Accuracy: 0.28325782537067545\n",
            "Time Elapsed for Epoch: 5.883423628999935 seconds\n",
            "Validation Loss: 0.0035650426298912026 - Validation Accuracy: 0.3648927392739274\n",
            "Epoch 11 - Step: 1200/1214 - Average Loss for Epoch: 0.003632614524552385\n",
            "Epoch 11/250 Done, Train Loss: 0.003638082306509967, Train Accuracy: 0.28722199341021415\n",
            "Time Elapsed for Epoch: 5.524902294000185 seconds\n",
            "Validation Loss: 0.0035544895719146668 - Validation Accuracy: 0.25783828382838286\n",
            "Epoch 12 - Step: 1200/1214 - Average Loss for Epoch: 0.0036688055624593593\n",
            "Epoch 12/250 Done, Train Loss: 0.003668792533089485, Train Accuracy: 0.2863982701812191\n",
            "Time Elapsed for Epoch: 5.9416955830001825 seconds\n",
            "Validation Loss: 0.0035781173318664454 - Validation Accuracy: 0.34694719471947194\n",
            "Epoch 13 - Step: 1200/1214 - Average Loss for Epoch: 0.0036006208343072406\n",
            "Epoch 13/250 Done, Train Loss: 0.003605389452633936, Train Accuracy: 0.2998867380560132\n",
            "Time Elapsed for Epoch: 5.544517995000206 seconds\n",
            "Validation Loss: 0.0034552338628099136 - Validation Accuracy: 0.37623762376237624\n",
            "Epoch 14 - Step: 1200/1214 - Average Loss for Epoch: 0.0036222167924036815\n",
            "Epoch 14/250 Done, Train Loss: 0.0036270752839682335, Train Accuracy: 0.29602553542009885\n",
            "Time Elapsed for Epoch: 6.154664986999705 seconds\n",
            "Validation Loss: 0.003539186830112938 - Validation Accuracy: 0.26485148514851486\n",
            "Epoch 15 - Step: 1200/1214 - Average Loss for Epoch: 0.0036057963378577067\n",
            "Epoch 15/250 Done, Train Loss: 0.0035993870854849736, Train Accuracy: 0.30364497528830314\n",
            "Time Elapsed for Epoch: 5.570288164999965 seconds\n",
            "Validation Loss: 0.003518544304416678 - Validation Accuracy: 0.3094059405940594\n",
            "Epoch 16 - Step: 1200/1214 - Average Loss for Epoch: 0.0035746388031960424\n",
            "Epoch 16/250 Done, Train Loss: 0.003585435406385351, Train Accuracy: 0.30457166392092255\n",
            "Time Elapsed for Epoch: 5.998076196000056 seconds\n",
            "Validation Loss: 0.0033694174520674442 - Validation Accuracy: 0.38551980198019803\n",
            "Epoch 17 - Step: 1200/1214 - Average Loss for Epoch: 0.003571840405650922\n",
            "Epoch 17/250 Done, Train Loss: 0.0035703516309537934, Train Accuracy: 0.3063735584843493\n",
            "Time Elapsed for Epoch: 5.411967188999824 seconds\n",
            "Validation Loss: 0.003564438986263112 - Validation Accuracy: 0.23081683168316833\n",
            "Epoch 18 - Step: 1200/1214 - Average Loss for Epoch: 0.003570341151789762\n",
            "Epoch 18/250 Done, Train Loss: 0.0035726679123660376, Train Accuracy: 0.30482907742998355\n",
            "Time Elapsed for Epoch: 6.073934787000326 seconds\n",
            "Validation Loss: 0.0034294443650393232 - Validation Accuracy: 0.3549917491749175\n",
            "Epoch 19 - Step: 1200/1214 - Average Loss for Epoch: 0.003553440574257062\n",
            "Epoch 19/250 Done, Train Loss: 0.0035620809749146724, Train Accuracy: 0.31239703459637563\n",
            "Time Elapsed for Epoch: 5.571040866999738 seconds\n",
            "Validation Loss: 0.00351029827800063 - Validation Accuracy: 0.31456270627062705\n",
            "Epoch 20 - Step: 1200/1214 - Average Loss for Epoch: 0.0035577171725708467\n",
            "Epoch 20/250 Done, Train Loss: 0.0035531299364374956, Train Accuracy: 0.31157331136738053\n",
            "Time Elapsed for Epoch: 6.115869097000086 seconds\n",
            "Validation Loss: 0.0033859896833110113 - Validation Accuracy: 0.38077557755775576\n",
            "Epoch 21 - Step: 1200/1214 - Average Loss for Epoch: 0.003549393018486929\n",
            "Epoch 21/250 Done, Train Loss: 0.0035446064004639455, Train Accuracy: 0.324083607907743\n",
            "Time Elapsed for Epoch: 5.575685344000249 seconds\n",
            "Validation Loss: 0.0034009878475477584 - Validation Accuracy: 0.40779702970297027\n",
            "Epoch 22 - Step: 1200/1214 - Average Loss for Epoch: 0.003509422886078634\n",
            "Epoch 22/250 Done, Train Loss: 0.0035095228525427137, Train Accuracy: 0.318420510708402\n",
            "Time Elapsed for Epoch: 6.131413387999601 seconds\n",
            "Validation Loss: 0.003458805736252291 - Validation Accuracy: 0.35932343234323433\n",
            "Epoch 23 - Step: 1200/1214 - Average Loss for Epoch: 0.003512050513927534\n",
            "Epoch 23/250 Done, Train Loss: 0.0035068097770337018, Train Accuracy: 0.33201194398682043\n",
            "Time Elapsed for Epoch: 5.4286429289995795 seconds\n",
            "Validation Loss: 0.003405965043939942 - Validation Accuracy: 0.397483498349835\n",
            "Epoch 24 - Step: 1200/1214 - Average Loss for Epoch: 0.003512381487331974\n",
            "Epoch 24/250 Done, Train Loss: 0.003515956082087489, Train Accuracy: 0.32516474464579903\n",
            "Time Elapsed for Epoch: 6.18591895399959 seconds\n",
            "Validation Loss: 0.0033637751520091894 - Validation Accuracy: 0.38077557755775576\n",
            "Epoch 25 - Step: 1200/1214 - Average Loss for Epoch: 0.003487969140066222\n",
            "Epoch 25/250 Done, Train Loss: 0.003477217339856099, Train Accuracy: 0.33829283360790774\n",
            "Time Elapsed for Epoch: 5.415667636999842 seconds\n",
            "Validation Loss: 0.003526373940217232 - Validation Accuracy: 0.32982673267326734\n",
            "Epoch 26 - Step: 1200/1214 - Average Loss for Epoch: 0.0034879005583085625\n",
            "Epoch 26/250 Done, Train Loss: 0.0034941878313064626, Train Accuracy: 0.3266062602965404\n",
            "Time Elapsed for Epoch: 6.048174108999774 seconds\n",
            "Validation Loss: 0.00340601070770585 - Validation Accuracy: 0.29434818481848185\n",
            "Epoch 27 - Step: 1200/1214 - Average Loss for Epoch: 0.003486523794393482\n",
            "Epoch 27/250 Done, Train Loss: 0.0034904502330244712, Train Accuracy: 0.3277388797364086\n",
            "Time Elapsed for Epoch: 5.491050180000002 seconds\n",
            "Validation Loss: 0.0034872724435664098 - Validation Accuracy: 0.338490099009901\n",
            "Epoch 28 - Step: 1200/1214 - Average Loss for Epoch: 0.0034412713854180764\n",
            "Epoch 28/250 Done, Train Loss: 0.0034447857344524413, Train Accuracy: 0.3283051894563427\n",
            "Time Elapsed for Epoch: 6.153769424000075 seconds\n",
            "Validation Loss: 0.003624389423445488 - Validation Accuracy: 0.2978547854785479\n",
            "Epoch 29 - Step: 1200/1214 - Average Loss for Epoch: 0.0034711929641707685\n",
            "Epoch 29/250 Done, Train Loss: 0.0034632187215161594, Train Accuracy: 0.332166392092257\n",
            "Time Elapsed for Epoch: 5.479926096999861 seconds\n",
            "Validation Loss: 0.003324777415316558 - Validation Accuracy: 0.3844884488448845\n",
            "Epoch 30 - Step: 1200/1214 - Average Loss for Epoch: 0.0034666704908158865\n",
            "Epoch 30/250 Done, Train Loss: 0.003471784135498393, Train Accuracy: 0.3291289126853377\n",
            "Time Elapsed for Epoch: 6.064002034000168 seconds\n",
            "Validation Loss: 0.003393060694776764 - Validation Accuracy: 0.3164191419141914\n",
            "Epoch 31 - Step: 1200/1214 - Average Loss for Epoch: 0.0034641938094803967\n",
            "Epoch 31/250 Done, Train Loss: 0.003455276474574283, Train Accuracy: 0.3264003294892916\n",
            "Time Elapsed for Epoch: 5.613935222999771 seconds\n",
            "Validation Loss: 0.0034294738613152432 - Validation Accuracy: 0.3849009900990099\n",
            "Epoch 32 - Step: 1200/1214 - Average Loss for Epoch: 0.003429525025882564\n",
            "Epoch 32/250 Done, Train Loss: 0.0034389324356367216, Train Accuracy: 0.3304159802306425\n",
            "Time Elapsed for Epoch: 6.041897952999989 seconds\n",
            "Validation Loss: 0.003539417916735966 - Validation Accuracy: 0.19905115511551155\n",
            "Epoch 33 - Step: 1200/1214 - Average Loss for Epoch: 0.0034375284196357823\n",
            "Epoch 33/250 Done, Train Loss: 0.0034327346901346996, Train Accuracy: 0.33885914332784184\n",
            "Time Elapsed for Epoch: 6.19738580000012 seconds\n",
            "Validation Loss: 0.003393655137728328 - Validation Accuracy: 0.3948019801980198\n",
            "Epoch 34 - Step: 1200/1214 - Average Loss for Epoch: 0.0034286529310944996\n",
            "Epoch 34/250 Done, Train Loss: 0.0034317705798415656, Train Accuracy: 0.3456033772652389\n",
            "Time Elapsed for Epoch: 6.022986766000031 seconds\n",
            "Validation Loss: 0.0033786677353532845 - Validation Accuracy: 0.37665016501650167\n",
            "Epoch 35 - Step: 1200/1214 - Average Loss for Epoch: 0.0034348830736416858\n",
            "Epoch 35/250 Done, Train Loss: 0.0034382389522736043, Train Accuracy: 0.34174217462932455\n",
            "Time Elapsed for Epoch: 5.442076364000059 seconds\n",
            "Validation Loss: 0.003339070026461564 - Validation Accuracy: 0.28197194719471946\n",
            "Epoch 36 - Step: 1200/1214 - Average Loss for Epoch: 0.0034117557675926945\n",
            "Epoch 36/250 Done, Train Loss: 0.0034134765248630605, Train Accuracy: 0.3479715815485997\n",
            "Time Elapsed for Epoch: 6.0807986939998955 seconds\n",
            "Validation Loss: 0.0033171979033099273 - Validation Accuracy: 0.3789191419141914\n",
            "Epoch 37 - Step: 1200/1214 - Average Loss for Epoch: 0.0033837916619268073\n",
            "Epoch 37/250 Done, Train Loss: 0.003377344579468441, Train Accuracy: 0.34498558484349257\n",
            "Time Elapsed for Epoch: 5.372800432000076 seconds\n",
            "Validation Loss: 0.0033302923975227685 - Validation Accuracy: 0.3987211221122112\n",
            "Epoch 38 - Step: 1200/1214 - Average Loss for Epoch: 0.003391697428463279\n",
            "Epoch 38/250 Done, Train Loss: 0.0033886299358035095, Train Accuracy: 0.34570634266886324\n",
            "Time Elapsed for Epoch: 6.119533196999782 seconds\n",
            "Validation Loss: 0.003262584529198144 - Validation Accuracy: 0.400990099009901\n",
            "Epoch 39 - Step: 1200/1214 - Average Loss for Epoch: 0.0033577485810261957\n",
            "Epoch 39/250 Done, Train Loss: 0.003350709038681586, Train Accuracy: 0.3523990939044481\n",
            "Time Elapsed for Epoch: 5.485000279999895 seconds\n",
            "Validation Loss: 0.00333284116698784 - Validation Accuracy: 0.4179042904290429\n",
            "Epoch 40 - Step: 1200/1214 - Average Loss for Epoch: 0.0033566177077348886\n",
            "Epoch 40/250 Done, Train Loss: 0.00335785633774284, Train Accuracy: 0.34766268533772654\n",
            "Time Elapsed for Epoch: 6.13962371100024 seconds\n",
            "Validation Loss: 0.003275842499434556 - Validation Accuracy: 0.40222772277227725\n",
            "Epoch 41 - Step: 1200/1214 - Average Loss for Epoch: 0.003330849486446823\n",
            "Epoch 41/250 Done, Train Loss: 0.003320353914050714, Train Accuracy: 0.35739291598023065\n",
            "Time Elapsed for Epoch: 5.521242043000257 seconds\n",
            "Validation Loss: 0.0033500571965248394 - Validation Accuracy: 0.34777227722772275\n",
            "Epoch 42 - Step: 1200/1214 - Average Loss for Epoch: 0.0033136055611430494\n",
            "Epoch 42/250 Done, Train Loss: 0.0033117922699554838, Train Accuracy: 0.34235996705107086\n",
            "Time Elapsed for Epoch: 6.115787383999759 seconds\n",
            "Validation Loss: 0.0035226548703582556 - Validation Accuracy: 0.16316006600660066\n",
            "Epoch 43 - Step: 1200/1214 - Average Loss for Epoch: 0.0032672776142377794\n",
            "Epoch 43/250 Done, Train Loss: 0.003282765666494887, Train Accuracy: 0.3374176276771005\n",
            "Time Elapsed for Epoch: 5.619076984000003 seconds\n",
            "Validation Loss: 0.0032320962537797752 - Validation Accuracy: 0.3857260726072607\n",
            "Epoch 44 - Step: 1200/1214 - Average Loss for Epoch: 0.003211958369950783\n",
            "Epoch 44/250 Done, Train Loss: 0.0032229818874872076, Train Accuracy: 0.3486923393739704\n",
            "Time Elapsed for Epoch: 6.096574132000114 seconds\n",
            "Validation Loss: 0.003201357411550513 - Validation Accuracy: 0.3690181518151815\n",
            "Epoch 45 - Step: 1200/1214 - Average Loss for Epoch: 0.003167435926831483\n",
            "Epoch 45/250 Done, Train Loss: 0.003164444485053273, Train Accuracy: 0.3536346787479407\n",
            "Time Elapsed for Epoch: 5.486338024999895 seconds\n",
            "Validation Loss: 0.002994363109434981 - Validation Accuracy: 0.37933168316831684\n",
            "Epoch 46 - Step: 1200/1214 - Average Loss for Epoch: 0.0031458863049798917\n",
            "Epoch 46/250 Done, Train Loss: 0.0031337086014574067, Train Accuracy: 0.3569295716639209\n",
            "Time Elapsed for Epoch: 6.029829906000032 seconds\n",
            "Validation Loss: 0.0029963698861417407 - Validation Accuracy: 0.4168729372937294\n",
            "Epoch 47 - Step: 1200/1214 - Average Loss for Epoch: 0.0030790812299528623\n",
            "Epoch 47/250 Done, Train Loss: 0.0030737497368743074, Train Accuracy: 0.3571355024711697\n",
            "Time Elapsed for Epoch: 5.565612281000085 seconds\n",
            "Validation Loss: 0.0027978578664530716 - Validation Accuracy: 0.42471122112211224\n",
            "Epoch 48 - Step: 1200/1214 - Average Loss for Epoch: 0.0030647954722250385\n",
            "Epoch 48/250 Done, Train Loss: 0.003070005727239023, Train Accuracy: 0.35626029654036245\n",
            "Time Elapsed for Epoch: 6.195345703999919 seconds\n",
            "Validation Loss: 0.003236208083048515 - Validation Accuracy: 0.3521039603960396\n",
            "Epoch 49 - Step: 1200/1214 - Average Loss for Epoch: 0.0029668594968279647\n",
            "Epoch 49/250 Done, Train Loss: 0.002972161184087627, Train Accuracy: 0.3622837726523888\n",
            "Time Elapsed for Epoch: 5.518624412000008 seconds\n",
            "Validation Loss: 0.0028555794698651112 - Validation Accuracy: 0.43708745874587457\n",
            "Epoch 50 - Step: 1200/1214 - Average Loss for Epoch: 0.0029457634752755742\n",
            "Epoch 50/250 Done, Train Loss: 0.0029521176112950517, Train Accuracy: 0.3603789126853377\n",
            "Time Elapsed for Epoch: 6.081911111999943 seconds\n",
            "Validation Loss: 0.0028082978570328184 - Validation Accuracy: 0.42533003300330036\n",
            "Epoch 51 - Step: 1200/1214 - Average Loss for Epoch: 0.002897815433558814\n",
            "Epoch 51/250 Done, Train Loss: 0.002912568938772653, Train Accuracy: 0.3582681219110379\n",
            "Time Elapsed for Epoch: 5.5234476149998954 seconds\n",
            "Validation Loss: 0.0030956633003874647 - Validation Accuracy: 0.35746699669966997\n",
            "Epoch 52 - Step: 1200/1214 - Average Loss for Epoch: 0.002894867425450987\n",
            "Epoch 52/250 Done, Train Loss: 0.0028911972497312273, Train Accuracy: 0.3616144975288303\n",
            "Time Elapsed for Epoch: 5.857957802000328 seconds\n",
            "Validation Loss: 0.0028232341811048225 - Validation Accuracy: 0.3956270627062706\n",
            "Epoch 53 - Step: 1200/1214 - Average Loss for Epoch: 0.0028720213728108015\n",
            "Epoch 53/250 Done, Train Loss: 0.002884508503184871, Train Accuracy: 0.35847405271828664\n",
            "Time Elapsed for Epoch: 5.667305253999984 seconds\n",
            "Validation Loss: 0.0026963769845613017 - Validation Accuracy: 0.41316006600660066\n",
            "Epoch 54 - Step: 1200/1214 - Average Loss for Epoch: 0.0028132584369874774\n",
            "Epoch 54/250 Done, Train Loss: 0.002820224074937725, Train Accuracy: 0.3601214991762768\n",
            "Time Elapsed for Epoch: 5.659696380000241 seconds\n",
            "Validation Loss: 0.0026164834809077678 - Validation Accuracy: 0.345503300330033\n",
            "Epoch 55 - Step: 1200/1214 - Average Loss for Epoch: 0.002763077792842523\n",
            "Epoch 55/250 Done, Train Loss: 0.002759198057296482, Train Accuracy: 0.37180807248764414\n",
            "Time Elapsed for Epoch: 5.701577890999943 seconds\n",
            "Validation Loss: 0.0026087996235045086 - Validation Accuracy: 0.3727310231023102\n",
            "Epoch 56 - Step: 1200/1214 - Average Loss for Epoch: 0.0027037652831313607\n",
            "Epoch 56/250 Done, Train Loss: 0.002710775321891926, Train Accuracy: 0.3670201812191104\n",
            "Time Elapsed for Epoch: 5.724781377999989 seconds\n",
            "Validation Loss: 0.0027941572844902233 - Validation Accuracy: 0.3164191419141914\n",
            "Epoch 57 - Step: 1200/1214 - Average Loss for Epoch: 0.0027049033354220836\n",
            "Epoch 57/250 Done, Train Loss: 0.002713370080027519, Train Accuracy: 0.3779859967051071\n",
            "Time Elapsed for Epoch: 5.648498070000187 seconds\n",
            "Validation Loss: 0.002535330880905514 - Validation Accuracy: 0.38242574257425743\n",
            "Epoch 58 - Step: 1200/1214 - Average Loss for Epoch: 0.0026476374425510583\n",
            "Epoch 58/250 Done, Train Loss: 0.0026475427759542493, Train Accuracy: 0.36954283360790774\n",
            "Time Elapsed for Epoch: 5.77126665500009 seconds\n",
            "Validation Loss: 0.0024737350152766644 - Validation Accuracy: 0.43543729372937295\n",
            "Epoch 59 - Step: 1200/1214 - Average Loss for Epoch: 0.002588845611450476\n",
            "Epoch 59/250 Done, Train Loss: 0.002597685099659082, Train Accuracy: 0.3847817133443163\n",
            "Time Elapsed for Epoch: 5.761948467000366 seconds\n",
            "Validation Loss: 0.0025473536397449567 - Validation Accuracy: 0.3945957095709571\n",
            "Epoch 60 - Step: 1200/1214 - Average Loss for Epoch: 0.0025312895558818127\n",
            "Epoch 60/250 Done, Train Loss: 0.0025262235085662305, Train Accuracy: 0.38926070840197696\n",
            "Time Elapsed for Epoch: 5.763410362000286 seconds\n",
            "Validation Loss: 0.0024473811698362473 - Validation Accuracy: 0.4513201320132013\n",
            "Epoch 61 - Step: 1200/1214 - Average Loss for Epoch: 0.002515802136804268\n",
            "Epoch 61/250 Done, Train Loss: 0.0025216879928959234, Train Accuracy: 0.3837005766062603\n",
            "Time Elapsed for Epoch: 5.790710066999964 seconds\n",
            "Validation Loss: 0.002419209059346283 - Validation Accuracy: 0.4278052805280528\n",
            "Epoch 62 - Step: 1200/1214 - Average Loss for Epoch: 0.0024704157186655113\n",
            "Epoch 62/250 Done, Train Loss: 0.002469493038381062, Train Accuracy: 0.38570840197693573\n",
            "Time Elapsed for Epoch: 5.628793797000071 seconds\n",
            "Validation Loss: 0.0021677946204981587 - Validation Accuracy: 0.44162541254125415\n",
            "Epoch 63 - Step: 1200/1214 - Average Loss for Epoch: 0.002393337473804422\n",
            "Epoch 63/250 Done, Train Loss: 0.002391031157446214, Train Accuracy: 0.39142298187808894\n",
            "Time Elapsed for Epoch: 5.995118462999926 seconds\n",
            "Validation Loss: 0.0021437158771468214 - Validation Accuracy: 0.40325907590759075\n",
            "Epoch 64 - Step: 1200/1214 - Average Loss for Epoch: 0.002379163808297259\n",
            "Epoch 64/250 Done, Train Loss: 0.00237683951785782, Train Accuracy: 0.38442133443163096\n",
            "Time Elapsed for Epoch: 5.495487834999949 seconds\n",
            "Validation Loss: 0.002351086512489418 - Validation Accuracy: 0.4408003300330033\n",
            "Epoch 65 - Step: 1200/1214 - Average Loss for Epoch: 0.002398648787032774\n",
            "Epoch 65/250 Done, Train Loss: 0.002393162620209366, Train Accuracy: 0.3838035420098847\n",
            "Time Elapsed for Epoch: 5.956361736999952 seconds\n",
            "Validation Loss: 0.0020424671099973047 - Validation Accuracy: 0.4372937293729373\n",
            "Epoch 66 - Step: 1200/1214 - Average Loss for Epoch: 0.002298790519441051\n",
            "Epoch 66/250 Done, Train Loss: 0.0022938641917493265, Train Accuracy: 0.3974979406919275\n",
            "Time Elapsed for Epoch: 5.573176868000246 seconds\n",
            "Validation Loss: 0.0018995088042357857 - Validation Accuracy: 0.46101485148514854\n",
            "Epoch 67 - Step: 1200/1214 - Average Loss for Epoch: 0.00223554495566835\n",
            "Epoch 67/250 Done, Train Loss: 0.0022328115534468876, Train Accuracy: 0.39677718286655683\n",
            "Time Elapsed for Epoch: 6.051841333000084 seconds\n",
            "Validation Loss: 0.002114574484883081 - Validation Accuracy: 0.4469884488448845\n",
            "Epoch 68 - Step: 1200/1214 - Average Loss for Epoch: 0.0021906339813479764\n",
            "Epoch 68/250 Done, Train Loss: 0.00219458995195266, Train Accuracy: 0.3995572487644152\n",
            "Time Elapsed for Epoch: 5.479356417999952 seconds\n",
            "Validation Loss: 0.0020510562504995186 - Validation Accuracy: 0.4412128712871287\n",
            "Epoch 69 - Step: 1200/1214 - Average Loss for Epoch: 0.002258928487723703\n",
            "Epoch 69/250 Done, Train Loss: 0.002259949411459881, Train Accuracy: 0.3883855024711697\n",
            "Time Elapsed for Epoch: 6.161841398999968 seconds\n",
            "Validation Loss: 0.0022444275303197436 - Validation Accuracy: 0.34612211221122113\n",
            "Epoch 70 - Step: 1200/1214 - Average Loss for Epoch: 0.002155267162597738\n",
            "Epoch 70/250 Done, Train Loss: 0.002157378712012333, Train Accuracy: 0.4070222405271829\n",
            "Time Elapsed for Epoch: 5.441711234000195 seconds\n",
            "Validation Loss: 0.0020560127767125643 - Validation Accuracy: 0.4179042904290429\n",
            "Epoch 71 - Step: 1200/1214 - Average Loss for Epoch: 0.002058866951465461\n",
            "Epoch 71/250 Done, Train Loss: 0.0020637364659540965, Train Accuracy: 0.40485996705107086\n",
            "Time Elapsed for Epoch: 6.058135502000368 seconds\n",
            "Validation Loss: 0.002136009378188133 - Validation Accuracy: 0.3882013201320132\n",
            "Epoch 72 - Step: 1200/1214 - Average Loss for Epoch: 0.0020606999996198284\n",
            "Epoch 72/250 Done, Train Loss: 0.002057759266558283, Train Accuracy: 0.40727965403624383\n",
            "Time Elapsed for Epoch: 5.546567415000027 seconds\n",
            "Validation Loss: 0.0021273967063264987 - Validation Accuracy: 0.3587046204620462\n",
            "Epoch 73 - Step: 1200/1214 - Average Loss for Epoch: 0.0020572478314898036\n",
            "Epoch 73/250 Done, Train Loss: 0.0020581690572054816, Train Accuracy: 0.39966021416803954\n",
            "Time Elapsed for Epoch: 6.644638060000034 seconds\n",
            "Validation Loss: 0.0017932282772553754 - Validation Accuracy: 0.4414191419141914\n",
            "Epoch 74 - Step: 1200/1214 - Average Loss for Epoch: 0.00195819058487056\n",
            "Epoch 74/250 Done, Train Loss: 0.001956437220615703, Train Accuracy: 0.41469316309719934\n",
            "Time Elapsed for Epoch: 5.3983685250000235 seconds\n",
            "Validation Loss: 0.001853466105158287 - Validation Accuracy: 0.39232673267326734\n",
            "Epoch 75 - Step: 1200/1214 - Average Loss for Epoch: 0.0020373110816217376\n",
            "Epoch 75/250 Done, Train Loss: 0.0020318994176384375, Train Accuracy: 0.3988364909390445\n",
            "Time Elapsed for Epoch: 5.989587251999637 seconds\n",
            "Validation Loss: 0.0018257351732947678 - Validation Accuracy: 0.45792079207920794\n",
            "Epoch 76 - Step: 1200/1214 - Average Loss for Epoch: 0.0019627443192196856\n",
            "Epoch 76/250 Done, Train Loss: 0.0019635332307565033, Train Accuracy: 0.41737026359143325\n",
            "Time Elapsed for Epoch: 5.409319155000048 seconds\n",
            "Validation Loss: 0.001813016183234032 - Validation Accuracy: 0.4403877887788779\n",
            "Epoch 77 - Step: 1200/1214 - Average Loss for Epoch: 0.0019408131592960369\n",
            "Epoch 77/250 Done, Train Loss: 0.0019423906438380037, Train Accuracy: 0.413251647446458\n",
            "Time Elapsed for Epoch: 6.156091881000066 seconds\n",
            "Validation Loss: 0.00174279365198792 - Validation Accuracy: 0.45792079207920794\n",
            "Epoch 78 - Step: 1200/1214 - Average Loss for Epoch: 0.001872243232440572\n",
            "Epoch 78/250 Done, Train Loss: 0.0018746932835732027, Train Accuracy: 0.4182969522240527\n",
            "Time Elapsed for Epoch: 5.6126905640003315 seconds\n",
            "Validation Loss: 0.0014576981215958297 - Validation Accuracy: 0.4993811881188119\n",
            "Epoch 79 - Step: 1200/1214 - Average Loss for Epoch: 0.001851904444356478\n",
            "Epoch 79/250 Done, Train Loss: 0.001849637493333475, Train Accuracy: 0.40789744645799014\n",
            "Time Elapsed for Epoch: 6.1352168049998 seconds\n",
            "Validation Loss: 0.0017971335934273739 - Validation Accuracy: 0.49731848184818483\n",
            "Epoch 80 - Step: 1200/1214 - Average Loss for Epoch: 0.001839888900024865\n",
            "Epoch 80/250 Done, Train Loss: 0.0018346015412849584, Train Accuracy: 0.41685543657331137\n",
            "Time Elapsed for Epoch: 5.519152968000071 seconds\n",
            "Validation Loss: 0.001671426691660095 - Validation Accuracy: 0.35705445544554454\n",
            "Epoch 81 - Step: 1200/1214 - Average Loss for Epoch: 0.0017878235068140688\n",
            "Epoch 81/250 Done, Train Loss: 0.0017956782530071586, Train Accuracy: 0.4102141680395387\n",
            "Time Elapsed for Epoch: 6.0472888950002925 seconds\n",
            "Validation Loss: 0.0021737101904682125 - Validation Accuracy: 0.4832920792079208\n",
            "Epoch 82 - Step: 1200/1214 - Average Loss for Epoch: 0.0018465101862663383\n",
            "Epoch 82/250 Done, Train Loss: 0.0018467011215021704, Train Accuracy: 0.4091330313014827\n",
            "Time Elapsed for Epoch: 5.617625429999862 seconds\n",
            "Validation Loss: 0.0015883817320019884 - Validation Accuracy: 0.37706270627062705\n",
            "Epoch 83 - Step: 1200/1214 - Average Loss for Epoch: 0.0017546876991279229\n",
            "Epoch 83/250 Done, Train Loss: 0.0017601115295437742, Train Accuracy: 0.4225185337726524\n",
            "Time Elapsed for Epoch: 6.057022360000246 seconds\n",
            "Validation Loss: 0.0015710908058464447 - Validation Accuracy: 0.40552805280528054\n",
            "Epoch 84 - Step: 1200/1214 - Average Loss for Epoch: 0.0016324308341548507\n",
            "Epoch 84/250 Done, Train Loss: 0.0016299593106906245, Train Accuracy: 0.42596787479406917\n",
            "Time Elapsed for Epoch: 5.395458386999962 seconds\n",
            "Validation Loss: 0.0015313661300535729 - Validation Accuracy: 0.4397689768976898\n",
            "Epoch 85 - Step: 1200/1214 - Average Loss for Epoch: 0.0016656061893687971\n",
            "Epoch 85/250 Done, Train Loss: 0.0016563083201252104, Train Accuracy: 0.43034390444810544\n",
            "Time Elapsed for Epoch: 6.113080986000114 seconds\n",
            "Validation Loss: 0.0017698821921230804 - Validation Accuracy: 0.48432343234323433\n",
            "Epoch 86 - Step: 1200/1214 - Average Loss for Epoch: 0.001688907369783313\n",
            "Epoch 86/250 Done, Train Loss: 0.0016966841739943866, Train Accuracy: 0.43245469522240526\n",
            "Time Elapsed for Epoch: 5.443974517999777 seconds\n",
            "Validation Loss: 0.0017674412618590236 - Validation Accuracy: 0.4057343234323432\n",
            "Epoch 87 - Step: 1200/1214 - Average Loss for Epoch: 0.0015500698215206892\n",
            "Epoch 87/250 Done, Train Loss: 0.0015511706011895133, Train Accuracy: 0.4415156507413509\n",
            "Time Elapsed for Epoch: 6.146739179000178 seconds\n",
            "Validation Loss: 0.0013817122419616022 - Validation Accuracy: 0.5014438943894389\n",
            "Epoch 88 - Step: 1200/1214 - Average Loss for Epoch: 0.0016241463927872245\n",
            "Epoch 88/250 Done, Train Loss: 0.0016245878646012144, Train Accuracy: 0.43224876441515653\n",
            "Time Elapsed for Epoch: 5.623826609999924 seconds\n",
            "Validation Loss: 0.0014295843090558894 - Validation Accuracy: 0.47957920792079206\n",
            "Epoch 89 - Step: 1200/1214 - Average Loss for Epoch: 0.0015200874054668626\n",
            "Epoch 89/250 Done, Train Loss: 0.0015231174584366903, Train Accuracy: 0.43554365733113676\n",
            "Time Elapsed for Epoch: 6.144572402999984 seconds\n",
            "Validation Loss: 0.0014794361929846437 - Validation Accuracy: 0.4909240924092409\n",
            "Epoch 90 - Step: 1200/1214 - Average Loss for Epoch: 0.0014909550816688958\n",
            "Epoch 90/250 Done, Train Loss: 0.0014980353157992453, Train Accuracy: 0.43075576606260296\n",
            "Time Elapsed for Epoch: 5.686483716000112 seconds\n",
            "Validation Loss: 0.0013398187369326815 - Validation Accuracy: 0.44183168316831684\n",
            "Epoch 91 - Step: 1200/1214 - Average Loss for Epoch: 0.001509131602239601\n",
            "Epoch 91/250 Done, Train Loss: 0.00150614910680111, Train Accuracy: 0.4279757001647446\n",
            "Time Elapsed for Epoch: 6.275919235999936 seconds\n",
            "Validation Loss: 0.001245912157149721 - Validation Accuracy: 0.49484323432343236\n",
            "Epoch 92 - Step: 1200/1214 - Average Loss for Epoch: 0.001525425629036666\n",
            "Epoch 92/250 Done, Train Loss: 0.001519857767256254, Train Accuracy: 0.4369851729818781\n",
            "Time Elapsed for Epoch: 5.572944413999721 seconds\n",
            "Validation Loss: 0.0012523915479670466 - Validation Accuracy: 0.47235973597359737\n",
            "Epoch 93 - Step: 1200/1214 - Average Loss for Epoch: 0.00145826189607457\n",
            "Epoch 93/250 Done, Train Loss: 0.0014610908267262905, Train Accuracy: 0.4365218286655684\n",
            "Time Elapsed for Epoch: 6.052905733999978 seconds\n",
            "Validation Loss: 0.0013936578225574561 - Validation Accuracy: 0.48411716171617164\n",
            "Epoch 94 - Step: 1200/1214 - Average Loss for Epoch: 0.0013469885530988297\n",
            "Epoch 94/250 Done, Train Loss: 0.0013429935918911858, Train Accuracy: 0.4457372322899506\n",
            "Time Elapsed for Epoch: 5.362670078000065 seconds\n",
            "Validation Loss: 0.001310546611319104 - Validation Accuracy: 0.5103135313531353\n",
            "Epoch 95 - Step: 1200/1214 - Average Loss for Epoch: 0.0013449390546156792\n",
            "Epoch 95/250 Done, Train Loss: 0.0013388558691136403, Train Accuracy: 0.4422878912685338\n",
            "Time Elapsed for Epoch: 5.95089783200001 seconds\n",
            "Validation Loss: 0.0011418599488114533 - Validation Accuracy: 0.5107260726072608\n",
            "Epoch 96 - Step: 1200/1214 - Average Loss for Epoch: 0.0013236894231522455\n",
            "Epoch 96/250 Done, Train Loss: 0.0013178066485538416, Train Accuracy: 0.4506795716639209\n",
            "Time Elapsed for Epoch: 5.491272790999574 seconds\n",
            "Validation Loss: 0.0012045562076855876 - Validation Accuracy: 0.5082508250825083\n",
            "Epoch 97 - Step: 1200/1214 - Average Loss for Epoch: 0.0013984692152613813\n",
            "Epoch 97/250 Done, Train Loss: 0.0014020566986126732, Train Accuracy: 0.438581136738056\n",
            "Time Elapsed for Epoch: 6.080895263000457 seconds\n",
            "Validation Loss: 0.0013705668798528717 - Validation Accuracy: 0.463490099009901\n",
            "Epoch 98 - Step: 1200/1214 - Average Loss for Epoch: 0.0012730749491098928\n",
            "Epoch 98/250 Done, Train Loss: 0.0012673643539040252, Train Accuracy: 0.4518121911037891\n",
            "Time Elapsed for Epoch: 5.449919706999935 seconds\n",
            "Validation Loss: 0.0012925421407050722 - Validation Accuracy: 0.5198019801980198\n",
            "Epoch 99 - Step: 1200/1214 - Average Loss for Epoch: 0.001342322237008678\n",
            "Epoch 99/250 Done, Train Loss: 0.0013341217294737737, Train Accuracy: 0.4473331960461285\n",
            "Time Elapsed for Epoch: 6.072812909999811 seconds\n",
            "Validation Loss: 0.001245568990090742 - Validation Accuracy: 0.5171204620462047\n",
            "Epoch 100 - Step: 1200/1214 - Average Loss for Epoch: 0.001228236280051836\n",
            "Epoch 100/250 Done, Train Loss: 0.0012292183961869253, Train Accuracy: 0.45397446457990115\n",
            "Time Elapsed for Epoch: 5.428092791999916 seconds\n",
            "Validation Loss: 0.00115876595589383 - Validation Accuracy: 0.5127887788778878\n",
            "Epoch 101 - Step: 1200/1214 - Average Loss for Epoch: 0.0012582526945061545\n",
            "Epoch 101/250 Done, Train Loss: 0.001257592481774729, Train Accuracy: 0.45242998352553543\n",
            "Time Elapsed for Epoch: 6.173636804000125 seconds\n",
            "Validation Loss: 0.0012671218630244951 - Validation Accuracy: 0.485973597359736\n",
            "Epoch 102 - Step: 1200/1214 - Average Loss for Epoch: 0.0013347233148670056\n",
            "Epoch 102/250 Done, Train Loss: 0.0013269519506222656, Train Accuracy: 0.4502677100494234\n",
            "Time Elapsed for Epoch: 5.462898847999895 seconds\n",
            "Validation Loss: 0.0011879011159036585 - Validation Accuracy: 0.4909240924092409\n",
            "Epoch 103 - Step: 1200/1214 - Average Loss for Epoch: 0.0011829064308585657\n",
            "Epoch 103/250 Done, Train Loss: 0.0011850986362000428, Train Accuracy: 0.46267504118616143\n",
            "Time Elapsed for Epoch: 6.008229840999775 seconds\n",
            "Validation Loss: 0.0013794694117461746 - Validation Accuracy: 0.5226897689768977\n",
            "Epoch 104 - Step: 1200/1214 - Average Loss for Epoch: 0.0012223577444638067\n",
            "Epoch 104/250 Done, Train Loss: 0.00122396671361246, Train Accuracy: 0.4513488467874794\n",
            "Time Elapsed for Epoch: 5.5281669790001615 seconds\n",
            "Validation Loss: 0.0013530457440793296 - Validation Accuracy: 0.5264026402640264\n",
            "Epoch 105 - Step: 1200/1214 - Average Loss for Epoch: 0.001080322168108978\n",
            "Epoch 105/250 Done, Train Loss: 0.0010808580148131514, Train Accuracy: 0.4670510708401977\n",
            "Time Elapsed for Epoch: 6.006485003000307 seconds\n",
            "Validation Loss: 0.001499769118808136 - Validation Accuracy: 0.5010313531353136\n",
            "Epoch 106 - Step: 1200/1214 - Average Loss for Epoch: 0.0011500074276773375\n",
            "Epoch 106/250 Done, Train Loss: 0.0011519983566686998, Train Accuracy: 0.46432248764415157\n",
            "Time Elapsed for Epoch: 5.6483152599994355 seconds\n",
            "Validation Loss: 0.0012051645173997043 - Validation Accuracy: 0.5134075907590759\n",
            "Epoch 107 - Step: 1200/1214 - Average Loss for Epoch: 0.0011425443630772255\n",
            "Epoch 107/250 Done, Train Loss: 0.0011402025851884226, Train Accuracy: 0.46735996705107086\n",
            "Time Elapsed for Epoch: 5.985591112000293 seconds\n",
            "Validation Loss: 0.0014177747877868333 - Validation Accuracy: 0.4991749174917492\n",
            "Epoch 108 - Step: 1200/1214 - Average Loss for Epoch: 0.0011420997233653907\n",
            "Epoch 108/250 Done, Train Loss: 0.0011396437225160627, Train Accuracy: 0.46257207578253706\n",
            "Time Elapsed for Epoch: 5.821905896999851 seconds\n",
            "Validation Loss: 0.0011628449707378084 - Validation Accuracy: 0.4960808580858086\n",
            "Epoch 109 - Step: 1200/1214 - Average Loss for Epoch: 0.0011263203797777048\n",
            "Epoch 109/250 Done, Train Loss: 0.0011228338632749604, Train Accuracy: 0.4706548599670511\n",
            "Time Elapsed for Epoch: 5.769409245999668 seconds\n",
            "Validation Loss: 0.0010566002873338071 - Validation Accuracy: 0.5408415841584159\n",
            "Epoch 110 - Step: 1200/1214 - Average Loss for Epoch: 0.0010198297789732653\n",
            "Epoch 110/250 Done, Train Loss: 0.001023163975165049, Train Accuracy: 0.47250823723228996\n",
            "Time Elapsed for Epoch: 5.740532539000014 seconds\n",
            "Validation Loss: 0.0009853098537031754 - Validation Accuracy: 0.5094884488448845\n",
            "Epoch 111 - Step: 1200/1214 - Average Loss for Epoch: 0.0011097808111480846\n",
            "Epoch 111/250 Done, Train Loss: 0.00110873908466853, Train Accuracy: 0.4734864085667216\n",
            "Time Elapsed for Epoch: 5.791425033000451 seconds\n",
            "Validation Loss: 0.0010827328169218144 - Validation Accuracy: 0.505569306930693\n",
            "Epoch 112 - Step: 1200/1214 - Average Loss for Epoch: 0.0010780662252363982\n",
            "Epoch 112/250 Done, Train Loss: 0.00107766911804103, Train Accuracy: 0.46679365733113676\n",
            "Time Elapsed for Epoch: 6.511434394000389 seconds\n",
            "Validation Loss: 0.0011299156849117905 - Validation Accuracy: 0.5138201320132013\n",
            "Epoch 113 - Step: 1200/1214 - Average Loss for Epoch: 0.001080620765222496\n",
            "Epoch 113/250 Done, Train Loss: 0.0010836602689162555, Train Accuracy: 0.4674629324546952\n",
            "Time Elapsed for Epoch: 5.535438488000182 seconds\n",
            "Validation Loss: 0.00092480314881391 - Validation Accuracy: 0.4985561056105611\n",
            "Epoch 114 - Step: 1200/1214 - Average Loss for Epoch: 0.000989334228000492\n",
            "Epoch 114/250 Done, Train Loss: 0.0009875290751127771, Train Accuracy: 0.4818780889621087\n",
            "Time Elapsed for Epoch: 5.976654195999799 seconds\n",
            "Validation Loss: 0.0008340700887886672 - Validation Accuracy: 0.5492986798679867\n",
            "Epoch 115 - Step: 1200/1214 - Average Loss for Epoch: 0.0010618826315688542\n",
            "Epoch 115/250 Done, Train Loss: 0.0010624019766316886, Train Accuracy: 0.4728686161449753\n",
            "Time Elapsed for Epoch: 5.409665412999857 seconds\n",
            "Validation Loss: 0.0011471028674260187 - Validation Accuracy: 0.48267326732673266\n",
            "Epoch 116 - Step: 1200/1214 - Average Loss for Epoch: 0.0010461623984701874\n",
            "Epoch 116/250 Done, Train Loss: 0.0010421239319276137, Train Accuracy: 0.47585461285008235\n",
            "Time Elapsed for Epoch: 6.203582009999991 seconds\n",
            "Validation Loss: 0.0011464483083274582 - Validation Accuracy: 0.5024752475247525\n",
            "Epoch 117 - Step: 1200/1214 - Average Loss for Epoch: 0.0008706069448847605\n",
            "Epoch 117/250 Done, Train Loss: 0.000867075110897068, Train Accuracy: 0.49624176276771004\n",
            "Time Elapsed for Epoch: 5.480441769000208 seconds\n",
            "Validation Loss: 0.0009719755715183781 - Validation Accuracy: 0.4837046204620462\n",
            "Epoch 118 - Step: 1200/1214 - Average Loss for Epoch: 0.000968581939108238\n",
            "Epoch 118/250 Done, Train Loss: 0.0009691975509363664, Train Accuracy: 0.4866144975288303\n",
            "Time Elapsed for Epoch: 6.0109553390002475 seconds\n",
            "Validation Loss: 0.0011279733905869554 - Validation Accuracy: 0.484529702970297\n",
            "Epoch 119 - Step: 1200/1214 - Average Loss for Epoch: 0.0009759374086873626\n",
            "Epoch 119/250 Done, Train Loss: 0.0009743867187497158, Train Accuracy: 0.4740527182866557\n",
            "Time Elapsed for Epoch: 5.404781791999994 seconds\n",
            "Validation Loss: 0.0008776864295202175 - Validation Accuracy: 0.554042904290429\n",
            "Epoch 120 - Step: 1200/1214 - Average Loss for Epoch: 0.000815174654007933\n",
            "Epoch 120/250 Done, Train Loss: 0.0008214309582219636, Train Accuracy: 0.497580313014827\n",
            "Time Elapsed for Epoch: 6.2216712939998615 seconds\n",
            "Validation Loss: 0.0013053954761243262 - Validation Accuracy: 0.509075907590759\n",
            "Epoch 121 - Step: 1200/1214 - Average Loss for Epoch: 0.0009525498184120806\n",
            "Epoch 121/250 Done, Train Loss: 0.0009534415731160411, Train Accuracy: 0.4866144975288303\n",
            "Time Elapsed for Epoch: 5.407631731000038 seconds\n",
            "Validation Loss: 0.0009646008378088785 - Validation Accuracy: 0.5187706270627063\n",
            "Epoch 122 - Step: 1200/1214 - Average Loss for Epoch: 0.0010237281972392035\n",
            "Epoch 122/250 Done, Train Loss: 0.0010199121948264661, Train Accuracy: 0.48522446457990115\n",
            "Time Elapsed for Epoch: 6.058811300999878 seconds\n",
            "Validation Loss: 0.0009499457291624794 - Validation Accuracy: 0.5264026402640264\n",
            "Epoch 123 - Step: 1200/1214 - Average Loss for Epoch: 0.0008783627379246658\n",
            "Epoch 123/250 Done, Train Loss: 0.0008800011055427603, Train Accuracy: 0.49438838550247116\n",
            "Time Elapsed for Epoch: 5.506504935000521 seconds\n",
            "Validation Loss: 0.000901824040099227 - Validation Accuracy: 0.5523927392739274\n",
            "Epoch 124 - Step: 1200/1214 - Average Loss for Epoch: 0.0008498382886530938\n",
            "Epoch 124/250 Done, Train Loss: 0.0008475372031072101, Train Accuracy: 0.4916083196046129\n",
            "Time Elapsed for Epoch: 5.926840567999534 seconds\n",
            "Validation Loss: 0.0009786414855913637 - Validation Accuracy: 0.5253712871287128\n",
            "Epoch 125 - Step: 1200/1214 - Average Loss for Epoch: 0.0010109556475860397\n",
            "Epoch 125/250 Done, Train Loss: 0.0010072835397972673, Train Accuracy: 0.48424629324546953\n",
            "Time Elapsed for Epoch: 5.4646213939995505 seconds\n",
            "Validation Loss: 0.0007758431005905031 - Validation Accuracy: 0.5532178217821783\n",
            "Epoch 126 - Step: 1200/1214 - Average Loss for Epoch: 0.000921465668870951\n",
            "Epoch 126/250 Done, Train Loss: 0.0009226004536592753, Train Accuracy: 0.4882104612850082\n",
            "Time Elapsed for Epoch: 6.127324115000192 seconds\n",
            "Validation Loss: 0.0007951552771454871 - Validation Accuracy: 0.5356848184818482\n",
            "Epoch 127 - Step: 1200/1214 - Average Loss for Epoch: 0.0007529673728276975\n",
            "Epoch 127/250 Done, Train Loss: 0.0007516062585433198, Train Accuracy: 0.5090094728171335\n",
            "Time Elapsed for Epoch: 5.619133199000316 seconds\n",
            "Validation Loss: 0.001039185055872835 - Validation Accuracy: 0.5210396039603961\n",
            "Epoch 128 - Step: 1200/1214 - Average Loss for Epoch: 0.0009555702637317154\n",
            "Epoch 128/250 Done, Train Loss: 0.000959357745306488, Train Accuracy: 0.4851214991762768\n",
            "Time Elapsed for Epoch: 6.101000017999468 seconds\n",
            "Validation Loss: 0.0008637764625229777 - Validation Accuracy: 0.5325907590759076\n",
            "Epoch 129 - Step: 1200/1214 - Average Loss for Epoch: 0.0008070443083124701\n",
            "Epoch 129/250 Done, Train Loss: 0.000806706624946659, Train Accuracy: 0.49685955518945635\n",
            "Time Elapsed for Epoch: 5.485505300999648 seconds\n",
            "Validation Loss: 0.0007590920704087663 - Validation Accuracy: 0.5398102310231023\n",
            "Epoch 130 - Step: 1200/1214 - Average Loss for Epoch: 0.0008672716703252566\n",
            "Epoch 130/250 Done, Train Loss: 0.0008669552842239342, Train Accuracy: 0.5018533772652389\n",
            "Time Elapsed for Epoch: 6.097249841000121 seconds\n",
            "Validation Loss: 0.0008882339121201368 - Validation Accuracy: 0.5297029702970297\n",
            "Epoch 131 - Step: 1200/1214 - Average Loss for Epoch: 0.0007131991558677934\n",
            "Epoch 131/250 Done, Train Loss: 0.0007176424980864703, Train Accuracy: 0.5189971169686985\n",
            "Time Elapsed for Epoch: 5.4178468740001335 seconds\n",
            "Validation Loss: 0.0009418914766500784 - Validation Accuracy: 0.5480610561056105\n",
            "Epoch 132 - Step: 1200/1214 - Average Loss for Epoch: 0.000845585815574547\n",
            "Epoch 132/250 Done, Train Loss: 0.0008505835871089823, Train Accuracy: 0.5024711696869851\n",
            "Time Elapsed for Epoch: 6.033840471000076 seconds\n",
            "Validation Loss: 0.001243207331096735 - Validation Accuracy: 0.4801980198019802\n",
            "Epoch 133 - Step: 1200/1214 - Average Loss for Epoch: 0.0008165984886606263\n",
            "Epoch 133/250 Done, Train Loss: 0.0008149123645023768, Train Accuracy: 0.5018018945634267\n",
            "Time Elapsed for Epoch: 5.414596941000127 seconds\n",
            "Validation Loss: 0.0007581878574038686 - Validation Accuracy: 0.5497112211221122\n",
            "Epoch 134 - Step: 1200/1214 - Average Loss for Epoch: 0.0007279201713148117\n",
            "Epoch 134/250 Done, Train Loss: 0.0007263098447737046, Train Accuracy: 0.5167833607907742\n",
            "Time Elapsed for Epoch: 6.048577965999357 seconds\n",
            "Validation Loss: 0.0007885854975869818 - Validation Accuracy: 0.5327970297029703\n",
            "Epoch 135 - Step: 1200/1214 - Average Loss for Epoch: 0.0009725391788833804\n",
            "Epoch 135/250 Done, Train Loss: 0.0009685740460674238, Train Accuracy: 0.49685955518945635\n",
            "Time Elapsed for Epoch: 5.562901119999879 seconds\n",
            "Validation Loss: 0.0009807257778771997 - Validation Accuracy: 0.5307343234323433\n",
            "Epoch 136 - Step: 1200/1214 - Average Loss for Epoch: 0.0007254063781692821\n",
            "Epoch 136/250 Done, Train Loss: 0.0007317557975021632, Train Accuracy: 0.5180704283360791\n",
            "Time Elapsed for Epoch: 6.1795369479996225 seconds\n",
            "Validation Loss: 0.0008396958316789756 - Validation Accuracy: 0.5688943894389439\n",
            "Epoch 137 - Step: 1200/1214 - Average Loss for Epoch: 0.0008155488707325276\n",
            "Epoch 137/250 Done, Train Loss: 0.0008090526861551897, Train Accuracy: 0.5089065074135091\n",
            "Time Elapsed for Epoch: 5.481249946000389 seconds\n",
            "Validation Loss: 0.0006475520086877752 - Validation Accuracy: 0.5649752475247525\n",
            "Epoch 138 - Step: 1200/1214 - Average Loss for Epoch: 0.0007735269969089131\n",
            "Epoch 138/250 Done, Train Loss: 0.000773276979391798, Train Accuracy: 0.5178130148270181\n",
            "Time Elapsed for Epoch: 6.085834755999713 seconds\n",
            "Validation Loss: 0.0010102014917486098 - Validation Accuracy: 0.5220709570957096\n",
            "Epoch 139 - Step: 1200/1214 - Average Loss for Epoch: 0.000686497485912696\n",
            "Epoch 139/250 Done, Train Loss: 0.0006862990680652022, Train Accuracy: 0.5207990115321252\n",
            "Time Elapsed for Epoch: 5.602906004000033 seconds\n",
            "Validation Loss: 0.0006489584679236419 - Validation Accuracy: 0.5841584158415841\n",
            "Epoch 140 - Step: 1200/1214 - Average Loss for Epoch: 0.0007058132728646645\n",
            "Epoch 140/250 Done, Train Loss: 0.0007031479916590265, Train Accuracy: 0.5273887973640856\n",
            "Time Elapsed for Epoch: 6.300587683999765 seconds\n",
            "Validation Loss: 0.0006598633407829706 - Validation Accuracy: 0.5858085808580858\n",
            "Epoch 141 - Step: 1200/1214 - Average Loss for Epoch: 0.0008418235319428883\n",
            "Epoch 141/250 Done, Train Loss: 0.0008399090251142751, Train Accuracy: 0.5146210873146623\n",
            "Time Elapsed for Epoch: 5.54775259500002 seconds\n",
            "Validation Loss: 0.0009699911244733992 - Validation Accuracy: 0.5625\n",
            "Epoch 142 - Step: 1200/1214 - Average Loss for Epoch: 0.0007416351984162854\n",
            "Epoch 142/250 Done, Train Loss: 0.0007382136794716991, Train Accuracy: 0.5189971169686985\n",
            "Time Elapsed for Epoch: 6.090693575999467 seconds\n",
            "Validation Loss: 0.0008645810916091595 - Validation Accuracy: 0.5222772277227723\n",
            "Epoch 143 - Step: 1200/1214 - Average Loss for Epoch: 0.0007316724744608412\n",
            "Epoch 143/250 Done, Train Loss: 0.0007294827409358936, Train Accuracy: 0.5247116968698518\n",
            "Time Elapsed for Epoch: 5.5299615250005445 seconds\n",
            "Validation Loss: 0.0006804750546717535 - Validation Accuracy: 0.5761138613861386\n",
            "Epoch 144 - Step: 1200/1214 - Average Loss for Epoch: 0.0007104970754668709\n",
            "Epoch 144/250 Done, Train Loss: 0.0007109742450898334, Train Accuracy: 0.5141062602965404\n",
            "Time Elapsed for Epoch: 6.1187223599999925 seconds\n",
            "Validation Loss: 0.0007516070293997785 - Validation Accuracy: 0.5513613861386139\n",
            "Epoch 145 - Step: 1200/1214 - Average Loss for Epoch: 0.000824663442669286\n",
            "Epoch 145/250 Done, Train Loss: 0.0008224136363693597, Train Accuracy: 0.5150329489291599\n",
            "Time Elapsed for Epoch: 5.509490164999988 seconds\n",
            "Validation Loss: 0.0006749013779998416 - Validation Accuracy: 0.5839521452145214\n",
            "Epoch 146 - Step: 1200/1214 - Average Loss for Epoch: 0.0005929685184461656\n",
            "Epoch 146/250 Done, Train Loss: 0.0005927700289521304, Train Accuracy: 0.5436573311367381\n",
            "Time Elapsed for Epoch: 6.226833660000011 seconds\n",
            "Validation Loss: 0.0007467926646046426 - Validation Accuracy: 0.5451732673267327\n",
            "Epoch 147 - Step: 1200/1214 - Average Loss for Epoch: 0.0007110512955568992\n",
            "Epoch 147/250 Done, Train Loss: 0.000713062374994401, Train Accuracy: 0.5283154859967051\n",
            "Time Elapsed for Epoch: 5.409232674000123 seconds\n",
            "Validation Loss: 0.0007340639606602306 - Validation Accuracy: 0.5546617161716172\n",
            "Epoch 148 - Step: 1200/1214 - Average Loss for Epoch: 0.0007064751099854523\n",
            "Epoch 148/250 Done, Train Loss: 0.00070450614998925, Train Accuracy: 0.5249691103789127\n",
            "Time Elapsed for Epoch: 6.170688512999732 seconds\n",
            "Validation Loss: 0.0009978127870360995 - Validation Accuracy: 0.4535891089108911\n",
            "Epoch 149 - Step: 1200/1214 - Average Loss for Epoch: 0.0008270759573194179\n",
            "Epoch 149/250 Done, Train Loss: 0.0008213435956580458, Train Accuracy: 0.5090609555189456\n",
            "Time Elapsed for Epoch: 5.457778413999222 seconds\n",
            "Validation Loss: 0.0007254498235335944 - Validation Accuracy: 0.5812706270627063\n",
            "Epoch 150 - Step: 1200/1214 - Average Loss for Epoch: 0.0005765246835896202\n",
            "Epoch 150/250 Done, Train Loss: 0.0005737715261409429, Train Accuracy: 0.547415568369028\n",
            "Time Elapsed for Epoch: 6.058619696000278 seconds\n",
            "Validation Loss: 0.0006678652648003149 - Validation Accuracy: 0.5959158415841584\n",
            "Epoch 151 - Step: 1200/1214 - Average Loss for Epoch: 0.0007037739977992411\n",
            "Epoch 151/250 Done, Train Loss: 0.0007014993423602449, Train Accuracy: 0.5329489291598023\n",
            "Time Elapsed for Epoch: 6.074199461999342 seconds\n",
            "Validation Loss: 0.001070740356346517 - Validation Accuracy: 0.5790016501650165\n",
            "Epoch 152 - Step: 1200/1214 - Average Loss for Epoch: 0.0006079858718809798\n",
            "Epoch 152/250 Done, Train Loss: 0.0006073472558315904, Train Accuracy: 0.5456651565074135\n",
            "Time Elapsed for Epoch: 5.95849361799992 seconds\n",
            "Validation Loss: 0.0007135201124016237 - Validation Accuracy: 0.58003300330033\n",
            "Epoch 153 - Step: 1200/1214 - Average Loss for Epoch: 0.0006217904979166633\n",
            "Epoch 153/250 Done, Train Loss: 0.0006346960405354895, Train Accuracy: 0.5372734761120264\n",
            "Time Elapsed for Epoch: 5.526696592999542 seconds\n",
            "Validation Loss: 0.0017725539128810917 - Validation Accuracy: 0.2607260726072607\n",
            "Epoch 154 - Step: 1200/1214 - Average Loss for Epoch: 0.0006393098993400297\n",
            "Epoch 154/250 Done, Train Loss: 0.0006392728735312243, Train Accuracy: 0.5349567545304778\n",
            "Time Elapsed for Epoch: 6.060720783000761 seconds\n",
            "Validation Loss: 0.0008350584146971261 - Validation Accuracy: 0.5233085808580858\n",
            "Epoch 155 - Step: 1200/1214 - Average Loss for Epoch: 0.0006810769758825093\n",
            "Epoch 155/250 Done, Train Loss: 0.0006766507896971375, Train Accuracy: 0.5294481054365733\n",
            "Time Elapsed for Epoch: 5.547570577999977 seconds\n",
            "Validation Loss: 0.0005569756582376268 - Validation Accuracy: 0.5979785478547854\n",
            "Epoch 156 - Step: 1200/1214 - Average Loss for Epoch: 0.0006195513826423849\n",
            "Epoch 156/250 Done, Train Loss: 0.0006227704831124287, Train Accuracy: 0.5322281713344317\n",
            "Time Elapsed for Epoch: 5.98100844200053 seconds\n",
            "Validation Loss: 0.0009775662289906628 - Validation Accuracy: 0.5631188118811881\n",
            "Epoch 157 - Step: 1200/1214 - Average Loss for Epoch: 0.0006341094100510721\n",
            "Epoch 157/250 Done, Train Loss: 0.0006364276441837519, Train Accuracy: 0.5332578253706755\n",
            "Time Elapsed for Epoch: 5.475865958000213 seconds\n",
            "Validation Loss: 0.0007859273423716809 - Validation Accuracy: 0.5501237623762376\n",
            "Epoch 158 - Step: 1200/1214 - Average Loss for Epoch: 0.0007026918598209401\n",
            "Epoch 158/250 Done, Train Loss: 0.0006976368067790845, Train Accuracy: 0.5297570016474464\n",
            "Time Elapsed for Epoch: 5.964832542000295 seconds\n",
            "Validation Loss: 0.0005580634806452514 - Validation Accuracy: 0.6010726072607261\n",
            "Epoch 159 - Step: 1200/1214 - Average Loss for Epoch: 0.0005841513012455835\n",
            "Epoch 159/250 Done, Train Loss: 0.0005805905160864395, Train Accuracy: 0.5490115321252059\n",
            "Time Elapsed for Epoch: 5.541711003000273 seconds\n",
            "Validation Loss: 0.0005548034832257088 - Validation Accuracy: 0.6045792079207921\n",
            "Epoch 160 - Step: 1200/1214 - Average Loss for Epoch: 0.0005936077136630047\n",
            "Epoch 160/250 Done, Train Loss: 0.000589259991374852, Train Accuracy: 0.5493204283360791\n",
            "Time Elapsed for Epoch: 5.890441767000084 seconds\n",
            "Validation Loss: 0.0006941856119359871 - Validation Accuracy: 0.5643564356435643\n",
            "Epoch 161 - Step: 1200/1214 - Average Loss for Epoch: 0.0006338576778853167\n",
            "Epoch 161/250 Done, Train Loss: 0.0006343413580481979, Train Accuracy: 0.5396416803953872\n",
            "Time Elapsed for Epoch: 5.541609754999627 seconds\n",
            "Validation Loss: 0.0006496347863257482 - Validation Accuracy: 0.5620874587458746\n",
            "Epoch 162 - Step: 1200/1214 - Average Loss for Epoch: 0.0006009272764337462\n",
            "Epoch 162/250 Done, Train Loss: 0.0006021401509157857, Train Accuracy: 0.555240939044481\n",
            "Time Elapsed for Epoch: 5.8600679190003575 seconds\n",
            "Validation Loss: 0.0007196281077016549 - Validation Accuracy: 0.5550742574257426\n",
            "Epoch 163 - Step: 1200/1214 - Average Loss for Epoch: 0.0004850496321478204\n",
            "Epoch 163/250 Done, Train Loss: 0.0004895112035462263, Train Accuracy: 0.5695531301482701\n",
            "Time Elapsed for Epoch: 5.57470751100027 seconds\n",
            "Validation Loss: 0.0007399376484172775 - Validation Accuracy: 0.5631188118811881\n",
            "Epoch 164 - Step: 1200/1214 - Average Loss for Epoch: 0.0005551574652539178\n",
            "Epoch 164/250 Done, Train Loss: 0.000552571309736452, Train Accuracy: 0.5560646622734761\n",
            "Time Elapsed for Epoch: 5.941285449000134 seconds\n",
            "Validation Loss: 0.0007179464349127835 - Validation Accuracy: 0.594059405940594\n",
            "Epoch 165 - Step: 1200/1214 - Average Loss for Epoch: 0.0007394708102219738\n",
            "Epoch 165/250 Done, Train Loss: 0.0007388908374139098, Train Accuracy: 0.5285214168039539\n",
            "Time Elapsed for Epoch: 5.737577217000762 seconds\n",
            "Validation Loss: 0.0006032608491457921 - Validation Accuracy: 0.6115924092409241\n",
            "Epoch 166 - Step: 1200/1214 - Average Loss for Epoch: 0.0005454273424038547\n",
            "Epoch 166/250 Done, Train Loss: 0.0005448931001882507, Train Accuracy: 0.5515856672158155\n",
            "Time Elapsed for Epoch: 5.70724479799992 seconds\n",
            "Validation Loss: 0.0005146362993232453 - Validation Accuracy: 0.6093234323432343\n",
            "Epoch 167 - Step: 1200/1214 - Average Loss for Epoch: 0.0005099745275432118\n",
            "Epoch 167/250 Done, Train Loss: 0.0005091158173589431, Train Accuracy: 0.5584843492586491\n",
            "Time Elapsed for Epoch: 5.6549768699997 seconds\n",
            "Validation Loss: 0.0006589593015005658 - Validation Accuracy: 0.5880775577557755\n",
            "Epoch 168 - Step: 1200/1214 - Average Loss for Epoch: 0.0005679838621775465\n",
            "Epoch 168/250 Done, Train Loss: 0.0005653463865861817, Train Accuracy: 0.5419069192751236\n",
            "Time Elapsed for Epoch: 5.709508236000147 seconds\n",
            "Validation Loss: 0.0005417161766504416 - Validation Accuracy: 0.6027227722772277\n",
            "Epoch 169 - Step: 1200/1214 - Average Loss for Epoch: 0.000479391767657944\n",
            "Epoch 169/250 Done, Train Loss: 0.00047920372534668515, Train Accuracy: 0.5599258649093904\n",
            "Time Elapsed for Epoch: 5.938831069000116 seconds\n",
            "Validation Loss: 0.0009471335433052373 - Validation Accuracy: 0.5558993399339934\n",
            "Epoch 170 - Step: 1200/1214 - Average Loss for Epoch: 0.0006012972800666223\n",
            "Epoch 170/250 Done, Train Loss: 0.0006015128522792352, Train Accuracy: 0.5388694398682042\n",
            "Time Elapsed for Epoch: 5.566850369999884 seconds\n",
            "Validation Loss: 0.0007751384773685461 - Validation Accuracy: 0.5594059405940595\n",
            "Epoch 171 - Step: 1200/1214 - Average Loss for Epoch: 0.000505370809072095\n",
            "Epoch 171/250 Done, Train Loss: 0.0005063676327443279, Train Accuracy: 0.5586902800658978\n",
            "Time Elapsed for Epoch: 5.816480785999374 seconds\n",
            "Validation Loss: 0.0007268008295387658 - Validation Accuracy: 0.5668316831683168\n",
            "Epoch 172 - Step: 1200/1214 - Average Loss for Epoch: 0.0004926562734120429\n",
            "Epoch 172/250 Done, Train Loss: 0.0004910554810954738, Train Accuracy: 0.5695531301482701\n",
            "Time Elapsed for Epoch: 5.490557940000144 seconds\n",
            "Validation Loss: 0.0005971912274983552 - Validation Accuracy: 0.594059405940594\n",
            "Epoch 173 - Step: 1200/1214 - Average Loss for Epoch: 0.0005334382788047757\n",
            "Epoch 173/250 Done, Train Loss: 0.0005316209441545796, Train Accuracy: 0.5524608731466227\n",
            "Time Elapsed for Epoch: 5.74270602300021 seconds\n",
            "Validation Loss: 0.0006443098956080678 - Validation Accuracy: 0.5713696369636964\n",
            "Epoch 174 - Step: 1200/1214 - Average Loss for Epoch: 0.0005431998922085768\n",
            "Epoch 174/250 Done, Train Loss: 0.0005441249644002274, Train Accuracy: 0.550658978583196\n",
            "Time Elapsed for Epoch: 5.700353907000135 seconds\n",
            "Validation Loss: 0.0006813176990155878 - Validation Accuracy: 0.5858085808580858\n",
            "Epoch 175 - Step: 1200/1214 - Average Loss for Epoch: 0.00045048386352088224\n",
            "Epoch 175/250 Done, Train Loss: 0.00045057819245990726, Train Accuracy: 0.5783051894563427\n",
            "Time Elapsed for Epoch: 5.945831095000358 seconds\n",
            "Validation Loss: 0.0006504474071268663 - Validation Accuracy: 0.5833333333333334\n",
            "Epoch 176 - Step: 1200/1214 - Average Loss for Epoch: 0.0005393239441733992\n",
            "Epoch 176/250 Done, Train Loss: 0.0005375508784832246, Train Accuracy: 0.5518945634266886\n",
            "Time Elapsed for Epoch: 5.518277102000866 seconds\n",
            "Validation Loss: 0.0005980332677215899 - Validation Accuracy: 0.5748762376237624\n",
            "Epoch 177 - Step: 1200/1214 - Average Loss for Epoch: 0.0006417300177296662\n",
            "Epoch 177/250 Done, Train Loss: 0.0006434378627052107, Train Accuracy: 0.5580210049423394\n",
            "Time Elapsed for Epoch: 5.955946330000188 seconds\n",
            "Validation Loss: 0.0007014146666262466 - Validation Accuracy: 0.5616749174917491\n",
            "Epoch 178 - Step: 1200/1214 - Average Loss for Epoch: 0.0005180733516954206\n",
            "Epoch 178/250 Done, Train Loss: 0.0005155091924623107, Train Accuracy: 0.5718183690280065\n",
            "Time Elapsed for Epoch: 5.486603886000012 seconds\n",
            "Validation Loss: 0.0005643483924635466 - Validation Accuracy: 0.5948844884488449\n",
            "Epoch 179 - Step: 1200/1214 - Average Loss for Epoch: 0.0004130077245872599\n",
            "Epoch 179/250 Done, Train Loss: 0.00041376172162115005, Train Accuracy: 0.5818060131795717\n",
            "Time Elapsed for Epoch: 6.01591020900014 seconds\n",
            "Validation Loss: 0.0007605447291059223 - Validation Accuracy: 0.5377475247524752\n",
            "Epoch 180 - Step: 1200/1214 - Average Loss for Epoch: 0.0005797402471732009\n",
            "Epoch 180/250 Done, Train Loss: 0.000577832255649005, Train Accuracy: 0.5500926688632619\n",
            "Time Elapsed for Epoch: 5.535214397000345 seconds\n",
            "Validation Loss: 0.0006294473448476067 - Validation Accuracy: 0.6082920792079208\n",
            "Epoch 181 - Step: 1200/1214 - Average Loss for Epoch: 0.0005151950066404728\n",
            "Epoch 181/250 Done, Train Loss: 0.0005137123679181237, Train Accuracy: 0.5655889621087314\n",
            "Time Elapsed for Epoch: 6.092034237000007 seconds\n",
            "Validation Loss: 0.0009862857272424127 - Validation Accuracy: 0.5893151815181518\n",
            "Epoch 182 - Step: 1200/1214 - Average Loss for Epoch: 0.000532872125747114\n",
            "Epoch 182/250 Done, Train Loss: 0.00053315445522092, Train Accuracy: 0.5670304777594728\n",
            "Time Elapsed for Epoch: 5.464713837999625 seconds\n",
            "Validation Loss: 0.0006199393197801887 - Validation Accuracy: 0.4729785478547855\n",
            "Epoch 183 - Step: 1200/1214 - Average Loss for Epoch: 0.00039105621103772135\n",
            "Epoch 183/250 Done, Train Loss: 0.000389759357576877, Train Accuracy: 0.5853068369028006\n",
            "Time Elapsed for Epoch: 6.125876696999512 seconds\n",
            "Validation Loss: 0.00047885903629798804 - Validation Accuracy: 0.6264438943894389\n",
            "Epoch 184 - Step: 1200/1214 - Average Loss for Epoch: 0.0005403867176755739\n",
            "Epoch 184/250 Done, Train Loss: 0.0005427781722485452, Train Accuracy: 0.5565794892915981\n",
            "Time Elapsed for Epoch: 5.509084438999707 seconds\n",
            "Validation Loss: 0.0006066546225141335 - Validation Accuracy: 0.5785891089108911\n",
            "Epoch 185 - Step: 1200/1214 - Average Loss for Epoch: 0.0004342377289503929\n",
            "Epoch 185/250 Done, Train Loss: 0.0004347910497263166, Train Accuracy: 0.5726935749588138\n",
            "Time Elapsed for Epoch: 6.197961345000294 seconds\n",
            "Validation Loss: 0.000902703668699921 - Validation Accuracy: 0.5804455445544554\n",
            "Epoch 186 - Step: 1200/1214 - Average Loss for Epoch: 0.0005249571034285812\n",
            "Epoch 186/250 Done, Train Loss: 0.0005250312243413023, Train Accuracy: 0.5631177924217463\n",
            "Time Elapsed for Epoch: 5.431565920999674 seconds\n",
            "Validation Loss: 0.0007015330820559929 - Validation Accuracy: 0.5325907590759076\n",
            "Epoch 187 - Step: 1200/1214 - Average Loss for Epoch: 0.0003871413801471135\n",
            "Epoch 187/250 Done, Train Loss: 0.000396500563731183, Train Accuracy: 0.5807763591433278\n",
            "Time Elapsed for Epoch: 6.18439151199982 seconds\n",
            "Validation Loss: 0.0012997645015863659 - Validation Accuracy: 0.5012376237623762\n",
            "Epoch 188 - Step: 1200/1214 - Average Loss for Epoch: 0.0004509912994762999\n",
            "Epoch 188/250 Done, Train Loss: 0.000449292095546527, Train Accuracy: 0.5820119439868204\n",
            "Time Elapsed for Epoch: 5.636151418000736 seconds\n",
            "Validation Loss: 0.0006922905388282053 - Validation Accuracy: 0.6120049504950495\n",
            "Epoch 189 - Step: 1200/1214 - Average Loss for Epoch: 0.0006447074369467979\n",
            "Epoch 189/250 Done, Train Loss: 0.0006414278926446685, Train Accuracy: 0.5586902800658978\n",
            "Time Elapsed for Epoch: 6.126119040999583 seconds\n",
            "Validation Loss: 0.0005680879552732606 - Validation Accuracy: 0.5932343234323433\n",
            "Epoch 190 - Step: 1200/1214 - Average Loss for Epoch: 0.0004628663026354237\n",
            "Epoch 190/250 Done, Train Loss: 0.0004600581749376616, Train Accuracy: 0.5761429159802306\n",
            "Time Elapsed for Epoch: 6.149117294000462 seconds\n",
            "Validation Loss: 0.0004846535164736274 - Validation Accuracy: 0.588490099009901\n",
            "Epoch 191 - Step: 1200/1214 - Average Loss for Epoch: 0.0004440347327545169\n",
            "Epoch 191/250 Done, Train Loss: 0.00044117585777916294, Train Accuracy: 0.5809308072487644\n",
            "Time Elapsed for Epoch: 5.975977551000142 seconds\n",
            "Validation Loss: 0.00043995012115209176 - Validation Accuracy: 0.6388201320132013\n",
            "Epoch 192 - Step: 1200/1214 - Average Loss for Epoch: 0.00043304841108692926\n",
            "Epoch 192/250 Done, Train Loss: 0.00043299453541421857, Train Accuracy: 0.5876750411861614\n",
            "Time Elapsed for Epoch: 5.47348595800031 seconds\n",
            "Validation Loss: 0.0006331832611298638 - Validation Accuracy: 0.5922029702970297\n",
            "Epoch 193 - Step: 1200/1214 - Average Loss for Epoch: 0.00048078687806992095\n",
            "Epoch 193/250 Done, Train Loss: 0.00047856569680929204, Train Accuracy: 0.5765547775947282\n",
            "Time Elapsed for Epoch: 6.128147892000015 seconds\n",
            "Validation Loss: 0.0004559928300643913 - Validation Accuracy: 0.6247937293729373\n",
            "Epoch 194 - Step: 1200/1214 - Average Loss for Epoch: 0.0004453156108775147\n",
            "Epoch 194/250 Done, Train Loss: 0.00044309128452893313, Train Accuracy: 0.591330313014827\n",
            "Time Elapsed for Epoch: 5.53543807799997 seconds\n",
            "Validation Loss: 0.00045317133986623573 - Validation Accuracy: 0.6301567656765676\n",
            "Epoch 195 - Step: 1200/1214 - Average Loss for Epoch: 0.00035312654647896125\n",
            "Epoch 195/250 Done, Train Loss: 0.0003788986677461704, Train Accuracy: 0.594831136738056\n",
            "Time Elapsed for Epoch: 6.1343557740001415 seconds\n",
            "Validation Loss: 0.001089259534985866 - Validation Accuracy: 0.40264026402640263\n",
            "Epoch 196 - Step: 1200/1214 - Average Loss for Epoch: 0.0006486867298463039\n",
            "Epoch 196/250 Done, Train Loss: 0.0006470159990893521, Train Accuracy: 0.5523064250411862\n",
            "Time Elapsed for Epoch: 5.387956628000211 seconds\n",
            "Validation Loss: 0.0005424832241188407 - Validation Accuracy: 0.6353135313531353\n",
            "Epoch 197 - Step: 1200/1214 - Average Loss for Epoch: 0.0003739768172727054\n",
            "Epoch 197/250 Done, Train Loss: 0.00037633947786566577, Train Accuracy: 0.6094522240527183\n",
            "Time Elapsed for Epoch: 6.022649408999314 seconds\n",
            "Validation Loss: 0.0007355895749281357 - Validation Accuracy: 0.6089108910891089\n",
            "Epoch 198 - Step: 1200/1214 - Average Loss for Epoch: 0.00042641345480660676\n",
            "Epoch 198/250 Done, Train Loss: 0.0004248227391297441, Train Accuracy: 0.5931836902800659\n",
            "Time Elapsed for Epoch: 5.508809586000098 seconds\n",
            "Validation Loss: 0.0005913485329734679 - Validation Accuracy: 0.567450495049505\n",
            "Epoch 199 - Step: 1200/1214 - Average Loss for Epoch: 0.0003819791280117594\n",
            "Epoch 199/250 Done, Train Loss: 0.00038469627068860474, Train Accuracy: 0.5917421746293245\n",
            "Time Elapsed for Epoch: 6.050764492000781 seconds\n",
            "Validation Loss: 0.0006550415614748561 - Validation Accuracy: 0.6113861386138614\n",
            "Epoch 200 - Step: 1200/1214 - Average Loss for Epoch: 0.00038504481608470087\n",
            "Epoch 200/250 Done, Train Loss: 0.00038554978421744446, Train Accuracy: 0.5901462108731467\n",
            "Time Elapsed for Epoch: 5.50636842699987 seconds\n",
            "Validation Loss: 0.0004507069571136586 - Validation Accuracy: 0.6120049504950495\n",
            "Epoch 201 - Step: 1200/1214 - Average Loss for Epoch: 0.0004618618114363926\n",
            "Epoch 201/250 Done, Train Loss: 0.0004591042007487156, Train Accuracy: 0.5821149093904449\n",
            "Time Elapsed for Epoch: 6.044584063000002 seconds\n",
            "Validation Loss: 0.0005193296087767065 - Validation Accuracy: 0.613036303630363\n",
            "Epoch 202 - Step: 1200/1214 - Average Loss for Epoch: 0.000405061074210001\n",
            "Epoch 202/250 Done, Train Loss: 0.00040379227365125843, Train Accuracy: 0.5910214168039539\n",
            "Time Elapsed for Epoch: 5.50097979200018 seconds\n",
            "Validation Loss: 0.0005016700727390602 - Validation Accuracy: 0.6208745874587459\n",
            "Epoch 203 - Step: 1200/1214 - Average Loss for Epoch: 0.00034886744655220054\n",
            "Epoch 203/250 Done, Train Loss: 0.0003466215905117959, Train Accuracy: 0.6035831960461285\n",
            "Time Elapsed for Epoch: 6.301610730999528 seconds\n",
            "Validation Loss: 0.0004339715511624151 - Validation Accuracy: 0.6429455445544554\n",
            "Epoch 204 - Step: 1200/1214 - Average Loss for Epoch: 0.0004466811950320941\n",
            "Epoch 204/250 Done, Train Loss: 0.0004467698411538578, Train Accuracy: 0.5867998352553542\n",
            "Time Elapsed for Epoch: 5.456916797000304 seconds\n",
            "Validation Loss: 0.0003580534386567859 - Validation Accuracy: 0.6427392739273927\n",
            "Epoch 205 - Step: 1200/1214 - Average Loss for Epoch: 0.00030348092154023715\n",
            "Epoch 205/250 Done, Train Loss: 0.00030545603736602023, Train Accuracy: 0.6070325370675453\n",
            "Time Elapsed for Epoch: 6.112642123000114 seconds\n",
            "Validation Loss: 0.0012300269796115173 - Validation Accuracy: 0.5523927392739274\n",
            "Epoch 206 - Step: 1200/1214 - Average Loss for Epoch: 0.00040566489601587816\n",
            "Epoch 206/250 Done, Train Loss: 0.00040442426504672845, Train Accuracy: 0.5969934102141681\n",
            "Time Elapsed for Epoch: 5.534925003999888 seconds\n",
            "Validation Loss: 0.0004351952250037579 - Validation Accuracy: 0.6379950495049505\n",
            "Epoch 207 - Step: 1200/1214 - Average Loss for Epoch: 0.0003601483230280185\n",
            "Epoch 207/250 Done, Train Loss: 0.00036116373607693385, Train Accuracy: 0.6073929159802306\n",
            "Time Elapsed for Epoch: 6.0889913040000465 seconds\n",
            "Validation Loss: 0.0004750098456743787 - Validation Accuracy: 0.6179867986798679\n",
            "Epoch 208 - Step: 1200/1214 - Average Loss for Epoch: 0.00047771107830764473\n",
            "Epoch 208/250 Done, Train Loss: 0.0004760466665978157, Train Accuracy: 0.5890135914332785\n",
            "Time Elapsed for Epoch: 5.498719915000038 seconds\n",
            "Validation Loss: 0.0004473154297229725 - Validation Accuracy: 0.6190181518151815\n",
            "Epoch 209 - Step: 1200/1214 - Average Loss for Epoch: 0.000383104425785253\n",
            "Epoch 209/250 Done, Train Loss: 0.0003818365146729973, Train Accuracy: 0.6023476112026359\n",
            "Time Elapsed for Epoch: 6.021455039000102 seconds\n",
            "Validation Loss: 0.0005448300756866392 - Validation Accuracy: 0.5948844884488449\n",
            "Epoch 210 - Step: 1200/1214 - Average Loss for Epoch: 0.0004969430254398807\n",
            "Epoch 210/250 Done, Train Loss: 0.0004968215124111982, Train Accuracy: 0.5766577429983526\n",
            "Time Elapsed for Epoch: 5.598070920000282 seconds\n",
            "Validation Loss: 0.0003920642857728165 - Validation Accuracy: 0.6361386138613861\n",
            "Epoch 211 - Step: 1200/1214 - Average Loss for Epoch: 0.0003149925015153106\n",
            "Epoch 211/250 Done, Train Loss: 0.00031550977753112207, Train Accuracy: 0.6197487644151565\n",
            "Time Elapsed for Epoch: 6.021437053000227 seconds\n",
            "Validation Loss: 0.0003645013163171489 - Validation Accuracy: 0.6429455445544554\n",
            "Epoch 212 - Step: 1200/1214 - Average Loss for Epoch: 0.0003625727489331136\n",
            "Epoch 212/250 Done, Train Loss: 0.00036471421093338776, Train Accuracy: 0.6030168863261944\n",
            "Time Elapsed for Epoch: 5.493924610999784 seconds\n",
            "Validation Loss: 0.00047617815668819926 - Validation Accuracy: 0.545585808580858\n",
            "Epoch 213 - Step: 1200/1214 - Average Loss for Epoch: 0.0003820483725151765\n",
            "Epoch 213/250 Done, Train Loss: 0.000381995746958646, Train Accuracy: 0.6110481878088962\n",
            "Time Elapsed for Epoch: 6.096855693999714 seconds\n",
            "Validation Loss: 0.0005447025250639841 - Validation Accuracy: 0.5606435643564357\n",
            "Epoch 214 - Step: 1200/1214 - Average Loss for Epoch: 0.0002804746352330767\n",
            "Epoch 214/250 Done, Train Loss: 0.0002814155932445689, Train Accuracy: 0.6243822075782537\n",
            "Time Elapsed for Epoch: 5.4783179400001245 seconds\n",
            "Validation Loss: 0.0005010418998647678 - Validation Accuracy: 0.6384075907590759\n",
            "Epoch 215 - Step: 1200/1214 - Average Loss for Epoch: 0.00041174775441353025\n",
            "Epoch 215/250 Done, Train Loss: 0.00040901044697224444, Train Accuracy: 0.6104303953871499\n",
            "Time Elapsed for Epoch: 6.019650917000035 seconds\n",
            "Validation Loss: 0.0004264921548437456 - Validation Accuracy: 0.6406765676567657\n",
            "Epoch 216 - Step: 1200/1214 - Average Loss for Epoch: 0.0003306524521121901\n",
            "Epoch 216/250 Done, Train Loss: 0.00033115409890296113, Train Accuracy: 0.6070325370675453\n",
            "Time Elapsed for Epoch: 5.486620216000119 seconds\n",
            "Validation Loss: 0.0003861188059618924 - Validation Accuracy: 0.6516089108910891\n",
            "Epoch 217 - Step: 1200/1214 - Average Loss for Epoch: 0.00035273573364368835\n",
            "Epoch 217/250 Done, Train Loss: 0.00036053976648167056, Train Accuracy: 0.6113570840197694\n",
            "Time Elapsed for Epoch: 6.045985447000021 seconds\n",
            "Validation Loss: 0.000572614036458191 - Validation Accuracy: 0.5874587458745875\n",
            "Epoch 218 - Step: 1200/1214 - Average Loss for Epoch: 0.0003433378924319186\n",
            "Epoch 218/250 Done, Train Loss: 0.0003425722984569925, Train Accuracy: 0.6116659802306426\n",
            "Time Elapsed for Epoch: 5.611289332000524 seconds\n",
            "Validation Loss: 0.0004604099682759318 - Validation Accuracy: 0.610973597359736\n",
            "Epoch 219 - Step: 1200/1214 - Average Loss for Epoch: 0.00046980802818325174\n",
            "Epoch 219/250 Done, Train Loss: 0.0004667649632068326, Train Accuracy: 0.6009060955518946\n",
            "Time Elapsed for Epoch: 5.833500968000408 seconds\n",
            "Validation Loss: 0.00035894704904259727 - Validation Accuracy: 0.6245874587458746\n",
            "Epoch 220 - Step: 1200/1214 - Average Loss for Epoch: 0.00031546272770356155\n",
            "Epoch 220/250 Done, Train Loss: 0.0003141279809975815, Train Accuracy: 0.6251029654036244\n",
            "Time Elapsed for Epoch: 5.790888765000091 seconds\n",
            "Validation Loss: 0.0003424577802968505 - Validation Accuracy: 0.6782178217821783\n",
            "Epoch 221 - Step: 1200/1214 - Average Loss for Epoch: 0.00038841306282241323\n",
            "Epoch 221/250 Done, Train Loss: 0.0003884715407475836, Train Accuracy: 0.6187705930807249\n",
            "Time Elapsed for Epoch: 5.736501394999323 seconds\n",
            "Validation Loss: 0.0006529219761720771 - Validation Accuracy: 0.5928217821782178\n",
            "Epoch 222 - Step: 1200/1214 - Average Loss for Epoch: 0.0003414834114300902\n",
            "Epoch 222/250 Done, Train Loss: 0.000340501825996497, Train Accuracy: 0.6186161449752883\n",
            "Time Elapsed for Epoch: 6.036893867999424 seconds\n",
            "Validation Loss: 0.0003760910930104608 - Validation Accuracy: 0.6679042904290429\n",
            "Epoch 223 - Step: 1200/1214 - Average Loss for Epoch: 0.000249240590417988\n",
            "Epoch 223/250 Done, Train Loss: 0.00025090733012235087, Train Accuracy: 0.6484246293245469\n",
            "Time Elapsed for Epoch: 5.730382808000286 seconds\n",
            "Validation Loss: 0.0004415804765939005 - Validation Accuracy: 0.6604785478547854\n",
            "Epoch 224 - Step: 1200/1214 - Average Loss for Epoch: 0.0004929102009767424\n",
            "Epoch 224/250 Done, Train Loss: 0.0004888710573140997, Train Accuracy: 0.5949855848434926\n",
            "Time Elapsed for Epoch: 5.8856475289994705 seconds\n",
            "Validation Loss: 0.00035563049996889344 - Validation Accuracy: 0.6635726072607261\n",
            "Epoch 225 - Step: 1200/1214 - Average Loss for Epoch: 0.00025032777390303335\n",
            "Epoch 225/250 Done, Train Loss: 0.0002500709851624551, Train Accuracy: 0.6436367380560132\n",
            "Time Elapsed for Epoch: 5.633671777000018 seconds\n",
            "Validation Loss: 0.0005141707554297916 - Validation Accuracy: 0.6204620462046204\n",
            "Epoch 226 - Step: 1200/1214 - Average Loss for Epoch: 0.00040041744092983813\n",
            "Epoch 226/250 Done, Train Loss: 0.0003981442516854227, Train Accuracy: 0.6083710873146623\n",
            "Time Elapsed for Epoch: 5.902355723000255 seconds\n",
            "Validation Loss: 0.00033217359199469123 - Validation Accuracy: 0.6802805280528053\n",
            "Epoch 227 - Step: 1200/1214 - Average Loss for Epoch: 0.0005016648953248174\n",
            "Epoch 227/250 Done, Train Loss: 0.0005042477724455419, Train Accuracy: 0.6044069192751236\n",
            "Time Elapsed for Epoch: 5.568135383000481 seconds\n",
            "Validation Loss: 0.0004934552132596551 - Validation Accuracy: 0.5697194719471947\n",
            "Epoch 228 - Step: 1200/1214 - Average Loss for Epoch: 0.0003582666269691496\n",
            "Epoch 228/250 Done, Train Loss: 0.0003557362313741882, Train Accuracy: 0.6192339373970346\n",
            "Time Elapsed for Epoch: 5.995496024999738 seconds\n",
            "Validation Loss: 0.0003506216968408468 - Validation Accuracy: 0.6695544554455446\n",
            "Epoch 229 - Step: 1200/1214 - Average Loss for Epoch: 0.00029723012425620255\n",
            "Epoch 229/250 Done, Train Loss: 0.0003026138326473134, Train Accuracy: 0.6360172981878089\n",
            "Time Elapsed for Epoch: 5.902068909999798 seconds\n",
            "Validation Loss: 0.00039970406040611904 - Validation Accuracy: 0.6198432343234324\n",
            "Epoch 230 - Step: 1200/1214 - Average Loss for Epoch: 0.00031558069077921875\n",
            "Epoch 230/250 Done, Train Loss: 0.0003167897165945023, Train Accuracy: 0.6347302306425041\n",
            "Time Elapsed for Epoch: 5.943640512999991 seconds\n",
            "Validation Loss: 0.0004007107294359584 - Validation Accuracy: 0.6584158415841584\n",
            "Epoch 231 - Step: 1200/1214 - Average Loss for Epoch: 0.0003258329426989803\n",
            "Epoch 231/250 Done, Train Loss: 0.00032590092669903853, Train Accuracy: 0.6176379736408567\n",
            "Time Elapsed for Epoch: 5.529269032999764 seconds\n",
            "Validation Loss: 0.00037298904601094565 - Validation Accuracy: 0.6318069306930693\n",
            "Epoch 232 - Step: 1200/1214 - Average Loss for Epoch: 0.00037564081766352803\n",
            "Epoch 232/250 Done, Train Loss: 0.00037394505746784064, Train Accuracy: 0.6246396210873146\n",
            "Time Elapsed for Epoch: 6.31037903700053 seconds\n",
            "Validation Loss: 0.0003999957971305782 - Validation Accuracy: 0.6382013201320133\n",
            "Epoch 233 - Step: 1200/1214 - Average Loss for Epoch: 0.00044140644254336316\n",
            "Epoch 233/250 Done, Train Loss: 0.0004419196830000578, Train Accuracy: 0.6125926688632619\n",
            "Time Elapsed for Epoch: 5.55546817999948 seconds\n",
            "Validation Loss: 0.0004769031820915218 - Validation Accuracy: 0.5860148514851485\n",
            "Epoch 234 - Step: 1200/1214 - Average Loss for Epoch: 0.00029200999221454065\n",
            "Epoch 234/250 Done, Train Loss: 0.0002906950238802128, Train Accuracy: 0.6443574958813838\n",
            "Time Elapsed for Epoch: 6.300114714000301 seconds\n",
            "Validation Loss: 0.0003018469239214628 - Validation Accuracy: 0.6778052805280528\n",
            "Epoch 235 - Step: 1200/1214 - Average Loss for Epoch: 0.0002702783966712256\n",
            "Epoch 235/250 Done, Train Loss: 0.0002740123263495555, Train Accuracy: 0.6462623558484349\n",
            "Time Elapsed for Epoch: 5.591429368999343 seconds\n",
            "Validation Loss: 0.0005106610106870996 - Validation Accuracy: 0.6029290429042904\n",
            "Epoch 236 - Step: 1200/1214 - Average Loss for Epoch: 0.0002798149483260204\n",
            "Epoch 236/250 Done, Train Loss: 0.00028555033567390396, Train Accuracy: 0.6393636738056013\n",
            "Time Elapsed for Epoch: 6.257426712999404 seconds\n",
            "Validation Loss: 0.0005676919988125237 - Validation Accuracy: 0.3844884488448845\n",
            "Epoch 237 - Step: 1200/1214 - Average Loss for Epoch: 0.00033098229795541556\n",
            "Epoch 237/250 Done, Train Loss: 0.0003292053864481153, Train Accuracy: 0.6255663097199341\n",
            "Time Elapsed for Epoch: 5.60708314600015 seconds\n",
            "Validation Loss: 0.0003295949844637903 - Validation Accuracy: 0.6668729372937293\n",
            "Epoch 238 - Step: 1200/1214 - Average Loss for Epoch: 0.0004338720289979392\n",
            "Epoch 238/250 Done, Train Loss: 0.0004393573851873659, Train Accuracy: 0.6070325370675453\n",
            "Time Elapsed for Epoch: 6.266074760000265 seconds\n",
            "Validation Loss: 0.0007384290367295918 - Validation Accuracy: 0.5672442244224423\n",
            "Epoch 239 - Step: 1200/1214 - Average Loss for Epoch: 0.00029430938859756377\n",
            "Epoch 239/250 Done, Train Loss: 0.00029338077333772284, Train Accuracy: 0.6394666392092258\n",
            "Time Elapsed for Epoch: 5.661030613000548 seconds\n",
            "Validation Loss: 0.00031630202629037696 - Validation Accuracy: 0.6767739273927392\n",
            "Epoch 240 - Step: 1200/1214 - Average Loss for Epoch: 0.00047738634844184466\n",
            "Epoch 240/250 Done, Train Loss: 0.00048179992039400633, Train Accuracy: 0.6087829489291599\n",
            "Time Elapsed for Epoch: 6.203025867999713 seconds\n",
            "Validation Loss: 0.0006487241716667965 - Validation Accuracy: 0.6208745874587459\n",
            "Epoch 241 - Step: 1200/1214 - Average Loss for Epoch: 0.00029039680570804195\n",
            "Epoch 241/250 Done, Train Loss: 0.00028869377873120227, Train Accuracy: 0.6410626029654036\n",
            "Time Elapsed for Epoch: 5.724649153999962 seconds\n",
            "Validation Loss: 0.00032525604277571223 - Validation Accuracy: 0.658003300330033\n",
            "Epoch 242 - Step: 1200/1214 - Average Loss for Epoch: 0.00021487529788373648\n",
            "Epoch 242/250 Done, Train Loss: 0.0002152236118137082, Train Accuracy: 0.6671643327841845\n",
            "Time Elapsed for Epoch: 6.338052713000252 seconds\n",
            "Validation Loss: 0.0003276524359006673 - Validation Accuracy: 0.6788366336633663\n",
            "Epoch 243 - Step: 1200/1214 - Average Loss for Epoch: 0.0002972358414020467\n",
            "Epoch 243/250 Done, Train Loss: 0.0002960827068563898, Train Accuracy: 0.6449752883031301\n",
            "Time Elapsed for Epoch: 5.591191305999928 seconds\n",
            "Validation Loss: 0.00044322581485331845 - Validation Accuracy: 0.6359323432343235\n",
            "Epoch 244 - Step: 1200/1214 - Average Loss for Epoch: 0.00041649122821127096\n",
            "Epoch 244/250 Done, Train Loss: 0.0004142203090055051, Train Accuracy: 0.6124382207578254\n",
            "Time Elapsed for Epoch: 6.231212228000004 seconds\n",
            "Validation Loss: 0.00040232263575072695 - Validation Accuracy: 0.6718234323432343\n",
            "Epoch 245 - Step: 1200/1214 - Average Loss for Epoch: 0.00038590964841053694\n",
            "Epoch 245/250 Done, Train Loss: 0.0004194490811896745, Train Accuracy: 0.6420922570016474\n",
            "Time Elapsed for Epoch: 5.6395950449996235 seconds\n",
            "Validation Loss: 0.0021851027521803106 - Validation Accuracy: 0.4535891089108911\n",
            "Epoch 246 - Step: 1200/1214 - Average Loss for Epoch: 0.0003144075357613474\n",
            "Epoch 246/250 Done, Train Loss: 0.0003133529331217452, Train Accuracy: 0.6358113673805601\n",
            "Time Elapsed for Epoch: 6.2784836700002415 seconds\n",
            "Validation Loss: 0.00031681869551645076 - Validation Accuracy: 0.6829620462046204\n",
            "Epoch 247 - Step: 1200/1214 - Average Loss for Epoch: 0.00019845060498634363\n",
            "Epoch 247/250 Done, Train Loss: 0.0001977786219850014, Train Accuracy: 0.6765341845140033\n",
            "Time Elapsed for Epoch: 5.51326780799991 seconds\n",
            "Validation Loss: 0.00032431005684125026 - Validation Accuracy: 0.6757425742574258\n",
            "Epoch 248 - Step: 1200/1214 - Average Loss for Epoch: 0.0003752618110047479\n",
            "Epoch 248/250 Done, Train Loss: 0.00037986516269845227, Train Accuracy: 0.6382310543657331\n",
            "Time Elapsed for Epoch: 6.162903645999904 seconds\n",
            "Validation Loss: 0.0005017925560294394 - Validation Accuracy: 0.628506600660066\n",
            "Epoch 249 - Step: 1200/1214 - Average Loss for Epoch: 0.0003530316438339772\n",
            "Epoch 249/250 Done, Train Loss: 0.00035248372552404, Train Accuracy: 0.630663097199341\n",
            "Time Elapsed for Epoch: 5.595889471000191 seconds\n",
            "Validation Loss: 0.0003993615037651649 - Validation Accuracy: 0.6586221122112211\n",
            "Epoch 250 - Step: 1200/1214 - Average Loss for Epoch: 0.00021123590026187836\n",
            "Epoch 250/250 Done, Train Loss: 0.00021107683281234264, Train Accuracy: 0.6668039538714992\n",
            "Time Elapsed for Epoch: 6.196935558000405 seconds\n",
            "Validation Loss: 0.00029419914264910627 - Validation Accuracy: 0.7130775577557755\n"
          ]
        },
        {
          "output_type": "display_data",
          "data": {
            "text/plain": [
              "<Figure size 1080x864 with 1 Axes>"
            ],
            "image/png": "[encoded data removed]"
          },
          "metadata": {
            "needs_background": "light"
          }
        },
        {
          "output_type": "display_data",
          "data": {
            "text/plain": [
              "<Figure size 1080x864 with 1 Axes>"
            ],
            "image/png": "[encoded data removed]"
          },
          "metadata": {
            "needs_background": "light"
          }
        },
        {
          "output_type": "stream",
          "name": "stdout",
          "text": [
            "Total Training Time: 0 seconds\n"
          ]
        }
      ]
    },
    {
      "cell_type": "code",
      "source": [
        "torch.save(lstm_model.state_dict(), \"/content/model/lstm_model.pt\")  # Save model to Model folder"
      ],
      "metadata": {
        "id": "nuHohf7SuAVY"
      },
      "execution_count": 462,
      "outputs": []
    },
    {
      "cell_type": "code",
      "source": [
        "hidden_dim = 256\n",
        "input_dim = 4\n",
        "output_dim = 1\n",
        "n_layers = 2\n",
        "lstm_model = LSTMNet(input_dim, hidden_dim, output_dim, n_layers)\n",
        "lstm_model.load_state_dict(torch.load(\"/content/model/lstm_model.pt\"))"
      ],
      "metadata": {
        "colab": {
          "base_uri": "https://localhost:8080/"
        },
        "id": "JkId4ExnuGNZ",
        "outputId": "e8adcfab-b63b-41e0-e24e-20ae08e5bbc1"
      },
      "execution_count": 463,
      "outputs": [
        {
          "output_type": "execute_result",
          "data": {
            "text/plain": [
              "<All keys matched successfully>"
            ]
          },
          "metadata": {},
          "execution_count": 463
        }
      ]
    },
    {
      "cell_type": "code",
      "source": [
        "# Move the model to the appropriate device\n",
        "lstm_model.to(device)"
      ],
      "metadata": {
        "colab": {
          "base_uri": "https://localhost:8080/"
        },
        "id": "-yw5bmdruNWo",
        "outputId": "7cc41438-303e-442f-9b4f-59880bbdc7fe"
      },
      "execution_count": 464,
      "outputs": [
        {
          "output_type": "execute_result",
          "data": {
            "text/plain": [
              "LSTMNet(\n",
              "  (lstm): LSTM(4, 256, num_layers=2, batch_first=True, dropout=0.2)\n",
              "  (fc): Linear(in_features=256, out_features=1, bias=True)\n",
              "  (relu): ReLU()\n",
              ")"
            ]
          },
          "metadata": {},
          "execution_count": 464
        }
      ]
    },
    {
      "cell_type": "markdown",
      "source": [
        "# Evaluation"
      ],
      "metadata": {
        "id": "7W0MZsqXuWqQ"
      }
    },
    {
      "cell_type": "code",
      "source": [
        "def sMAPE(outputs, targets):\n",
        "    sMAPE = (100/ len(targets) * np.sum(np.abs(outputs - targets) / (np.abs(outputs + targets)) / 2))\n",
        "    return sMAPE"
      ],
      "metadata": {
        "id": "lfLW8pGQuPq3"
      },
      "execution_count": 465,
      "outputs": []
    },
    {
      "cell_type": "code",
      "source": [
        "def mean_absolute_error(targets, outputs):\n",
        "    targets, outputs = np.array(targets), np.array(outputs)\n",
        "    MAE = np.mean(np.abs(outputs - targets))\n",
        "    return MAE"
      ],
      "metadata": {
        "id": "x8fMMnD4uSS4"
      },
      "execution_count": 466,
      "outputs": []
    },
    {
      "cell_type": "code",
      "source": [
        "def mean_absolute_percentage_error(targets, outputs): \n",
        "    targets, outputs = np.array(targets), np.array(outputs)\n",
        "    MAPE = np.mean(np.abs((targets - outputs) / targets)) * 100\n",
        "    return MAPE"
      ],
      "metadata": {
        "id": "L4tqM7cTuVNQ"
      },
      "execution_count": 456,
      "outputs": []
    },
    {
      "cell_type": "code",
      "source": [
        "def evaluate(model, test_x, test_y, label_scalers):\n",
        "    model.eval()\n",
        "    outputs = []\n",
        "    targets = []\n",
        "    start_time = time.process_time()\n",
        "    # get data of test data\n",
        "    for file in test_x.keys():\n",
        "        inputs = torch.from_numpy(np.array(test_x[file]))\n",
        "        labels = torch.from_numpy(np.array(test_y[file]))\n",
        "\n",
        "        h = model.init_hidden(inputs.shape[0])\n",
        "\n",
        "        # predict outputs\n",
        "        with torch.no_grad():\n",
        "            out, h = model(inputs.to(device).float(), h)\n",
        "\n",
        "        outputs.append(\n",
        "            label_scalers[file]\n",
        "            .inverse_transform(out.cpu().detach().numpy())\n",
        "            .reshape(-1)\n",
        "        )\n",
        "\n",
        "        targets.append(\n",
        "            label_scalers[file].inverse_transform(labels.numpy()).reshape(-1)\n",
        "        )\n",
        "\n",
        "    # Merge all files\n",
        "    concatenated_outputs = np.concatenate(outputs)\n",
        "    concatenated_targets = np.concatenate(targets)\n",
        "\n",
        "    print(f\"Evaluation Time: {time.process_time()-start_time}\")\n",
        "    print(f\"sMAPE: {round(sMAPE(concatenated_outputs, concatenated_targets), 3)}%\")\n",
        "    print(f\"MAPE: {round(mean_absolute_percentage_error(concatenated_outputs, concatenated_targets), 3)}%\")\n",
        "    print(f\"MAE: {round(mean_absolute_error(concatenated_outputs, concatenated_targets), 2)}\")\n",
        "\n",
        "    # list of of targets/outputs for each state\n",
        "    return outputs, targets, sMAPE"
      ],
      "metadata": {
        "id": "sB7XTN0cuaUh"
      },
      "execution_count": 467,
      "outputs": []
    },
    {
      "cell_type": "code",
      "source": [
        "lstm_outputs, targets, lstm_sMAPE = evaluate(lstm_model, test_x, test_y, label_scalers)"
      ],
      "metadata": {
        "colab": {
          "base_uri": "https://localhost:8080/"
        },
        "id": "C_q7JaRFuc4H",
        "outputId": "25d3570d-49c0-47a4-d681-c1c715a8e72f"
      },
      "execution_count": 468,
      "outputs": [
        {
          "output_type": "stream",
          "name": "stdout",
          "text": [
            "Evaluation Time: 0.04535303200009366\n",
            "sMAPE: 1.067%\n",
            "MAPE: 4.749%\n",
            "MAE: 19317.96\n"
          ]
        }
      ]
    },
    {
      "cell_type": "code",
      "source": [
        "len(lstm_outputs)  # list of predicted output file "
      ],
      "metadata": {
        "colab": {
          "base_uri": "https://localhost:8080/"
        },
        "id": "sOHdrofjuffH",
        "outputId": "d28e3c37-7e44-4343-f213-fe5f7cc81dce"
      },
      "execution_count": 469,
      "outputs": [
        {
          "output_type": "execute_result",
          "data": {
            "text/plain": [
              "1"
            ]
          },
          "metadata": {},
          "execution_count": 469
        }
      ]
    },
    {
      "cell_type": "code",
      "source": [
        "states_list = list(test_x.keys())"
      ],
      "metadata": {
        "id": "puj4gc9UulWQ"
      },
      "execution_count": 470,
      "outputs": []
    },
    {
      "cell_type": "markdown",
      "source": [
        "# Visualize results"
      ],
      "metadata": {
        "id": "qhxbC0Jou_mf"
      }
    },
    {
      "cell_type": "code",
      "source": [
        "# Plot the actual vs predicted values\n",
        "plt.figure(figsize=(20, 15))\n",
        "plt.subplot(2, 2, 1)\n",
        "plt.plot(lstm_outputs[0][-100:], \"-o\", color=\"r\", label=\"LSTM Predictions\", markersize=2)\n",
        "plt.plot(targets[0][-100:], color=\"b\", label=\"Actual Value\")\n",
        "plt.ylabel(\"Energy Generation (MW)\")\n",
        "plt.title(f\"Energy Generation Forecasting Comparion\")\n",
        "plt.legend()"
      ],
      "metadata": {
        "colab": {
          "base_uri": "https://localhost:8080/",
          "height": 452
        },
        "id": "uAiW6NdJupHp",
        "outputId": "594c87ab-0528-4c74-f786-0a4815e5a762"
      },
      "execution_count": 471,
      "outputs": [
        {
          "output_type": "execute_result",
          "data": {
            "text/plain": [
              "<matplotlib.legend.Legend at 0x7fe98dae0d00>"
            ]
          },
          "metadata": {},
          "execution_count": 471
        },
        {
          "output_type": "display_data",
          "data": {
            "text/plain": [
              "<Figure size 1440x1080 with 1 Axes>"
            ],
            "image/png": "[encoded data removed]"
          },
          "metadata": {
            "needs_background": "light"
          }
        }
      ]
    }
  ]
}
