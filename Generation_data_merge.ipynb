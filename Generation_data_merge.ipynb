{
  "nbformat": 4,
  "nbformat_minor": 0,
  "metadata": {
    "colab": {
      "provenance": [],
      "authorship_tag": "ABX9TyM2jzLaw4uj0Ie85VbwXM2X",
      "include_colab_link": true
    },
    "kernelspec": {
      "name": "python3",
      "display_name": "Python 3"
    },
    "language_info": {
      "name": "python"
    }
  },
  "cells": [
    {
      "cell_type": "markdown",
      "metadata": {
        "id": "view-in-github",
        "colab_type": "text"
      },
      "source": [
        "<a href=\"https://colab.research.google.com/github/j-ranasinghe/Electricity-consumption-forecasting/blob/main/Generation_data_merge.ipynb\" target=\"_parent\"><img src=\"https://colab.research.google.com/assets/colab-badge.svg\" alt=\"Open In Colab\"/></a>"
      ]
    },
    {
      "cell_type": "markdown",
      "source": [
        "# Import libraries"
      ],
      "metadata": {
        "id": "JnGuevTji9Xb"
      }
    },
    {
      "cell_type": "code",
      "execution_count": 1,
      "metadata": {
        "id": "WRzgy5nbgeAr"
      },
      "outputs": [],
      "source": [
        "import os\n",
        "import time\n",
        "import pandas as pd\n",
        "from google.colab import files\n",
        "import seaborn as sns\n",
        "import matplotlib.pyplot as plt\n",
        "import numpy as np"
      ]
    },
    {
      "cell_type": "markdown",
      "source": [
        "# Upload Datasets"
      ],
      "metadata": {
        "id": "eP2udcp2icR1"
      }
    },
    {
      "cell_type": "code",
      "source": [
        "consumption_data = pd.read_csv('/content/Demand for United States Lower 48 (region) hourly - UTC time.csv')   # read in the consumption data"
      ],
      "metadata": {
        "id": "TiXRgr--gx9G"
      },
      "execution_count": 2,
      "outputs": []
    },
    {
      "cell_type": "code",
      "source": [
        "holiday_data = pd.read_csv('/content/Holiday_data.csv')  # read in the holiday dataset"
      ],
      "metadata": {
        "id": "vwBVCxMHhGgs"
      },
      "execution_count": 33,
      "outputs": []
    },
    {
      "cell_type": "code",
      "source": [
        "columns = ['date']\n",
        "combined_data = pd.DataFrame(columns = columns) "
      ],
      "metadata": {
        "id": "79FPHkAAg3L8"
      },
      "execution_count": 4,
      "outputs": []
    },
    {
      "cell_type": "code",
      "source": [
        "Coal = pd.read_csv('/content/Coal.csv')\n",
        "Coal.rename(columns={'megawatthours': 'Coal'}, inplace=True)  # read in the coal generation data\n",
        "\n",
        "Wind = pd.read_csv('/content/Wind.csv')\n",
        "Wind.rename(columns={'megawatthours': 'Wind'}, inplace=True) # read in the wind generation data\n",
        "\n",
        "Hydro = pd.read_csv('/content/Hydro.csv')\n",
        "Hydro.rename(columns={'megawatthours': 'Hydro'}, inplace=True) # read in the hydro generation data\n",
        "\n",
        "Solar = pd.read_csv('/content/Solar.csv')\n",
        "Solar.rename(columns={'megawatthours': 'Solar'}, inplace=True) # read in the solar generation data\n",
        "\n",
        "Other = pd.read_csv('/content/Other.csv')\n",
        "Other.rename(columns={'megawatthours': 'Other'}, inplace=True) # read in the other generation data\n",
        "\n",
        "Petroleum = pd.read_csv('/content/Petroleum.csv')\n",
        "Petroleum.rename(columns={'megawatthours': 'Petroleum'}, inplace=True) # read in the petroleum generation data\n",
        "\n",
        "Natural_gas = pd.read_csv('/content/Natural gas.csv')\n",
        "Natural_gas.rename(columns={'megawatthours': 'Natural_gas'}, inplace=True) # read in the natural gas generation data\n",
        "\n",
        "Nuclear = pd.read_csv('/content/Nuclear.csv')\n",
        "Nuclear.rename(columns={'megawatthours': 'Nuclear'}, inplace=True) # read in the nuclear generation data"
      ],
      "metadata": {
        "id": "rU0IFQDtg6aM"
      },
      "execution_count": 5,
      "outputs": []
    },
    {
      "cell_type": "code",
      "source": [
        "combined_data = combined_data.merge(Coal, on='date', how='outer')\n",
        "combined_data = combined_data.merge(Wind, on='date', how='outer')\n",
        "combined_data = combined_data.merge(Hydro, on='date', how='outer')\n",
        "combined_data = combined_data.merge(Solar, on='date', how='outer')\n",
        "combined_data = combined_data.merge(Other, on='date', how='outer')\n",
        "combined_data = combined_data.merge(Petroleum, on='date', how='outer')\n",
        "combined_data = combined_data.merge(Natural_gas, on='date', how='outer')\n",
        "combined_data = combined_data.merge(Nuclear, on='date', how='outer')"
      ],
      "metadata": {
        "id": "J36__Np6g7kk"
      },
      "execution_count": 6,
      "outputs": []
    },
    {
      "cell_type": "code",
      "source": [
        "print(combined_data.head())"
      ],
      "metadata": {
        "colab": {
          "base_uri": "https://localhost:8080/"
        },
        "id": "DAqN8pdtg9is",
        "outputId": "1362e4ee-b9b1-472b-cf7e-7a7d06aa2c3f"
      },
      "execution_count": 7,
      "outputs": [
        {
          "output_type": "stream",
          "name": "stdout",
          "text": [
            "                  date   Coal   Wind  Hydro  Solar  Other  Petroleum  \\\n",
            "0  2018-07-01 05:00:00  45037   3533   3206      1   5226        183   \n",
            "1  2018-07-01 06:00:00  96248   7410   4270     -1   6460       3181   \n",
            "2  2018-07-01 07:00:00  94535   8814   4352      0   5983       2987   \n",
            "3  2018-07-01 08:00:00  93672  15377  22257     35   7037       3058   \n",
            "4  2018-07-01 09:00:00  89685  14390  21434     25   7050       3062   \n",
            "\n",
            "   Natural_gas  Nuclear  \n",
            "0        66791    58363  \n",
            "1        92199    75818  \n",
            "2        89001    75650  \n",
            "3       101095    81700  \n",
            "4        97000    81733  \n"
          ]
        }
      ]
    },
    {
      "cell_type": "code",
      "source": [
        "print(consumption_data.head())"
      ],
      "metadata": {
        "colab": {
          "base_uri": "https://localhost:8080/"
        },
        "id": "Cst85iBNg_kc",
        "outputId": "6494161c-7305-4b56-e3e1-7cd47ee3226c"
      },
      "execution_count": 8,
      "outputs": [
        {
          "output_type": "stream",
          "name": "stdout",
          "text": [
            "                  date  megawatthours\n",
            "0  2015-07-01 05:00:00         162827\n",
            "1  2015-07-01 06:00:00         335153\n",
            "2  2015-07-01 07:00:00         333837\n",
            "3  2015-07-01 08:00:00         398386\n",
            "4  2015-07-01 09:00:00         388954\n"
          ]
        }
      ]
    },
    {
      "cell_type": "code",
      "source": [
        "print(holiday_data.head())"
      ],
      "metadata": {
        "colab": {
          "base_uri": "https://localhost:8080/"
        },
        "id": "7KAYQf6mhIEs",
        "outputId": "8bdf0192-0842-4a42-bb50-077671d85352"
      },
      "execution_count": 34,
      "outputs": [
        {
          "output_type": "stream",
          "name": "stdout",
          "text": [
            "      dates      Holiday    WeekDay  Month  Day  Year\n",
            "0  7/4/2004  4th of July     Sunday      7    4  2004\n",
            "1  7/4/2005  4th of July     Monday      7    4  2005\n",
            "2  7/4/2006  4th of July    Tuesday      7    4  2006\n",
            "3  7/4/2007  4th of July  Wednesday      7    4  2007\n",
            "4  7/4/2008  4th of July     Friday      7    4  2008\n"
          ]
        }
      ]
    },
    {
      "cell_type": "code",
      "source": [
        "consumption_data['date'] = pd.to_datetime(consumption_data['date'], utc=True, infer_datetime_format=True)"
      ],
      "metadata": {
        "id": "_2j0kafNhJwj"
      },
      "execution_count": 10,
      "outputs": []
    },
    {
      "cell_type": "code",
      "source": [
        "combined_data['Total'] = combined_data.sum(axis=1) #get total generation units"
      ],
      "metadata": {
        "colab": {
          "base_uri": "https://localhost:8080/"
        },
        "id": "9cA5DNWlhRAr",
        "outputId": "5cc4107d-dc95-41c4-f91e-9ea8f074b591"
      },
      "execution_count": 11,
      "outputs": [
        {
          "output_type": "stream",
          "name": "stderr",
          "text": [
            "<ipython-input-11-e15e0f5fedc8>:1: FutureWarning: Dropping of nuisance columns in DataFrame reductions (with 'numeric_only=None') is deprecated; in a future version this will raise TypeError.  Select only valid columns before calling the reduction.\n",
            "  combined_data['Total'] = combined_data.sum(axis=1) #get total generation units\n"
          ]
        }
      ]
    },
    {
      "cell_type": "code",
      "source": [
        "#filter dataset to required range of data\n",
        "\n",
        "start_date = '2018-07-01'\n",
        "end_date = '2021-07-31'\n",
        "mask = (combined_data['date'] >= start_date) & (combined_data['date'] <= end_date)\n",
        "combined_data = combined_data.loc[mask]"
      ],
      "metadata": {
        "id": "IV5w8D6MhUgr"
      },
      "execution_count": 12,
      "outputs": []
    },
    {
      "cell_type": "code",
      "source": [
        "combined_data.describe().round(2)"
      ],
      "metadata": {
        "colab": {
          "base_uri": "https://localhost:8080/",
          "height": 300
        },
        "id": "ptsPGu0BhVXL",
        "outputId": "5e7c4ada-3513-4164-debd-dac15b2b76f7"
      },
      "execution_count": 13,
      "outputs": [
        {
          "output_type": "execute_result",
          "data": {
            "text/plain": [
              "            Coal      Wind     Hydro     Solar     Other  Petroleum  \\\n",
              "count   27019.00  27019.00  27019.00  27019.00  27019.00   27019.00   \n",
              "mean   102202.83  35273.73  31688.98   8475.12   8092.47    3513.71   \n",
              "std     27329.89  14039.78   8398.10   9906.84   1621.07    1454.54   \n",
              "min     41087.00   3533.00   3206.00     -9.00   5201.00     183.00   \n",
              "25%     81587.50  24404.50  25600.00    116.00   7197.00    2481.50   \n",
              "50%    100150.00  34630.00  31737.00   2627.00   7916.00    3301.00   \n",
              "75%    121662.50  45119.50  37507.00  16781.00   8717.00    4233.50   \n",
              "max    173523.00  82964.00  58025.00  40778.00  33996.00   14118.00   \n",
              "\n",
              "       Natural_gas    Nuclear      Total  \n",
              "count     27019.00   27019.00   27019.00  \n",
              "mean     160248.71   90156.36  439651.92  \n",
              "std       42209.67    9377.98   72889.24  \n",
              "min       66791.00   52868.00  182340.00  \n",
              "25%      130729.00   85498.00  391401.50  \n",
              "50%      152281.00   91825.00  429362.00  \n",
              "75%      179252.00   96572.00  473154.50  \n",
              "max      325855.00  104655.00  704183.00  "
            ],
            "text/html": [
              "\n",
              "  <div id=\"df-7c34fb88-8d17-44b8-af8a-83c64447893c\">\n",
              "    <div class=\"colab-df-container\">\n",
              "      <div>\n",
              "<style scoped>\n",
              "    .dataframe tbody tr th:only-of-type {\n",
              "        vertical-align: middle;\n",
              "    }\n",
              "\n",
              "    .dataframe tbody tr th {\n",
              "        vertical-align: top;\n",
              "    }\n",
              "\n",
              "    .dataframe thead th {\n",
              "        text-align: right;\n",
              "    }\n",
              "</style>\n",
              "<table border=\"1\" class=\"dataframe\">\n",
              "  <thead>\n",
              "    <tr style=\"text-align: right;\">\n",
              "      <th></th>\n",
              "      <th>Coal</th>\n",
              "      <th>Wind</th>\n",
              "      <th>Hydro</th>\n",
              "      <th>Solar</th>\n",
              "      <th>Other</th>\n",
              "      <th>Petroleum</th>\n",
              "      <th>Natural_gas</th>\n",
              "      <th>Nuclear</th>\n",
              "      <th>Total</th>\n",
              "    </tr>\n",
              "  </thead>\n",
              "  <tbody>\n",
              "    <tr>\n",
              "      <th>count</th>\n",
              "      <td>27019.00</td>\n",
              "      <td>27019.00</td>\n",
              "      <td>27019.00</td>\n",
              "      <td>27019.00</td>\n",
              "      <td>27019.00</td>\n",
              "      <td>27019.00</td>\n",
              "      <td>27019.00</td>\n",
              "      <td>27019.00</td>\n",
              "      <td>27019.00</td>\n",
              "    </tr>\n",
              "    <tr>\n",
              "      <th>mean</th>\n",
              "      <td>102202.83</td>\n",
              "      <td>35273.73</td>\n",
              "      <td>31688.98</td>\n",
              "      <td>8475.12</td>\n",
              "      <td>8092.47</td>\n",
              "      <td>3513.71</td>\n",
              "      <td>160248.71</td>\n",
              "      <td>90156.36</td>\n",
              "      <td>439651.92</td>\n",
              "    </tr>\n",
              "    <tr>\n",
              "      <th>std</th>\n",
              "      <td>27329.89</td>\n",
              "      <td>14039.78</td>\n",
              "      <td>8398.10</td>\n",
              "      <td>9906.84</td>\n",
              "      <td>1621.07</td>\n",
              "      <td>1454.54</td>\n",
              "      <td>42209.67</td>\n",
              "      <td>9377.98</td>\n",
              "      <td>72889.24</td>\n",
              "    </tr>\n",
              "    <tr>\n",
              "      <th>min</th>\n",
              "      <td>41087.00</td>\n",
              "      <td>3533.00</td>\n",
              "      <td>3206.00</td>\n",
              "      <td>-9.00</td>\n",
              "      <td>5201.00</td>\n",
              "      <td>183.00</td>\n",
              "      <td>66791.00</td>\n",
              "      <td>52868.00</td>\n",
              "      <td>182340.00</td>\n",
              "    </tr>\n",
              "    <tr>\n",
              "      <th>25%</th>\n",
              "      <td>81587.50</td>\n",
              "      <td>24404.50</td>\n",
              "      <td>25600.00</td>\n",
              "      <td>116.00</td>\n",
              "      <td>7197.00</td>\n",
              "      <td>2481.50</td>\n",
              "      <td>130729.00</td>\n",
              "      <td>85498.00</td>\n",
              "      <td>391401.50</td>\n",
              "    </tr>\n",
              "    <tr>\n",
              "      <th>50%</th>\n",
              "      <td>100150.00</td>\n",
              "      <td>34630.00</td>\n",
              "      <td>31737.00</td>\n",
              "      <td>2627.00</td>\n",
              "      <td>7916.00</td>\n",
              "      <td>3301.00</td>\n",
              "      <td>152281.00</td>\n",
              "      <td>91825.00</td>\n",
              "      <td>429362.00</td>\n",
              "    </tr>\n",
              "    <tr>\n",
              "      <th>75%</th>\n",
              "      <td>121662.50</td>\n",
              "      <td>45119.50</td>\n",
              "      <td>37507.00</td>\n",
              "      <td>16781.00</td>\n",
              "      <td>8717.00</td>\n",
              "      <td>4233.50</td>\n",
              "      <td>179252.00</td>\n",
              "      <td>96572.00</td>\n",
              "      <td>473154.50</td>\n",
              "    </tr>\n",
              "    <tr>\n",
              "      <th>max</th>\n",
              "      <td>173523.00</td>\n",
              "      <td>82964.00</td>\n",
              "      <td>58025.00</td>\n",
              "      <td>40778.00</td>\n",
              "      <td>33996.00</td>\n",
              "      <td>14118.00</td>\n",
              "      <td>325855.00</td>\n",
              "      <td>104655.00</td>\n",
              "      <td>704183.00</td>\n",
              "    </tr>\n",
              "  </tbody>\n",
              "</table>\n",
              "</div>\n",
              "      <button class=\"colab-df-convert\" onclick=\"convertToInteractive('df-7c34fb88-8d17-44b8-af8a-83c64447893c')\"\n",
              "              title=\"Convert this dataframe to an interactive table.\"\n",
              "              style=\"display:none;\">\n",
              "        \n",
              "  <svg xmlns=\"http://www.w3.org/2000/svg\" height=\"24px\"viewBox=\"0 0 24 24\"\n",
              "       width=\"24px\">\n",
              "    <path d=\"M0 0h24v24H0V0z\" fill=\"none\"/>\n",
              "    <path d=\"M18.56 5.44l.94 2.06.94-2.06 2.06-.94-2.06-.94-.94-2.06-.94 2.06-2.06.94zm-11 1L8.5 8.5l.94-2.06 2.06-.94-2.06-.94L8.5 2.5l-.94 2.06-2.06.94zm10 10l.94 2.06.94-2.06 2.06-.94-2.06-.94-.94-2.06-.94 2.06-2.06.94z\"/><path d=\"M17.41 7.96l-1.37-1.37c-.4-.4-.92-.59-1.43-.59-.52 0-1.04.2-1.43.59L10.3 9.45l-7.72 7.72c-.78.78-.78 2.05 0 2.83L4 21.41c.39.39.9.59 1.41.59.51 0 1.02-.2 1.41-.59l7.78-7.78 2.81-2.81c.8-.78.8-2.07 0-2.86zM5.41 20L4 18.59l7.72-7.72 1.47 1.35L5.41 20z\"/>\n",
              "  </svg>\n",
              "      </button>\n",
              "      \n",
              "  <style>\n",
              "    .colab-df-container {\n",
              "      display:flex;\n",
              "      flex-wrap:wrap;\n",
              "      gap: 12px;\n",
              "    }\n",
              "\n",
              "    .colab-df-convert {\n",
              "      background-color: #E8F0FE;\n",
              "      border: none;\n",
              "      border-radius: 50%;\n",
              "      cursor: pointer;\n",
              "      display: none;\n",
              "      fill: #1967D2;\n",
              "      height: 32px;\n",
              "      padding: 0 0 0 0;\n",
              "      width: 32px;\n",
              "    }\n",
              "\n",
              "    .colab-df-convert:hover {\n",
              "      background-color: #E2EBFA;\n",
              "      box-shadow: 0px 1px 2px rgba(60, 64, 67, 0.3), 0px 1px 3px 1px rgba(60, 64, 67, 0.15);\n",
              "      fill: #174EA6;\n",
              "    }\n",
              "\n",
              "    [theme=dark] .colab-df-convert {\n",
              "      background-color: #3B4455;\n",
              "      fill: #D2E3FC;\n",
              "    }\n",
              "\n",
              "    [theme=dark] .colab-df-convert:hover {\n",
              "      background-color: #434B5C;\n",
              "      box-shadow: 0px 1px 3px 1px rgba(0, 0, 0, 0.15);\n",
              "      filter: drop-shadow(0px 1px 2px rgba(0, 0, 0, 0.3));\n",
              "      fill: #FFFFFF;\n",
              "    }\n",
              "  </style>\n",
              "\n",
              "      <script>\n",
              "        const buttonEl =\n",
              "          document.querySelector('#df-7c34fb88-8d17-44b8-af8a-83c64447893c button.colab-df-convert');\n",
              "        buttonEl.style.display =\n",
              "          google.colab.kernel.accessAllowed ? 'block' : 'none';\n",
              "\n",
              "        async function convertToInteractive(key) {\n",
              "          const element = document.querySelector('#df-7c34fb88-8d17-44b8-af8a-83c64447893c');\n",
              "          const dataTable =\n",
              "            await google.colab.kernel.invokeFunction('convertToInteractive',\n",
              "                                                     [key], {});\n",
              "          if (!dataTable) return;\n",
              "\n",
              "          const docLinkHtml = 'Like what you see? Visit the ' +\n",
              "            '<a target=\"_blank\" href=https://colab.research.google.com/notebooks/data_table.ipynb>data table notebook</a>'\n",
              "            + ' to learn more about interactive tables.';\n",
              "          element.innerHTML = '';\n",
              "          dataTable['output_type'] = 'display_data';\n",
              "          await google.colab.output.renderOutput(dataTable, element);\n",
              "          const docLink = document.createElement('div');\n",
              "          docLink.innerHTML = docLinkHtml;\n",
              "          element.appendChild(docLink);\n",
              "        }\n",
              "      </script>\n",
              "    </div>\n",
              "  </div>\n",
              "  "
            ]
          },
          "metadata": {},
          "execution_count": 13
        }
      ]
    },
    {
      "cell_type": "code",
      "source": [
        "combined_data.info()"
      ],
      "metadata": {
        "colab": {
          "base_uri": "https://localhost:8080/"
        },
        "id": "Y-tLZHUwhYnD",
        "outputId": "97f78fe6-3c6a-4742-82e9-2fc1aa320120"
      },
      "execution_count": 14,
      "outputs": [
        {
          "output_type": "stream",
          "name": "stdout",
          "text": [
            "<class 'pandas.core.frame.DataFrame'>\n",
            "Int64Index: 27019 entries, 0 to 27018\n",
            "Data columns (total 10 columns):\n",
            " #   Column       Non-Null Count  Dtype \n",
            "---  ------       --------------  ----- \n",
            " 0   date         27019 non-null  object\n",
            " 1   Coal         27019 non-null  int64 \n",
            " 2   Wind         27019 non-null  int64 \n",
            " 3   Hydro        27019 non-null  int64 \n",
            " 4   Solar        27019 non-null  int64 \n",
            " 5   Other        27019 non-null  int64 \n",
            " 6   Petroleum    27019 non-null  int64 \n",
            " 7   Natural_gas  27019 non-null  int64 \n",
            " 8   Nuclear      27019 non-null  int64 \n",
            " 9   Total        27019 non-null  int64 \n",
            "dtypes: int64(9), object(1)\n",
            "memory usage: 2.3+ MB\n"
          ]
        }
      ]
    },
    {
      "cell_type": "code",
      "source": [
        "combined_data['date'] = pd.to_datetime(combined_data['date'], utc=True, infer_datetime_format=True)"
      ],
      "metadata": {
        "id": "IZmc9EvjhbEz"
      },
      "execution_count": 15,
      "outputs": []
    },
    {
      "cell_type": "code",
      "source": [
        "# Find NaNs and duplicates in df_energy\n",
        "\n",
        "print('There are {} missing values or NaNs in combined_data.'\n",
        "      .format(combined_data.isnull().values.sum()))\n",
        "\n",
        "temp_energy = combined_data.duplicated(keep='first').sum()\n",
        "\n",
        "print('There are {} duplicate rows in combined_data based on all columns.'\n",
        "      .format(temp_energy))"
      ],
      "metadata": {
        "colab": {
          "base_uri": "https://localhost:8080/"
        },
        "id": "iVahjsKphdJE",
        "outputId": "7267b3f6-86c4-4d65-e8ae-ed17483320d5"
      },
      "execution_count": 16,
      "outputs": [
        {
          "output_type": "stream",
          "name": "stdout",
          "text": [
            "There are 0 missing values or NaNs in combined_data.\n",
            "There are 0 duplicate rows in combined_data based on all columns.\n"
          ]
        }
      ]
    },
    {
      "cell_type": "code",
      "source": [
        "# Create a new column 'holiday' with value 1 for holidays, 0 otherwise\n",
        "holiday_data['holiday'] = 1"
      ],
      "metadata": {
        "id": "AcfSl42yhffk"
      },
      "execution_count": 35,
      "outputs": []
    },
    {
      "cell_type": "code",
      "source": [
        "# Drop the year, month, and day columns\n",
        "holiday_data = holiday_data.drop(['Year', 'Month', 'Day','WeekDay','Holiday'], axis=1)"
      ],
      "metadata": {
        "id": "8Cs33b7_hjxj"
      },
      "execution_count": 36,
      "outputs": []
    },
    {
      "cell_type": "code",
      "source": [
        "# Convert the 'date' column to pandas datetime objects\n",
        "holiday_data['dates'] = pd.to_datetime(holiday_data['dates'], format='%m/%d/%Y')\n",
        "\n",
        "# Convert the datetime objects to strings in 'yyyy-mm-dd' format\n",
        "holiday_data['dates'] = holiday_data['dates'].dt.strftime('%Y-%m-%d')"
      ],
      "metadata": {
        "id": "1uQy8RJZhkdb"
      },
      "execution_count": 37,
      "outputs": []
    },
    {
      "cell_type": "code",
      "source": [
        "#filter dataset to required range of data\n",
        "\n",
        "start_date = '2018-07-01'\n",
        "end_date = '2021-07-31'\n",
        "mask = (holiday_data['dates'] >= start_date) & (holiday_data['dates'] <= end_date)\n",
        "holiday_data = holiday_data.loc[mask]"
      ],
      "metadata": {
        "id": "CvRk7V33hn6z"
      },
      "execution_count": 38,
      "outputs": []
    },
    {
      "cell_type": "markdown",
      "source": [
        "# Merging"
      ],
      "metadata": {
        "id": "xujyiZeaiyiM"
      }
    },
    {
      "cell_type": "code",
      "source": [
        "# Create a complete list of dates for the time period covered by the generation data\n",
        "start_date = '2018-07-01'\n",
        "end_date = '2021-07-31'\n",
        "date_range = pd.date_range(start=start_date, end=end_date, freq='d')\n",
        "\n",
        "# Create a new dataframe with the complete list of dates\n",
        "complete_dates = pd.DataFrame({'dates': date_range})"
      ],
      "metadata": {
        "id": "fZrd6yG8homc"
      },
      "execution_count": 39,
      "outputs": []
    },
    {
      "cell_type": "code",
      "source": [
        "holiday_data['dates'] = pd.to_datetime(holiday_data['dates'])"
      ],
      "metadata": {
        "id": "qWdHC07vhqpM"
      },
      "execution_count": 40,
      "outputs": []
    },
    {
      "cell_type": "code",
      "source": [
        "# Merge the holiday data with the complete dates on the date column\n",
        "merged_holiday_data = pd.merge(complete_dates, holiday_data, on='dates', how='left')"
      ],
      "metadata": {
        "id": "uX_pBG6FhtpF"
      },
      "execution_count": 41,
      "outputs": []
    },
    {
      "cell_type": "code",
      "source": [
        "# Fill all NaN values with 0\n",
        "merged_holiday_data.fillna(0, inplace=True)"
      ],
      "metadata": {
        "id": "PHXrsCUYhxwT"
      },
      "execution_count": 42,
      "outputs": []
    },
    {
      "cell_type": "code",
      "source": [
        "print(merged_holiday_data.head())"
      ],
      "metadata": {
        "colab": {
          "base_uri": "https://localhost:8080/"
        },
        "id": "bc9dPmmEh1zD",
        "outputId": "d3cde675-31e9-47ed-f58c-645b8f5a522b"
      },
      "execution_count": 43,
      "outputs": [
        {
          "output_type": "stream",
          "name": "stdout",
          "text": [
            "       dates  holiday\n",
            "0 2018-07-01      0.0\n",
            "1 2018-07-02      0.0\n",
            "2 2018-07-03      0.0\n",
            "3 2018-07-04      1.0\n",
            "4 2018-07-05      0.0\n"
          ]
        }
      ]
    },
    {
      "cell_type": "code",
      "source": [
        "# create a new column 'date' and fill it with the dates from 'datetime' column\n",
        "combined_data['dates'] = pd.to_datetime(combined_data['date']).dt.date"
      ],
      "metadata": {
        "id": "7EaYj28Yh3iL"
      },
      "execution_count": 44,
      "outputs": []
    },
    {
      "cell_type": "code",
      "source": [
        "combined_data['dates'] = pd.to_datetime(combined_data['dates'])"
      ],
      "metadata": {
        "id": "X4xR8M8rh5sF"
      },
      "execution_count": 45,
      "outputs": []
    },
    {
      "cell_type": "code",
      "source": [
        "merged_holiday_data.dtypes"
      ],
      "metadata": {
        "colab": {
          "base_uri": "https://localhost:8080/"
        },
        "id": "z9Pn1ryAlUkZ",
        "outputId": "23ef4ccf-cac4-427f-c6af-e6384fe8d5d0"
      },
      "execution_count": 46,
      "outputs": [
        {
          "output_type": "execute_result",
          "data": {
            "text/plain": [
              "dates      datetime64[ns]\n",
              "holiday           float64\n",
              "dtype: object"
            ]
          },
          "metadata": {},
          "execution_count": 46
        }
      ]
    },
    {
      "cell_type": "code",
      "source": [
        "# Merge the holiday data with the complete dates on the date column\n",
        "merged_data = pd.merge(merged_holiday_data, combined_data, on='dates', how='left')"
      ],
      "metadata": {
        "id": "9ycgDCA6h6Wj"
      },
      "execution_count": 47,
      "outputs": []
    },
    {
      "cell_type": "code",
      "source": [
        "# Drop the year, month, and day columns\n",
        "Generation_dataset = merged_data.drop([\"Coal\",\"Wind\",\"Hydro\",\"Solar\",\"Other\",\"Petroleum\",\"Natural_gas\",\"Nuclear\",\"dates\"], axis=1)"
      ],
      "metadata": {
        "id": "jhK1RyF7h_uV"
      },
      "execution_count": 51,
      "outputs": []
    },
    {
      "cell_type": "code",
      "source": [
        "# Merge the two datasets on the 'date' column\n",
        "Generation_dataset = pd.merge(Generation_dataset, consumption_data, on='date', how='left')"
      ],
      "metadata": {
        "id": "V1UVTFs_iF8j"
      },
      "execution_count": 53,
      "outputs": []
    },
    {
      "cell_type": "code",
      "source": [
        "print(Generation_dataset.head())"
      ],
      "metadata": {
        "colab": {
          "base_uri": "https://localhost:8080/"
        },
        "id": "ezcXJNcXiIqT",
        "outputId": "6496d000-837e-4f78-e468-876a9637afd3"
      },
      "execution_count": 54,
      "outputs": [
        {
          "output_type": "stream",
          "name": "stdout",
          "text": [
            "   holiday                      date     Total  megawatthours\n",
            "0      0.0 2018-07-01 05:00:00+00:00  182340.0       509702.0\n",
            "1      0.0 2018-07-01 06:00:00+00:00  285585.0       412574.0\n",
            "2      0.0 2018-07-01 07:00:00+00:00  281322.0       390539.0\n",
            "3      0.0 2018-07-01 08:00:00+00:00  324231.0       366425.0\n",
            "4      0.0 2018-07-01 09:00:00+00:00  314379.0       354843.0\n"
          ]
        }
      ]
    },
    {
      "cell_type": "markdown",
      "source": [
        "# Save Dataset"
      ],
      "metadata": {
        "id": "AaCpK7Whi4c7"
      }
    },
    {
      "cell_type": "code",
      "source": [
        "Generation_dataset.to_csv('Generation_dataset_combined.csv', index=False)"
      ],
      "metadata": {
        "id": "R7Lp2j1CiICK"
      },
      "execution_count": 55,
      "outputs": []
    }
  ]
}