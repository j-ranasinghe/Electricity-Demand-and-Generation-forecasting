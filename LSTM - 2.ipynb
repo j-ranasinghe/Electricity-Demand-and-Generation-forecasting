{
  "nbformat": 4,
  "nbformat_minor": 0,
  "metadata": {
    "colab": {
      "provenance": []
    },
    "kernelspec": {
      "name": "python3",
      "display_name": "Python 3"
    },
    "language_info": {
      "name": "python"
    },
    "accelerator": "GPU",
    "gpuClass": "standard"
  },
  "cells": [
    {
      "cell_type": "code",
      "execution_count": 1,
      "metadata": {
        "id": "Tx8YtsI9j46G"
      },
      "outputs": [],
      "source": [
        "import os\n",
        "import time\n",
        "import matplotlib.pyplot as plt\n",
        "import pandas as pd\n",
        "import numpy as np\n",
        "from sklearn.preprocessing import OneHotEncoder\n",
        "from sklearn.preprocessing import MinMaxScaler\n",
        "from sklearn.preprocessing import LabelEncoder\n",
        "import torch\n",
        "import torch.nn as nn\n",
        "from torch.utils.data import TensorDataset, DataLoader\n",
        "from tqdm.notebook import tqdm as tqdm_notebook"
      ]
    },
    {
      "cell_type": "code",
      "source": [
        "cols = [\"ACCOUNT_NO\",\"DATE\",\"SALES_TYPE\",\"BILL\",\"UNIT\"]\n",
        "df = pd.read_csv(\"/content/SAMPLE_DATA.csv\", header=0, names=cols)\n",
        "# Calculate the IQR for each column\n",
        "Q1 = df.quantile(0.25)\n",
        "Q3 = df.quantile(0.75)\n",
        "IQR = Q3 - Q1\n",
        "\n",
        "# Identify any outliers as values that are more than 1.5 times the IQR away from the median\n",
        "outliers = ((df < (Q1 - 1.5 * IQR)) | (df > (Q3 + 1.5 * IQR))).any(axis=1)\n",
        "\n",
        "# Drop rows containing outliers\n",
        "df = df[~outliers]\n",
        "file = \"/content/SAMPLE_DATA.csv\""
      ],
      "metadata": {
        "id": "Oc-U7jCFknLv",
        "colab": {
          "base_uri": "https://localhost:8080/"
        },
        "outputId": "ac46024f-9d15-4daa-e4ee-86e3d8b4d41b"
      },
      "execution_count": 6,
      "outputs": [
        {
          "output_type": "stream",
          "name": "stderr",
          "text": [
            "<ipython-input-6-17ce74878988>:9: FutureWarning: Automatic reindexing on DataFrame vs Series comparisons is deprecated and will raise ValueError in a future version.  Do `left, right = left.align(right, axis=1, copy=False)` before e.g. `left == right`\n",
            "  outliers = ((df < (Q1 - 1.5 * IQR)) | (df > (Q3 + 1.5 * IQR))).any(axis=1)\n"
          ]
        }
      ]
    },
    {
      "cell_type": "code",
      "source": [
        "df.head()"
      ],
      "metadata": {
        "colab": {
          "base_uri": "https://localhost:8080/",
          "height": 206
        },
        "id": "5t0TIbbtl652",
        "outputId": "e4be97ac-cfcb-48b6-8c17-c1afb138f112"
      },
      "execution_count": 7,
      "outputs": [
        {
          "output_type": "execute_result",
          "data": {
            "text/plain": [
              "   ACCOUNT_NO       DATE SALES_TYPE     BILL  UNIT\n",
              "0   200210802  12/1/2022          C   632.43    44\n",
              "1   200083103  12/1/2022          C  1768.00    88\n",
              "2   200175503  12/1/2022          C  6108.86   161\n",
              "3   200297801  12/1/2022          C  2700.00    96\n",
              "4   200298307  12/1/2022          C   640.00    46"
            ],
            "text/html": [
              "\n",
              "  <div id=\"df-4ef29a90-a09d-4f56-9f8e-5ac97d8d7093\">\n",
              "    <div class=\"colab-df-container\">\n",
              "      <div>\n",
              "<style scoped>\n",
              "    .dataframe tbody tr th:only-of-type {\n",
              "        vertical-align: middle;\n",
              "    }\n",
              "\n",
              "    .dataframe tbody tr th {\n",
              "        vertical-align: top;\n",
              "    }\n",
              "\n",
              "    .dataframe thead th {\n",
              "        text-align: right;\n",
              "    }\n",
              "</style>\n",
              "<table border=\"1\" class=\"dataframe\">\n",
              "  <thead>\n",
              "    <tr style=\"text-align: right;\">\n",
              "      <th></th>\n",
              "      <th>ACCOUNT_NO</th>\n",
              "      <th>DATE</th>\n",
              "      <th>SALES_TYPE</th>\n",
              "      <th>BILL</th>\n",
              "      <th>UNIT</th>\n",
              "    </tr>\n",
              "  </thead>\n",
              "  <tbody>\n",
              "    <tr>\n",
              "      <th>0</th>\n",
              "      <td>200210802</td>\n",
              "      <td>12/1/2022</td>\n",
              "      <td>C</td>\n",
              "      <td>632.43</td>\n",
              "      <td>44</td>\n",
              "    </tr>\n",
              "    <tr>\n",
              "      <th>1</th>\n",
              "      <td>200083103</td>\n",
              "      <td>12/1/2022</td>\n",
              "      <td>C</td>\n",
              "      <td>1768.00</td>\n",
              "      <td>88</td>\n",
              "    </tr>\n",
              "    <tr>\n",
              "      <th>2</th>\n",
              "      <td>200175503</td>\n",
              "      <td>12/1/2022</td>\n",
              "      <td>C</td>\n",
              "      <td>6108.86</td>\n",
              "      <td>161</td>\n",
              "    </tr>\n",
              "    <tr>\n",
              "      <th>3</th>\n",
              "      <td>200297801</td>\n",
              "      <td>12/1/2022</td>\n",
              "      <td>C</td>\n",
              "      <td>2700.00</td>\n",
              "      <td>96</td>\n",
              "    </tr>\n",
              "    <tr>\n",
              "      <th>4</th>\n",
              "      <td>200298307</td>\n",
              "      <td>12/1/2022</td>\n",
              "      <td>C</td>\n",
              "      <td>640.00</td>\n",
              "      <td>46</td>\n",
              "    </tr>\n",
              "  </tbody>\n",
              "</table>\n",
              "</div>\n",
              "      <button class=\"colab-df-convert\" onclick=\"convertToInteractive('df-4ef29a90-a09d-4f56-9f8e-5ac97d8d7093')\"\n",
              "              title=\"Convert this dataframe to an interactive table.\"\n",
              "              style=\"display:none;\">\n",
              "        \n",
              "  <svg xmlns=\"http://www.w3.org/2000/svg\" height=\"24px\"viewBox=\"0 0 24 24\"\n",
              "       width=\"24px\">\n",
              "    <path d=\"M0 0h24v24H0V0z\" fill=\"none\"/>\n",
              "    <path d=\"M18.56 5.44l.94 2.06.94-2.06 2.06-.94-2.06-.94-.94-2.06-.94 2.06-2.06.94zm-11 1L8.5 8.5l.94-2.06 2.06-.94-2.06-.94L8.5 2.5l-.94 2.06-2.06.94zm10 10l.94 2.06.94-2.06 2.06-.94-2.06-.94-.94-2.06-.94 2.06-2.06.94z\"/><path d=\"M17.41 7.96l-1.37-1.37c-.4-.4-.92-.59-1.43-.59-.52 0-1.04.2-1.43.59L10.3 9.45l-7.72 7.72c-.78.78-.78 2.05 0 2.83L4 21.41c.39.39.9.59 1.41.59.51 0 1.02-.2 1.41-.59l7.78-7.78 2.81-2.81c.8-.78.8-2.07 0-2.86zM5.41 20L4 18.59l7.72-7.72 1.47 1.35L5.41 20z\"/>\n",
              "  </svg>\n",
              "      </button>\n",
              "      \n",
              "  <style>\n",
              "    .colab-df-container {\n",
              "      display:flex;\n",
              "      flex-wrap:wrap;\n",
              "      gap: 12px;\n",
              "    }\n",
              "\n",
              "    .colab-df-convert {\n",
              "      background-color: #E8F0FE;\n",
              "      border: none;\n",
              "      border-radius: 50%;\n",
              "      cursor: pointer;\n",
              "      display: none;\n",
              "      fill: #1967D2;\n",
              "      height: 32px;\n",
              "      padding: 0 0 0 0;\n",
              "      width: 32px;\n",
              "    }\n",
              "\n",
              "    .colab-df-convert:hover {\n",
              "      background-color: #E2EBFA;\n",
              "      box-shadow: 0px 1px 2px rgba(60, 64, 67, 0.3), 0px 1px 3px 1px rgba(60, 64, 67, 0.15);\n",
              "      fill: #174EA6;\n",
              "    }\n",
              "\n",
              "    [theme=dark] .colab-df-convert {\n",
              "      background-color: #3B4455;\n",
              "      fill: #D2E3FC;\n",
              "    }\n",
              "\n",
              "    [theme=dark] .colab-df-convert:hover {\n",
              "      background-color: #434B5C;\n",
              "      box-shadow: 0px 1px 3px 1px rgba(0, 0, 0, 0.15);\n",
              "      filter: drop-shadow(0px 1px 2px rgba(0, 0, 0, 0.3));\n",
              "      fill: #FFFFFF;\n",
              "    }\n",
              "  </style>\n",
              "\n",
              "      <script>\n",
              "        const buttonEl =\n",
              "          document.querySelector('#df-4ef29a90-a09d-4f56-9f8e-5ac97d8d7093 button.colab-df-convert');\n",
              "        buttonEl.style.display =\n",
              "          google.colab.kernel.accessAllowed ? 'block' : 'none';\n",
              "\n",
              "        async function convertToInteractive(key) {\n",
              "          const element = document.querySelector('#df-4ef29a90-a09d-4f56-9f8e-5ac97d8d7093');\n",
              "          const dataTable =\n",
              "            await google.colab.kernel.invokeFunction('convertToInteractive',\n",
              "                                                     [key], {});\n",
              "          if (!dataTable) return;\n",
              "\n",
              "          const docLinkHtml = 'Like what you see? Visit the ' +\n",
              "            '<a target=\"_blank\" href=https://colab.research.google.com/notebooks/data_table.ipynb>data table notebook</a>'\n",
              "            + ' to learn more about interactive tables.';\n",
              "          element.innerHTML = '';\n",
              "          dataTable['output_type'] = 'display_data';\n",
              "          await google.colab.output.renderOutput(dataTable, element);\n",
              "          const docLink = document.createElement('div');\n",
              "          docLink.innerHTML = docLinkHtml;\n",
              "          element.appendChild(docLink);\n",
              "        }\n",
              "      </script>\n",
              "    </div>\n",
              "  </div>\n",
              "  "
            ]
          },
          "metadata": {},
          "execution_count": 7
        }
      ]
    },
    {
      "cell_type": "code",
      "source": [
        "df.shape #Check the shape of the dataset"
      ],
      "metadata": {
        "colab": {
          "base_uri": "https://localhost:8080/"
        },
        "id": "ANp7lKy4k1__",
        "outputId": "874f7c03-07d3-46ca-dd16-23528e361d15"
      },
      "execution_count": 8,
      "outputs": [
        {
          "output_type": "execute_result",
          "data": {
            "text/plain": [
              "(417, 5)"
            ]
          },
          "metadata": {},
          "execution_count": 8
        }
      ]
    },
    {
      "cell_type": "code",
      "source": [
        "df[\"UNIT\"] = df[\"UNIT\"].astype(float)\n",
        "df[\"BILL\"] = df[\"BILL\"].astype(float)\n",
        "df[\"ACCOUNT_NO\"] = df[\"ACCOUNT_NO\"].astype(float)"
      ],
      "metadata": {
        "id": "uRh_nooBANAq"
      },
      "execution_count": 9,
      "outputs": []
    },
    {
      "cell_type": "code",
      "source": [
        "df.dtypes"
      ],
      "metadata": {
        "colab": {
          "base_uri": "https://localhost:8080/"
        },
        "id": "8PpRMP7GBBkZ",
        "outputId": "6d7766e4-ef1e-47c5-d407-eeea44f7b1a6"
      },
      "execution_count": 10,
      "outputs": [
        {
          "output_type": "execute_result",
          "data": {
            "text/plain": [
              "ACCOUNT_NO    float64\n",
              "DATE           object\n",
              "SALES_TYPE     object\n",
              "BILL          float64\n",
              "UNIT          float64\n",
              "dtype: object"
            ]
          },
          "metadata": {},
          "execution_count": 10
        }
      ]
    },
    {
      "cell_type": "code",
      "source": [
        "df.describe()"
      ],
      "metadata": {
        "colab": {
          "base_uri": "https://localhost:8080/",
          "height": 300
        },
        "id": "fhtO27OsCmw4",
        "outputId": "5b0caa4e-d57a-4100-9983-75aba44694f7"
      },
      "execution_count": 11,
      "outputs": [
        {
          "output_type": "execute_result",
          "data": {
            "text/plain": [
              "         ACCOUNT_NO          BILL        UNIT\n",
              "count  4.170000e+02    417.000000  417.000000\n",
              "mean   2.000985e+08   3557.661607  104.697842\n",
              "std    8.549283e+04   3238.601479   71.951338\n",
              "min    2.000018e+08    120.000000    0.000000\n",
              "25%    2.000350e+08    765.530000   48.000000\n",
              "50%    2.000692e+08   2796.530000   97.000000\n",
              "75%    2.001593e+08   5183.200000  146.000000\n",
              "max    2.003006e+08  13215.000000  321.000000"
            ],
            "text/html": [
              "\n",
              "  <div id=\"df-0445a0ff-87b8-4071-a398-258c31a8ffc3\">\n",
              "    <div class=\"colab-df-container\">\n",
              "      <div>\n",
              "<style scoped>\n",
              "    .dataframe tbody tr th:only-of-type {\n",
              "        vertical-align: middle;\n",
              "    }\n",
              "\n",
              "    .dataframe tbody tr th {\n",
              "        vertical-align: top;\n",
              "    }\n",
              "\n",
              "    .dataframe thead th {\n",
              "        text-align: right;\n",
              "    }\n",
              "</style>\n",
              "<table border=\"1\" class=\"dataframe\">\n",
              "  <thead>\n",
              "    <tr style=\"text-align: right;\">\n",
              "      <th></th>\n",
              "      <th>ACCOUNT_NO</th>\n",
              "      <th>BILL</th>\n",
              "      <th>UNIT</th>\n",
              "    </tr>\n",
              "  </thead>\n",
              "  <tbody>\n",
              "    <tr>\n",
              "      <th>count</th>\n",
              "      <td>4.170000e+02</td>\n",
              "      <td>417.000000</td>\n",
              "      <td>417.000000</td>\n",
              "    </tr>\n",
              "    <tr>\n",
              "      <th>mean</th>\n",
              "      <td>2.000985e+08</td>\n",
              "      <td>3557.661607</td>\n",
              "      <td>104.697842</td>\n",
              "    </tr>\n",
              "    <tr>\n",
              "      <th>std</th>\n",
              "      <td>8.549283e+04</td>\n",
              "      <td>3238.601479</td>\n",
              "      <td>71.951338</td>\n",
              "    </tr>\n",
              "    <tr>\n",
              "      <th>min</th>\n",
              "      <td>2.000018e+08</td>\n",
              "      <td>120.000000</td>\n",
              "      <td>0.000000</td>\n",
              "    </tr>\n",
              "    <tr>\n",
              "      <th>25%</th>\n",
              "      <td>2.000350e+08</td>\n",
              "      <td>765.530000</td>\n",
              "      <td>48.000000</td>\n",
              "    </tr>\n",
              "    <tr>\n",
              "      <th>50%</th>\n",
              "      <td>2.000692e+08</td>\n",
              "      <td>2796.530000</td>\n",
              "      <td>97.000000</td>\n",
              "    </tr>\n",
              "    <tr>\n",
              "      <th>75%</th>\n",
              "      <td>2.001593e+08</td>\n",
              "      <td>5183.200000</td>\n",
              "      <td>146.000000</td>\n",
              "    </tr>\n",
              "    <tr>\n",
              "      <th>max</th>\n",
              "      <td>2.003006e+08</td>\n",
              "      <td>13215.000000</td>\n",
              "      <td>321.000000</td>\n",
              "    </tr>\n",
              "  </tbody>\n",
              "</table>\n",
              "</div>\n",
              "      <button class=\"colab-df-convert\" onclick=\"convertToInteractive('df-0445a0ff-87b8-4071-a398-258c31a8ffc3')\"\n",
              "              title=\"Convert this dataframe to an interactive table.\"\n",
              "              style=\"display:none;\">\n",
              "        \n",
              "  <svg xmlns=\"http://www.w3.org/2000/svg\" height=\"24px\"viewBox=\"0 0 24 24\"\n",
              "       width=\"24px\">\n",
              "    <path d=\"M0 0h24v24H0V0z\" fill=\"none\"/>\n",
              "    <path d=\"M18.56 5.44l.94 2.06.94-2.06 2.06-.94-2.06-.94-.94-2.06-.94 2.06-2.06.94zm-11 1L8.5 8.5l.94-2.06 2.06-.94-2.06-.94L8.5 2.5l-.94 2.06-2.06.94zm10 10l.94 2.06.94-2.06 2.06-.94-2.06-.94-.94-2.06-.94 2.06-2.06.94z\"/><path d=\"M17.41 7.96l-1.37-1.37c-.4-.4-.92-.59-1.43-.59-.52 0-1.04.2-1.43.59L10.3 9.45l-7.72 7.72c-.78.78-.78 2.05 0 2.83L4 21.41c.39.39.9.59 1.41.59.51 0 1.02-.2 1.41-.59l7.78-7.78 2.81-2.81c.8-.78.8-2.07 0-2.86zM5.41 20L4 18.59l7.72-7.72 1.47 1.35L5.41 20z\"/>\n",
              "  </svg>\n",
              "      </button>\n",
              "      \n",
              "  <style>\n",
              "    .colab-df-container {\n",
              "      display:flex;\n",
              "      flex-wrap:wrap;\n",
              "      gap: 12px;\n",
              "    }\n",
              "\n",
              "    .colab-df-convert {\n",
              "      background-color: #E8F0FE;\n",
              "      border: none;\n",
              "      border-radius: 50%;\n",
              "      cursor: pointer;\n",
              "      display: none;\n",
              "      fill: #1967D2;\n",
              "      height: 32px;\n",
              "      padding: 0 0 0 0;\n",
              "      width: 32px;\n",
              "    }\n",
              "\n",
              "    .colab-df-convert:hover {\n",
              "      background-color: #E2EBFA;\n",
              "      box-shadow: 0px 1px 2px rgba(60, 64, 67, 0.3), 0px 1px 3px 1px rgba(60, 64, 67, 0.15);\n",
              "      fill: #174EA6;\n",
              "    }\n",
              "\n",
              "    [theme=dark] .colab-df-convert {\n",
              "      background-color: #3B4455;\n",
              "      fill: #D2E3FC;\n",
              "    }\n",
              "\n",
              "    [theme=dark] .colab-df-convert:hover {\n",
              "      background-color: #434B5C;\n",
              "      box-shadow: 0px 1px 3px 1px rgba(0, 0, 0, 0.15);\n",
              "      filter: drop-shadow(0px 1px 2px rgba(0, 0, 0, 0.3));\n",
              "      fill: #FFFFFF;\n",
              "    }\n",
              "  </style>\n",
              "\n",
              "      <script>\n",
              "        const buttonEl =\n",
              "          document.querySelector('#df-0445a0ff-87b8-4071-a398-258c31a8ffc3 button.colab-df-convert');\n",
              "        buttonEl.style.display =\n",
              "          google.colab.kernel.accessAllowed ? 'block' : 'none';\n",
              "\n",
              "        async function convertToInteractive(key) {\n",
              "          const element = document.querySelector('#df-0445a0ff-87b8-4071-a398-258c31a8ffc3');\n",
              "          const dataTable =\n",
              "            await google.colab.kernel.invokeFunction('convertToInteractive',\n",
              "                                                     [key], {});\n",
              "          if (!dataTable) return;\n",
              "\n",
              "          const docLinkHtml = 'Like what you see? Visit the ' +\n",
              "            '<a target=\"_blank\" href=https://colab.research.google.com/notebooks/data_table.ipynb>data table notebook</a>'\n",
              "            + ' to learn more about interactive tables.';\n",
              "          element.innerHTML = '';\n",
              "          dataTable['output_type'] = 'display_data';\n",
              "          await google.colab.output.renderOutput(dataTable, element);\n",
              "          const docLink = document.createElement('div');\n",
              "          docLink.innerHTML = docLinkHtml;\n",
              "          element.appendChild(docLink);\n",
              "        }\n",
              "      </script>\n",
              "    </div>\n",
              "  </div>\n",
              "  "
            ]
          },
          "metadata": {},
          "execution_count": 11
        }
      ]
    },
    {
      "cell_type": "code",
      "source": [
        "df[\"DATE\"] = pd.to_datetime(df[\"DATE\"])\n",
        "df[\"MONTH\"] = df[\"DATE\"].dt.month\n",
        "df[\"YEAR\"] = df[\"DATE\"].dt.year\n",
        "df = df.sort_values(\"DATE\").drop(\"DATE\", axis=1)\n"
      ],
      "metadata": {
        "id": "U4RAZE0gBWOJ"
      },
      "execution_count": 12,
      "outputs": []
    },
    {
      "cell_type": "code",
      "source": [
        "# Extract the values for the \"SALES_TYPE\" column\n",
        "Sales_type_data= df['SALES_TYPE'].values\n",
        "# Create a LabelEncoder object\n",
        "encoder = LabelEncoder()\n",
        "\n",
        "# Fit the encoder to the sales type data\n",
        "encoder.fit(Sales_type_data)\n",
        "\n",
        "# Encode the location data\n",
        "encoded_sales_type = encoder.transform(Sales_type_data)\n",
        "df['SALES_TYPE'] =encoded_sales_type"
      ],
      "metadata": {
        "id": "rwlXrP31ISHc"
      },
      "execution_count": 13,
      "outputs": []
    },
    {
      "cell_type": "code",
      "source": [
        "    # Scaling the input data\n",
        "    sc = MinMaxScaler()\n",
        "    label_sc = MinMaxScaler()\n",
        "    data = sc.fit_transform(df.values)"
      ],
      "metadata": {
        "id": "9_Cf2DTQJIvk"
      },
      "execution_count": 14,
      "outputs": []
    },
    {
      "cell_type": "code",
      "source": [
        "df.head()"
      ],
      "metadata": {
        "colab": {
          "base_uri": "https://localhost:8080/",
          "height": 206
        },
        "id": "RrWJSn71G5EN",
        "outputId": "21dbc895-e748-433e-f675-e62af4392ba5"
      },
      "execution_count": 15,
      "outputs": [
        {
          "output_type": "execute_result",
          "data": {
            "text/plain": [
              "      ACCOUNT_NO  SALES_TYPE     BILL   UNIT  MONTH  YEAR\n",
              "328  200009909.0           0   360.00    0.0      9  2022\n",
              "250  200098503.0           0   192.00    9.0      9  2022\n",
              "251  200027509.0           0   360.00    0.0      9  2022\n",
              "252  200088405.0           0  6377.61  167.0      9  2022\n",
              "253  200197701.0           0  1635.00   51.0      9  2022"
            ],
            "text/html": [
              "\n",
              "  <div id=\"df-01434410-44f5-4c33-9bb1-3679ab41384d\">\n",
              "    <div class=\"colab-df-container\">\n",
              "      <div>\n",
              "<style scoped>\n",
              "    .dataframe tbody tr th:only-of-type {\n",
              "        vertical-align: middle;\n",
              "    }\n",
              "\n",
              "    .dataframe tbody tr th {\n",
              "        vertical-align: top;\n",
              "    }\n",
              "\n",
              "    .dataframe thead th {\n",
              "        text-align: right;\n",
              "    }\n",
              "</style>\n",
              "<table border=\"1\" class=\"dataframe\">\n",
              "  <thead>\n",
              "    <tr style=\"text-align: right;\">\n",
              "      <th></th>\n",
              "      <th>ACCOUNT_NO</th>\n",
              "      <th>SALES_TYPE</th>\n",
              "      <th>BILL</th>\n",
              "      <th>UNIT</th>\n",
              "      <th>MONTH</th>\n",
              "      <th>YEAR</th>\n",
              "    </tr>\n",
              "  </thead>\n",
              "  <tbody>\n",
              "    <tr>\n",
              "      <th>328</th>\n",
              "      <td>200009909.0</td>\n",
              "      <td>0</td>\n",
              "      <td>360.00</td>\n",
              "      <td>0.0</td>\n",
              "      <td>9</td>\n",
              "      <td>2022</td>\n",
              "    </tr>\n",
              "    <tr>\n",
              "      <th>250</th>\n",
              "      <td>200098503.0</td>\n",
              "      <td>0</td>\n",
              "      <td>192.00</td>\n",
              "      <td>9.0</td>\n",
              "      <td>9</td>\n",
              "      <td>2022</td>\n",
              "    </tr>\n",
              "    <tr>\n",
              "      <th>251</th>\n",
              "      <td>200027509.0</td>\n",
              "      <td>0</td>\n",
              "      <td>360.00</td>\n",
              "      <td>0.0</td>\n",
              "      <td>9</td>\n",
              "      <td>2022</td>\n",
              "    </tr>\n",
              "    <tr>\n",
              "      <th>252</th>\n",
              "      <td>200088405.0</td>\n",
              "      <td>0</td>\n",
              "      <td>6377.61</td>\n",
              "      <td>167.0</td>\n",
              "      <td>9</td>\n",
              "      <td>2022</td>\n",
              "    </tr>\n",
              "    <tr>\n",
              "      <th>253</th>\n",
              "      <td>200197701.0</td>\n",
              "      <td>0</td>\n",
              "      <td>1635.00</td>\n",
              "      <td>51.0</td>\n",
              "      <td>9</td>\n",
              "      <td>2022</td>\n",
              "    </tr>\n",
              "  </tbody>\n",
              "</table>\n",
              "</div>\n",
              "      <button class=\"colab-df-convert\" onclick=\"convertToInteractive('df-01434410-44f5-4c33-9bb1-3679ab41384d')\"\n",
              "              title=\"Convert this dataframe to an interactive table.\"\n",
              "              style=\"display:none;\">\n",
              "        \n",
              "  <svg xmlns=\"http://www.w3.org/2000/svg\" height=\"24px\"viewBox=\"0 0 24 24\"\n",
              "       width=\"24px\">\n",
              "    <path d=\"M0 0h24v24H0V0z\" fill=\"none\"/>\n",
              "    <path d=\"M18.56 5.44l.94 2.06.94-2.06 2.06-.94-2.06-.94-.94-2.06-.94 2.06-2.06.94zm-11 1L8.5 8.5l.94-2.06 2.06-.94-2.06-.94L8.5 2.5l-.94 2.06-2.06.94zm10 10l.94 2.06.94-2.06 2.06-.94-2.06-.94-.94-2.06-.94 2.06-2.06.94z\"/><path d=\"M17.41 7.96l-1.37-1.37c-.4-.4-.92-.59-1.43-.59-.52 0-1.04.2-1.43.59L10.3 9.45l-7.72 7.72c-.78.78-.78 2.05 0 2.83L4 21.41c.39.39.9.59 1.41.59.51 0 1.02-.2 1.41-.59l7.78-7.78 2.81-2.81c.8-.78.8-2.07 0-2.86zM5.41 20L4 18.59l7.72-7.72 1.47 1.35L5.41 20z\"/>\n",
              "  </svg>\n",
              "      </button>\n",
              "      \n",
              "  <style>\n",
              "    .colab-df-container {\n",
              "      display:flex;\n",
              "      flex-wrap:wrap;\n",
              "      gap: 12px;\n",
              "    }\n",
              "\n",
              "    .colab-df-convert {\n",
              "      background-color: #E8F0FE;\n",
              "      border: none;\n",
              "      border-radius: 50%;\n",
              "      cursor: pointer;\n",
              "      display: none;\n",
              "      fill: #1967D2;\n",
              "      height: 32px;\n",
              "      padding: 0 0 0 0;\n",
              "      width: 32px;\n",
              "    }\n",
              "\n",
              "    .colab-df-convert:hover {\n",
              "      background-color: #E2EBFA;\n",
              "      box-shadow: 0px 1px 2px rgba(60, 64, 67, 0.3), 0px 1px 3px 1px rgba(60, 64, 67, 0.15);\n",
              "      fill: #174EA6;\n",
              "    }\n",
              "\n",
              "    [theme=dark] .colab-df-convert {\n",
              "      background-color: #3B4455;\n",
              "      fill: #D2E3FC;\n",
              "    }\n",
              "\n",
              "    [theme=dark] .colab-df-convert:hover {\n",
              "      background-color: #434B5C;\n",
              "      box-shadow: 0px 1px 3px 1px rgba(0, 0, 0, 0.15);\n",
              "      filter: drop-shadow(0px 1px 2px rgba(0, 0, 0, 0.3));\n",
              "      fill: #FFFFFF;\n",
              "    }\n",
              "  </style>\n",
              "\n",
              "      <script>\n",
              "        const buttonEl =\n",
              "          document.querySelector('#df-01434410-44f5-4c33-9bb1-3679ab41384d button.colab-df-convert');\n",
              "        buttonEl.style.display =\n",
              "          google.colab.kernel.accessAllowed ? 'block' : 'none';\n",
              "\n",
              "        async function convertToInteractive(key) {\n",
              "          const element = document.querySelector('#df-01434410-44f5-4c33-9bb1-3679ab41384d');\n",
              "          const dataTable =\n",
              "            await google.colab.kernel.invokeFunction('convertToInteractive',\n",
              "                                                     [key], {});\n",
              "          if (!dataTable) return;\n",
              "\n",
              "          const docLinkHtml = 'Like what you see? Visit the ' +\n",
              "            '<a target=\"_blank\" href=https://colab.research.google.com/notebooks/data_table.ipynb>data table notebook</a>'\n",
              "            + ' to learn more about interactive tables.';\n",
              "          element.innerHTML = '';\n",
              "          dataTable['output_type'] = 'display_data';\n",
              "          await google.colab.output.renderOutput(dataTable, element);\n",
              "          const docLink = document.createElement('div');\n",
              "          docLink.innerHTML = docLinkHtml;\n",
              "          element.appendChild(docLink);\n",
              "        }\n",
              "      </script>\n",
              "    </div>\n",
              "  </div>\n",
              "  "
            ]
          },
          "metadata": {},
          "execution_count": 15
        }
      ]
    },
    {
      "cell_type": "code",
      "source": [
        "def move_sliding_window(data, window_size, inputs_cols_indices, label_col_index):\n",
        "    \"\"\"\n",
        "    data: numpy array including data\n",
        "    window_size: size of window\n",
        "    inputs_cols_indices: col indices to include\n",
        "    \"\"\"\n",
        "\n",
        "    # (# instances created by movement, seq_len (timestamps), # features (input_len))\n",
        "    inputs = np.zeros((len(data) - window_size, window_size, len(inputs_cols_indices)))\n",
        "    labels = np.zeros(len(data) - window_size)\n",
        "\n",
        "    for i in range(window_size, len(data)):\n",
        "        inputs[i - window_size] = data[i - window_size : i, inputs_cols_indices]\n",
        "        labels[i - window_size] = data[i, label_col_index]\n",
        "    inputs = inputs.reshape(-1, window_size, len(inputs_cols_indices))\n",
        "    labels = labels.reshape(-1, 1)\n",
        "    print(inputs.shape, labels.shape)\n",
        "\n",
        "    return inputs, labels"
      ],
      "metadata": {
        "id": "rhp7IHK2WlTl"
      },
      "execution_count": 16,
      "outputs": []
    },
    {
      "cell_type": "code",
      "source": [
        "label_col_index = 3  # UNITS as label to predict\n",
        "inputs_cols_indices = 2,3  # use (\"ACCOUNT_NO\",\"DATE\",\"SALES_TYPE\",\"BILL\",\"UNIT\") columns as features\n",
        "\n",
        "# Define window_size period and split inputs/labels\n",
        "window_size = 100\n",
        "\n",
        "# The scaler objects will be stored in this dictionary so that our output test data from the model can be re-scaled during evaluation\n",
        "label_scalers = {}\n",
        "\n",
        "train_x = []\n",
        "test_x = {}\n",
        "test_y = {}"
      ],
      "metadata": {
        "id": "7XZAeR1LXtv8"
      },
      "execution_count": 17,
      "outputs": []
    },
    {
      "cell_type": "code",
      "source": [
        "    # Obtaining the scaler for the labels(usage data) so that output can be\n",
        "    # re-scaled to actual value during evaluation\n",
        "    label_sc.fit(df.iloc[:, label_col_index].values.reshape(-1, 1))\n",
        "    label_scalers[file] = label_sc\n"
      ],
      "metadata": {
        "id": "pnLfGbCTXgSk"
      },
      "execution_count": 18,
      "outputs": []
    },
    {
      "cell_type": "code",
      "source": [
        "   # Move the window\n",
        "inputs, labels = move_sliding_window(data,window_size,inputs_cols_indices=inputs_cols_indices,label_col_index=label_col_index, )\n",
        "\n",
        "    # CONCAT created instances from all .csv files.\n",
        "    # Split data into train/test portions and combining all data from different files into a single array\n",
        "test_portion = int(0.1 * len(inputs))\n",
        "if len(train_x) == 0:  # first iteration\n",
        "    train_x = inputs[:-test_portion]\n",
        "    train_y = labels[:-test_portion]\n",
        "else:\n",
        "    train_x = np.concatenate((train_x, inputs[:-test_portion]))\n",
        "    train_y = np.concatenate((train_y, labels[:-test_portion]))\n",
        "test_x[file] = inputs[-test_portion:]\n",
        "test_y[file] = labels[-test_portion:]"
      ],
      "metadata": {
        "id": "A97ockuUaRuK",
        "outputId": "c58bfbea-6386-42c6-eca8-986f15c61e9f",
        "colab": {
          "base_uri": "https://localhost:8080/"
        }
      },
      "execution_count": 19,
      "outputs": [
        {
          "output_type": "stream",
          "name": "stdout",
          "text": [
            "(317, 100, 2) (317, 1)\n"
          ]
        }
      ]
    },
    {
      "cell_type": "code",
      "source": [
        "batch_size =32\n",
        "\n",
        "train_data = TensorDataset(torch.from_numpy(train_x), torch.from_numpy(train_y))\n",
        "\n",
        "# Drop the last incomplete batch\n",
        "train_loader = DataLoader(\n",
        "    train_data, shuffle=True, batch_size=batch_size, drop_last=True\n",
        ")"
      ],
      "metadata": {
        "id": "mtVvIBLtg1I9"
      },
      "execution_count": 20,
      "outputs": []
    },
    {
      "cell_type": "code",
      "source": [
        "print(\n",
        "    f\"Train Size: {train_x.shape}, Batch Size: {batch_size}, # of iterations per epoch: {int(train_x.shape[0]/batch_size)}\"\n",
        ")"
      ],
      "metadata": {
        "id": "2hkCAm2XhBos",
        "outputId": "b79a0e77-835f-43a0-d937-8eb84c074ae3",
        "colab": {
          "base_uri": "https://localhost:8080/"
        }
      },
      "execution_count": 21,
      "outputs": [
        {
          "output_type": "stream",
          "name": "stdout",
          "text": [
            "Train Size: (286, 100, 2), Batch Size: 32, # of iterations per epoch: 8\n"
          ]
        }
      ]
    },
    {
      "cell_type": "code",
      "source": [
        "# release some memory\n",
        "del train_x, train_y"
      ],
      "metadata": {
        "id": "NUs6UrYPhsjM"
      },
      "execution_count": 22,
      "outputs": []
    },
    {
      "cell_type": "code",
      "source": [
        "# torch.cuda.is_available() checks and returns a Boolean True if a GPU is available, else it'll return False\n",
        "is_cuda = torch.cuda.is_available()\n",
        "\n",
        "# If we have a GPU available, we'll set our device to GPU. We'll use this device variable later in our code.\n",
        "if is_cuda:\n",
        "    device = torch.device(\"cuda\")\n",
        "    print(\"GPU is available\")\n",
        "else:\n",
        "    device = torch.device(\"cpu\")"
      ],
      "metadata": {
        "id": "FquiO0q6hvSM",
        "outputId": "d90a3743-830b-4fbc-e7cd-b02262954f1d",
        "colab": {
          "base_uri": "https://localhost:8080/"
        }
      },
      "execution_count": 23,
      "outputs": [
        {
          "output_type": "stream",
          "name": "stdout",
          "text": [
            "GPU is available\n"
          ]
        }
      ]
    },
    {
      "cell_type": "code",
      "source": [
        "class LSTMNet(nn.Module):\n",
        "    def __init__(self, input_dim, hidden_dim, output_dim, n_layers, drop_prob=0.2):\n",
        "        super(LSTMNet, self).__init__()\n",
        "        self.hidden_dim = hidden_dim\n",
        "        self.n_layers = n_layers\n",
        "\n",
        "        self.lstm = nn.LSTM(\n",
        "            input_dim, hidden_dim, n_layers, batch_first=True, dropout=drop_prob\n",
        "        )\n",
        "        self.fc = nn.Linear(hidden_dim, output_dim)\n",
        "        self.relu = nn.ReLU()\n",
        "\n",
        "    def forward(self, x, h):\n",
        "        out, h = self.lstm(x, h)\n",
        "        out = self.fc(self.relu(out[:, -1]))\n",
        "        return out, h\n",
        "\n",
        "    def init_hidden(self, batch_size):\n",
        "        weight = next(self.parameters()).data\n",
        "        # Initialze h_0, c_0 with zeros\n",
        "        hidden = (\n",
        "            weight.new(self.n_layers, batch_size, self.hidden_dim)\n",
        "            .zero_()\n",
        "            .to(device),  # h_0\n",
        "            weight.new(self.n_layers, batch_size, self.hidden_dim).zero_().to(device),\n",
        "        )\n",
        "        return hidden"
      ],
      "metadata": {
        "id": "OVg2P66jh3Hj"
      },
      "execution_count": 24,
      "outputs": []
    },
    {
      "cell_type": "code",
      "source": [
        "def train(\n",
        "    train_loader,\n",
        "    learn_rate,\n",
        "    hidden_dim=256,\n",
        "    n_layers=2,\n",
        "    n_epochs=3,\n",
        "    model_type=\"GRU\",\n",
        "    print_every=100,\n",
        "):\n",
        "\n",
        "    input_dim = next(iter(train_loader))[0].shape[2]  # 5\n",
        "\n",
        "    # Batch generator (train_data, train_label)\n",
        "    # print(next(iter(train_loader))[0].shape, next(iter(train_loader))[1].shape) # torch.Size([1024, 90, 5]) torch.Size([1024, 1])\n",
        "\n",
        "    output_dim = 1\n",
        "\n",
        "    # Instantiating the models\n",
        "    if model_type == \"GRU\":\n",
        "        model = GRUNet(input_dim, hidden_dim, output_dim, n_layers)\n",
        "    else:\n",
        "        model = LSTMNet(input_dim, hidden_dim, output_dim, n_layers)\n",
        "    model.to(device)\n",
        "\n",
        "    # Defining loss function and optimizer\n",
        "    criterion = nn.MSELoss()  # Mean Squared Error\n",
        "    optimizer = torch.optim.Adam(model.parameters(), lr=learn_rate)\n",
        "\n",
        "    model.train()\n",
        "    print(\"Starting Training of {} model\".format(model_type))\n",
        "    epoch_times = []\n",
        "\n",
        "    # Start training loop\n",
        "    for epoch in range(1, n_epochs + 1):\n",
        "        start_time = time.process_time()\n",
        "        h = model.init_hidden(batch_size)\n",
        "        avg_loss = 0.0\n",
        "        counter = 0\n",
        "        for x, label in train_loader:\n",
        "            counter += 1\n",
        "            if model_type == \"GRU\":\n",
        "                h = h.data\n",
        "            # Unpcak both h_0 and c_0\n",
        "            elif model_type == \"LSTM\":\n",
        "                h = tuple([e.data for e in h])\n",
        "\n",
        "            # Set the gradients to zero before starting to do backpropragation because\n",
        "            # PyTorch accumulates the gradients on subsequent backward passes\n",
        "            model.zero_grad()\n",
        "\n",
        "            out, h = model(x.to(device).float(), h)\n",
        "            loss = criterion(out, label.to(device).float())\n",
        "\n",
        "            # Perform backpropragation\n",
        "            loss.backward()\n",
        "            optimizer.step()\n",
        "\n",
        "            avg_loss += loss.item()\n",
        "            if counter % print_every == 0:\n",
        "                print(\n",
        "                    f\"Epoch {epoch} - Step: {counter}/{len(train_loader)} - Average Loss for Epoch: {avg_loss/counter}\"\n",
        "                )\n",
        "        current_time = time.process_time()\n",
        "\n",
        "        print(\n",
        "            f\"Epoch {epoch}/{n_epochs} Done, Total Loss: {avg_loss/len(train_loader)}\"\n",
        "        )\n",
        "\n",
        "        print(f\"Time Elapsed for Epoch: {current_time-start_time} seconds\")\n",
        "\n",
        "        epoch_times.append(current_time - start_time)\n",
        "\n",
        "    print(f\"Total Training Time: {sum(epoch_times)} seconds\")\n",
        "    return model"
      ],
      "metadata": {
        "id": "h73E9QHcjM4r"
      },
      "execution_count": 25,
      "outputs": []
    },
    {
      "cell_type": "code",
      "source": [
        "n_hidden = 256\n",
        "n_layers = 3\n",
        "n_epochs = 15\n",
        "print_every = 3000\n",
        "lr = 0.001\n",
        "lstm_model = train(\n",
        "    train_loader,\n",
        "    learn_rate=lr,\n",
        "    hidden_dim=n_hidden,\n",
        "    n_layers=n_layers,\n",
        "    n_epochs=n_epochs,\n",
        "    model_type=\"LSTM\",\n",
        "    print_every=print_every,\n",
        "    \n",
        ")"
      ],
      "metadata": {
        "id": "hK6qkFUVjT0b",
        "colab": {
          "base_uri": "https://localhost:8080/"
        },
        "outputId": "b3845a21-dcba-4550-9a03-fb3ff85281b4"
      },
      "execution_count": 26,
      "outputs": [
        {
          "output_type": "stream",
          "name": "stdout",
          "text": [
            "Starting Training of LSTM model\n",
            "Epoch 1/15 Done, Total Loss: 0.07510782964527607\n",
            "Time Elapsed for Epoch: 0.605336308 seconds\n",
            "Epoch 2/15 Done, Total Loss: 0.05393238039687276\n",
            "Time Elapsed for Epoch: 0.18061142700000055 seconds\n",
            "Epoch 3/15 Done, Total Loss: 0.05150874983519316\n",
            "Time Elapsed for Epoch: 0.17488251099999985 seconds\n",
            "Epoch 4/15 Done, Total Loss: 0.04979765973985195\n",
            "Time Elapsed for Epoch: 0.15090622299999978 seconds\n",
            "Epoch 5/15 Done, Total Loss: 0.051519224885851145\n",
            "Time Elapsed for Epoch: 0.12822133399999913 seconds\n",
            "Epoch 6/15 Done, Total Loss: 0.048303097020834684\n",
            "Time Elapsed for Epoch: 0.12135169499999954 seconds\n",
            "Epoch 7/15 Done, Total Loss: 0.05247490666806698\n",
            "Time Elapsed for Epoch: 0.11653972699999926 seconds\n",
            "Epoch 8/15 Done, Total Loss: 0.0509584448300302\n",
            "Time Elapsed for Epoch: 0.1274896649999988 seconds\n",
            "Epoch 9/15 Done, Total Loss: 0.04975420981645584\n",
            "Time Elapsed for Epoch: 0.11784231799999922 seconds\n",
            "Epoch 10/15 Done, Total Loss: 0.051435306668281555\n",
            "Time Elapsed for Epoch: 0.12457377199999975 seconds\n",
            "Epoch 11/15 Done, Total Loss: 0.05350510124117136\n",
            "Time Elapsed for Epoch: 0.11335493800000052 seconds\n",
            "Epoch 12/15 Done, Total Loss: 0.049301617313176394\n",
            "Time Elapsed for Epoch: 0.1193317399999998 seconds\n",
            "Epoch 13/15 Done, Total Loss: 0.05219810362905264\n",
            "Time Elapsed for Epoch: 0.12189399400000056 seconds\n",
            "Epoch 14/15 Done, Total Loss: 0.04890410369262099\n",
            "Time Elapsed for Epoch: 0.1286859670000009 seconds\n",
            "Epoch 15/15 Done, Total Loss: 0.051362189929932356\n",
            "Time Elapsed for Epoch: 0.11907888899999897 seconds\n",
            "Total Training Time: 2.4501005079999967 seconds\n"
          ]
        }
      ]
    },
    {
      "cell_type": "code",
      "source": [
        "torch.save(lstm_model.state_dict(), \"/content/model/lstm_model.pt\")"
      ],
      "metadata": {
        "id": "XhknKCA8j8Aa"
      },
      "execution_count": 27,
      "outputs": []
    },
    {
      "cell_type": "code",
      "source": [
        "hidden_dim = 256\n",
        "input_dim = 2\n",
        "output_dim = 1\n",
        "n_layers = 3\n",
        "lstm_model = LSTMNet(input_dim, hidden_dim, output_dim, n_layers)\n",
        "lstm_model.load_state_dict(torch.load(\"/content/model/lstm_model.pt\"))"
      ],
      "metadata": {
        "id": "TmRa6lckkFkC",
        "outputId": "614148c1-b18c-45a0-db99-437f4814086b",
        "colab": {
          "base_uri": "https://localhost:8080/"
        }
      },
      "execution_count": 28,
      "outputs": [
        {
          "output_type": "execute_result",
          "data": {
            "text/plain": [
              "<All keys matched successfully>"
            ]
          },
          "metadata": {},
          "execution_count": 28
        }
      ]
    },
    {
      "cell_type": "code",
      "source": [
        "# Move the model to the appropriate device\n",
        "lstm_model.to(device)"
      ],
      "metadata": {
        "id": "2HMtghnfkUkp",
        "outputId": "13ca7270-1d27-46c9-e7e3-312b84f1b6e3",
        "colab": {
          "base_uri": "https://localhost:8080/"
        }
      },
      "execution_count": 29,
      "outputs": [
        {
          "output_type": "execute_result",
          "data": {
            "text/plain": [
              "LSTMNet(\n",
              "  (lstm): LSTM(2, 256, num_layers=3, batch_first=True, dropout=0.2)\n",
              "  (fc): Linear(in_features=256, out_features=1, bias=True)\n",
              "  (relu): ReLU()\n",
              ")"
            ]
          },
          "metadata": {},
          "execution_count": 29
        }
      ]
    },
    {
      "cell_type": "code",
      "source": [
        "def sMAPE(outputs, targets):\n",
        "    sMAPE = (\n",
        "        100\n",
        "        / len(targets)\n",
        "        * np.sum(np.abs(outputs - targets) / (np.abs(outputs + targets)) / 2)\n",
        "    )\n",
        "    return sMAPE"
      ],
      "metadata": {
        "id": "rA00xUtHkW2p"
      },
      "execution_count": 30,
      "outputs": []
    },
    {
      "cell_type": "code",
      "source": [
        "def evaluate(model, test_x, test_y, label_scalers):\n",
        "    model.eval()\n",
        "    outputs = []\n",
        "    targets = []\n",
        "    start_time = time.process_time()\n",
        "    # get data of test data for each state\n",
        "    for file in test_x.keys():\n",
        "        inputs = torch.from_numpy(np.array(test_x[file]))\n",
        "        labels = torch.from_numpy(np.array(test_y[file]))\n",
        "\n",
        "        h = model.init_hidden(inputs.shape[0])\n",
        "\n",
        "        # predict outputs\n",
        "        with torch.no_grad():\n",
        "            out, h = model(inputs.to(device).float(), h)\n",
        "\n",
        "        outputs.append(\n",
        "            label_scalers[file]\n",
        "            .inverse_transform(out.cpu().detach().numpy())\n",
        "            .reshape(-1)\n",
        "        )\n",
        "\n",
        "        targets.append(\n",
        "            label_scalers[file].inverse_transform(labels.numpy()).reshape(-1)\n",
        "        )\n",
        "\n",
        "    # Merge all files\n",
        "    concatenated_outputs = np.concatenate(outputs)\n",
        "    concatenated_targets = np.concatenate(targets)\n",
        "\n",
        "    print(f\"Evaluation Time: {time.process_time()-start_time}\")\n",
        "    print(f\"sMAPE: {round(sMAPE(concatenated_outputs, concatenated_targets), 3)}%\")\n",
        "\n",
        "    # list of of targets/outputs for each state\n",
        "    return outputs, targets, sMAPE"
      ],
      "metadata": {
        "id": "Naah87cMka9i"
      },
      "execution_count": 31,
      "outputs": []
    },
    {
      "cell_type": "code",
      "source": [
        "lstm_outputs, targets, lstm_sMAPE = evaluate(lstm_model, test_x, test_y, label_scalers)"
      ],
      "metadata": {
        "id": "-_mIS80EkfWy",
        "outputId": "98cbabd8-ecbb-4727-a97a-8a0799f393e9",
        "colab": {
          "base_uri": "https://localhost:8080/"
        }
      },
      "execution_count": 32,
      "outputs": [
        {
          "output_type": "stream",
          "name": "stdout",
          "text": [
            "Evaluation Time: 0.011023581999999976\n",
            "sMAPE: 15.622%\n"
          ]
        }
      ]
    },
    {
      "cell_type": "code",
      "source": [
        "len(\n",
        "    lstm_outputs\n",
        ")  # list of predicted output file for each state (each element has a 1d array for that state)"
      ],
      "metadata": {
        "id": "XJjWE26pkjaa",
        "outputId": "81f6bb43-2df5-4ff3-cedd-dc006f89e37f",
        "colab": {
          "base_uri": "https://localhost:8080/"
        }
      },
      "execution_count": 33,
      "outputs": [
        {
          "output_type": "execute_result",
          "data": {
            "text/plain": [
              "1"
            ]
          },
          "metadata": {},
          "execution_count": 33
        }
      ]
    },
    {
      "cell_type": "code",
      "source": [
        "states_list = list(test_x.keys())"
      ],
      "metadata": {
        "id": "dBNrSgjnkmES"
      },
      "execution_count": 34,
      "outputs": []
    },
    {
      "cell_type": "code",
      "source": [
        "states_list"
      ],
      "metadata": {
        "id": "yNXkl85mkotK",
        "outputId": "f248f56f-5c75-4af9-99c3-9204fafdffb3",
        "colab": {
          "base_uri": "https://localhost:8080/"
        }
      },
      "execution_count": 35,
      "outputs": [
        {
          "output_type": "execute_result",
          "data": {
            "text/plain": [
              "['/content/SAMPLE_DATA.csv']"
            ]
          },
          "metadata": {},
          "execution_count": 35
        }
      ]
    },
    {
      "cell_type": "code",
      "source": [
        "plt.figure(figsize=(14, 10))\n",
        "plt.subplot(2, 2, 1)\n",
        "plt.plot(\n",
        "    lstm_outputs[0][-50:], \"-o\", color=\"r\", label=\"LSTM Predictions\", markersize=2\n",
        ")\n",
        "plt.plot(targets[0][-50:], color=\"b\", label=\"Actual\")\n",
        "plt.ylabel(\"Energy Consumption (MW)\")\n",
        "plt.title(f\"Energy Consumption for {states_list[0]} state\")\n",
        "plt.legend()\n",
        "\n"
      ],
      "metadata": {
        "id": "Yf1e6IKHkrLh",
        "outputId": "98b18828-d8d1-4540-ca58-d51cd08de282",
        "colab": {
          "base_uri": "https://localhost:8080/",
          "height": 328
        }
      },
      "execution_count": 38,
      "outputs": [
        {
          "output_type": "execute_result",
          "data": {
            "text/plain": [
              "<matplotlib.legend.Legend at 0x7f6a2d123760>"
            ]
          },
          "metadata": {},
          "execution_count": 38
        },
        {
          "output_type": "display_data",
          "data": {
            "text/plain": [
              "<Figure size 1008x720 with 1 Axes>"
            ],
            "image/png": "[encoded data removed]"
          },
          "metadata": {
            "needs_background": "light"
          }
        }
      ]
    }
  ]
}