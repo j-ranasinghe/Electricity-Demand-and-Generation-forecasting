{
  "nbformat": 4,
  "nbformat_minor": 0,
  "metadata": {
    "colab": {
      "provenance": [],
      "include_colab_link": true
    },
    "kernelspec": {
      "name": "python3",
      "display_name": "Python 3"
    },
    "language_info": {
      "name": "python"
    },
    "accelerator": "GPU",
    "gpuClass": "standard"
  },
  "cells": [
    {
      "cell_type": "markdown",
      "metadata": {
        "id": "view-in-github",
        "colab_type": "text"
      },
      "source": [
        "<a href=\"https://colab.research.google.com/github/j-ranasinghe/Electricity-consumption-forecasting/blob/main/LSTM_2_.ipynb\" target=\"_parent\"><img src=\"https://colab.research.google.com/assets/colab-badge.svg\" alt=\"Open In Colab\"/></a>"
      ]
    },
    {
      "cell_type": "code",
      "execution_count": 11,
      "metadata": {
        "id": "Tx8YtsI9j46G"
      },
      "outputs": [],
      "source": [
        "import os\n",
        "import time\n",
        "import matplotlib.pyplot as plt\n",
        "import pandas as pd\n",
        "import numpy as np\n",
        "from sklearn.preprocessing import OneHotEncoder\n",
        "from sklearn.preprocessing import MinMaxScaler\n",
        "from sklearn.preprocessing import LabelEncoder\n",
        "import torch\n",
        "import torch.nn as nn\n",
        "from torch.utils.data import TensorDataset, DataLoader\n",
        "from tqdm.notebook import tqdm as tqdm_notebook"
      ]
    },
    {
      "cell_type": "code",
      "source": [
        "cols = [\"ACCOUNT_NO\",\"DATE\",\"SALES_TYPE\",\"BILL\",\"UNIT\"]\n",
        "df = pd.read_csv(\"/content/SAMPLE_DATA.csv\", header=0, names=cols)\n",
        "# Calculate the IQR for each column\n",
        "Q1 = df.quantile(0.25)\n",
        "Q3 = df.quantile(0.75)\n",
        "IQR = Q3 - Q1\n",
        "\n",
        "# Identify any outliers as values that are more than 1.5 times the IQR away from the median\n",
        "outliers = ((df < (Q1 - 1.5 * IQR)) | (df > (Q3 + 1.5 * IQR))).any(axis=1)\n",
        "\n",
        "# Drop rows containing outliers\n",
        "df = df[~outliers]\n",
        "file = \"/content/SAMPLE_DATA.csv\""
      ],
      "metadata": {
        "id": "Oc-U7jCFknLv",
        "colab": {
          "base_uri": "https://localhost:8080/"
        },
        "outputId": "d0a994f2-a43b-45d9-cb0e-41dab30a016c"
      },
      "execution_count": 12,
      "outputs": [
        {
          "output_type": "stream",
          "name": "stderr",
          "text": [
            "<ipython-input-12-17ce74878988>:9: FutureWarning: Automatic reindexing on DataFrame vs Series comparisons is deprecated and will raise ValueError in a future version.  Do `left, right = left.align(right, axis=1, copy=False)` before e.g. `left == right`\n",
            "  outliers = ((df < (Q1 - 1.5 * IQR)) | (df > (Q3 + 1.5 * IQR))).any(axis=1)\n"
          ]
        }
      ]
    },
    {
      "cell_type": "code",
      "source": [
        "df.head()"
      ],
      "metadata": {
        "colab": {
          "base_uri": "https://localhost:8080/",
          "height": 206
        },
        "id": "5t0TIbbtl652",
        "outputId": "9cef5e9f-e553-442c-e4ae-5b9bd6c097b7"
      },
      "execution_count": 14,
      "outputs": [
        {
          "output_type": "execute_result",
          "data": {
            "text/plain": [
              "   ACCOUNT_NO      DATE SALES_TYPE     BILL  UNIT\n",
              "0   200005806  4/1/2022          C  2289.04    73\n",
              "1   200009909  4/1/2022          C   120.00     1\n",
              "2   200002506  4/1/2022          C  9448.27   241\n",
              "3   200013110  4/1/2022          C    -8.85    11\n",
              "4   200001802  4/1/2022          C  1539.76    68"
            ],
            "text/html": [
              "\n",
              "  <div id=\"df-1e3ddd9d-ceea-4492-9701-c0b258073c0f\">\n",
              "    <div class=\"colab-df-container\">\n",
              "      <div>\n",
              "<style scoped>\n",
              "    .dataframe tbody tr th:only-of-type {\n",
              "        vertical-align: middle;\n",
              "    }\n",
              "\n",
              "    .dataframe tbody tr th {\n",
              "        vertical-align: top;\n",
              "    }\n",
              "\n",
              "    .dataframe thead th {\n",
              "        text-align: right;\n",
              "    }\n",
              "</style>\n",
              "<table border=\"1\" class=\"dataframe\">\n",
              "  <thead>\n",
              "    <tr style=\"text-align: right;\">\n",
              "      <th></th>\n",
              "      <th>ACCOUNT_NO</th>\n",
              "      <th>DATE</th>\n",
              "      <th>SALES_TYPE</th>\n",
              "      <th>BILL</th>\n",
              "      <th>UNIT</th>\n",
              "    </tr>\n",
              "  </thead>\n",
              "  <tbody>\n",
              "    <tr>\n",
              "      <th>0</th>\n",
              "      <td>200005806</td>\n",
              "      <td>4/1/2022</td>\n",
              "      <td>C</td>\n",
              "      <td>2289.04</td>\n",
              "      <td>73</td>\n",
              "    </tr>\n",
              "    <tr>\n",
              "      <th>1</th>\n",
              "      <td>200009909</td>\n",
              "      <td>4/1/2022</td>\n",
              "      <td>C</td>\n",
              "      <td>120.00</td>\n",
              "      <td>1</td>\n",
              "    </tr>\n",
              "    <tr>\n",
              "      <th>2</th>\n",
              "      <td>200002506</td>\n",
              "      <td>4/1/2022</td>\n",
              "      <td>C</td>\n",
              "      <td>9448.27</td>\n",
              "      <td>241</td>\n",
              "    </tr>\n",
              "    <tr>\n",
              "      <th>3</th>\n",
              "      <td>200013110</td>\n",
              "      <td>4/1/2022</td>\n",
              "      <td>C</td>\n",
              "      <td>-8.85</td>\n",
              "      <td>11</td>\n",
              "    </tr>\n",
              "    <tr>\n",
              "      <th>4</th>\n",
              "      <td>200001802</td>\n",
              "      <td>4/1/2022</td>\n",
              "      <td>C</td>\n",
              "      <td>1539.76</td>\n",
              "      <td>68</td>\n",
              "    </tr>\n",
              "  </tbody>\n",
              "</table>\n",
              "</div>\n",
              "      <button class=\"colab-df-convert\" onclick=\"convertToInteractive('df-1e3ddd9d-ceea-4492-9701-c0b258073c0f')\"\n",
              "              title=\"Convert this dataframe to an interactive table.\"\n",
              "              style=\"display:none;\">\n",
              "        \n",
              "  <svg xmlns=\"http://www.w3.org/2000/svg\" height=\"24px\"viewBox=\"0 0 24 24\"\n",
              "       width=\"24px\">\n",
              "    <path d=\"M0 0h24v24H0V0z\" fill=\"none\"/>\n",
              "    <path d=\"M18.56 5.44l.94 2.06.94-2.06 2.06-.94-2.06-.94-.94-2.06-.94 2.06-2.06.94zm-11 1L8.5 8.5l.94-2.06 2.06-.94-2.06-.94L8.5 2.5l-.94 2.06-2.06.94zm10 10l.94 2.06.94-2.06 2.06-.94-2.06-.94-.94-2.06-.94 2.06-2.06.94z\"/><path d=\"M17.41 7.96l-1.37-1.37c-.4-.4-.92-.59-1.43-.59-.52 0-1.04.2-1.43.59L10.3 9.45l-7.72 7.72c-.78.78-.78 2.05 0 2.83L4 21.41c.39.39.9.59 1.41.59.51 0 1.02-.2 1.41-.59l7.78-7.78 2.81-2.81c.8-.78.8-2.07 0-2.86zM5.41 20L4 18.59l7.72-7.72 1.47 1.35L5.41 20z\"/>\n",
              "  </svg>\n",
              "      </button>\n",
              "      \n",
              "  <style>\n",
              "    .colab-df-container {\n",
              "      display:flex;\n",
              "      flex-wrap:wrap;\n",
              "      gap: 12px;\n",
              "    }\n",
              "\n",
              "    .colab-df-convert {\n",
              "      background-color: #E8F0FE;\n",
              "      border: none;\n",
              "      border-radius: 50%;\n",
              "      cursor: pointer;\n",
              "      display: none;\n",
              "      fill: #1967D2;\n",
              "      height: 32px;\n",
              "      padding: 0 0 0 0;\n",
              "      width: 32px;\n",
              "    }\n",
              "\n",
              "    .colab-df-convert:hover {\n",
              "      background-color: #E2EBFA;\n",
              "      box-shadow: 0px 1px 2px rgba(60, 64, 67, 0.3), 0px 1px 3px 1px rgba(60, 64, 67, 0.15);\n",
              "      fill: #174EA6;\n",
              "    }\n",
              "\n",
              "    [theme=dark] .colab-df-convert {\n",
              "      background-color: #3B4455;\n",
              "      fill: #D2E3FC;\n",
              "    }\n",
              "\n",
              "    [theme=dark] .colab-df-convert:hover {\n",
              "      background-color: #434B5C;\n",
              "      box-shadow: 0px 1px 3px 1px rgba(0, 0, 0, 0.15);\n",
              "      filter: drop-shadow(0px 1px 2px rgba(0, 0, 0, 0.3));\n",
              "      fill: #FFFFFF;\n",
              "    }\n",
              "  </style>\n",
              "\n",
              "      <script>\n",
              "        const buttonEl =\n",
              "          document.querySelector('#df-1e3ddd9d-ceea-4492-9701-c0b258073c0f button.colab-df-convert');\n",
              "        buttonEl.style.display =\n",
              "          google.colab.kernel.accessAllowed ? 'block' : 'none';\n",
              "\n",
              "        async function convertToInteractive(key) {\n",
              "          const element = document.querySelector('#df-1e3ddd9d-ceea-4492-9701-c0b258073c0f');\n",
              "          const dataTable =\n",
              "            await google.colab.kernel.invokeFunction('convertToInteractive',\n",
              "                                                     [key], {});\n",
              "          if (!dataTable) return;\n",
              "\n",
              "          const docLinkHtml = 'Like what you see? Visit the ' +\n",
              "            '<a target=\"_blank\" href=https://colab.research.google.com/notebooks/data_table.ipynb>data table notebook</a>'\n",
              "            + ' to learn more about interactive tables.';\n",
              "          element.innerHTML = '';\n",
              "          dataTable['output_type'] = 'display_data';\n",
              "          await google.colab.output.renderOutput(dataTable, element);\n",
              "          const docLink = document.createElement('div');\n",
              "          docLink.innerHTML = docLinkHtml;\n",
              "          element.appendChild(docLink);\n",
              "        }\n",
              "      </script>\n",
              "    </div>\n",
              "  </div>\n",
              "  "
            ]
          },
          "metadata": {},
          "execution_count": 14
        }
      ]
    },
    {
      "cell_type": "code",
      "source": [
        "df.shape #Check the shape of the dataset"
      ],
      "metadata": {
        "colab": {
          "base_uri": "https://localhost:8080/"
        },
        "id": "ANp7lKy4k1__",
        "outputId": "ece579e2-2e0e-4709-af40-88c212c156fe"
      },
      "execution_count": 15,
      "outputs": [
        {
          "output_type": "execute_result",
          "data": {
            "text/plain": [
              "(939, 5)"
            ]
          },
          "metadata": {},
          "execution_count": 15
        }
      ]
    },
    {
      "cell_type": "code",
      "source": [
        "df[\"UNIT\"] = df[\"UNIT\"].astype(float)\n",
        "df[\"BILL\"] = df[\"BILL\"].astype(float)\n",
        "df[\"ACCOUNT_NO\"] = df[\"ACCOUNT_NO\"].astype(float)"
      ],
      "metadata": {
        "id": "uRh_nooBANAq"
      },
      "execution_count": 16,
      "outputs": []
    },
    {
      "cell_type": "code",
      "source": [
        "df.dtypes"
      ],
      "metadata": {
        "colab": {
          "base_uri": "https://localhost:8080/"
        },
        "id": "8PpRMP7GBBkZ",
        "outputId": "ee417cd1-7c99-475f-8423-9d7654f0450f"
      },
      "execution_count": 17,
      "outputs": [
        {
          "output_type": "execute_result",
          "data": {
            "text/plain": [
              "ACCOUNT_NO    float64\n",
              "DATE           object\n",
              "SALES_TYPE     object\n",
              "BILL          float64\n",
              "UNIT          float64\n",
              "dtype: object"
            ]
          },
          "metadata": {},
          "execution_count": 17
        }
      ]
    },
    {
      "cell_type": "code",
      "source": [
        "df.describe()"
      ],
      "metadata": {
        "colab": {
          "base_uri": "https://localhost:8080/",
          "height": 300
        },
        "id": "fhtO27OsCmw4",
        "outputId": "a1de6ab3-52c3-4161-8d95-73a8d1506bfe"
      },
      "execution_count": 19,
      "outputs": [
        {
          "output_type": "execute_result",
          "data": {
            "text/plain": [
              "         ACCOUNT_NO          BILL        UNIT       MONTH    YEAR\n",
              "count  9.390000e+02    939.000000  939.000000  939.000000   939.0\n",
              "mean   2.000983e+08   3779.740618  113.331203    8.001065  2022.0\n",
              "std    8.542600e+04   3338.645372   76.273174    2.588518     0.0\n",
              "min    2.000018e+08     -8.850000    0.000000    4.000000  2022.0\n",
              "25%    2.000350e+08    920.910000   51.000000    6.000000  2022.0\n",
              "50%    2.000692e+08   2904.000000  103.000000    8.000000  2022.0\n",
              "75%    2.001593e+08   5755.000000  166.500000   10.000000  2022.0\n",
              "max    2.003006e+08  13938.000000  323.000000   12.000000  2022.0"
            ],
            "text/html": [
              "\n",
              "  <div id=\"df-d42050ea-5418-4555-bf6f-7ee0eb6397d7\">\n",
              "    <div class=\"colab-df-container\">\n",
              "      <div>\n",
              "<style scoped>\n",
              "    .dataframe tbody tr th:only-of-type {\n",
              "        vertical-align: middle;\n",
              "    }\n",
              "\n",
              "    .dataframe tbody tr th {\n",
              "        vertical-align: top;\n",
              "    }\n",
              "\n",
              "    .dataframe thead th {\n",
              "        text-align: right;\n",
              "    }\n",
              "</style>\n",
              "<table border=\"1\" class=\"dataframe\">\n",
              "  <thead>\n",
              "    <tr style=\"text-align: right;\">\n",
              "      <th></th>\n",
              "      <th>ACCOUNT_NO</th>\n",
              "      <th>BILL</th>\n",
              "      <th>UNIT</th>\n",
              "      <th>MONTH</th>\n",
              "      <th>YEAR</th>\n",
              "    </tr>\n",
              "  </thead>\n",
              "  <tbody>\n",
              "    <tr>\n",
              "      <th>count</th>\n",
              "      <td>9.390000e+02</td>\n",
              "      <td>939.000000</td>\n",
              "      <td>939.000000</td>\n",
              "      <td>939.000000</td>\n",
              "      <td>939.0</td>\n",
              "    </tr>\n",
              "    <tr>\n",
              "      <th>mean</th>\n",
              "      <td>2.000983e+08</td>\n",
              "      <td>3779.740618</td>\n",
              "      <td>113.331203</td>\n",
              "      <td>8.001065</td>\n",
              "      <td>2022.0</td>\n",
              "    </tr>\n",
              "    <tr>\n",
              "      <th>std</th>\n",
              "      <td>8.542600e+04</td>\n",
              "      <td>3338.645372</td>\n",
              "      <td>76.273174</td>\n",
              "      <td>2.588518</td>\n",
              "      <td>0.0</td>\n",
              "    </tr>\n",
              "    <tr>\n",
              "      <th>min</th>\n",
              "      <td>2.000018e+08</td>\n",
              "      <td>-8.850000</td>\n",
              "      <td>0.000000</td>\n",
              "      <td>4.000000</td>\n",
              "      <td>2022.0</td>\n",
              "    </tr>\n",
              "    <tr>\n",
              "      <th>25%</th>\n",
              "      <td>2.000350e+08</td>\n",
              "      <td>920.910000</td>\n",
              "      <td>51.000000</td>\n",
              "      <td>6.000000</td>\n",
              "      <td>2022.0</td>\n",
              "    </tr>\n",
              "    <tr>\n",
              "      <th>50%</th>\n",
              "      <td>2.000692e+08</td>\n",
              "      <td>2904.000000</td>\n",
              "      <td>103.000000</td>\n",
              "      <td>8.000000</td>\n",
              "      <td>2022.0</td>\n",
              "    </tr>\n",
              "    <tr>\n",
              "      <th>75%</th>\n",
              "      <td>2.001593e+08</td>\n",
              "      <td>5755.000000</td>\n",
              "      <td>166.500000</td>\n",
              "      <td>10.000000</td>\n",
              "      <td>2022.0</td>\n",
              "    </tr>\n",
              "    <tr>\n",
              "      <th>max</th>\n",
              "      <td>2.003006e+08</td>\n",
              "      <td>13938.000000</td>\n",
              "      <td>323.000000</td>\n",
              "      <td>12.000000</td>\n",
              "      <td>2022.0</td>\n",
              "    </tr>\n",
              "  </tbody>\n",
              "</table>\n",
              "</div>\n",
              "      <button class=\"colab-df-convert\" onclick=\"convertToInteractive('df-d42050ea-5418-4555-bf6f-7ee0eb6397d7')\"\n",
              "              title=\"Convert this dataframe to an interactive table.\"\n",
              "              style=\"display:none;\">\n",
              "        \n",
              "  <svg xmlns=\"http://www.w3.org/2000/svg\" height=\"24px\"viewBox=\"0 0 24 24\"\n",
              "       width=\"24px\">\n",
              "    <path d=\"M0 0h24v24H0V0z\" fill=\"none\"/>\n",
              "    <path d=\"M18.56 5.44l.94 2.06.94-2.06 2.06-.94-2.06-.94-.94-2.06-.94 2.06-2.06.94zm-11 1L8.5 8.5l.94-2.06 2.06-.94-2.06-.94L8.5 2.5l-.94 2.06-2.06.94zm10 10l.94 2.06.94-2.06 2.06-.94-2.06-.94-.94-2.06-.94 2.06-2.06.94z\"/><path d=\"M17.41 7.96l-1.37-1.37c-.4-.4-.92-.59-1.43-.59-.52 0-1.04.2-1.43.59L10.3 9.45l-7.72 7.72c-.78.78-.78 2.05 0 2.83L4 21.41c.39.39.9.59 1.41.59.51 0 1.02-.2 1.41-.59l7.78-7.78 2.81-2.81c.8-.78.8-2.07 0-2.86zM5.41 20L4 18.59l7.72-7.72 1.47 1.35L5.41 20z\"/>\n",
              "  </svg>\n",
              "      </button>\n",
              "      \n",
              "  <style>\n",
              "    .colab-df-container {\n",
              "      display:flex;\n",
              "      flex-wrap:wrap;\n",
              "      gap: 12px;\n",
              "    }\n",
              "\n",
              "    .colab-df-convert {\n",
              "      background-color: #E8F0FE;\n",
              "      border: none;\n",
              "      border-radius: 50%;\n",
              "      cursor: pointer;\n",
              "      display: none;\n",
              "      fill: #1967D2;\n",
              "      height: 32px;\n",
              "      padding: 0 0 0 0;\n",
              "      width: 32px;\n",
              "    }\n",
              "\n",
              "    .colab-df-convert:hover {\n",
              "      background-color: #E2EBFA;\n",
              "      box-shadow: 0px 1px 2px rgba(60, 64, 67, 0.3), 0px 1px 3px 1px rgba(60, 64, 67, 0.15);\n",
              "      fill: #174EA6;\n",
              "    }\n",
              "\n",
              "    [theme=dark] .colab-df-convert {\n",
              "      background-color: #3B4455;\n",
              "      fill: #D2E3FC;\n",
              "    }\n",
              "\n",
              "    [theme=dark] .colab-df-convert:hover {\n",
              "      background-color: #434B5C;\n",
              "      box-shadow: 0px 1px 3px 1px rgba(0, 0, 0, 0.15);\n",
              "      filter: drop-shadow(0px 1px 2px rgba(0, 0, 0, 0.3));\n",
              "      fill: #FFFFFF;\n",
              "    }\n",
              "  </style>\n",
              "\n",
              "      <script>\n",
              "        const buttonEl =\n",
              "          document.querySelector('#df-d42050ea-5418-4555-bf6f-7ee0eb6397d7 button.colab-df-convert');\n",
              "        buttonEl.style.display =\n",
              "          google.colab.kernel.accessAllowed ? 'block' : 'none';\n",
              "\n",
              "        async function convertToInteractive(key) {\n",
              "          const element = document.querySelector('#df-d42050ea-5418-4555-bf6f-7ee0eb6397d7');\n",
              "          const dataTable =\n",
              "            await google.colab.kernel.invokeFunction('convertToInteractive',\n",
              "                                                     [key], {});\n",
              "          if (!dataTable) return;\n",
              "\n",
              "          const docLinkHtml = 'Like what you see? Visit the ' +\n",
              "            '<a target=\"_blank\" href=https://colab.research.google.com/notebooks/data_table.ipynb>data table notebook</a>'\n",
              "            + ' to learn more about interactive tables.';\n",
              "          element.innerHTML = '';\n",
              "          dataTable['output_type'] = 'display_data';\n",
              "          await google.colab.output.renderOutput(dataTable, element);\n",
              "          const docLink = document.createElement('div');\n",
              "          docLink.innerHTML = docLinkHtml;\n",
              "          element.appendChild(docLink);\n",
              "        }\n",
              "      </script>\n",
              "    </div>\n",
              "  </div>\n",
              "  "
            ]
          },
          "metadata": {},
          "execution_count": 19
        }
      ]
    },
    {
      "cell_type": "code",
      "source": [
        "df[\"DATE\"] = pd.to_datetime(df[\"DATE\"])\n",
        "df[\"MONTH\"] = df[\"DATE\"].dt.month\n",
        "df[\"YEAR\"] = df[\"DATE\"].dt.year\n",
        "df = df.sort_values(\"DATE\").drop(\"DATE\", axis=1)\n"
      ],
      "metadata": {
        "id": "U4RAZE0gBWOJ"
      },
      "execution_count": 18,
      "outputs": []
    },
    {
      "cell_type": "code",
      "source": [
        "# Extract the values for the \"SALES_TYPE\" column\n",
        "Sales_type_data= df['SALES_TYPE'].values\n",
        "# Create a LabelEncoder object\n",
        "encoder = LabelEncoder()\n",
        "\n",
        "# Fit the encoder to the sales type data\n",
        "encoder.fit(Sales_type_data)\n",
        "\n",
        "# Encode the location data\n",
        "encoded_sales_type = encoder.transform(Sales_type_data)\n",
        "df['SALES_TYPE'] =encoded_sales_type"
      ],
      "metadata": {
        "id": "rwlXrP31ISHc"
      },
      "execution_count": 20,
      "outputs": []
    },
    {
      "cell_type": "code",
      "source": [
        "    # Scaling the input data\n",
        "    sc = MinMaxScaler()\n",
        "    label_sc = MinMaxScaler()\n",
        "    data = sc.fit_transform(df.values)"
      ],
      "metadata": {
        "id": "9_Cf2DTQJIvk"
      },
      "execution_count": 21,
      "outputs": []
    },
    {
      "cell_type": "code",
      "source": [
        "df.head()"
      ],
      "metadata": {
        "colab": {
          "base_uri": "https://localhost:8080/",
          "height": 206
        },
        "id": "RrWJSn71G5EN",
        "outputId": "5c9ec3d4-8ede-40e4-fd7f-e27ef92d5990"
      },
      "execution_count": 22,
      "outputs": [
        {
          "output_type": "execute_result",
          "data": {
            "text/plain": [
              "     ACCOUNT_NO  SALES_TYPE     BILL  UNIT  MONTH  YEAR\n",
              "0   200005806.0           0  2289.04  73.0      4  2022\n",
              "80  200041908.0           0   485.29  44.0      4  2022\n",
              "79  200181410.0           0  1268.97  34.0      4  2022\n",
              "78  200298307.0           0   330.00  34.0      4  2022\n",
              "77  200197701.0           0  1845.00  49.0      4  2022"
            ],
            "text/html": [
              "\n",
              "  <div id=\"df-e660d38b-b435-4328-bbc0-439381f7f84f\">\n",
              "    <div class=\"colab-df-container\">\n",
              "      <div>\n",
              "<style scoped>\n",
              "    .dataframe tbody tr th:only-of-type {\n",
              "        vertical-align: middle;\n",
              "    }\n",
              "\n",
              "    .dataframe tbody tr th {\n",
              "        vertical-align: top;\n",
              "    }\n",
              "\n",
              "    .dataframe thead th {\n",
              "        text-align: right;\n",
              "    }\n",
              "</style>\n",
              "<table border=\"1\" class=\"dataframe\">\n",
              "  <thead>\n",
              "    <tr style=\"text-align: right;\">\n",
              "      <th></th>\n",
              "      <th>ACCOUNT_NO</th>\n",
              "      <th>SALES_TYPE</th>\n",
              "      <th>BILL</th>\n",
              "      <th>UNIT</th>\n",
              "      <th>MONTH</th>\n",
              "      <th>YEAR</th>\n",
              "    </tr>\n",
              "  </thead>\n",
              "  <tbody>\n",
              "    <tr>\n",
              "      <th>0</th>\n",
              "      <td>200005806.0</td>\n",
              "      <td>0</td>\n",
              "      <td>2289.04</td>\n",
              "      <td>73.0</td>\n",
              "      <td>4</td>\n",
              "      <td>2022</td>\n",
              "    </tr>\n",
              "    <tr>\n",
              "      <th>80</th>\n",
              "      <td>200041908.0</td>\n",
              "      <td>0</td>\n",
              "      <td>485.29</td>\n",
              "      <td>44.0</td>\n",
              "      <td>4</td>\n",
              "      <td>2022</td>\n",
              "    </tr>\n",
              "    <tr>\n",
              "      <th>79</th>\n",
              "      <td>200181410.0</td>\n",
              "      <td>0</td>\n",
              "      <td>1268.97</td>\n",
              "      <td>34.0</td>\n",
              "      <td>4</td>\n",
              "      <td>2022</td>\n",
              "    </tr>\n",
              "    <tr>\n",
              "      <th>78</th>\n",
              "      <td>200298307.0</td>\n",
              "      <td>0</td>\n",
              "      <td>330.00</td>\n",
              "      <td>34.0</td>\n",
              "      <td>4</td>\n",
              "      <td>2022</td>\n",
              "    </tr>\n",
              "    <tr>\n",
              "      <th>77</th>\n",
              "      <td>200197701.0</td>\n",
              "      <td>0</td>\n",
              "      <td>1845.00</td>\n",
              "      <td>49.0</td>\n",
              "      <td>4</td>\n",
              "      <td>2022</td>\n",
              "    </tr>\n",
              "  </tbody>\n",
              "</table>\n",
              "</div>\n",
              "      <button class=\"colab-df-convert\" onclick=\"convertToInteractive('df-e660d38b-b435-4328-bbc0-439381f7f84f')\"\n",
              "              title=\"Convert this dataframe to an interactive table.\"\n",
              "              style=\"display:none;\">\n",
              "        \n",
              "  <svg xmlns=\"http://www.w3.org/2000/svg\" height=\"24px\"viewBox=\"0 0 24 24\"\n",
              "       width=\"24px\">\n",
              "    <path d=\"M0 0h24v24H0V0z\" fill=\"none\"/>\n",
              "    <path d=\"M18.56 5.44l.94 2.06.94-2.06 2.06-.94-2.06-.94-.94-2.06-.94 2.06-2.06.94zm-11 1L8.5 8.5l.94-2.06 2.06-.94-2.06-.94L8.5 2.5l-.94 2.06-2.06.94zm10 10l.94 2.06.94-2.06 2.06-.94-2.06-.94-.94-2.06-.94 2.06-2.06.94z\"/><path d=\"M17.41 7.96l-1.37-1.37c-.4-.4-.92-.59-1.43-.59-.52 0-1.04.2-1.43.59L10.3 9.45l-7.72 7.72c-.78.78-.78 2.05 0 2.83L4 21.41c.39.39.9.59 1.41.59.51 0 1.02-.2 1.41-.59l7.78-7.78 2.81-2.81c.8-.78.8-2.07 0-2.86zM5.41 20L4 18.59l7.72-7.72 1.47 1.35L5.41 20z\"/>\n",
              "  </svg>\n",
              "      </button>\n",
              "      \n",
              "  <style>\n",
              "    .colab-df-container {\n",
              "      display:flex;\n",
              "      flex-wrap:wrap;\n",
              "      gap: 12px;\n",
              "    }\n",
              "\n",
              "    .colab-df-convert {\n",
              "      background-color: #E8F0FE;\n",
              "      border: none;\n",
              "      border-radius: 50%;\n",
              "      cursor: pointer;\n",
              "      display: none;\n",
              "      fill: #1967D2;\n",
              "      height: 32px;\n",
              "      padding: 0 0 0 0;\n",
              "      width: 32px;\n",
              "    }\n",
              "\n",
              "    .colab-df-convert:hover {\n",
              "      background-color: #E2EBFA;\n",
              "      box-shadow: 0px 1px 2px rgba(60, 64, 67, 0.3), 0px 1px 3px 1px rgba(60, 64, 67, 0.15);\n",
              "      fill: #174EA6;\n",
              "    }\n",
              "\n",
              "    [theme=dark] .colab-df-convert {\n",
              "      background-color: #3B4455;\n",
              "      fill: #D2E3FC;\n",
              "    }\n",
              "\n",
              "    [theme=dark] .colab-df-convert:hover {\n",
              "      background-color: #434B5C;\n",
              "      box-shadow: 0px 1px 3px 1px rgba(0, 0, 0, 0.15);\n",
              "      filter: drop-shadow(0px 1px 2px rgba(0, 0, 0, 0.3));\n",
              "      fill: #FFFFFF;\n",
              "    }\n",
              "  </style>\n",
              "\n",
              "      <script>\n",
              "        const buttonEl =\n",
              "          document.querySelector('#df-e660d38b-b435-4328-bbc0-439381f7f84f button.colab-df-convert');\n",
              "        buttonEl.style.display =\n",
              "          google.colab.kernel.accessAllowed ? 'block' : 'none';\n",
              "\n",
              "        async function convertToInteractive(key) {\n",
              "          const element = document.querySelector('#df-e660d38b-b435-4328-bbc0-439381f7f84f');\n",
              "          const dataTable =\n",
              "            await google.colab.kernel.invokeFunction('convertToInteractive',\n",
              "                                                     [key], {});\n",
              "          if (!dataTable) return;\n",
              "\n",
              "          const docLinkHtml = 'Like what you see? Visit the ' +\n",
              "            '<a target=\"_blank\" href=https://colab.research.google.com/notebooks/data_table.ipynb>data table notebook</a>'\n",
              "            + ' to learn more about interactive tables.';\n",
              "          element.innerHTML = '';\n",
              "          dataTable['output_type'] = 'display_data';\n",
              "          await google.colab.output.renderOutput(dataTable, element);\n",
              "          const docLink = document.createElement('div');\n",
              "          docLink.innerHTML = docLinkHtml;\n",
              "          element.appendChild(docLink);\n",
              "        }\n",
              "      </script>\n",
              "    </div>\n",
              "  </div>\n",
              "  "
            ]
          },
          "metadata": {},
          "execution_count": 22
        }
      ]
    },
    {
      "cell_type": "code",
      "source": [
        "def move_sliding_window(data, window_size, inputs_cols_indices, label_col_index):\n",
        "    \"\"\"\n",
        "    data: numpy array including data\n",
        "    window_size: size of window\n",
        "    inputs_cols_indices: col indices to include\n",
        "    \"\"\"\n",
        "\n",
        "    # (# instances created by movement, seq_len (timestamps), # features (input_len))\n",
        "    inputs = np.zeros((len(data) - window_size, window_size, len(inputs_cols_indices)))\n",
        "    labels = np.zeros(len(data) - window_size)\n",
        "\n",
        "    for i in range(window_size, len(data)):\n",
        "        inputs[i - window_size] = data[i - window_size : i, inputs_cols_indices]\n",
        "        labels[i - window_size] = data[i, label_col_index]\n",
        "    inputs = inputs.reshape(-1, window_size, len(inputs_cols_indices))\n",
        "    labels = labels.reshape(-1, 1)\n",
        "    print(inputs.shape, labels.shape)\n",
        "\n",
        "    return inputs, labels"
      ],
      "metadata": {
        "id": "rhp7IHK2WlTl"
      },
      "execution_count": 23,
      "outputs": []
    },
    {
      "cell_type": "code",
      "source": [
        "label_col_index = 3  # UNITS as label to predict\n",
        "inputs_cols_indices = 2,3  # use (\"ACCOUNT_NO\",\"DATE\",\"SALES_TYPE\",\"BILL\",\"UNIT\") columns as features\n",
        "\n",
        "# Define window_size period and split inputs/labels\n",
        "window_size = 109\n",
        "\n",
        "# The scaler objects will be stored in this dictionary so that our output test data from the model can be re-scaled during evaluation\n",
        "label_scalers = {}\n",
        "\n",
        "train_x = []\n",
        "test_x = {}\n",
        "test_y = {}"
      ],
      "metadata": {
        "id": "7XZAeR1LXtv8"
      },
      "execution_count": 24,
      "outputs": []
    },
    {
      "cell_type": "code",
      "source": [
        "    # Obtaining the scaler for the labels(usage data) so that output can be\n",
        "    # re-scaled to actual value during evaluation\n",
        "    label_sc.fit(df.iloc[:, label_col_index].values.reshape(-1, 1))\n",
        "    label_scalers[file] = label_sc\n"
      ],
      "metadata": {
        "id": "pnLfGbCTXgSk"
      },
      "execution_count": 25,
      "outputs": []
    },
    {
      "cell_type": "code",
      "source": [
        "   # Move the window\n",
        "inputs, labels = move_sliding_window(data,window_size,inputs_cols_indices=inputs_cols_indices,label_col_index=label_col_index, )\n",
        "\n",
        "    # CONCAT created instances from all .csv files.\n",
        "    # Split data into train/test portions and combining all data from different files into a single array\n",
        "test_portion = int(0.1 * len(inputs))\n",
        "if len(train_x) == 0:  # first iteration\n",
        "    train_x = inputs[:-test_portion]\n",
        "    train_y = labels[:-test_portion]\n",
        "else:\n",
        "    train_x = np.concatenate((train_x, inputs[:-test_portion]))\n",
        "    train_y = np.concatenate((train_y, labels[:-test_portion]))\n",
        "test_x[file] = inputs[-test_portion:]\n",
        "test_y[file] = labels[-test_portion:]"
      ],
      "metadata": {
        "id": "A97ockuUaRuK",
        "outputId": "438c88ff-b24f-4a91-c1de-657fb447d26c",
        "colab": {
          "base_uri": "https://localhost:8080/"
        }
      },
      "execution_count": 26,
      "outputs": [
        {
          "output_type": "stream",
          "name": "stdout",
          "text": [
            "(830, 109, 2) (830, 1)\n"
          ]
        }
      ]
    },
    {
      "cell_type": "code",
      "source": [
        "batch_size =16\n",
        "\n",
        "train_data = TensorDataset(torch.from_numpy(train_x), torch.from_numpy(train_y))\n",
        "\n",
        "# Drop the last incomplete batch\n",
        "train_loader = DataLoader(\n",
        "    train_data, shuffle=True, batch_size=batch_size, drop_last=True\n",
        ")"
      ],
      "metadata": {
        "id": "mtVvIBLtg1I9"
      },
      "execution_count": 27,
      "outputs": []
    },
    {
      "cell_type": "code",
      "source": [
        "print(\n",
        "    f\"Train Size: {train_x.shape}, Batch Size: {batch_size}, # of iterations per epoch: {int(train_x.shape[0]/batch_size)}\"\n",
        ")"
      ],
      "metadata": {
        "id": "2hkCAm2XhBos",
        "outputId": "384f61e8-52a6-4549-b836-7fce11ee6d65",
        "colab": {
          "base_uri": "https://localhost:8080/"
        }
      },
      "execution_count": 28,
      "outputs": [
        {
          "output_type": "stream",
          "name": "stdout",
          "text": [
            "Train Size: (747, 109, 2), Batch Size: 16, # of iterations per epoch: 46\n"
          ]
        }
      ]
    },
    {
      "cell_type": "code",
      "source": [
        "# release some memory\n",
        "del train_x, train_y"
      ],
      "metadata": {
        "id": "NUs6UrYPhsjM"
      },
      "execution_count": 29,
      "outputs": []
    },
    {
      "cell_type": "code",
      "source": [
        "# torch.cuda.is_available() checks and returns a Boolean True if a GPU is available, else it'll return False\n",
        "is_cuda = torch.cuda.is_available()\n",
        "\n",
        "# If we have a GPU available, we'll set our device to GPU. We'll use this device variable later in our code.\n",
        "if is_cuda:\n",
        "    device = torch.device(\"cuda\")\n",
        "    print(\"GPU is available\")\n",
        "else:\n",
        "    device = torch.device(\"cpu\")"
      ],
      "metadata": {
        "id": "FquiO0q6hvSM",
        "outputId": "24997a99-81fd-4bb1-bd63-e7a28803e2b8",
        "colab": {
          "base_uri": "https://localhost:8080/"
        }
      },
      "execution_count": 30,
      "outputs": [
        {
          "output_type": "stream",
          "name": "stdout",
          "text": [
            "GPU is available\n"
          ]
        }
      ]
    },
    {
      "cell_type": "code",
      "source": [
        "class LSTMNet(nn.Module):\n",
        "    def __init__(self, input_dim, hidden_dim, output_dim, n_layers, drop_prob=0.2):\n",
        "        super(LSTMNet, self).__init__()\n",
        "        self.hidden_dim = hidden_dim\n",
        "        self.n_layers = n_layers\n",
        "\n",
        "        self.lstm = nn.LSTM(\n",
        "            input_dim, hidden_dim, n_layers, batch_first=True, dropout=drop_prob\n",
        "        )\n",
        "        self.fc = nn.Linear(hidden_dim, output_dim)\n",
        "        self.relu = nn.ReLU()\n",
        "\n",
        "    def forward(self, x, h):\n",
        "        out, h = self.lstm(x, h)\n",
        "        out = self.fc(self.relu(out[:, -1]))\n",
        "        return out, h\n",
        "\n",
        "    def init_hidden(self, batch_size):\n",
        "        weight = next(self.parameters()).data\n",
        "        # Initialze h_0, c_0 with zeros\n",
        "        hidden = (\n",
        "            weight.new(self.n_layers, batch_size, self.hidden_dim)\n",
        "            .zero_()\n",
        "            .to(device),  # h_0\n",
        "            weight.new(self.n_layers, batch_size, self.hidden_dim).zero_().to(device),\n",
        "        )\n",
        "        return hidden"
      ],
      "metadata": {
        "id": "OVg2P66jh3Hj"
      },
      "execution_count": 31,
      "outputs": []
    },
    {
      "cell_type": "code",
      "source": [
        "def train(\n",
        "    train_loader,\n",
        "    learn_rate,\n",
        "    hidden_dim=256,\n",
        "    n_layers=2,\n",
        "    n_epochs=3,\n",
        "    model_type=\"GRU\",\n",
        "    print_every=100,\n",
        "):\n",
        "\n",
        "    input_dim = next(iter(train_loader))[0].shape[2]  # 5\n",
        "\n",
        "    # Batch generator (train_data, train_label)\n",
        "    # print(next(iter(train_loader))[0].shape, next(iter(train_loader))[1].shape) # torch.Size([1024, 90, 5]) torch.Size([1024, 1])\n",
        "\n",
        "    output_dim = 1\n",
        "\n",
        "    # Instantiating the models\n",
        "    if model_type == \"GRU\":\n",
        "        model = GRUNet(input_dim, hidden_dim, output_dim, n_layers)\n",
        "    else:\n",
        "        model = LSTMNet(input_dim, hidden_dim, output_dim, n_layers)\n",
        "    model.to(device)\n",
        "\n",
        "    # Defining loss function and optimizer\n",
        "    criterion = nn.MSELoss()  # Mean Squared Error\n",
        "    optimizer = torch.optim.Adam(model.parameters(), lr=learn_rate)\n",
        "\n",
        "    model.train()\n",
        "    print(\"Starting Training of {} model\".format(model_type))\n",
        "    epoch_times = []\n",
        "\n",
        "    # Start training loop\n",
        "    for epoch in range(1, n_epochs + 1):\n",
        "        start_time = time.process_time()\n",
        "        h = model.init_hidden(batch_size)\n",
        "        avg_loss = 0.0\n",
        "        counter = 0\n",
        "        for x, label in train_loader:\n",
        "            counter += 1\n",
        "            if model_type == \"GRU\":\n",
        "                h = h.data\n",
        "            # Unpcak both h_0 and c_0\n",
        "            elif model_type == \"LSTM\":\n",
        "                h = tuple([e.data for e in h])\n",
        "\n",
        "            # Set the gradients to zero before starting to do backpropragation because\n",
        "            # PyTorch accumulates the gradients on subsequent backward passes\n",
        "            model.zero_grad()\n",
        "\n",
        "            out, h = model(x.to(device).float(), h)\n",
        "            loss = criterion(out, label.to(device).float())\n",
        "\n",
        "            # Perform backpropragation\n",
        "            loss.backward()\n",
        "            optimizer.step()\n",
        "\n",
        "            avg_loss += loss.item()\n",
        "            if counter % print_every == 0:\n",
        "                print(\n",
        "                    f\"Epoch {epoch} - Step: {counter}/{len(train_loader)} - Average Loss for Epoch: {avg_loss/counter}\"\n",
        "                )\n",
        "        current_time = time.process_time()\n",
        "\n",
        "        print(\n",
        "            f\"Epoch {epoch}/{n_epochs} Done, Total Loss: {avg_loss/len(train_loader)}\"\n",
        "        )\n",
        "\n",
        "        print(f\"Time Elapsed for Epoch: {current_time-start_time} seconds\")\n",
        "\n",
        "        epoch_times.append(current_time - start_time)\n",
        "\n",
        "    print(f\"Total Training Time: {sum(epoch_times)} seconds\")\n",
        "    return model"
      ],
      "metadata": {
        "id": "h73E9QHcjM4r"
      },
      "execution_count": 32,
      "outputs": []
    },
    {
      "cell_type": "code",
      "source": [
        "n_hidden = 356\n",
        "n_layers = 4\n",
        "n_epochs = 100\n",
        "print_every = 50\n",
        "lr = 0.001\n",
        "lstm_model = train(\n",
        "    train_loader,\n",
        "    learn_rate=lr,\n",
        "    hidden_dim=n_hidden,\n",
        "    n_layers=n_layers,\n",
        "    n_epochs=n_epochs,\n",
        "    model_type=\"LSTM\",\n",
        "    print_every=print_every,\n",
        "    \n",
        ")"
      ],
      "metadata": {
        "id": "hK6qkFUVjT0b",
        "colab": {
          "base_uri": "https://localhost:8080/"
        },
        "outputId": "9d3d069e-7961-4073-d7b4-fa6314fd202a"
      },
      "execution_count": 45,
      "outputs": [
        {
          "output_type": "stream",
          "name": "stdout",
          "text": [
            "Starting Training of LSTM model\n",
            "Epoch 1/100 Done, Total Loss: 0.056616451631745564\n",
            "Time Elapsed for Epoch: 1.3192363090000043 seconds\n",
            "Epoch 2/100 Done, Total Loss: 0.0325056631522982\n",
            "Time Elapsed for Epoch: 1.2514932610000074 seconds\n",
            "Epoch 3/100 Done, Total Loss: 0.036123810194270765\n",
            "Time Elapsed for Epoch: 1.252472150999992 seconds\n",
            "Epoch 4/100 Done, Total Loss: 0.034162493604842734\n",
            "Time Elapsed for Epoch: 1.2607154979999962 seconds\n",
            "Epoch 5/100 Done, Total Loss: 0.028935830493498106\n",
            "Time Elapsed for Epoch: 1.2735212930000017 seconds\n",
            "Epoch 6/100 Done, Total Loss: 0.02843477009066745\n",
            "Time Elapsed for Epoch: 1.291007362000002 seconds\n",
            "Epoch 7/100 Done, Total Loss: 0.028788365302202495\n",
            "Time Elapsed for Epoch: 1.275926878000007 seconds\n",
            "Epoch 8/100 Done, Total Loss: 0.02932207893236014\n",
            "Time Elapsed for Epoch: 1.2695697999999993 seconds\n",
            "Epoch 9/100 Done, Total Loss: 0.028310253467086866\n",
            "Time Elapsed for Epoch: 1.2684483719999946 seconds\n",
            "Epoch 10/100 Done, Total Loss: 0.02804526010447222\n",
            "Time Elapsed for Epoch: 1.2777092710000062 seconds\n",
            "Epoch 11/100 Done, Total Loss: 0.02822123076159345\n",
            "Time Elapsed for Epoch: 1.28386283399999 seconds\n",
            "Epoch 12/100 Done, Total Loss: 0.029350535584735157\n",
            "Time Elapsed for Epoch: 1.280093506 seconds\n",
            "Epoch 13/100 Done, Total Loss: 0.02657536411172022\n",
            "Time Elapsed for Epoch: 1.2848744310000058 seconds\n",
            "Epoch 14/100 Done, Total Loss: 0.027364036746566064\n",
            "Time Elapsed for Epoch: 1.2929325589999934 seconds\n",
            "Epoch 15/100 Done, Total Loss: 0.02670241222190468\n",
            "Time Elapsed for Epoch: 1.3267706180000118 seconds\n",
            "Epoch 16/100 Done, Total Loss: 0.027840131063662146\n",
            "Time Elapsed for Epoch: 1.318570782000009 seconds\n",
            "Epoch 17/100 Done, Total Loss: 0.02581135909396993\n",
            "Time Elapsed for Epoch: 1.305775295999993 seconds\n",
            "Epoch 18/100 Done, Total Loss: 0.02852069657376927\n",
            "Time Elapsed for Epoch: 1.3023094269999973 seconds\n",
            "Epoch 19/100 Done, Total Loss: 0.026745570904534798\n",
            "Time Elapsed for Epoch: 1.3071641949999986 seconds\n",
            "Epoch 20/100 Done, Total Loss: 0.02590521641642503\n",
            "Time Elapsed for Epoch: 1.3057354510000039 seconds\n",
            "Epoch 21/100 Done, Total Loss: 0.02616208154991593\n",
            "Time Elapsed for Epoch: 1.309837379000001 seconds\n",
            "Epoch 22/100 Done, Total Loss: 0.02436056518522294\n",
            "Time Elapsed for Epoch: 1.3140309040000062 seconds\n",
            "Epoch 23/100 Done, Total Loss: 0.02513223297327109\n",
            "Time Elapsed for Epoch: 1.3157740750000073 seconds\n",
            "Epoch 24/100 Done, Total Loss: 0.02498299696320749\n",
            "Time Elapsed for Epoch: 1.3258947640000116 seconds\n",
            "Epoch 25/100 Done, Total Loss: 0.024724221363177767\n",
            "Time Elapsed for Epoch: 1.3407042410000116 seconds\n",
            "Epoch 26/100 Done, Total Loss: 0.0249902772028809\n",
            "Time Elapsed for Epoch: 1.3359827719999942 seconds\n",
            "Epoch 27/100 Done, Total Loss: 0.025052939450530255\n",
            "Time Elapsed for Epoch: 1.3273506980000036 seconds\n",
            "Epoch 28/100 Done, Total Loss: 0.022756777415254517\n",
            "Time Elapsed for Epoch: 1.3325145490000097 seconds\n",
            "Epoch 29/100 Done, Total Loss: 0.023470768664518128\n",
            "Time Elapsed for Epoch: 1.3273826450000001 seconds\n",
            "Epoch 30/100 Done, Total Loss: 0.024792093479924875\n",
            "Time Elapsed for Epoch: 1.3237624050000107 seconds\n",
            "Epoch 31/100 Done, Total Loss: 0.024217806260465928\n",
            "Time Elapsed for Epoch: 1.3227034890000198 seconds\n",
            "Epoch 32/100 Done, Total Loss: 0.023298960411921144\n",
            "Time Elapsed for Epoch: 1.3183728230000042 seconds\n",
            "Epoch 33/100 Done, Total Loss: 0.022993244797639225\n",
            "Time Elapsed for Epoch: 1.3190120879999938 seconds\n",
            "Epoch 34/100 Done, Total Loss: 0.02247500165021452\n",
            "Time Elapsed for Epoch: 1.3524198799999851 seconds\n",
            "Epoch 35/100 Done, Total Loss: 0.02140553501110686\n",
            "Time Elapsed for Epoch: 1.3555856200000278 seconds\n",
            "Epoch 36/100 Done, Total Loss: 0.021483650512021522\n",
            "Time Elapsed for Epoch: 1.3098925859999895 seconds\n",
            "Epoch 37/100 Done, Total Loss: 0.020314875499183392\n",
            "Time Elapsed for Epoch: 1.3038884340000152 seconds\n",
            "Epoch 38/100 Done, Total Loss: 0.022094093708564407\n",
            "Time Elapsed for Epoch: 1.3073905340000067 seconds\n",
            "Epoch 39/100 Done, Total Loss: 0.023351858415559906\n",
            "Time Elapsed for Epoch: 1.3084601860000191 seconds\n",
            "Epoch 40/100 Done, Total Loss: 0.022636126028373837\n",
            "Time Elapsed for Epoch: 1.2958121519999963 seconds\n",
            "Epoch 41/100 Done, Total Loss: 0.021487203679735892\n",
            "Time Elapsed for Epoch: 1.323002080000009 seconds\n",
            "Epoch 42/100 Done, Total Loss: 0.020061089626877852\n",
            "Time Elapsed for Epoch: 1.3418097750000015 seconds\n",
            "Epoch 43/100 Done, Total Loss: 0.0190632249046441\n",
            "Time Elapsed for Epoch: 1.296635307999992 seconds\n",
            "Epoch 44/100 Done, Total Loss: 0.017492757755858096\n",
            "Time Elapsed for Epoch: 1.3222393929999896 seconds\n",
            "Epoch 45/100 Done, Total Loss: 0.018070873358975285\n",
            "Time Elapsed for Epoch: 1.2956208499999775 seconds\n",
            "Epoch 46/100 Done, Total Loss: 0.01749492711994959\n",
            "Time Elapsed for Epoch: 1.2856440300000145 seconds\n",
            "Epoch 47/100 Done, Total Loss: 0.016797017943842904\n",
            "Time Elapsed for Epoch: 1.2828434509999909 seconds\n",
            "Epoch 48/100 Done, Total Loss: 0.016397003777851554\n",
            "Time Elapsed for Epoch: 1.2831048379999856 seconds\n",
            "Epoch 49/100 Done, Total Loss: 0.016063014445219025\n",
            "Time Elapsed for Epoch: 1.2874218940000048 seconds\n",
            "Epoch 50/100 Done, Total Loss: 0.014565908228573591\n",
            "Time Elapsed for Epoch: 1.2824900949999858 seconds\n",
            "Epoch 51/100 Done, Total Loss: 0.015319768713949166\n",
            "Time Elapsed for Epoch: 1.2834957900000177 seconds\n",
            "Epoch 52/100 Done, Total Loss: 0.016194040459358013\n",
            "Time Elapsed for Epoch: 1.2796071920000145 seconds\n",
            "Epoch 53/100 Done, Total Loss: 0.01524952837549474\n",
            "Time Elapsed for Epoch: 1.3238949520000176 seconds\n",
            "Epoch 54/100 Done, Total Loss: 0.015805489727822336\n",
            "Time Elapsed for Epoch: 1.31560598599998 seconds\n",
            "Epoch 55/100 Done, Total Loss: 0.01698486274614444\n",
            "Time Elapsed for Epoch: 1.279183082000003 seconds\n",
            "Epoch 56/100 Done, Total Loss: 0.013376381966973777\n",
            "Time Elapsed for Epoch: 1.2841159900000036 seconds\n",
            "Epoch 57/100 Done, Total Loss: 0.013287080330369265\n",
            "Time Elapsed for Epoch: 1.2766509739999776 seconds\n",
            "Epoch 58/100 Done, Total Loss: 0.012515946473602367\n",
            "Time Elapsed for Epoch: 1.27857559200001 seconds\n",
            "Epoch 59/100 Done, Total Loss: 0.012613050330875685\n",
            "Time Elapsed for Epoch: 1.2845209439999792 seconds\n",
            "Epoch 60/100 Done, Total Loss: 0.011178050984871452\n",
            "Time Elapsed for Epoch: 1.286556662999999 seconds\n",
            "Epoch 61/100 Done, Total Loss: 0.011242109765906049\n",
            "Time Elapsed for Epoch: 1.2713262260000135 seconds\n",
            "Epoch 62/100 Done, Total Loss: 0.011448933499986711\n",
            "Time Elapsed for Epoch: 1.2837881209999864 seconds\n",
            "Epoch 63/100 Done, Total Loss: 0.01126512869656005\n",
            "Time Elapsed for Epoch: 1.3258931590000032 seconds\n",
            "Epoch 64/100 Done, Total Loss: 0.009903770021122435\n",
            "Time Elapsed for Epoch: 1.3154111039999918 seconds\n",
            "Epoch 65/100 Done, Total Loss: 0.00982526820861613\n",
            "Time Elapsed for Epoch: 1.2739639280000006 seconds\n",
            "Epoch 66/100 Done, Total Loss: 0.009962724534410012\n",
            "Time Elapsed for Epoch: 1.2770836249999888 seconds\n",
            "Epoch 67/100 Done, Total Loss: 0.0097891230126033\n",
            "Time Elapsed for Epoch: 1.282177095999998 seconds\n",
            "Epoch 68/100 Done, Total Loss: 0.008993611853245808\n",
            "Time Elapsed for Epoch: 1.2828056590000187 seconds\n",
            "Epoch 69/100 Done, Total Loss: 0.008842902192238556\n",
            "Time Elapsed for Epoch: 1.2869584419999853 seconds\n",
            "Epoch 70/100 Done, Total Loss: 0.00937006922195787\n",
            "Time Elapsed for Epoch: 1.2755577799999855 seconds\n",
            "Epoch 71/100 Done, Total Loss: 0.008341179229319096\n",
            "Time Elapsed for Epoch: 1.2914893660000075 seconds\n",
            "Epoch 72/100 Done, Total Loss: 0.009617190152588908\n",
            "Time Elapsed for Epoch: 1.2935785759999874 seconds\n",
            "Epoch 73/100 Done, Total Loss: 0.009618435085386685\n",
            "Time Elapsed for Epoch: 1.3174857369999984 seconds\n",
            "Epoch 74/100 Done, Total Loss: 0.007735080126187076\n",
            "Time Elapsed for Epoch: 1.3098950119999984 seconds\n",
            "Epoch 75/100 Done, Total Loss: 0.00809894048396255\n",
            "Time Elapsed for Epoch: 1.288123932000019 seconds\n",
            "Epoch 76/100 Done, Total Loss: 0.007546548913840366\n",
            "Time Elapsed for Epoch: 1.2884191929999815 seconds\n",
            "Epoch 77/100 Done, Total Loss: 0.008338297924796201\n",
            "Time Elapsed for Epoch: 1.2920433099999968 seconds\n",
            "Epoch 78/100 Done, Total Loss: 0.008057513383075433\n",
            "Time Elapsed for Epoch: 1.2870190479999906 seconds\n",
            "Epoch 79/100 Done, Total Loss: 0.00767853262495128\n",
            "Time Elapsed for Epoch: 1.291116622000004 seconds\n",
            "Epoch 80/100 Done, Total Loss: 0.008284910966682693\n",
            "Time Elapsed for Epoch: 1.2893146600000023 seconds\n",
            "Epoch 81/100 Done, Total Loss: 0.007339314203304441\n",
            "Time Elapsed for Epoch: 1.2984280809999973 seconds\n",
            "Epoch 82/100 Done, Total Loss: 0.0070631713707647896\n",
            "Time Elapsed for Epoch: 1.3232675950000043 seconds\n",
            "Epoch 83/100 Done, Total Loss: 0.006715812166120209\n",
            "Time Elapsed for Epoch: 1.3154695270000047 seconds\n",
            "Epoch 84/100 Done, Total Loss: 0.006034448957981785\n",
            "Time Elapsed for Epoch: 1.286634006999975 seconds\n",
            "Epoch 85/100 Done, Total Loss: 0.007158592399007276\n",
            "Time Elapsed for Epoch: 1.2978264170000102 seconds\n",
            "Epoch 86/100 Done, Total Loss: 0.0067704670490575545\n",
            "Time Elapsed for Epoch: 1.2973482849999982 seconds\n",
            "Epoch 87/100 Done, Total Loss: 0.005897370270838071\n",
            "Time Elapsed for Epoch: 1.305447332 seconds\n",
            "Epoch 88/100 Done, Total Loss: 0.007014258292695993\n",
            "Time Elapsed for Epoch: 1.3025167589999853 seconds\n",
            "Epoch 89/100 Done, Total Loss: 0.0077104411447299235\n",
            "Time Elapsed for Epoch: 1.3016692810000166 seconds\n",
            "Epoch 90/100 Done, Total Loss: 0.007105764004138663\n",
            "Time Elapsed for Epoch: 1.2992894120000074 seconds\n",
            "Epoch 91/100 Done, Total Loss: 0.00674812521269221\n",
            "Time Elapsed for Epoch: 1.3022069539999848 seconds\n",
            "Epoch 92/100 Done, Total Loss: 0.006002361943145566\n",
            "Time Elapsed for Epoch: 1.3302792670000088 seconds\n",
            "Epoch 93/100 Done, Total Loss: 0.005326981276638158\n",
            "Time Elapsed for Epoch: 1.3257892139999967 seconds\n",
            "Epoch 94/100 Done, Total Loss: 0.00569747213486825\n",
            "Time Elapsed for Epoch: 1.302791032999977 seconds\n",
            "Epoch 95/100 Done, Total Loss: 0.0054015176315063045\n",
            "Time Elapsed for Epoch: 1.2931902280000145 seconds\n",
            "Epoch 96/100 Done, Total Loss: 0.004824309768003371\n",
            "Time Elapsed for Epoch: 1.297111526000009 seconds\n",
            "Epoch 97/100 Done, Total Loss: 0.005523692448269171\n",
            "Time Elapsed for Epoch: 1.307064433000022 seconds\n",
            "Epoch 98/100 Done, Total Loss: 0.00525146400373753\n",
            "Time Elapsed for Epoch: 1.2980682419999994 seconds\n",
            "Epoch 99/100 Done, Total Loss: 0.004190112575483711\n",
            "Time Elapsed for Epoch: 1.2931107420000103 seconds\n",
            "Epoch 100/100 Done, Total Loss: 0.005362400692715512\n",
            "Time Elapsed for Epoch: 1.2987493319999999 seconds\n",
            "Total Training Time: 129.98768866000006 seconds\n"
          ]
        }
      ]
    },
    {
      "cell_type": "code",
      "source": [
        "torch.save(lstm_model.state_dict(), \"/content/model/lstm_model.pt\")"
      ],
      "metadata": {
        "id": "XhknKCA8j8Aa"
      },
      "execution_count": 46,
      "outputs": []
    },
    {
      "cell_type": "code",
      "source": [
        "hidden_dim = 356\n",
        "input_dim = 2\n",
        "output_dim = 1\n",
        "n_layers = 4\n",
        "lstm_model = LSTMNet(input_dim, hidden_dim, output_dim, n_layers)\n",
        "lstm_model.load_state_dict(torch.load(\"/content/model/lstm_model.pt\"))"
      ],
      "metadata": {
        "id": "TmRa6lckkFkC",
        "outputId": "667fd9d2-c43d-4134-b70d-a09df1b9354a",
        "colab": {
          "base_uri": "https://localhost:8080/"
        }
      },
      "execution_count": 47,
      "outputs": [
        {
          "output_type": "execute_result",
          "data": {
            "text/plain": [
              "<All keys matched successfully>"
            ]
          },
          "metadata": {},
          "execution_count": 47
        }
      ]
    },
    {
      "cell_type": "code",
      "source": [
        "# Move the model to the appropriate device\n",
        "lstm_model.to(device)"
      ],
      "metadata": {
        "id": "2HMtghnfkUkp",
        "outputId": "4ff8e25c-23c7-494a-9168-474c4c866b30",
        "colab": {
          "base_uri": "https://localhost:8080/"
        }
      },
      "execution_count": 48,
      "outputs": [
        {
          "output_type": "execute_result",
          "data": {
            "text/plain": [
              "LSTMNet(\n",
              "  (lstm): LSTM(2, 356, num_layers=4, batch_first=True, dropout=0.2)\n",
              "  (fc): Linear(in_features=356, out_features=1, bias=True)\n",
              "  (relu): ReLU()\n",
              ")"
            ]
          },
          "metadata": {},
          "execution_count": 48
        }
      ]
    },
    {
      "cell_type": "code",
      "source": [
        "def sMAPE(outputs, targets):\n",
        "    sMAPE = (\n",
        "        100\n",
        "        / len(targets)\n",
        "        * np.sum(np.abs(outputs - targets) / (np.abs(outputs + targets)) / 2)\n",
        "    )\n",
        "    return sMAPE"
      ],
      "metadata": {
        "id": "rA00xUtHkW2p"
      },
      "execution_count": 49,
      "outputs": []
    },
    {
      "cell_type": "code",
      "source": [
        "def evaluate(model, test_x, test_y, label_scalers):\n",
        "    model.eval()\n",
        "    outputs = []\n",
        "    targets = []\n",
        "    start_time = time.process_time()\n",
        "    # get data of test data for each state\n",
        "    for file in test_x.keys():\n",
        "        inputs = torch.from_numpy(np.array(test_x[file]))\n",
        "        labels = torch.from_numpy(np.array(test_y[file]))\n",
        "\n",
        "        h = model.init_hidden(inputs.shape[0])\n",
        "\n",
        "        # predict outputs\n",
        "        with torch.no_grad():\n",
        "            out, h = model(inputs.to(device).float(), h)\n",
        "\n",
        "        outputs.append(\n",
        "            label_scalers[file]\n",
        "            .inverse_transform(out.cpu().detach().numpy())\n",
        "            .reshape(-1)\n",
        "        )\n",
        "\n",
        "        targets.append(\n",
        "            label_scalers[file].inverse_transform(labels.numpy()).reshape(-1)\n",
        "        )\n",
        "\n",
        "    # Merge all files\n",
        "    concatenated_outputs = np.concatenate(outputs)\n",
        "    concatenated_targets = np.concatenate(targets)\n",
        "\n",
        "    print(f\"Evaluation Time: {time.process_time()-start_time}\")\n",
        "    print(f\"sMAPE: {round(sMAPE(concatenated_outputs, concatenated_targets), 3)}%\")\n",
        "\n",
        "    # list of of targets/outputs for each state\n",
        "    return outputs, targets, sMAPE"
      ],
      "metadata": {
        "id": "Naah87cMka9i"
      },
      "execution_count": 50,
      "outputs": []
    },
    {
      "cell_type": "code",
      "source": [
        "lstm_outputs, targets, lstm_sMAPE = evaluate(lstm_model, test_x, test_y, label_scalers)"
      ],
      "metadata": {
        "id": "-_mIS80EkfWy",
        "outputId": "74099616-5ca0-4ffc-eea6-a17a04b06d59",
        "colab": {
          "base_uri": "https://localhost:8080/"
        }
      },
      "execution_count": 51,
      "outputs": [
        {
          "output_type": "stream",
          "name": "stdout",
          "text": [
            "Evaluation Time: 0.042305112000008194\n",
            "sMAPE: 9.483%\n"
          ]
        }
      ]
    },
    {
      "cell_type": "code",
      "source": [
        "len(\n",
        "    lstm_outputs\n",
        ")  # list of predicted output file for each state (each element has a 1d array for that state)"
      ],
      "metadata": {
        "id": "XJjWE26pkjaa",
        "outputId": "ab85f0ed-1e6f-425c-dd73-d82a51f4b33c",
        "colab": {
          "base_uri": "https://localhost:8080/"
        }
      },
      "execution_count": 52,
      "outputs": [
        {
          "output_type": "execute_result",
          "data": {
            "text/plain": [
              "1"
            ]
          },
          "metadata": {},
          "execution_count": 52
        }
      ]
    },
    {
      "cell_type": "code",
      "source": [
        "states_list = list(test_x.keys())"
      ],
      "metadata": {
        "id": "dBNrSgjnkmES"
      },
      "execution_count": 53,
      "outputs": []
    },
    {
      "cell_type": "code",
      "source": [
        "states_list"
      ],
      "metadata": {
        "id": "yNXkl85mkotK",
        "outputId": "e610cbf2-1edc-46d2-c235-0eb0331480a4",
        "colab": {
          "base_uri": "https://localhost:8080/"
        }
      },
      "execution_count": 54,
      "outputs": [
        {
          "output_type": "execute_result",
          "data": {
            "text/plain": [
              "['/content/SAMPLE_DATA.csv']"
            ]
          },
          "metadata": {},
          "execution_count": 54
        }
      ]
    },
    {
      "cell_type": "code",
      "source": [
        "plt.figure(figsize=(20, 15))\n",
        "plt.subplot(2, 2, 1)\n",
        "plt.plot(\n",
        "    lstm_outputs[0][-100:], \"-o\", color=\"r\", label=\"LSTM Predictions\", markersize=2\n",
        ")\n",
        "plt.plot(targets[0][-100:], color=\"b\", label=\"Actual\")\n",
        "plt.ylabel(\"Energy Consumption (MW)\")\n",
        "plt.title(f\"Energy Consumption for {states_list[0]} state\")\n",
        "plt.legend()\n",
        "\n"
      ],
      "metadata": {
        "id": "Yf1e6IKHkrLh",
        "outputId": "dbb12175-c6c9-445b-d885-655d5ec4c200",
        "colab": {
          "base_uri": "https://localhost:8080/",
          "height": 452
        }
      },
      "execution_count": 58,
      "outputs": [
        {
          "output_type": "execute_result",
          "data": {
            "text/plain": [
              "<matplotlib.legend.Legend at 0x7fde7e2e1550>"
            ]
          },
          "metadata": {},
          "execution_count": 58
        },
        {
          "output_type": "display_data",
          "data": {
            "text/plain": [
              "<Figure size 1440x1080 with 1 Axes>"
            ],
            "image/png": "[encoded data removed]"
          },
          "metadata": {
            "needs_background": "light"
          }
        }
      ]
    }
  ]
}