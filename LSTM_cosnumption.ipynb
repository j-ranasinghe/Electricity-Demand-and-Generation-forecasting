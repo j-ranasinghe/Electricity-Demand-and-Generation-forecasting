{
  "nbformat": 4,
  "nbformat_minor": 0,
  "metadata": {
    "colab": {
      "provenance": [],
      "include_colab_link": true
    },
    "kernelspec": {
      "name": "python3",
      "display_name": "Python 3"
    },
    "language_info": {
      "name": "python"
    },
    "accelerator": "GPU",
    "gpuClass": "standard"
  },
  "cells": [
    {
      "cell_type": "markdown",
      "metadata": {
        "id": "view-in-github",
        "colab_type": "text"
      },
      "source": [
        "<a href=\"https://colab.research.google.com/github/j-ranasinghe/Electricity-consumption-forecasting/blob/main/LSTM_cosnumption.ipynb\" target=\"_parent\"><img src=\"https://colab.research.google.com/assets/colab-badge.svg\" alt=\"Open In Colab\"/></a>"
      ]
    },
    {
      "cell_type": "code",
      "execution_count": 39,
      "metadata": {
        "id": "Tx8YtsI9j46G"
      },
      "outputs": [],
      "source": [
        "import os\n",
        "import time\n",
        "import matplotlib.pyplot as plt\n",
        "import pandas as pd\n",
        "import numpy as np\n",
        "from sklearn.preprocessing import OneHotEncoder\n",
        "from sklearn.preprocessing import MinMaxScaler\n",
        "from sklearn.preprocessing import LabelEncoder\n",
        "import torch\n",
        "import torch.nn as nn\n",
        "from torch.utils.data import TensorDataset, DataLoader\n",
        "from tqdm.notebook import tqdm as tqdm_notebook"
      ]
    },
    {
      "cell_type": "code",
      "source": [
        "cols = [\"ACCOUNT_NO\",\"DATE\",\"SALES_TYPE\",\"BILL\",\"UNIT\"]\n",
        "df = pd.read_csv(\"/content/SAMPLE_DATA.csv\", header=0, names=cols)\n",
        "file = \"/content/SAMPLE_DATA.csv\""
      ],
      "metadata": {
        "id": "Oc-U7jCFknLv"
      },
      "execution_count": 40,
      "outputs": []
    },
    {
      "cell_type": "code",
      "source": [
        "df.head()"
      ],
      "metadata": {
        "colab": {
          "base_uri": "https://localhost:8080/",
          "height": 206
        },
        "id": "5t0TIbbtl652",
        "outputId": "37aa77ac-302f-4d74-ae41-2291bf66f75b"
      },
      "execution_count": 41,
      "outputs": [
        {
          "output_type": "execute_result",
          "data": {
            "text/plain": [
              "   ACCOUNT_NO      DATE SALES_TYPE     BILL  UNIT\n",
              "0   200005806  4/1/2022          C  2289.04    73\n",
              "1   200009909  4/1/2022          C   120.00     1\n",
              "2   200002506  4/1/2022          C  9448.27   241\n",
              "3   200013110  4/1/2022          C    -8.85    11\n",
              "4   200001802  4/1/2022          C  1539.76    68"
            ],
            "text/html": [
              "\n",
              "  <div id=\"df-e3ef6c26-24e3-4b55-b7db-c532c136ad1d\">\n",
              "    <div class=\"colab-df-container\">\n",
              "      <div>\n",
              "<style scoped>\n",
              "    .dataframe tbody tr th:only-of-type {\n",
              "        vertical-align: middle;\n",
              "    }\n",
              "\n",
              "    .dataframe tbody tr th {\n",
              "        vertical-align: top;\n",
              "    }\n",
              "\n",
              "    .dataframe thead th {\n",
              "        text-align: right;\n",
              "    }\n",
              "</style>\n",
              "<table border=\"1\" class=\"dataframe\">\n",
              "  <thead>\n",
              "    <tr style=\"text-align: right;\">\n",
              "      <th></th>\n",
              "      <th>ACCOUNT_NO</th>\n",
              "      <th>DATE</th>\n",
              "      <th>SALES_TYPE</th>\n",
              "      <th>BILL</th>\n",
              "      <th>UNIT</th>\n",
              "    </tr>\n",
              "  </thead>\n",
              "  <tbody>\n",
              "    <tr>\n",
              "      <th>0</th>\n",
              "      <td>200005806</td>\n",
              "      <td>4/1/2022</td>\n",
              "      <td>C</td>\n",
              "      <td>2289.04</td>\n",
              "      <td>73</td>\n",
              "    </tr>\n",
              "    <tr>\n",
              "      <th>1</th>\n",
              "      <td>200009909</td>\n",
              "      <td>4/1/2022</td>\n",
              "      <td>C</td>\n",
              "      <td>120.00</td>\n",
              "      <td>1</td>\n",
              "    </tr>\n",
              "    <tr>\n",
              "      <th>2</th>\n",
              "      <td>200002506</td>\n",
              "      <td>4/1/2022</td>\n",
              "      <td>C</td>\n",
              "      <td>9448.27</td>\n",
              "      <td>241</td>\n",
              "    </tr>\n",
              "    <tr>\n",
              "      <th>3</th>\n",
              "      <td>200013110</td>\n",
              "      <td>4/1/2022</td>\n",
              "      <td>C</td>\n",
              "      <td>-8.85</td>\n",
              "      <td>11</td>\n",
              "    </tr>\n",
              "    <tr>\n",
              "      <th>4</th>\n",
              "      <td>200001802</td>\n",
              "      <td>4/1/2022</td>\n",
              "      <td>C</td>\n",
              "      <td>1539.76</td>\n",
              "      <td>68</td>\n",
              "    </tr>\n",
              "  </tbody>\n",
              "</table>\n",
              "</div>\n",
              "      <button class=\"colab-df-convert\" onclick=\"convertToInteractive('df-e3ef6c26-24e3-4b55-b7db-c532c136ad1d')\"\n",
              "              title=\"Convert this dataframe to an interactive table.\"\n",
              "              style=\"display:none;\">\n",
              "        \n",
              "  <svg xmlns=\"http://www.w3.org/2000/svg\" height=\"24px\"viewBox=\"0 0 24 24\"\n",
              "       width=\"24px\">\n",
              "    <path d=\"M0 0h24v24H0V0z\" fill=\"none\"/>\n",
              "    <path d=\"M18.56 5.44l.94 2.06.94-2.06 2.06-.94-2.06-.94-.94-2.06-.94 2.06-2.06.94zm-11 1L8.5 8.5l.94-2.06 2.06-.94-2.06-.94L8.5 2.5l-.94 2.06-2.06.94zm10 10l.94 2.06.94-2.06 2.06-.94-2.06-.94-.94-2.06-.94 2.06-2.06.94z\"/><path d=\"M17.41 7.96l-1.37-1.37c-.4-.4-.92-.59-1.43-.59-.52 0-1.04.2-1.43.59L10.3 9.45l-7.72 7.72c-.78.78-.78 2.05 0 2.83L4 21.41c.39.39.9.59 1.41.59.51 0 1.02-.2 1.41-.59l7.78-7.78 2.81-2.81c.8-.78.8-2.07 0-2.86zM5.41 20L4 18.59l7.72-7.72 1.47 1.35L5.41 20z\"/>\n",
              "  </svg>\n",
              "      </button>\n",
              "      \n",
              "  <style>\n",
              "    .colab-df-container {\n",
              "      display:flex;\n",
              "      flex-wrap:wrap;\n",
              "      gap: 12px;\n",
              "    }\n",
              "\n",
              "    .colab-df-convert {\n",
              "      background-color: #E8F0FE;\n",
              "      border: none;\n",
              "      border-radius: 50%;\n",
              "      cursor: pointer;\n",
              "      display: none;\n",
              "      fill: #1967D2;\n",
              "      height: 32px;\n",
              "      padding: 0 0 0 0;\n",
              "      width: 32px;\n",
              "    }\n",
              "\n",
              "    .colab-df-convert:hover {\n",
              "      background-color: #E2EBFA;\n",
              "      box-shadow: 0px 1px 2px rgba(60, 64, 67, 0.3), 0px 1px 3px 1px rgba(60, 64, 67, 0.15);\n",
              "      fill: #174EA6;\n",
              "    }\n",
              "\n",
              "    [theme=dark] .colab-df-convert {\n",
              "      background-color: #3B4455;\n",
              "      fill: #D2E3FC;\n",
              "    }\n",
              "\n",
              "    [theme=dark] .colab-df-convert:hover {\n",
              "      background-color: #434B5C;\n",
              "      box-shadow: 0px 1px 3px 1px rgba(0, 0, 0, 0.15);\n",
              "      filter: drop-shadow(0px 1px 2px rgba(0, 0, 0, 0.3));\n",
              "      fill: #FFFFFF;\n",
              "    }\n",
              "  </style>\n",
              "\n",
              "      <script>\n",
              "        const buttonEl =\n",
              "          document.querySelector('#df-e3ef6c26-24e3-4b55-b7db-c532c136ad1d button.colab-df-convert');\n",
              "        buttonEl.style.display =\n",
              "          google.colab.kernel.accessAllowed ? 'block' : 'none';\n",
              "\n",
              "        async function convertToInteractive(key) {\n",
              "          const element = document.querySelector('#df-e3ef6c26-24e3-4b55-b7db-c532c136ad1d');\n",
              "          const dataTable =\n",
              "            await google.colab.kernel.invokeFunction('convertToInteractive',\n",
              "                                                     [key], {});\n",
              "          if (!dataTable) return;\n",
              "\n",
              "          const docLinkHtml = 'Like what you see? Visit the ' +\n",
              "            '<a target=\"_blank\" href=https://colab.research.google.com/notebooks/data_table.ipynb>data table notebook</a>'\n",
              "            + ' to learn more about interactive tables.';\n",
              "          element.innerHTML = '';\n",
              "          dataTable['output_type'] = 'display_data';\n",
              "          await google.colab.output.renderOutput(dataTable, element);\n",
              "          const docLink = document.createElement('div');\n",
              "          docLink.innerHTML = docLinkHtml;\n",
              "          element.appendChild(docLink);\n",
              "        }\n",
              "      </script>\n",
              "    </div>\n",
              "  </div>\n",
              "  "
            ]
          },
          "metadata": {},
          "execution_count": 41
        }
      ]
    },
    {
      "cell_type": "code",
      "source": [
        "df.shape #Check the shape of the dataset"
      ],
      "metadata": {
        "colab": {
          "base_uri": "https://localhost:8080/"
        },
        "id": "ANp7lKy4k1__",
        "outputId": "b3805181-fe6b-4bd0-c70d-07b905d2fa2e"
      },
      "execution_count": 42,
      "outputs": [
        {
          "output_type": "execute_result",
          "data": {
            "text/plain": [
              "(983, 5)"
            ]
          },
          "metadata": {},
          "execution_count": 42
        }
      ]
    },
    {
      "cell_type": "code",
      "source": [
        "# Select the \"units\" column\n",
        "units = df['UNIT']\n",
        "\n",
        "# Create a new figure with desired size\n",
        "fig = plt.figure(figsize=(15, 8))\n",
        "\n",
        "# Create a box plot\n",
        "plt.boxplot(units, vert=False)\n",
        "\n",
        "# Add plot title and axis labels\n",
        "plt.title('Box plot of units')\n",
        "plt.xlabel('Units')\n",
        "plt.show()\n"
      ],
      "metadata": {
        "colab": {
          "base_uri": "https://localhost:8080/",
          "height": 513
        },
        "id": "4YaF-ZooD4PJ",
        "outputId": "9f44826e-a6e5-4cf8-c496-9c845741d2b9"
      },
      "execution_count": 43,
      "outputs": [
        {
          "output_type": "display_data",
          "data": {
            "text/plain": [
              "<Figure size 1080x576 with 1 Axes>"
            ],
            "image/png": "[encoded data removed]"
          },
          "metadata": {
            "needs_background": "light"
          }
        }
      ]
    },
    {
      "cell_type": "code",
      "source": [
        "# Calculate the IQR for each column\n",
        "Q1 = df.quantile(0.25)\n",
        "Q3 = df.quantile(0.75)\n",
        "IQR = Q3 - Q1\n",
        "\n",
        "# Identify any outliers as values that are more than 1.5 times the IQR away from the median\n",
        "outliers = ((df < (Q1 - 1.5 * IQR)) | (df > (Q3 + 1.5 * IQR))).any(axis=1)\n",
        "\n",
        "# Drop rows containing outliers\n",
        "df = df[~outliers]"
      ],
      "metadata": {
        "colab": {
          "base_uri": "https://localhost:8080/"
        },
        "id": "pnnZRVZGD3Wu",
        "outputId": "8d27717a-6b05-4dd7-b4a0-4d98e23e3746"
      },
      "execution_count": 44,
      "outputs": [
        {
          "output_type": "stream",
          "name": "stderr",
          "text": [
            "<ipython-input-44-db77ef20ea4e>:7: FutureWarning: Automatic reindexing on DataFrame vs Series comparisons is deprecated and will raise ValueError in a future version.  Do `left, right = left.align(right, axis=1, copy=False)` before e.g. `left == right`\n",
            "  outliers = ((df < (Q1 - 1.5 * IQR)) | (df > (Q3 + 1.5 * IQR))).any(axis=1)\n"
          ]
        }
      ]
    },
    {
      "cell_type": "code",
      "source": [
        "# Create a new figure with desired size\n",
        "fig = plt.figure(figsize=(15, 8))\n",
        "\n",
        "# Plot a histogram of the \"units\" column\n",
        "plt.hist(df[\"UNIT\"], color='yellow')\n",
        "\n",
        "# Add axis labels and title\n",
        "plt.xlabel(\"Units\")\n",
        "plt.ylabel(\"Frequency\")\n",
        "plt.title(\"Distribution of Units\")\n",
        "\n",
        "# Show the plot\n",
        "plt.show()\n"
      ],
      "metadata": {
        "colab": {
          "base_uri": "https://localhost:8080/",
          "height": 513
        },
        "id": "6lmAyL6OH1CE",
        "outputId": "ff9a8447-70b6-433b-c2c6-4d6a9c65824f"
      },
      "execution_count": 45,
      "outputs": [
        {
          "output_type": "display_data",
          "data": {
            "text/plain": [
              "<Figure size 1080x576 with 1 Axes>"
            ],
            "image/png": "[encoded data removed]"
          },
          "metadata": {
            "needs_background": "light"
          }
        }
      ]
    },
    {
      "cell_type": "code",
      "source": [
        "df[\"UNIT\"] = df[\"UNIT\"].astype(float)\n",
        "df[\"BILL\"] = df[\"BILL\"].astype(float)\n",
        "df[\"ACCOUNT_NO\"] = df[\"ACCOUNT_NO\"].astype(float)"
      ],
      "metadata": {
        "id": "uRh_nooBANAq"
      },
      "execution_count": 46,
      "outputs": []
    },
    {
      "cell_type": "code",
      "source": [
        "df[\"DATE\"] = pd.to_datetime(df[\"DATE\"])\n",
        "df[\"MONTH\"] = df[\"DATE\"].dt.month\n",
        "df[\"YEAR\"] = df[\"DATE\"].dt.year\n",
        "df = df.sort_values(\"DATE\").drop(\"DATE\", axis=1)\n"
      ],
      "metadata": {
        "id": "U4RAZE0gBWOJ"
      },
      "execution_count": 47,
      "outputs": []
    },
    {
      "cell_type": "code",
      "source": [
        "df.dtypes"
      ],
      "metadata": {
        "colab": {
          "base_uri": "https://localhost:8080/"
        },
        "id": "8PpRMP7GBBkZ",
        "outputId": "14951e3b-03db-425c-e689-3c821eac4757"
      },
      "execution_count": 48,
      "outputs": [
        {
          "output_type": "execute_result",
          "data": {
            "text/plain": [
              "ACCOUNT_NO    float64\n",
              "SALES_TYPE     object\n",
              "BILL          float64\n",
              "UNIT          float64\n",
              "MONTH           int64\n",
              "YEAR            int64\n",
              "dtype: object"
            ]
          },
          "metadata": {},
          "execution_count": 48
        }
      ]
    },
    {
      "cell_type": "code",
      "source": [
        "df.describe()"
      ],
      "metadata": {
        "colab": {
          "base_uri": "https://localhost:8080/",
          "height": 300
        },
        "id": "fhtO27OsCmw4",
        "outputId": "86b494c9-1ce0-466e-85ea-3804046df5ca"
      },
      "execution_count": 49,
      "outputs": [
        {
          "output_type": "execute_result",
          "data": {
            "text/plain": [
              "         ACCOUNT_NO          BILL        UNIT       MONTH    YEAR\n",
              "count  9.390000e+02    939.000000  939.000000  939.000000   939.0\n",
              "mean   2.000983e+08   3779.740618  113.331203    8.001065  2022.0\n",
              "std    8.542600e+04   3338.645372   76.273174    2.588518     0.0\n",
              "min    2.000018e+08     -8.850000    0.000000    4.000000  2022.0\n",
              "25%    2.000350e+08    920.910000   51.000000    6.000000  2022.0\n",
              "50%    2.000692e+08   2904.000000  103.000000    8.000000  2022.0\n",
              "75%    2.001593e+08   5755.000000  166.500000   10.000000  2022.0\n",
              "max    2.003006e+08  13938.000000  323.000000   12.000000  2022.0"
            ],
            "text/html": [
              "\n",
              "  <div id=\"df-0e0b34bc-a03b-4c84-bdfd-6a0624da5c1a\">\n",
              "    <div class=\"colab-df-container\">\n",
              "      <div>\n",
              "<style scoped>\n",
              "    .dataframe tbody tr th:only-of-type {\n",
              "        vertical-align: middle;\n",
              "    }\n",
              "\n",
              "    .dataframe tbody tr th {\n",
              "        vertical-align: top;\n",
              "    }\n",
              "\n",
              "    .dataframe thead th {\n",
              "        text-align: right;\n",
              "    }\n",
              "</style>\n",
              "<table border=\"1\" class=\"dataframe\">\n",
              "  <thead>\n",
              "    <tr style=\"text-align: right;\">\n",
              "      <th></th>\n",
              "      <th>ACCOUNT_NO</th>\n",
              "      <th>BILL</th>\n",
              "      <th>UNIT</th>\n",
              "      <th>MONTH</th>\n",
              "      <th>YEAR</th>\n",
              "    </tr>\n",
              "  </thead>\n",
              "  <tbody>\n",
              "    <tr>\n",
              "      <th>count</th>\n",
              "      <td>9.390000e+02</td>\n",
              "      <td>939.000000</td>\n",
              "      <td>939.000000</td>\n",
              "      <td>939.000000</td>\n",
              "      <td>939.0</td>\n",
              "    </tr>\n",
              "    <tr>\n",
              "      <th>mean</th>\n",
              "      <td>2.000983e+08</td>\n",
              "      <td>3779.740618</td>\n",
              "      <td>113.331203</td>\n",
              "      <td>8.001065</td>\n",
              "      <td>2022.0</td>\n",
              "    </tr>\n",
              "    <tr>\n",
              "      <th>std</th>\n",
              "      <td>8.542600e+04</td>\n",
              "      <td>3338.645372</td>\n",
              "      <td>76.273174</td>\n",
              "      <td>2.588518</td>\n",
              "      <td>0.0</td>\n",
              "    </tr>\n",
              "    <tr>\n",
              "      <th>min</th>\n",
              "      <td>2.000018e+08</td>\n",
              "      <td>-8.850000</td>\n",
              "      <td>0.000000</td>\n",
              "      <td>4.000000</td>\n",
              "      <td>2022.0</td>\n",
              "    </tr>\n",
              "    <tr>\n",
              "      <th>25%</th>\n",
              "      <td>2.000350e+08</td>\n",
              "      <td>920.910000</td>\n",
              "      <td>51.000000</td>\n",
              "      <td>6.000000</td>\n",
              "      <td>2022.0</td>\n",
              "    </tr>\n",
              "    <tr>\n",
              "      <th>50%</th>\n",
              "      <td>2.000692e+08</td>\n",
              "      <td>2904.000000</td>\n",
              "      <td>103.000000</td>\n",
              "      <td>8.000000</td>\n",
              "      <td>2022.0</td>\n",
              "    </tr>\n",
              "    <tr>\n",
              "      <th>75%</th>\n",
              "      <td>2.001593e+08</td>\n",
              "      <td>5755.000000</td>\n",
              "      <td>166.500000</td>\n",
              "      <td>10.000000</td>\n",
              "      <td>2022.0</td>\n",
              "    </tr>\n",
              "    <tr>\n",
              "      <th>max</th>\n",
              "      <td>2.003006e+08</td>\n",
              "      <td>13938.000000</td>\n",
              "      <td>323.000000</td>\n",
              "      <td>12.000000</td>\n",
              "      <td>2022.0</td>\n",
              "    </tr>\n",
              "  </tbody>\n",
              "</table>\n",
              "</div>\n",
              "      <button class=\"colab-df-convert\" onclick=\"convertToInteractive('df-0e0b34bc-a03b-4c84-bdfd-6a0624da5c1a')\"\n",
              "              title=\"Convert this dataframe to an interactive table.\"\n",
              "              style=\"display:none;\">\n",
              "        \n",
              "  <svg xmlns=\"http://www.w3.org/2000/svg\" height=\"24px\"viewBox=\"0 0 24 24\"\n",
              "       width=\"24px\">\n",
              "    <path d=\"M0 0h24v24H0V0z\" fill=\"none\"/>\n",
              "    <path d=\"M18.56 5.44l.94 2.06.94-2.06 2.06-.94-2.06-.94-.94-2.06-.94 2.06-2.06.94zm-11 1L8.5 8.5l.94-2.06 2.06-.94-2.06-.94L8.5 2.5l-.94 2.06-2.06.94zm10 10l.94 2.06.94-2.06 2.06-.94-2.06-.94-.94-2.06-.94 2.06-2.06.94z\"/><path d=\"M17.41 7.96l-1.37-1.37c-.4-.4-.92-.59-1.43-.59-.52 0-1.04.2-1.43.59L10.3 9.45l-7.72 7.72c-.78.78-.78 2.05 0 2.83L4 21.41c.39.39.9.59 1.41.59.51 0 1.02-.2 1.41-.59l7.78-7.78 2.81-2.81c.8-.78.8-2.07 0-2.86zM5.41 20L4 18.59l7.72-7.72 1.47 1.35L5.41 20z\"/>\n",
              "  </svg>\n",
              "      </button>\n",
              "      \n",
              "  <style>\n",
              "    .colab-df-container {\n",
              "      display:flex;\n",
              "      flex-wrap:wrap;\n",
              "      gap: 12px;\n",
              "    }\n",
              "\n",
              "    .colab-df-convert {\n",
              "      background-color: #E8F0FE;\n",
              "      border: none;\n",
              "      border-radius: 50%;\n",
              "      cursor: pointer;\n",
              "      display: none;\n",
              "      fill: #1967D2;\n",
              "      height: 32px;\n",
              "      padding: 0 0 0 0;\n",
              "      width: 32px;\n",
              "    }\n",
              "\n",
              "    .colab-df-convert:hover {\n",
              "      background-color: #E2EBFA;\n",
              "      box-shadow: 0px 1px 2px rgba(60, 64, 67, 0.3), 0px 1px 3px 1px rgba(60, 64, 67, 0.15);\n",
              "      fill: #174EA6;\n",
              "    }\n",
              "\n",
              "    [theme=dark] .colab-df-convert {\n",
              "      background-color: #3B4455;\n",
              "      fill: #D2E3FC;\n",
              "    }\n",
              "\n",
              "    [theme=dark] .colab-df-convert:hover {\n",
              "      background-color: #434B5C;\n",
              "      box-shadow: 0px 1px 3px 1px rgba(0, 0, 0, 0.15);\n",
              "      filter: drop-shadow(0px 1px 2px rgba(0, 0, 0, 0.3));\n",
              "      fill: #FFFFFF;\n",
              "    }\n",
              "  </style>\n",
              "\n",
              "      <script>\n",
              "        const buttonEl =\n",
              "          document.querySelector('#df-0e0b34bc-a03b-4c84-bdfd-6a0624da5c1a button.colab-df-convert');\n",
              "        buttonEl.style.display =\n",
              "          google.colab.kernel.accessAllowed ? 'block' : 'none';\n",
              "\n",
              "        async function convertToInteractive(key) {\n",
              "          const element = document.querySelector('#df-0e0b34bc-a03b-4c84-bdfd-6a0624da5c1a');\n",
              "          const dataTable =\n",
              "            await google.colab.kernel.invokeFunction('convertToInteractive',\n",
              "                                                     [key], {});\n",
              "          if (!dataTable) return;\n",
              "\n",
              "          const docLinkHtml = 'Like what you see? Visit the ' +\n",
              "            '<a target=\"_blank\" href=https://colab.research.google.com/notebooks/data_table.ipynb>data table notebook</a>'\n",
              "            + ' to learn more about interactive tables.';\n",
              "          element.innerHTML = '';\n",
              "          dataTable['output_type'] = 'display_data';\n",
              "          await google.colab.output.renderOutput(dataTable, element);\n",
              "          const docLink = document.createElement('div');\n",
              "          docLink.innerHTML = docLinkHtml;\n",
              "          element.appendChild(docLink);\n",
              "        }\n",
              "      </script>\n",
              "    </div>\n",
              "  </div>\n",
              "  "
            ]
          },
          "metadata": {},
          "execution_count": 49
        }
      ]
    },
    {
      "cell_type": "code",
      "source": [
        "df.isnull()"
      ],
      "metadata": {
        "colab": {
          "base_uri": "https://localhost:8080/",
          "height": 423
        },
        "id": "ii6tobGN3PIx",
        "outputId": "5628ed3d-fcc1-478b-8632-b2daaa8a9766"
      },
      "execution_count": 50,
      "outputs": [
        {
          "output_type": "execute_result",
          "data": {
            "text/plain": [
              "     ACCOUNT_NO  SALES_TYPE   BILL   UNIT  MONTH   YEAR\n",
              "0         False       False  False  False  False  False\n",
              "80        False       False  False  False  False  False\n",
              "79        False       False  False  False  False  False\n",
              "78        False       False  False  False  False  False\n",
              "77        False       False  False  False  False  False\n",
              "..          ...         ...    ...    ...    ...    ...\n",
              "907       False       False  False  False  False  False\n",
              "906       False       False  False  False  False  False\n",
              "905       False       False  False  False  False  False\n",
              "902       False       False  False  False  False  False\n",
              "982       False       False  False  False  False  False\n",
              "\n",
              "[939 rows x 6 columns]"
            ],
            "text/html": [
              "\n",
              "  <div id=\"df-a0f5440b-026f-4d38-aa07-7903de83c7c4\">\n",
              "    <div class=\"colab-df-container\">\n",
              "      <div>\n",
              "<style scoped>\n",
              "    .dataframe tbody tr th:only-of-type {\n",
              "        vertical-align: middle;\n",
              "    }\n",
              "\n",
              "    .dataframe tbody tr th {\n",
              "        vertical-align: top;\n",
              "    }\n",
              "\n",
              "    .dataframe thead th {\n",
              "        text-align: right;\n",
              "    }\n",
              "</style>\n",
              "<table border=\"1\" class=\"dataframe\">\n",
              "  <thead>\n",
              "    <tr style=\"text-align: right;\">\n",
              "      <th></th>\n",
              "      <th>ACCOUNT_NO</th>\n",
              "      <th>SALES_TYPE</th>\n",
              "      <th>BILL</th>\n",
              "      <th>UNIT</th>\n",
              "      <th>MONTH</th>\n",
              "      <th>YEAR</th>\n",
              "    </tr>\n",
              "  </thead>\n",
              "  <tbody>\n",
              "    <tr>\n",
              "      <th>0</th>\n",
              "      <td>False</td>\n",
              "      <td>False</td>\n",
              "      <td>False</td>\n",
              "      <td>False</td>\n",
              "      <td>False</td>\n",
              "      <td>False</td>\n",
              "    </tr>\n",
              "    <tr>\n",
              "      <th>80</th>\n",
              "      <td>False</td>\n",
              "      <td>False</td>\n",
              "      <td>False</td>\n",
              "      <td>False</td>\n",
              "      <td>False</td>\n",
              "      <td>False</td>\n",
              "    </tr>\n",
              "    <tr>\n",
              "      <th>79</th>\n",
              "      <td>False</td>\n",
              "      <td>False</td>\n",
              "      <td>False</td>\n",
              "      <td>False</td>\n",
              "      <td>False</td>\n",
              "      <td>False</td>\n",
              "    </tr>\n",
              "    <tr>\n",
              "      <th>78</th>\n",
              "      <td>False</td>\n",
              "      <td>False</td>\n",
              "      <td>False</td>\n",
              "      <td>False</td>\n",
              "      <td>False</td>\n",
              "      <td>False</td>\n",
              "    </tr>\n",
              "    <tr>\n",
              "      <th>77</th>\n",
              "      <td>False</td>\n",
              "      <td>False</td>\n",
              "      <td>False</td>\n",
              "      <td>False</td>\n",
              "      <td>False</td>\n",
              "      <td>False</td>\n",
              "    </tr>\n",
              "    <tr>\n",
              "      <th>...</th>\n",
              "      <td>...</td>\n",
              "      <td>...</td>\n",
              "      <td>...</td>\n",
              "      <td>...</td>\n",
              "      <td>...</td>\n",
              "      <td>...</td>\n",
              "    </tr>\n",
              "    <tr>\n",
              "      <th>907</th>\n",
              "      <td>False</td>\n",
              "      <td>False</td>\n",
              "      <td>False</td>\n",
              "      <td>False</td>\n",
              "      <td>False</td>\n",
              "      <td>False</td>\n",
              "    </tr>\n",
              "    <tr>\n",
              "      <th>906</th>\n",
              "      <td>False</td>\n",
              "      <td>False</td>\n",
              "      <td>False</td>\n",
              "      <td>False</td>\n",
              "      <td>False</td>\n",
              "      <td>False</td>\n",
              "    </tr>\n",
              "    <tr>\n",
              "      <th>905</th>\n",
              "      <td>False</td>\n",
              "      <td>False</td>\n",
              "      <td>False</td>\n",
              "      <td>False</td>\n",
              "      <td>False</td>\n",
              "      <td>False</td>\n",
              "    </tr>\n",
              "    <tr>\n",
              "      <th>902</th>\n",
              "      <td>False</td>\n",
              "      <td>False</td>\n",
              "      <td>False</td>\n",
              "      <td>False</td>\n",
              "      <td>False</td>\n",
              "      <td>False</td>\n",
              "    </tr>\n",
              "    <tr>\n",
              "      <th>982</th>\n",
              "      <td>False</td>\n",
              "      <td>False</td>\n",
              "      <td>False</td>\n",
              "      <td>False</td>\n",
              "      <td>False</td>\n",
              "      <td>False</td>\n",
              "    </tr>\n",
              "  </tbody>\n",
              "</table>\n",
              "<p>939 rows × 6 columns</p>\n",
              "</div>\n",
              "      <button class=\"colab-df-convert\" onclick=\"convertToInteractive('df-a0f5440b-026f-4d38-aa07-7903de83c7c4')\"\n",
              "              title=\"Convert this dataframe to an interactive table.\"\n",
              "              style=\"display:none;\">\n",
              "        \n",
              "  <svg xmlns=\"http://www.w3.org/2000/svg\" height=\"24px\"viewBox=\"0 0 24 24\"\n",
              "       width=\"24px\">\n",
              "    <path d=\"M0 0h24v24H0V0z\" fill=\"none\"/>\n",
              "    <path d=\"M18.56 5.44l.94 2.06.94-2.06 2.06-.94-2.06-.94-.94-2.06-.94 2.06-2.06.94zm-11 1L8.5 8.5l.94-2.06 2.06-.94-2.06-.94L8.5 2.5l-.94 2.06-2.06.94zm10 10l.94 2.06.94-2.06 2.06-.94-2.06-.94-.94-2.06-.94 2.06-2.06.94z\"/><path d=\"M17.41 7.96l-1.37-1.37c-.4-.4-.92-.59-1.43-.59-.52 0-1.04.2-1.43.59L10.3 9.45l-7.72 7.72c-.78.78-.78 2.05 0 2.83L4 21.41c.39.39.9.59 1.41.59.51 0 1.02-.2 1.41-.59l7.78-7.78 2.81-2.81c.8-.78.8-2.07 0-2.86zM5.41 20L4 18.59l7.72-7.72 1.47 1.35L5.41 20z\"/>\n",
              "  </svg>\n",
              "      </button>\n",
              "      \n",
              "  <style>\n",
              "    .colab-df-container {\n",
              "      display:flex;\n",
              "      flex-wrap:wrap;\n",
              "      gap: 12px;\n",
              "    }\n",
              "\n",
              "    .colab-df-convert {\n",
              "      background-color: #E8F0FE;\n",
              "      border: none;\n",
              "      border-radius: 50%;\n",
              "      cursor: pointer;\n",
              "      display: none;\n",
              "      fill: #1967D2;\n",
              "      height: 32px;\n",
              "      padding: 0 0 0 0;\n",
              "      width: 32px;\n",
              "    }\n",
              "\n",
              "    .colab-df-convert:hover {\n",
              "      background-color: #E2EBFA;\n",
              "      box-shadow: 0px 1px 2px rgba(60, 64, 67, 0.3), 0px 1px 3px 1px rgba(60, 64, 67, 0.15);\n",
              "      fill: #174EA6;\n",
              "    }\n",
              "\n",
              "    [theme=dark] .colab-df-convert {\n",
              "      background-color: #3B4455;\n",
              "      fill: #D2E3FC;\n",
              "    }\n",
              "\n",
              "    [theme=dark] .colab-df-convert:hover {\n",
              "      background-color: #434B5C;\n",
              "      box-shadow: 0px 1px 3px 1px rgba(0, 0, 0, 0.15);\n",
              "      filter: drop-shadow(0px 1px 2px rgba(0, 0, 0, 0.3));\n",
              "      fill: #FFFFFF;\n",
              "    }\n",
              "  </style>\n",
              "\n",
              "      <script>\n",
              "        const buttonEl =\n",
              "          document.querySelector('#df-a0f5440b-026f-4d38-aa07-7903de83c7c4 button.colab-df-convert');\n",
              "        buttonEl.style.display =\n",
              "          google.colab.kernel.accessAllowed ? 'block' : 'none';\n",
              "\n",
              "        async function convertToInteractive(key) {\n",
              "          const element = document.querySelector('#df-a0f5440b-026f-4d38-aa07-7903de83c7c4');\n",
              "          const dataTable =\n",
              "            await google.colab.kernel.invokeFunction('convertToInteractive',\n",
              "                                                     [key], {});\n",
              "          if (!dataTable) return;\n",
              "\n",
              "          const docLinkHtml = 'Like what you see? Visit the ' +\n",
              "            '<a target=\"_blank\" href=https://colab.research.google.com/notebooks/data_table.ipynb>data table notebook</a>'\n",
              "            + ' to learn more about interactive tables.';\n",
              "          element.innerHTML = '';\n",
              "          dataTable['output_type'] = 'display_data';\n",
              "          await google.colab.output.renderOutput(dataTable, element);\n",
              "          const docLink = document.createElement('div');\n",
              "          docLink.innerHTML = docLinkHtml;\n",
              "          element.appendChild(docLink);\n",
              "        }\n",
              "      </script>\n",
              "    </div>\n",
              "  </div>\n",
              "  "
            ]
          },
          "metadata": {},
          "execution_count": 50
        }
      ]
    },
    {
      "cell_type": "code",
      "source": [
        "# Select only the \"units\" column\n",
        "units = df['UNIT']\n",
        "# Create a new figure with desired size\n",
        "fig = plt.figure(figsize=(15, 8))\n",
        "# Create a lag plot with a lag of 1\n",
        "pd.plotting.lag_plot(units, lag=3, c = 'red')\n",
        "\n",
        "# Add plot title and axis labels\n",
        "plt.title('Lag plot for units')\n",
        "plt.xlabel('Units at time t-1')\n",
        "plt.ylabel('Units at time t')\n",
        "\n",
        "plt.show()\n",
        "\n"
      ],
      "metadata": {
        "colab": {
          "base_uri": "https://localhost:8080/",
          "height": 513
        },
        "id": "fmNBjbw940Ji",
        "outputId": "f56933fe-2036-47ff-ced2-06f4c3065057"
      },
      "execution_count": 51,
      "outputs": [
        {
          "output_type": "display_data",
          "data": {
            "text/plain": [
              "<Figure size 1080x576 with 1 Axes>"
            ],
            "image/png": "[encoded data removed]"
          },
          "metadata": {
            "needs_background": "light"
          }
        }
      ]
    },
    {
      "cell_type": "code",
      "source": [
        "# Select the \"units\" and \"bill\" columns\n",
        "units = df['UNIT']\n",
        "bill = df['BILL']\n",
        "\n",
        "# Create a new figure with desired size\n",
        "fig = plt.figure(figsize=(15, 8))\n",
        "# Create a scatter plot\n",
        "plt.scatter(units, bill, c = 'green')\n",
        "\n",
        "# Add plot title and axis labels\n",
        "plt.title('Scatter plot of units vs bill')\n",
        "plt.xlabel('Units')\n",
        "plt.ylabel('Bill')\n",
        "plt.show()\n"
      ],
      "metadata": {
        "colab": {
          "base_uri": "https://localhost:8080/",
          "height": 513
        },
        "id": "8kJ_7RmRDIwv",
        "outputId": "7e551733-6066-4ae4-8c78-f22a5189d083"
      },
      "execution_count": 52,
      "outputs": [
        {
          "output_type": "display_data",
          "data": {
            "text/plain": [
              "<Figure size 1080x576 with 1 Axes>"
            ],
            "image/png": "[encoded data removed]"
          },
          "metadata": {
            "needs_background": "light"
          }
        }
      ]
    },
    {
      "cell_type": "code",
      "source": [
        "# Create a new DataFrame with \"month\" as the index and keep the original intact\n",
        "df_indexed = df.set_index('MONTH', drop=False)\n",
        "\n",
        "# Select only the \"units\" column from the new indexed DataFrame\n",
        "units = df_indexed['UNIT']\n",
        "\n",
        "# Create a new figure with desired size\n",
        "fig = plt.figure(figsize=(15, 8))\n",
        "\n",
        "# Create a time series plot\n",
        "plt.plot(units, c='purple')\n",
        "\n",
        "# Add plot title and axis labels\n",
        "plt.title('Time series plot for units')\n",
        "plt.xlabel('Month')\n",
        "plt.ylabel('Units')\n",
        "plt.show()\n",
        "\n"
      ],
      "metadata": {
        "colab": {
          "base_uri": "https://localhost:8080/",
          "height": 513
        },
        "id": "-9CoUs8N8AOP",
        "outputId": "e107072d-4c99-461c-a524-d17b3d3edad3"
      },
      "execution_count": 53,
      "outputs": [
        {
          "output_type": "display_data",
          "data": {
            "text/plain": [
              "<Figure size 1080x576 with 1 Axes>"
            ],
            "image/png": "[encoded data removed]"
          },
          "metadata": {
            "needs_background": "light"
          }
        }
      ]
    },
    {
      "cell_type": "code",
      "source": [
        "# Select only the \"units\" column\n",
        "bill = df['BILL']\n",
        "\n",
        "# Create a new figure with desired size\n",
        "fig = plt.figure(figsize=(15, 8))\n",
        "\n",
        "# Create a time series plot\n",
        "plt.plot(bill)\n",
        "\n",
        "# Add plot title and axis labels\n",
        "plt.title('Time series plot for units')\n",
        "plt.xlabel('Month')\n",
        "plt.ylabel('bill')\n",
        "plt.show()"
      ],
      "metadata": {
        "colab": {
          "base_uri": "https://localhost:8080/",
          "height": 513
        },
        "id": "kf2GYI8G_yAj",
        "outputId": "72d986db-04a2-4db7-e678-5aa6cf0e6daa"
      },
      "execution_count": 54,
      "outputs": [
        {
          "output_type": "display_data",
          "data": {
            "text/plain": [
              "<Figure size 1080x576 with 1 Axes>"
            ],
            "image/png": "[encoded data removed]"
          },
          "metadata": {
            "needs_background": "light"
          }
        }
      ]
    },
    {
      "cell_type": "code",
      "source": [
        "# Extract the values for the \"SALES_TYPE\" column\n",
        "Sales_type_data= df['SALES_TYPE'].values\n",
        "# Create a LabelEncoder object\n",
        "encoder = LabelEncoder()\n",
        "\n",
        "# Fit the encoder to the sales type data\n",
        "encoder.fit(Sales_type_data)\n",
        "\n",
        "# Encode the location data\n",
        "encoded_sales_type = encoder.transform(Sales_type_data)\n",
        "df['SALES_TYPE'] =encoded_sales_type"
      ],
      "metadata": {
        "id": "rwlXrP31ISHc"
      },
      "execution_count": 55,
      "outputs": []
    },
    {
      "cell_type": "code",
      "source": [
        "    # Scaling the input data\n",
        "    sc = MinMaxScaler()\n",
        "    label_sc = MinMaxScaler()\n",
        "    data = sc.fit_transform(df.values)"
      ],
      "metadata": {
        "id": "9_Cf2DTQJIvk"
      },
      "execution_count": 56,
      "outputs": []
    },
    {
      "cell_type": "code",
      "source": [
        "df.head()"
      ],
      "metadata": {
        "colab": {
          "base_uri": "https://localhost:8080/",
          "height": 206
        },
        "id": "RrWJSn71G5EN",
        "outputId": "5aed64a6-8a39-48d6-867f-b0ccaf23be5d"
      },
      "execution_count": 57,
      "outputs": [
        {
          "output_type": "execute_result",
          "data": {
            "text/plain": [
              "     ACCOUNT_NO  SALES_TYPE     BILL  UNIT  MONTH  YEAR\n",
              "0   200005806.0           0  2289.04  73.0      4  2022\n",
              "80  200041908.0           0   485.29  44.0      4  2022\n",
              "79  200181410.0           0  1268.97  34.0      4  2022\n",
              "78  200298307.0           0   330.00  34.0      4  2022\n",
              "77  200197701.0           0  1845.00  49.0      4  2022"
            ],
            "text/html": [
              "\n",
              "  <div id=\"df-f4b11812-9d6d-4063-b6c8-d2d9f74faff4\">\n",
              "    <div class=\"colab-df-container\">\n",
              "      <div>\n",
              "<style scoped>\n",
              "    .dataframe tbody tr th:only-of-type {\n",
              "        vertical-align: middle;\n",
              "    }\n",
              "\n",
              "    .dataframe tbody tr th {\n",
              "        vertical-align: top;\n",
              "    }\n",
              "\n",
              "    .dataframe thead th {\n",
              "        text-align: right;\n",
              "    }\n",
              "</style>\n",
              "<table border=\"1\" class=\"dataframe\">\n",
              "  <thead>\n",
              "    <tr style=\"text-align: right;\">\n",
              "      <th></th>\n",
              "      <th>ACCOUNT_NO</th>\n",
              "      <th>SALES_TYPE</th>\n",
              "      <th>BILL</th>\n",
              "      <th>UNIT</th>\n",
              "      <th>MONTH</th>\n",
              "      <th>YEAR</th>\n",
              "    </tr>\n",
              "  </thead>\n",
              "  <tbody>\n",
              "    <tr>\n",
              "      <th>0</th>\n",
              "      <td>200005806.0</td>\n",
              "      <td>0</td>\n",
              "      <td>2289.04</td>\n",
              "      <td>73.0</td>\n",
              "      <td>4</td>\n",
              "      <td>2022</td>\n",
              "    </tr>\n",
              "    <tr>\n",
              "      <th>80</th>\n",
              "      <td>200041908.0</td>\n",
              "      <td>0</td>\n",
              "      <td>485.29</td>\n",
              "      <td>44.0</td>\n",
              "      <td>4</td>\n",
              "      <td>2022</td>\n",
              "    </tr>\n",
              "    <tr>\n",
              "      <th>79</th>\n",
              "      <td>200181410.0</td>\n",
              "      <td>0</td>\n",
              "      <td>1268.97</td>\n",
              "      <td>34.0</td>\n",
              "      <td>4</td>\n",
              "      <td>2022</td>\n",
              "    </tr>\n",
              "    <tr>\n",
              "      <th>78</th>\n",
              "      <td>200298307.0</td>\n",
              "      <td>0</td>\n",
              "      <td>330.00</td>\n",
              "      <td>34.0</td>\n",
              "      <td>4</td>\n",
              "      <td>2022</td>\n",
              "    </tr>\n",
              "    <tr>\n",
              "      <th>77</th>\n",
              "      <td>200197701.0</td>\n",
              "      <td>0</td>\n",
              "      <td>1845.00</td>\n",
              "      <td>49.0</td>\n",
              "      <td>4</td>\n",
              "      <td>2022</td>\n",
              "    </tr>\n",
              "  </tbody>\n",
              "</table>\n",
              "</div>\n",
              "      <button class=\"colab-df-convert\" onclick=\"convertToInteractive('df-f4b11812-9d6d-4063-b6c8-d2d9f74faff4')\"\n",
              "              title=\"Convert this dataframe to an interactive table.\"\n",
              "              style=\"display:none;\">\n",
              "        \n",
              "  <svg xmlns=\"http://www.w3.org/2000/svg\" height=\"24px\"viewBox=\"0 0 24 24\"\n",
              "       width=\"24px\">\n",
              "    <path d=\"M0 0h24v24H0V0z\" fill=\"none\"/>\n",
              "    <path d=\"M18.56 5.44l.94 2.06.94-2.06 2.06-.94-2.06-.94-.94-2.06-.94 2.06-2.06.94zm-11 1L8.5 8.5l.94-2.06 2.06-.94-2.06-.94L8.5 2.5l-.94 2.06-2.06.94zm10 10l.94 2.06.94-2.06 2.06-.94-2.06-.94-.94-2.06-.94 2.06-2.06.94z\"/><path d=\"M17.41 7.96l-1.37-1.37c-.4-.4-.92-.59-1.43-.59-.52 0-1.04.2-1.43.59L10.3 9.45l-7.72 7.72c-.78.78-.78 2.05 0 2.83L4 21.41c.39.39.9.59 1.41.59.51 0 1.02-.2 1.41-.59l7.78-7.78 2.81-2.81c.8-.78.8-2.07 0-2.86zM5.41 20L4 18.59l7.72-7.72 1.47 1.35L5.41 20z\"/>\n",
              "  </svg>\n",
              "      </button>\n",
              "      \n",
              "  <style>\n",
              "    .colab-df-container {\n",
              "      display:flex;\n",
              "      flex-wrap:wrap;\n",
              "      gap: 12px;\n",
              "    }\n",
              "\n",
              "    .colab-df-convert {\n",
              "      background-color: #E8F0FE;\n",
              "      border: none;\n",
              "      border-radius: 50%;\n",
              "      cursor: pointer;\n",
              "      display: none;\n",
              "      fill: #1967D2;\n",
              "      height: 32px;\n",
              "      padding: 0 0 0 0;\n",
              "      width: 32px;\n",
              "    }\n",
              "\n",
              "    .colab-df-convert:hover {\n",
              "      background-color: #E2EBFA;\n",
              "      box-shadow: 0px 1px 2px rgba(60, 64, 67, 0.3), 0px 1px 3px 1px rgba(60, 64, 67, 0.15);\n",
              "      fill: #174EA6;\n",
              "    }\n",
              "\n",
              "    [theme=dark] .colab-df-convert {\n",
              "      background-color: #3B4455;\n",
              "      fill: #D2E3FC;\n",
              "    }\n",
              "\n",
              "    [theme=dark] .colab-df-convert:hover {\n",
              "      background-color: #434B5C;\n",
              "      box-shadow: 0px 1px 3px 1px rgba(0, 0, 0, 0.15);\n",
              "      filter: drop-shadow(0px 1px 2px rgba(0, 0, 0, 0.3));\n",
              "      fill: #FFFFFF;\n",
              "    }\n",
              "  </style>\n",
              "\n",
              "      <script>\n",
              "        const buttonEl =\n",
              "          document.querySelector('#df-f4b11812-9d6d-4063-b6c8-d2d9f74faff4 button.colab-df-convert');\n",
              "        buttonEl.style.display =\n",
              "          google.colab.kernel.accessAllowed ? 'block' : 'none';\n",
              "\n",
              "        async function convertToInteractive(key) {\n",
              "          const element = document.querySelector('#df-f4b11812-9d6d-4063-b6c8-d2d9f74faff4');\n",
              "          const dataTable =\n",
              "            await google.colab.kernel.invokeFunction('convertToInteractive',\n",
              "                                                     [key], {});\n",
              "          if (!dataTable) return;\n",
              "\n",
              "          const docLinkHtml = 'Like what you see? Visit the ' +\n",
              "            '<a target=\"_blank\" href=https://colab.research.google.com/notebooks/data_table.ipynb>data table notebook</a>'\n",
              "            + ' to learn more about interactive tables.';\n",
              "          element.innerHTML = '';\n",
              "          dataTable['output_type'] = 'display_data';\n",
              "          await google.colab.output.renderOutput(dataTable, element);\n",
              "          const docLink = document.createElement('div');\n",
              "          docLink.innerHTML = docLinkHtml;\n",
              "          element.appendChild(docLink);\n",
              "        }\n",
              "      </script>\n",
              "    </div>\n",
              "  </div>\n",
              "  "
            ]
          },
          "metadata": {},
          "execution_count": 57
        }
      ]
    },
    {
      "cell_type": "code",
      "source": [
        "def move_sliding_window(data, window_size, inputs_cols_indices, label_col_index):\n",
        "    \"\"\"\n",
        "    data: numpy array including data\n",
        "    window_size: size of window\n",
        "    inputs_cols_indices: col indices to include\n",
        "    \"\"\"\n",
        "\n",
        "    # (# instances created by movement, seq_len (timestamps), # features (input_len))\n",
        "    inputs = np.zeros((len(data) - window_size, window_size, len(inputs_cols_indices)))\n",
        "    labels = np.zeros(len(data) - window_size)\n",
        "\n",
        "    for i in range(window_size, len(data)):\n",
        "        inputs[i - window_size] = data[i - window_size : i, inputs_cols_indices]\n",
        "        labels[i - window_size] = data[i, label_col_index]\n",
        "    inputs = inputs.reshape(-1, window_size, len(inputs_cols_indices))\n",
        "    labels = labels.reshape(-1, 1)\n",
        "    print(inputs.shape, labels.shape)\n",
        "\n",
        "    return inputs, labels"
      ],
      "metadata": {
        "id": "rhp7IHK2WlTl"
      },
      "execution_count": 58,
      "outputs": []
    },
    {
      "cell_type": "code",
      "source": [
        "label_col_index = 3  # UNITS as label to predict\n",
        "inputs_cols_indices = range(3)  # use (\"ACCOUNT_NO\",\"DATE\",\"SALES_TYPE\",\"BILL\",\"UNIT\") columns as features\n",
        "\n",
        "# Define window_size period and split inputs/labels\n",
        "window_size = 109\n",
        "\n",
        "# The scaler objects will be stored in this dictionary so that our output test data from the model can be re-scaled during evaluation\n",
        "label_scalers = {}\n",
        "\n",
        "train_x = []\n",
        "test_x = {}\n",
        "test_y = {}"
      ],
      "metadata": {
        "id": "7XZAeR1LXtv8"
      },
      "execution_count": 59,
      "outputs": []
    },
    {
      "cell_type": "code",
      "source": [
        "# Obtaining the scaler for the labels(usage data) so that output can be\n",
        "# re-scaled to actual value during evaluation\n",
        "label_sc.fit(df.iloc[:, label_col_index].values.reshape(-1, 1))\n",
        "label_scalers[file] = label_sc\n"
      ],
      "metadata": {
        "id": "pnLfGbCTXgSk"
      },
      "execution_count": 60,
      "outputs": []
    },
    {
      "cell_type": "code",
      "source": [
        "   # Move the window\n",
        "inputs, labels = move_sliding_window(data,window_size,inputs_cols_indices=inputs_cols_indices,label_col_index=label_col_index, )\n",
        "\n",
        "    # CONCAT created instances from all .csv files.\n",
        "    # Split data into train/test portions and combining all data from different files into a single array\n",
        "test_portion = int(0.1 * len(inputs))\n",
        "if len(train_x) == 0:  # first iteration\n",
        "    train_x = inputs[:-test_portion]\n",
        "    train_y = labels[:-test_portion]\n",
        "else:\n",
        "    train_x = np.concatenate((train_x, inputs[:-test_portion]))\n",
        "    train_y = np.concatenate((train_y, labels[:-test_portion]))\n",
        "test_x[file] = inputs[-test_portion:]\n",
        "test_y[file] = labels[-test_portion:]"
      ],
      "metadata": {
        "id": "A97ockuUaRuK",
        "outputId": "85503df5-98d6-4230-866b-f492f3cfd5e2",
        "colab": {
          "base_uri": "https://localhost:8080/"
        }
      },
      "execution_count": 61,
      "outputs": [
        {
          "output_type": "stream",
          "name": "stdout",
          "text": [
            "(830, 109, 3) (830, 1)\n"
          ]
        }
      ]
    },
    {
      "cell_type": "code",
      "source": [
        "from sklearn.model_selection import train_test_split\n",
        "batch_size =16\n",
        "# Split data into training and validation sets\n",
        "train_x, val_x, train_y, val_y = train_test_split(\n",
        "    train_x, train_y, test_size=0.2, random_state=42\n",
        ")\n",
        "\n",
        "# Create TensorDatasets and DataLoaders for training and validation sets\n",
        "train_data = TensorDataset(torch.from_numpy(train_x), torch.from_numpy(train_y))\n",
        "train_loader = DataLoader(train_data, shuffle=True, batch_size=batch_size, drop_last=True)\n",
        "\n",
        "val_data = TensorDataset(torch.from_numpy(val_x), torch.from_numpy(val_y))\n",
        "val_loader = DataLoader(val_data, shuffle=True, batch_size=batch_size, drop_last=True)\n"
      ],
      "metadata": {
        "id": "QahKBWtSPqzN"
      },
      "execution_count": 63,
      "outputs": []
    },
    {
      "cell_type": "code",
      "source": [
        "print(\n",
        "    f\"Train Size: {train_x.shape}, Batch Size: {batch_size}, # of iterations per epoch: {int(train_x.shape[0]/batch_size)}\"\n",
        ")\n",
        "\n",
        "print(\n",
        "    f\"Validation Size: {val_x.shape}, Batch Size: {batch_size}, # of iterations per epoch: {int(val_x.shape[0]/batch_size)}\"\n",
        ")\n"
      ],
      "metadata": {
        "id": "gmvLzziNP0RF",
        "outputId": "b9be3ab8-e6d3-47fe-fff9-1d144763b20d",
        "colab": {
          "base_uri": "https://localhost:8080/"
        }
      },
      "execution_count": 64,
      "outputs": [
        {
          "output_type": "stream",
          "name": "stdout",
          "text": [
            "Train Size: (477, 109, 3), Batch Size: 16, # of iterations per epoch: 29\n",
            "Validation Size: (120, 109, 3), Batch Size: 16, # of iterations per epoch: 7\n"
          ]
        }
      ]
    },
    {
      "cell_type": "code",
      "source": [
        "batch_size =16\n",
        "\n",
        "train_data = TensorDataset(torch.from_numpy(train_x), torch.from_numpy(train_y))\n",
        "\n",
        "# Drop the last incomplete batch\n",
        "train_loader = DataLoader(\n",
        "    train_data, shuffle=True, batch_size=batch_size, drop_last=True\n",
        ")"
      ],
      "metadata": {
        "id": "mtVvIBLtg1I9"
      },
      "execution_count": 25,
      "outputs": []
    },
    {
      "cell_type": "code",
      "source": [
        "print(\n",
        "    f\"Train Size: {train_x.shape}, Batch Size: {batch_size}, # of iterations per epoch: {int(train_x.shape[0]/batch_size)}\"\n",
        ")"
      ],
      "metadata": {
        "id": "2hkCAm2XhBos",
        "outputId": "6f70f96c-3cb7-4280-a155-ff70b03c2e4a",
        "colab": {
          "base_uri": "https://localhost:8080/"
        }
      },
      "execution_count": 65,
      "outputs": [
        {
          "output_type": "stream",
          "name": "stdout",
          "text": [
            "Train Size: (477, 109, 3), Batch Size: 16, # of iterations per epoch: 29\n"
          ]
        }
      ]
    },
    {
      "cell_type": "code",
      "source": [
        "# release some memory\n",
        "del train_x, train_y"
      ],
      "metadata": {
        "id": "NUs6UrYPhsjM"
      },
      "execution_count": 66,
      "outputs": []
    },
    {
      "cell_type": "code",
      "source": [
        "# torch.cuda.is_available() checks and returns a Boolean True if a GPU is available, else it'll return False\n",
        "is_cuda = torch.cuda.is_available()\n",
        "\n",
        "# If we have a GPU available, we'll set our device to GPU. We'll use this device variable later in our code.\n",
        "if is_cuda:\n",
        "    device = torch.device(\"cuda\")\n",
        "    print(\"GPU is available\")\n",
        "else:\n",
        "    device = torch.device(\"cpu\")"
      ],
      "metadata": {
        "id": "FquiO0q6hvSM",
        "outputId": "1bb3ef35-bf34-45d2-a901-2d4ce74334c4",
        "colab": {
          "base_uri": "https://localhost:8080/"
        }
      },
      "execution_count": 67,
      "outputs": [
        {
          "output_type": "stream",
          "name": "stdout",
          "text": [
            "GPU is available\n"
          ]
        }
      ]
    },
    {
      "cell_type": "code",
      "source": [
        "class LSTMNet(nn.Module):\n",
        "    def __init__(self, input_dim, hidden_dim, output_dim, n_layers, drop_prob=0.2):\n",
        "        super(LSTMNet, self).__init__()\n",
        "        self.hidden_dim = hidden_dim\n",
        "        self.n_layers = n_layers\n",
        "\n",
        "        self.lstm = nn.LSTM(\n",
        "            input_dim, hidden_dim, n_layers, batch_first=True, dropout=drop_prob\n",
        "        )\n",
        "        self.fc = nn.Linear(hidden_dim, output_dim)\n",
        "        self.relu = nn.ReLU()\n",
        "\n",
        "    def forward(self, x, h):\n",
        "        out, h = self.lstm(x, h)\n",
        "        out = self.fc(self.relu(out[:, -1]))\n",
        "        return out, h\n",
        "\n",
        "    def init_hidden(self, batch_size):\n",
        "        weight = next(self.parameters()).data\n",
        "        # Initialze h_0, c_0 with zeros\n",
        "        hidden = (\n",
        "            weight.new(self.n_layers, batch_size, self.hidden_dim)\n",
        "            .zero_()\n",
        "            .to(device),  # h_0\n",
        "            weight.new(self.n_layers, batch_size, self.hidden_dim).zero_().to(device),\n",
        "        )\n",
        "        return hidden"
      ],
      "metadata": {
        "id": "OVg2P66jh3Hj"
      },
      "execution_count": 68,
      "outputs": []
    },
    {
      "cell_type": "code",
      "source": [
        "import matplotlib.pyplot as plt\n",
        "\n",
        "def train(train_loader, val_loader, learn_rate, hidden_dim=256, n_layers=2, n_epochs=3, model_type=\"GRU\", print_every=100):\n",
        "    input_dim = next(iter(train_loader))[0].shape[2]\n",
        "    output_dim = 1\n",
        "\n",
        "    # Instantiate the model\n",
        "    if model_type == \"GRU\":\n",
        "        model = GRUNet(input_dim, hidden_dim, output_dim, n_layers)\n",
        "    else:\n",
        "        model = LSTMNet(input_dim, hidden_dim, output_dim, n_layers)\n",
        "    model.to(device)\n",
        "\n",
        "    # Define loss function and optimizer\n",
        "    criterion = nn.MSELoss()\n",
        "    optimizer = torch.optim.Adam(model.parameters(), lr=learn_rate)\n",
        "\n",
        "    model.train()\n",
        "    print(\"Starting Training of {} model\".format(model_type))\n",
        "    epoch_times = []\n",
        "\n",
        "    train_losses = []\n",
        "    val_losses = []\n",
        "\n",
        "    # Start training loop\n",
        "    for epoch in range(1, n_epochs + 1):\n",
        "        start_time = time.process_time()\n",
        "\n",
        "        # Training loop\n",
        "        h = model.init_hidden(batch_size)\n",
        "        avg_loss = 0.0\n",
        "        counter = 0\n",
        "        for x, label in train_loader:\n",
        "            counter += 1\n",
        "            if model_type == \"GRU\":\n",
        "                h = h.data\n",
        "            elif model_type == \"LSTM\":\n",
        "                h = tuple([e.data for e in h])\n",
        "\n",
        "            model.zero_grad()\n",
        "            out, h = model(x.to(device).float(), h)\n",
        "            loss = criterion(out, label.to(device).float())\n",
        "            loss.backward()\n",
        "            optimizer.step()\n",
        "\n",
        "            avg_loss += loss.item()\n",
        "            if counter % print_every == 0:\n",
        "                print(\n",
        "                    f\"Epoch {epoch} - Step: {counter}/{len(train_loader)} - Average Loss for Epoch: {avg_loss/counter}\"\n",
        "                )\n",
        "\n",
        "        current_time = time.process_time()\n",
        "        train_losses.append(avg_loss / len(train_loader))\n",
        "        print(f\"Epoch {epoch}/{n_epochs} Done, Train Loss: {train_losses[-1]}\")\n",
        "        print(f\"Time Elapsed for Epoch: {current_time-start_time} seconds\")\n",
        "\n",
        "        # Validation loop\n",
        "        model.eval()\n",
        "        with torch.no_grad():\n",
        "            val_loss = 0.0\n",
        "            for x, label in val_loader:\n",
        "                h = model.init_hidden(batch_size)\n",
        "                if model_type == \"GRU\":\n",
        "                    h = h.data\n",
        "                elif model_type == \"LSTM\":\n",
        "                    h = tuple([e.data for e in h])\n",
        "\n",
        "                out, h = model(x.to(device).float(), h)\n",
        "                loss = criterion(out, label.to(device).float())\n",
        "                val_loss += loss.item()\n",
        "\n",
        "            val_losses.append(val_loss / len(val_loader))\n",
        "            print(f\"Validation Loss: {val_losses[-1]}\")\n",
        "\n",
        "        model.train()\n",
        "\n",
        "    # Plot the training and validation losses\n",
        "    plt.plot(train_losses, label=\"Train Loss\")\n",
        "    plt.plot(val_losses, label=\"Validation Loss\")\n",
        "    plt.legend()\n",
        "    plt.xlabel(\"Epoch\")\n",
        "    plt.ylabel(\"Loss\")\n",
        "    plt.show()\n",
        "\n",
        "    print(f\"Total Training Time: {sum(epoch_times)} seconds\")\n",
        "    return model\n"
      ],
      "metadata": {
        "id": "Vx-zapvVMmdy"
      },
      "execution_count": 69,
      "outputs": []
    },
    {
      "cell_type": "code",
      "source": [
        "n_hidden = 356\n",
        "n_layers = 4\n",
        "n_epochs = 100\n",
        "print_every = 50\n",
        "lr = 0.0001\n",
        "lstm_model = train(\n",
        "    train_loader,\n",
        "    val_loader=val_loader,\n",
        "    learn_rate=lr,\n",
        "    hidden_dim=n_hidden,\n",
        "    n_layers=n_layers,\n",
        "    n_epochs=n_epochs,\n",
        "    model_type=\"LSTM\",\n",
        "    print_every=print_every,\n",
        ")\n"
      ],
      "metadata": {
        "id": "KfmXoM7BMoFa",
        "outputId": "ddacd740-1305-4150-d563-c3cdc72839a7",
        "colab": {
          "base_uri": "https://localhost:8080/",
          "height": 1000
        }
      },
      "execution_count": 82,
      "outputs": [
        {
          "output_type": "stream",
          "name": "stdout",
          "text": [
            "Starting Training of LSTM model\n",
            "Epoch 1/100 Done, Train Loss: 0.10654026655287578\n",
            "Time Elapsed for Epoch: 0.8397290220000002 seconds\n",
            "Validation Loss: 0.08746622715677534\n",
            "Epoch 2/100 Done, Train Loss: 0.05995882418135117\n",
            "Time Elapsed for Epoch: 0.8242327640000013 seconds\n",
            "Validation Loss: 0.06720162236264773\n",
            "Epoch 3/100 Done, Train Loss: 0.055715128972098744\n",
            "Time Elapsed for Epoch: 0.8004411240000024 seconds\n",
            "Validation Loss: 0.05907576531171799\n",
            "Epoch 4/100 Done, Train Loss: 0.054880296490315734\n",
            "Time Elapsed for Epoch: 0.8032585469999987 seconds\n",
            "Validation Loss: 0.06225971505045891\n",
            "Epoch 5/100 Done, Train Loss: 0.053457733307932985\n",
            "Time Elapsed for Epoch: 0.8046515509999921 seconds\n",
            "Validation Loss: 0.06540772851024355\n",
            "Epoch 6/100 Done, Train Loss: 0.049298797894654606\n",
            "Time Elapsed for Epoch: 0.8026194730000071 seconds\n",
            "Validation Loss: 0.05161450217877116\n",
            "Epoch 7/100 Done, Train Loss: 0.049521101638674736\n",
            "Time Elapsed for Epoch: 0.8039401749999939 seconds\n",
            "Validation Loss: 0.07226575804608208\n",
            "Epoch 8/100 Done, Train Loss: 0.0488494281368009\n",
            "Time Elapsed for Epoch: 0.8136883580000074 seconds\n",
            "Validation Loss: 0.049215366531695635\n",
            "Epoch 9/100 Done, Train Loss: 0.04529308489170568\n",
            "Time Elapsed for Epoch: 0.8096542140000054 seconds\n",
            "Validation Loss: 0.05218498568449702\n",
            "Epoch 10/100 Done, Train Loss: 0.04453361721645142\n",
            "Time Elapsed for Epoch: 0.8135770490000027 seconds\n",
            "Validation Loss: 0.04585862372602735\n",
            "Epoch 11/100 Done, Train Loss: 0.04268583327788731\n",
            "Time Elapsed for Epoch: 0.8166987940000041 seconds\n",
            "Validation Loss: 0.047566862244691165\n",
            "Epoch 12/100 Done, Train Loss: 0.04154197145895711\n",
            "Time Elapsed for Epoch: 0.8112267830000093 seconds\n",
            "Validation Loss: 0.047012828822646825\n",
            "Epoch 13/100 Done, Train Loss: 0.037224263595095994\n",
            "Time Elapsed for Epoch: 0.8139755159999993 seconds\n",
            "Validation Loss: 0.05386732704937458\n",
            "Epoch 14/100 Done, Train Loss: 0.04049958776811074\n",
            "Time Elapsed for Epoch: 0.8365293380000054 seconds\n",
            "Validation Loss: 0.03748212781335626\n",
            "Epoch 15/100 Done, Train Loss: 0.03622195066819931\n",
            "Time Elapsed for Epoch: 0.8381153379999944 seconds\n",
            "Validation Loss: 0.040934325594987185\n",
            "Epoch 16/100 Done, Train Loss: 0.035510165809557355\n",
            "Time Elapsed for Epoch: 0.8350462850000042 seconds\n",
            "Validation Loss: 0.038718651447977336\n",
            "Epoch 17/100 Done, Train Loss: 0.03450510252652497\n",
            "Time Elapsed for Epoch: 0.8223237830000016 seconds\n",
            "Validation Loss: 0.043537260964512825\n",
            "Epoch 18/100 Done, Train Loss: 0.03301079545555444\n",
            "Time Elapsed for Epoch: 0.8181586930000009 seconds\n",
            "Validation Loss: 0.041169515145676475\n",
            "Epoch 19/100 Done, Train Loss: 0.03271146683857359\n",
            "Time Elapsed for Epoch: 0.8205310350000161 seconds\n",
            "Validation Loss: 0.040032215150339265\n",
            "Epoch 20/100 Done, Train Loss: 0.033458451322954275\n",
            "Time Elapsed for Epoch: 0.8180701629999874 seconds\n",
            "Validation Loss: 0.03642366108085428\n",
            "Epoch 21/100 Done, Train Loss: 0.0321364788788146\n",
            "Time Elapsed for Epoch: 0.8149071399999741 seconds\n",
            "Validation Loss: 0.03847965504974127\n",
            "Epoch 22/100 Done, Train Loss: 0.03135087536969062\n",
            "Time Elapsed for Epoch: 0.818169193000017 seconds\n",
            "Validation Loss: 0.03871498975370612\n",
            "Epoch 23/100 Done, Train Loss: 0.03125152675884551\n",
            "Time Elapsed for Epoch: 0.8183523929999978 seconds\n",
            "Validation Loss: 0.03765842824109963\n",
            "Epoch 24/100 Done, Train Loss: 0.03096999041736126\n",
            "Time Elapsed for Epoch: 0.8187444060000075 seconds\n",
            "Validation Loss: 0.038791687893016\n",
            "Epoch 25/100 Done, Train Loss: 0.02996343660072006\n",
            "Time Elapsed for Epoch: 0.8196723270000064 seconds\n",
            "Validation Loss: 0.04026319618735995\n",
            "Epoch 26/100 Done, Train Loss: 0.03077911299749695\n",
            "Time Elapsed for Epoch: 0.8175263999999913 seconds\n",
            "Validation Loss: 0.040148922840931585\n",
            "Epoch 27/100 Done, Train Loss: 0.029179167323585213\n",
            "Time Elapsed for Epoch: 0.8128855900000076 seconds\n",
            "Validation Loss: 0.038203825508909564\n",
            "Epoch 28/100 Done, Train Loss: 0.029725329051243848\n",
            "Time Elapsed for Epoch: 0.8360439150000047 seconds\n",
            "Validation Loss: 0.0381354314408132\n",
            "Epoch 29/100 Done, Train Loss: 0.029516610381161344\n",
            "Time Elapsed for Epoch: 0.8420216890000063 seconds\n",
            "Validation Loss: 0.0379512719810009\n",
            "Epoch 30/100 Done, Train Loss: 0.02909361134315359\n",
            "Time Elapsed for Epoch: 0.804589897999989 seconds\n",
            "Validation Loss: 0.036907884159258435\n",
            "Epoch 31/100 Done, Train Loss: 0.028860219593705803\n",
            "Time Elapsed for Epoch: 0.8083035129999985 seconds\n",
            "Validation Loss: 0.04688967312020915\n",
            "Epoch 32/100 Done, Train Loss: 0.028367283625592446\n",
            "Time Elapsed for Epoch: 0.8104672090000236 seconds\n",
            "Validation Loss: 0.03882477432489395\n",
            "Epoch 33/100 Done, Train Loss: 0.028520450445598568\n",
            "Time Elapsed for Epoch: 0.8024850829999934 seconds\n",
            "Validation Loss: 0.029426950961351395\n",
            "Epoch 34/100 Done, Train Loss: 0.027807250715278346\n",
            "Time Elapsed for Epoch: 0.806263371 seconds\n",
            "Validation Loss: 0.03742808236607483\n",
            "Epoch 35/100 Done, Train Loss: 0.027845006050734686\n",
            "Time Elapsed for Epoch: 0.8077202869999951 seconds\n",
            "Validation Loss: 0.04719657291259084\n",
            "Epoch 36/100 Done, Train Loss: 0.030189470283622885\n",
            "Time Elapsed for Epoch: 0.8072669160000032 seconds\n",
            "Validation Loss: 0.03186340443789959\n",
            "Epoch 37/100 Done, Train Loss: 0.02810859946726725\n",
            "Time Elapsed for Epoch: 0.8001264660000231 seconds\n",
            "Validation Loss: 0.042890609108975956\n",
            "Epoch 38/100 Done, Train Loss: 0.02659543513737876\n",
            "Time Elapsed for Epoch: 0.7989572150000015 seconds\n",
            "Validation Loss: 0.03909113723784685\n",
            "Epoch 39/100 Done, Train Loss: 0.028725598874534\n",
            "Time Elapsed for Epoch: 0.7966126149999866 seconds\n",
            "Validation Loss: 0.03655956632324627\n",
            "Epoch 40/100 Done, Train Loss: 0.026861050599736386\n",
            "Time Elapsed for Epoch: 0.7983962739999981 seconds\n",
            "Validation Loss: 0.047190852729337554\n",
            "Epoch 41/100 Done, Train Loss: 0.027696847979878557\n",
            "Time Elapsed for Epoch: 0.8170329090000052 seconds\n",
            "Validation Loss: 0.047305835144860406\n",
            "Epoch 42/100 Done, Train Loss: 0.027019282867168558\n",
            "Time Elapsed for Epoch: 0.8224004969999896 seconds\n",
            "Validation Loss: 0.03511166625789234\n",
            "Epoch 43/100 Done, Train Loss: 0.026854065535911197\n",
            "Time Elapsed for Epoch: 0.8236358999999993 seconds\n",
            "Validation Loss: 0.03822830505669117\n",
            "Epoch 44/100 Done, Train Loss: 0.028040657430116474\n",
            "Time Elapsed for Epoch: 0.8030459899999869 seconds\n",
            "Validation Loss: 0.03727618125932557\n",
            "Epoch 45/100 Done, Train Loss: 0.025275596096340953\n",
            "Time Elapsed for Epoch: 0.797331258000014 seconds\n",
            "Validation Loss: 0.03881903418472835\n",
            "Epoch 46/100 Done, Train Loss: 0.027653922808581387\n",
            "Time Elapsed for Epoch: 0.7889992050000103 seconds\n",
            "Validation Loss: 0.037847625956471474\n",
            "Epoch 47/100 Done, Train Loss: 0.026639282189566512\n",
            "Time Elapsed for Epoch: 0.7976483009999811 seconds\n",
            "Validation Loss: 0.03631111207817282\n",
            "Epoch 48/100 Done, Train Loss: 0.027364932418126483\n",
            "Time Elapsed for Epoch: 0.7935057790000144 seconds\n",
            "Validation Loss: 0.04590038742337908\n",
            "Epoch 49/100 Done, Train Loss: 0.02553069605973774\n",
            "Time Elapsed for Epoch: 0.7945064630000047 seconds\n",
            "Validation Loss: 0.04117675411647984\n",
            "Epoch 50/100 Done, Train Loss: 0.02510027214884758\n",
            "Time Elapsed for Epoch: 0.795464227000025 seconds\n",
            "Validation Loss: 0.03979356586933136\n",
            "Epoch 51/100 Done, Train Loss: 0.028129203052356326\n",
            "Time Elapsed for Epoch: 0.7946866120000209 seconds\n",
            "Validation Loss: 0.043581889144011905\n",
            "Epoch 52/100 Done, Train Loss: 0.026380279454691655\n",
            "Time Elapsed for Epoch: 0.7986859519999996 seconds\n",
            "Validation Loss: 0.04396039580128023\n",
            "Epoch 53/100 Done, Train Loss: 0.02699168106733725\n",
            "Time Elapsed for Epoch: 0.79400473299998 seconds\n",
            "Validation Loss: 0.035789676276700835\n",
            "Epoch 54/100 Done, Train Loss: 0.027467049048121632\n",
            "Time Elapsed for Epoch: 0.7931852959999901 seconds\n",
            "Validation Loss: 0.040607816140566556\n",
            "Epoch 55/100 Done, Train Loss: 0.027338617256489294\n",
            "Time Elapsed for Epoch: 0.8067179120000105 seconds\n",
            "Validation Loss: 0.03998395587716784\n",
            "Epoch 56/100 Done, Train Loss: 0.026363203237796652\n",
            "Time Elapsed for Epoch: 0.8179001660000154 seconds\n",
            "Validation Loss: 0.04193543802414622\n",
            "Epoch 57/100 Done, Train Loss: 0.02630335876140101\n",
            "Time Elapsed for Epoch: 0.8210830479999913 seconds\n",
            "Validation Loss: 0.03876956086605787\n",
            "Epoch 58/100 Done, Train Loss: 0.0257802936569627\n",
            "Time Elapsed for Epoch: 0.7971267049999824 seconds\n",
            "Validation Loss: 0.053060329386166165\n",
            "Epoch 59/100 Done, Train Loss: 0.028035933729903453\n",
            "Time Elapsed for Epoch: 0.791470296 seconds\n",
            "Validation Loss: 0.0469325522759131\n",
            "Epoch 60/100 Done, Train Loss: 0.02659391539556713\n",
            "Time Elapsed for Epoch: 0.7915580519999992 seconds\n",
            "Validation Loss: 0.038816078299922604\n",
            "Epoch 61/100 Done, Train Loss: 0.02782590000023102\n",
            "Time Elapsed for Epoch: 0.7944165680000026 seconds\n",
            "Validation Loss: 0.04505747263985021\n",
            "Epoch 62/100 Done, Train Loss: 0.027388512221132887\n",
            "Time Elapsed for Epoch: 0.797341691000014 seconds\n",
            "Validation Loss: 0.039854447091264386\n",
            "Epoch 63/100 Done, Train Loss: 0.026277202631122078\n",
            "Time Elapsed for Epoch: 0.7893729440000072 seconds\n",
            "Validation Loss: 0.0379786520664181\n",
            "Epoch 64/100 Done, Train Loss: 0.02636137156715167\n",
            "Time Elapsed for Epoch: 0.7911050519999776 seconds\n",
            "Validation Loss: 0.04148260530616556\n",
            "Epoch 65/100 Done, Train Loss: 0.024989176332822133\n",
            "Time Elapsed for Epoch: 0.7895824720000064 seconds\n",
            "Validation Loss: 0.0380003069128309\n",
            "Epoch 66/100 Done, Train Loss: 0.026911053148194634\n",
            "Time Elapsed for Epoch: 0.7877104160000101 seconds\n",
            "Validation Loss: 0.045115161687135696\n",
            "Epoch 67/100 Done, Train Loss: 0.02559054193311724\n",
            "Time Elapsed for Epoch: 0.7814615749999803 seconds\n",
            "Validation Loss: 0.033921035671872754\n",
            "Epoch 68/100 Done, Train Loss: 0.026095538359970367\n",
            "Time Elapsed for Epoch: 0.7860657429999947 seconds\n",
            "Validation Loss: 0.04331117841814246\n",
            "Epoch 69/100 Done, Train Loss: 0.02521631402637938\n",
            "Time Elapsed for Epoch: 0.8107287360000157 seconds\n",
            "Validation Loss: 0.038386017815875154\n",
            "Epoch 70/100 Done, Train Loss: 0.026303676984690386\n",
            "Time Elapsed for Epoch: 0.8212129839999989 seconds\n",
            "Validation Loss: 0.04042852244206837\n",
            "Epoch 71/100 Done, Train Loss: 0.025047263234917974\n",
            "Time Elapsed for Epoch: 0.8155629670000053 seconds\n",
            "Validation Loss: 0.037233098809208186\n",
            "Epoch 72/100 Done, Train Loss: 0.026467066370593064\n",
            "Time Elapsed for Epoch: 0.7943307749999917 seconds\n",
            "Validation Loss: 0.03598952320005212\n",
            "Epoch 73/100 Done, Train Loss: 0.02639024168381403\n",
            "Time Elapsed for Epoch: 0.7899311529999977 seconds\n",
            "Validation Loss: 0.04287780289139066\n",
            "Epoch 74/100 Done, Train Loss: 0.02572352410262001\n",
            "Time Elapsed for Epoch: 0.792483427999997 seconds\n",
            "Validation Loss: 0.040728873307151456\n",
            "Epoch 75/100 Done, Train Loss: 0.024766001464991735\n",
            "Time Elapsed for Epoch: 0.7839754340000127 seconds\n",
            "Validation Loss: 0.04871866958481925\n",
            "Epoch 76/100 Done, Train Loss: 0.024982195700807817\n",
            "Time Elapsed for Epoch: 0.787639989000013 seconds\n",
            "Validation Loss: 0.04199645375566823\n",
            "Epoch 77/100 Done, Train Loss: 0.024884475443255286\n",
            "Time Elapsed for Epoch: 0.7901036250000004 seconds\n",
            "Validation Loss: 0.04163441248238087\n",
            "Epoch 78/100 Done, Train Loss: 0.02494424926759354\n",
            "Time Elapsed for Epoch: 0.7967144309999981 seconds\n",
            "Validation Loss: 0.03723098078210439\n",
            "Epoch 79/100 Done, Train Loss: 0.025070551927362024\n",
            "Time Elapsed for Epoch: 0.7869682240000202 seconds\n",
            "Validation Loss: 0.04155550418155534\n",
            "Epoch 80/100 Done, Train Loss: 0.024836130648979854\n",
            "Time Elapsed for Epoch: 0.7905992270000013 seconds\n",
            "Validation Loss: 0.043231637749288766\n",
            "Epoch 81/100 Done, Train Loss: 0.02542492522504823\n",
            "Time Elapsed for Epoch: 0.7875551629999791 seconds\n",
            "Validation Loss: 0.04143729526549578\n",
            "Epoch 82/100 Done, Train Loss: 0.024593966226254045\n",
            "Time Elapsed for Epoch: 0.7956775540000081 seconds\n",
            "Validation Loss: 0.03749432707471507\n",
            "Epoch 83/100 Done, Train Loss: 0.025261525674883663\n",
            "Time Elapsed for Epoch: 0.8046873579999954 seconds\n",
            "Validation Loss: 0.03724097739905119\n",
            "Epoch 84/100 Done, Train Loss: 0.023779407416566693\n",
            "Time Elapsed for Epoch: 0.8181419169999913 seconds\n",
            "Validation Loss: 0.04351238001670156\n",
            "Epoch 85/100 Done, Train Loss: 0.024117884852377505\n",
            "Time Elapsed for Epoch: 0.8177887199999816 seconds\n",
            "Validation Loss: 0.04257444132651601\n",
            "Epoch 86/100 Done, Train Loss: 0.02436107946238641\n",
            "Time Elapsed for Epoch: 0.7984872879999898 seconds\n",
            "Validation Loss: 0.04033985042146274\n",
            "Epoch 87/100 Done, Train Loss: 0.02248302076397271\n",
            "Time Elapsed for Epoch: 0.795416777000014 seconds\n",
            "Validation Loss: 0.04043958043413503\n",
            "Epoch 88/100 Done, Train Loss: 0.02343062956913792\n",
            "Time Elapsed for Epoch: 0.7935124679999888 seconds\n",
            "Validation Loss: 0.04137480365378516\n",
            "Epoch 89/100 Done, Train Loss: 0.02275709044348834\n",
            "Time Elapsed for Epoch: 0.7931647350000048 seconds\n",
            "Validation Loss: 0.04021015577018261\n",
            "Epoch 90/100 Done, Train Loss: 0.02259982817260356\n",
            "Time Elapsed for Epoch: 0.7915176870000096 seconds\n",
            "Validation Loss: 0.036520453569080145\n",
            "Epoch 91/100 Done, Train Loss: 0.022499813280742745\n",
            "Time Elapsed for Epoch: 0.7946974610000268 seconds\n",
            "Validation Loss: 0.03812140678720815\n",
            "Epoch 92/100 Done, Train Loss: 0.02344666370030107\n",
            "Time Elapsed for Epoch: 0.7972897429999932 seconds\n",
            "Validation Loss: 0.041657350425209315\n",
            "Epoch 93/100 Done, Train Loss: 0.024538829890561515\n",
            "Time Elapsed for Epoch: 0.8037608710000086 seconds\n",
            "Validation Loss: 0.04148787020572594\n",
            "Epoch 94/100 Done, Train Loss: 0.02329694879530319\n",
            "Time Elapsed for Epoch: 0.7973444099999938 seconds\n",
            "Validation Loss: 0.04450410498040063\n",
            "Epoch 95/100 Done, Train Loss: 0.0222704965171629\n",
            "Time Elapsed for Epoch: 0.797899665999978 seconds\n",
            "Validation Loss: 0.03966173396578857\n",
            "Epoch 96/100 Done, Train Loss: 0.022655977080736696\n",
            "Time Elapsed for Epoch: 0.7998557810000193 seconds\n",
            "Validation Loss: 0.03908947376268251\n",
            "Epoch 97/100 Done, Train Loss: 0.02232692527167242\n",
            "Time Elapsed for Epoch: 0.8130203359999939 seconds\n",
            "Validation Loss: 0.03969193303159305\n",
            "Epoch 98/100 Done, Train Loss: 0.02245797073982399\n",
            "Time Elapsed for Epoch: 0.823711344000003 seconds\n",
            "Validation Loss: 0.04552714220647301\n",
            "Epoch 99/100 Done, Train Loss: 0.021892097441415334\n",
            "Time Elapsed for Epoch: 0.812457730999995 seconds\n",
            "Validation Loss: 0.04351642408541271\n",
            "Epoch 100/100 Done, Train Loss: 0.021459775270316107\n",
            "Time Elapsed for Epoch: 0.8001493769999968 seconds\n",
            "Validation Loss: 0.04133039766124317\n"
          ]
        },
        {
          "output_type": "display_data",
          "data": {
            "text/plain": [
              "<Figure size 432x288 with 1 Axes>"
            ],
            "image/png": "[encoded data removed]"
          },
          "metadata": {
            "needs_background": "light"
          }
        },
        {
          "output_type": "stream",
          "name": "stdout",
          "text": [
            "Total Training Time: 0 seconds\n"
          ]
        }
      ]
    },
    {
      "cell_type": "code",
      "source": [
        "torch.save(lstm_model.state_dict(), \"/content/model/lstm_model.pt\")"
      ],
      "metadata": {
        "id": "XhknKCA8j8Aa"
      },
      "execution_count": 83,
      "outputs": []
    },
    {
      "cell_type": "code",
      "source": [
        "hidden_dim = 356\n",
        "input_dim = 3\n",
        "output_dim = 1\n",
        "n_layers = 4\n",
        "lstm_model = LSTMNet(input_dim, hidden_dim, output_dim, n_layers)\n",
        "lstm_model.load_state_dict(torch.load(\"/content/model/lstm_model.pt\"))"
      ],
      "metadata": {
        "id": "TmRa6lckkFkC",
        "outputId": "9ed5ed8c-0403-489e-a688-d8bc3bd99c4f",
        "colab": {
          "base_uri": "https://localhost:8080/"
        }
      },
      "execution_count": 84,
      "outputs": [
        {
          "output_type": "execute_result",
          "data": {
            "text/plain": [
              "<All keys matched successfully>"
            ]
          },
          "metadata": {},
          "execution_count": 84
        }
      ]
    },
    {
      "cell_type": "code",
      "source": [
        "# Move the model to the appropriate device\n",
        "lstm_model.to(device)"
      ],
      "metadata": {
        "colab": {
          "base_uri": "https://localhost:8080/"
        },
        "id": "xpYn_85mApRy",
        "outputId": "bfaa40a3-f64f-46be-85b9-0a64461f9b72"
      },
      "execution_count": 85,
      "outputs": [
        {
          "output_type": "execute_result",
          "data": {
            "text/plain": [
              "LSTMNet(\n",
              "  (lstm): LSTM(3, 356, num_layers=4, batch_first=True, dropout=0.2)\n",
              "  (fc): Linear(in_features=356, out_features=1, bias=True)\n",
              "  (relu): ReLU()\n",
              ")"
            ]
          },
          "metadata": {},
          "execution_count": 85
        }
      ]
    },
    {
      "cell_type": "code",
      "source": [
        "def sMAPE(outputs, targets):\n",
        "    sMAPE = (\n",
        "        100\n",
        "        / len(targets)\n",
        "        * np.sum(np.abs(outputs - targets) / (np.abs(outputs + targets)) / 2)\n",
        "    )\n",
        "    return sMAPE"
      ],
      "metadata": {
        "id": "rA00xUtHkW2p"
      },
      "execution_count": 86,
      "outputs": []
    },
    {
      "cell_type": "code",
      "source": [
        "def evaluate(model, test_x, test_y, label_scalers):\n",
        "    model.eval()\n",
        "    outputs = []\n",
        "    targets = []\n",
        "    start_time = time.process_time()\n",
        "    # get data of test data for each state\n",
        "    for file in test_x.keys():\n",
        "        inputs = torch.from_numpy(np.array(test_x[file]))\n",
        "        labels = torch.from_numpy(np.array(test_y[file]))\n",
        "\n",
        "        h = model.init_hidden(inputs.shape[0])\n",
        "\n",
        "        # predict outputs\n",
        "        with torch.no_grad():\n",
        "            out, h = model(inputs.to(device).float(), h)\n",
        "\n",
        "        outputs.append(\n",
        "            label_scalers[file]\n",
        "            .inverse_transform(out.cpu().detach().numpy())\n",
        "            .reshape(-1)\n",
        "        )\n",
        "\n",
        "        targets.append(\n",
        "            label_scalers[file].inverse_transform(labels.numpy()).reshape(-1)\n",
        "        )\n",
        "\n",
        "    # Merge all files\n",
        "    concatenated_outputs = np.concatenate(outputs)\n",
        "    concatenated_targets = np.concatenate(targets)\n",
        "\n",
        "    print(f\"Evaluation Time: {time.process_time()-start_time}\")\n",
        "    print(f\"sMAPE: {round(sMAPE(concatenated_outputs, concatenated_targets), 3)}%\")\n",
        "\n",
        "    # list of of targets/outputs for each state\n",
        "    return outputs, targets, sMAPE"
      ],
      "metadata": {
        "id": "Naah87cMka9i"
      },
      "execution_count": 87,
      "outputs": []
    },
    {
      "cell_type": "code",
      "source": [
        "lstm_outputs, targets, lstm_sMAPE = evaluate(lstm_model, test_x, test_y, label_scalers)"
      ],
      "metadata": {
        "colab": {
          "base_uri": "https://localhost:8080/"
        },
        "id": "k5QUlhFCAySC",
        "outputId": "b3218cc4-457f-4f98-9421-f4f8aa5e44bb"
      },
      "execution_count": 88,
      "outputs": [
        {
          "output_type": "stream",
          "name": "stdout",
          "text": [
            "Evaluation Time: 0.041758763999979465\n",
            "sMAPE: 9.624%\n"
          ]
        }
      ]
    },
    {
      "cell_type": "code",
      "source": [
        "len(\n",
        "    lstm_outputs\n",
        ")  # list of predicted output file for each state (each element has a 1d array for that state)"
      ],
      "metadata": {
        "id": "XJjWE26pkjaa",
        "outputId": "b79dc9f6-7609-4c1d-d69e-ab02d416f705",
        "colab": {
          "base_uri": "https://localhost:8080/"
        }
      },
      "execution_count": 89,
      "outputs": [
        {
          "output_type": "execute_result",
          "data": {
            "text/plain": [
              "1"
            ]
          },
          "metadata": {},
          "execution_count": 89
        }
      ]
    },
    {
      "cell_type": "code",
      "source": [
        "states_list = list(test_x.keys())"
      ],
      "metadata": {
        "id": "dBNrSgjnkmES"
      },
      "execution_count": 91,
      "outputs": []
    },
    {
      "cell_type": "code",
      "source": [
        "states_list"
      ],
      "metadata": {
        "id": "yNXkl85mkotK",
        "outputId": "20a2c2e3-993d-4fb3-ba9d-47b51b2ecc56",
        "colab": {
          "base_uri": "https://localhost:8080/"
        }
      },
      "execution_count": 92,
      "outputs": [
        {
          "output_type": "execute_result",
          "data": {
            "text/plain": [
              "['/content/SAMPLE_DATA.csv']"
            ]
          },
          "metadata": {},
          "execution_count": 92
        }
      ]
    },
    {
      "cell_type": "code",
      "source": [
        "plt.figure(figsize=(20, 15))\n",
        "plt.subplot(2, 2, 1)\n",
        "plt.plot(\n",
        "    lstm_outputs[0][-100:], \"-o\", color=\"r\", label=\"LSTM Predictions\", markersize=2\n",
        ")\n",
        "plt.plot(targets[0][-100:], color=\"b\", label=\"Actual\")\n",
        "plt.ylabel(\"Energy Consumption (MW)\")\n",
        "plt.title(f\"Energy Consumption for {states_list[0]} state\")\n",
        "plt.legend()\n",
        "\n"
      ],
      "metadata": {
        "id": "Yf1e6IKHkrLh",
        "outputId": "a90bf327-ce92-4ed2-8303-5fcfc13b2847",
        "colab": {
          "base_uri": "https://localhost:8080/",
          "height": 452
        }
      },
      "execution_count": 95,
      "outputs": [
        {
          "output_type": "execute_result",
          "data": {
            "text/plain": [
              "<matplotlib.legend.Legend at 0x7fd218cf9190>"
            ]
          },
          "metadata": {},
          "execution_count": 95
        },
        {
          "output_type": "display_data",
          "data": {
            "text/plain": [
              "<Figure size 1440x1080 with 1 Axes>"
            ],
            "image/png": "[encoded data removed]"
          },
          "metadata": {
            "needs_background": "light"
          }
        }
      ]
    }
  ]
}